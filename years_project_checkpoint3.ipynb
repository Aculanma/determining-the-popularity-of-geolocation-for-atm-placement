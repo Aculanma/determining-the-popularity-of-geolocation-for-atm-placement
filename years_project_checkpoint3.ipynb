{
 "cells": [
  {
   "cell_type": "markdown",
   "id": "d7dd3fec",
   "metadata": {},
   "source": [
    "# Годовой проект - Определение популярности геолокации для размещения банкомата"
   ]
  },
  {
   "cell_type": "markdown",
   "id": "e1bd7f6d",
   "metadata": {},
   "source": [
    "`Куратор`: \n",
    "- Ковалева Александра  \n",
    "    \n",
    "`Команда`:\n",
    "- Цуканов Николай Сергеевич\n",
    "- Исхаков Ильдус Халитович\n",
    "- Устименко Кирилл Александрович\n",
    "- Волокитина Анастасия Евгеньевна"
   ]
  },
  {
   "cell_type": "markdown",
   "id": "9ef0d87b",
   "metadata": {},
   "source": [
    "## Исходные данные"
   ]
  },
  {
   "cell_type": "markdown",
   "id": "f1910a4a",
   "metadata": {},
   "source": [
    "`id` - идентификатор банкомата  \n",
    "`atm_group` - принадлежность банкомата к группе  \n",
    "`address` - адрес банкомата на английском  \n",
    "`address_rus` - адрес банкомата на русском  \n",
    "`lat` - широта  \n",
    "`long` - долгота    \n",
    "`target` - целевая метрика  "
   ]
  },
  {
   "cell_type": "markdown",
   "id": "9c5bf0df",
   "metadata": {},
   "source": [
    "Импортируем библиотеки:"
   ]
  },
  {
   "cell_type": "code",
   "execution_count": 1,
   "id": "e679a024",
   "metadata": {},
   "outputs": [],
   "source": [
    "import pandas as pd\n",
    "import numpy as np\n",
    "import seaborn as sns\n",
    "import matplotlib.pyplot as plt\n",
    "import re"
   ]
  },
  {
   "cell_type": "markdown",
   "id": "dd8870f3",
   "metadata": {},
   "source": [
    "Загрузим данные:"
   ]
  },
  {
   "cell_type": "code",
   "execution_count": 3,
   "id": "55904fb5",
   "metadata": {},
   "outputs": [],
   "source": [
    "df_train = pd.read_csv('train.csv', index_col=0)\n",
    "df_test = pd.read_csv('test.csv', index_col=0)"
   ]
  },
  {
   "cell_type": "code",
   "execution_count": 4,
   "id": "6b95f0c5",
   "metadata": {},
   "outputs": [
    {
     "name": "stdout",
     "output_type": "stream",
     "text": [
      "Данные для обучающей выборки состоят из 6261 строки и 7 столбцов.\n",
      "Данные для тестовой выборки состоят из 2504 строк и 6 столбцов.\n"
     ]
    }
   ],
   "source": [
    "train_rows, train_columns = df_train.shape\n",
    "test_rows, test_columns = df_test.shape\n",
    "print(f'Данные для обучающей выборки состоят из {train_rows} строки и {train_columns} столбцов.') \n",
    "print(f'Данные для тестовой выборки состоят из {test_rows} строк и {test_columns} столбцов.') "
   ]
  },
  {
   "cell_type": "markdown",
   "id": "fa6376e3",
   "metadata": {},
   "source": [
    "Посмотрим на наши наблюдения:"
   ]
  },
  {
   "cell_type": "code",
   "execution_count": 6,
   "id": "6c176d10",
   "metadata": {},
   "outputs": [
    {
     "data": {
      "text/html": [
       "<div>\n",
       "<style scoped>\n",
       "    .dataframe tbody tr th:only-of-type {\n",
       "        vertical-align: middle;\n",
       "    }\n",
       "\n",
       "    .dataframe tbody tr th {\n",
       "        vertical-align: top;\n",
       "    }\n",
       "\n",
       "    .dataframe thead th {\n",
       "        text-align: right;\n",
       "    }\n",
       "</style>\n",
       "<table border=\"1\" class=\"dataframe\">\n",
       "  <thead>\n",
       "    <tr style=\"text-align: right;\">\n",
       "      <th></th>\n",
       "      <th>id</th>\n",
       "      <th>atm_group</th>\n",
       "      <th>address</th>\n",
       "      <th>address_rus</th>\n",
       "      <th>lat</th>\n",
       "      <th>long</th>\n",
       "      <th>target</th>\n",
       "    </tr>\n",
       "  </thead>\n",
       "  <tbody>\n",
       "    <tr>\n",
       "      <th>4267</th>\n",
       "      <td>2703.0</td>\n",
       "      <td>3185.5</td>\n",
       "      <td>UL.RUSSKAJA,  1           NOVOSIBIRSK</td>\n",
       "      <td>Русская улица, 1, микрорайон Шлюз, Советский р...</td>\n",
       "      <td>54.849385</td>\n",
       "      <td>83.041630</td>\n",
       "      <td>-0.114509</td>\n",
       "    </tr>\n",
       "    <tr>\n",
       "      <th>1744</th>\n",
       "      <td>2658.0</td>\n",
       "      <td>3185.5</td>\n",
       "      <td>UL. CSHORSA-8 V           BELGOROD</td>\n",
       "      <td>NaN</td>\n",
       "      <td>NaN</td>\n",
       "      <td>NaN</td>\n",
       "      <td>-0.048848</td>\n",
       "    </tr>\n",
       "    <tr>\n",
       "      <th>2562</th>\n",
       "      <td>4690.0</td>\n",
       "      <td>496.5</td>\n",
       "      <td>LENINA 17                 BOLOTNOE</td>\n",
       "      <td>улица Ленина, 17, город Болотное, Новосибирска...</td>\n",
       "      <td>55.670955</td>\n",
       "      <td>84.387594</td>\n",
       "      <td>-0.111910</td>\n",
       "    </tr>\n",
       "    <tr>\n",
       "      <th>3016</th>\n",
       "      <td>4733.0</td>\n",
       "      <td>5478.0</td>\n",
       "      <td>D. 13, UL. GERMANA TITOVA BARNAUL G</td>\n",
       "      <td>улица Германа Титова, 13, Барнаул, Алтайский к...</td>\n",
       "      <td>53.382361</td>\n",
       "      <td>83.725823</td>\n",
       "      <td>-0.050917</td>\n",
       "    </tr>\n",
       "    <tr>\n",
       "      <th>2863</th>\n",
       "      <td>1553.0</td>\n",
       "      <td>1942.0</td>\n",
       "      <td>51-1 BIRYULEVSKAYA STR.   MOSCOW</td>\n",
       "      <td>Бирюлёвская улица, 51к1, Москва, Россия, 115372</td>\n",
       "      <td>55.582655</td>\n",
       "      <td>37.671507</td>\n",
       "      <td>0.067989</td>\n",
       "    </tr>\n",
       "  </tbody>\n",
       "</table>\n",
       "</div>"
      ],
      "text/plain": [
       "          id  atm_group                                 address  \\\n",
       "4267  2703.0     3185.5  UL.RUSSKAJA,  1           NOVOSIBIRSK    \n",
       "1744  2658.0     3185.5  UL. CSHORSA-8 V           BELGOROD       \n",
       "2562  4690.0      496.5  LENINA 17                 BOLOTNOE       \n",
       "3016  4733.0     5478.0  D. 13, UL. GERMANA TITOVA BARNAUL G      \n",
       "2863  1553.0     1942.0  51-1 BIRYULEVSKAYA STR.   MOSCOW         \n",
       "\n",
       "                                            address_rus        lat       long  \\\n",
       "4267  Русская улица, 1, микрорайон Шлюз, Советский р...  54.849385  83.041630   \n",
       "1744                                                NaN        NaN        NaN   \n",
       "2562  улица Ленина, 17, город Болотное, Новосибирска...  55.670955  84.387594   \n",
       "3016  улица Германа Титова, 13, Барнаул, Алтайский к...  53.382361  83.725823   \n",
       "2863    Бирюлёвская улица, 51к1, Москва, Россия, 115372  55.582655  37.671507   \n",
       "\n",
       "        target  \n",
       "4267 -0.114509  \n",
       "1744 -0.048848  \n",
       "2562 -0.111910  \n",
       "3016 -0.050917  \n",
       "2863  0.067989  "
      ]
     },
     "execution_count": 6,
     "metadata": {},
     "output_type": "execute_result"
    }
   ],
   "source": [
    "df_train.sample(5)"
   ]
  },
  {
   "cell_type": "markdown",
   "id": "e2a13a07",
   "metadata": {},
   "source": [
    "## Часть 1 | EDA и визуализация"
   ]
  },
  {
   "cell_type": "markdown",
   "id": "565e87ff",
   "metadata": {},
   "source": [
    "Посмотрим на типы данных:"
   ]
  },
  {
   "cell_type": "code",
   "execution_count": 9,
   "id": "c5fbebd5",
   "metadata": {},
   "outputs": [
    {
     "name": "stdout",
     "output_type": "stream",
     "text": [
      "<class 'pandas.core.frame.DataFrame'>\n",
      "Index: 6261 entries, 0 to 6260\n",
      "Data columns (total 7 columns):\n",
      " #   Column       Non-Null Count  Dtype  \n",
      "---  ------       --------------  -----  \n",
      " 0   id           6261 non-null   float64\n",
      " 1   atm_group    6261 non-null   float64\n",
      " 2   address      6261 non-null   object \n",
      " 3   address_rus  5957 non-null   object \n",
      " 4   lat          5957 non-null   float64\n",
      " 5   long         5957 non-null   float64\n",
      " 6   target       6261 non-null   float64\n",
      "dtypes: float64(5), object(2)\n",
      "memory usage: 391.3+ KB\n"
     ]
    }
   ],
   "source": [
    "df_train.info()"
   ]
  },
  {
   "cell_type": "markdown",
   "id": "df748e34",
   "metadata": {},
   "source": [
    "Посмотрим на наличие пропусков:"
   ]
  },
  {
   "cell_type": "code",
   "execution_count": 11,
   "id": "4f497c54",
   "metadata": {},
   "outputs": [
    {
     "data": {
      "text/plain": [
       "id               0\n",
       "atm_group        0\n",
       "address          0\n",
       "address_rus    304\n",
       "lat            304\n",
       "long           304\n",
       "target           0\n",
       "dtype: int64"
      ]
     },
     "execution_count": 11,
     "metadata": {},
     "output_type": "execute_result"
    }
   ],
   "source": [
    "df_train.isna().sum()"
   ]
  },
  {
   "cell_type": "code",
   "execution_count": 12,
   "id": "63e9bc44",
   "metadata": {},
   "outputs": [],
   "source": [
    "data_gaps = round(100 * (df_train.shape[0] - df_train[df_train['address_rus'].notna()].shape[0]) / df_train.shape[0], 2)"
   ]
  },
  {
   "cell_type": "code",
   "execution_count": 13,
   "id": "209563d1",
   "metadata": {},
   "outputs": [
    {
     "name": "stdout",
     "output_type": "stream",
     "text": [
      "Имеется 304 банкомата (4.86% от общего числа) без указания адреса на русском и географических координат.\n"
     ]
    }
   ],
   "source": [
    "print(f'Имеется 304 банкомата ({data_gaps}% от общего числа) без указания адреса на русском и географических координат.')"
   ]
  },
  {
   "cell_type": "markdown",
   "id": "7e7a19cf",
   "metadata": {},
   "source": [
    "Посмотрим на наличие полных дублей:"
   ]
  },
  {
   "cell_type": "code",
   "execution_count": 15,
   "id": "1d6a1dc8",
   "metadata": {},
   "outputs": [
    {
     "data": {
      "text/plain": [
       "0"
      ]
     },
     "execution_count": 15,
     "metadata": {},
     "output_type": "execute_result"
    }
   ],
   "source": [
    "df_train.duplicated().sum()"
   ]
  },
  {
   "cell_type": "markdown",
   "id": "f3981299",
   "metadata": {},
   "source": [
    "Дубли отсутствуют."
   ]
  },
  {
   "cell_type": "markdown",
   "id": "2eedcc47",
   "metadata": {},
   "source": [
    "Посмотрим на количественные переменные:"
   ]
  },
  {
   "cell_type": "code",
   "execution_count": 18,
   "id": "f45dc97f",
   "metadata": {},
   "outputs": [],
   "source": [
    "pd.options.display.float_format = '{:,.2f}'.format"
   ]
  },
  {
   "cell_type": "code",
   "execution_count": 19,
   "id": "c2f799ff",
   "metadata": {},
   "outputs": [
    {
     "data": {
      "text/html": [
       "<div>\n",
       "<style scoped>\n",
       "    .dataframe tbody tr th:only-of-type {\n",
       "        vertical-align: middle;\n",
       "    }\n",
       "\n",
       "    .dataframe tbody tr th {\n",
       "        vertical-align: top;\n",
       "    }\n",
       "\n",
       "    .dataframe thead th {\n",
       "        text-align: right;\n",
       "    }\n",
       "</style>\n",
       "<table border=\"1\" class=\"dataframe\">\n",
       "  <thead>\n",
       "    <tr style=\"text-align: right;\">\n",
       "      <th></th>\n",
       "      <th>id</th>\n",
       "      <th>atm_group</th>\n",
       "      <th>lat</th>\n",
       "      <th>long</th>\n",
       "      <th>target</th>\n",
       "    </tr>\n",
       "  </thead>\n",
       "  <tbody>\n",
       "    <tr>\n",
       "      <th>count</th>\n",
       "      <td>6,261.00</td>\n",
       "      <td>6,261.00</td>\n",
       "      <td>5,957.00</td>\n",
       "      <td>5,957.00</td>\n",
       "      <td>6,261.00</td>\n",
       "    </tr>\n",
       "    <tr>\n",
       "      <th>mean</th>\n",
       "      <td>4,419.12</td>\n",
       "      <td>4,417.94</td>\n",
       "      <td>54.16</td>\n",
       "      <td>63.52</td>\n",
       "      <td>0.00</td>\n",
       "    </tr>\n",
       "    <tr>\n",
       "      <th>std</th>\n",
       "      <td>2,547.21</td>\n",
       "      <td>2,430.41</td>\n",
       "      <td>4.35</td>\n",
       "      <td>33.02</td>\n",
       "      <td>0.09</td>\n",
       "    </tr>\n",
       "    <tr>\n",
       "      <th>min</th>\n",
       "      <td>5.00</td>\n",
       "      <td>32.00</td>\n",
       "      <td>42.06</td>\n",
       "      <td>19.94</td>\n",
       "      <td>-0.15</td>\n",
       "    </tr>\n",
       "    <tr>\n",
       "      <th>25%</th>\n",
       "      <td>2,228.00</td>\n",
       "      <td>1,942.00</td>\n",
       "      <td>52.25</td>\n",
       "      <td>37.86</td>\n",
       "      <td>-0.06</td>\n",
       "    </tr>\n",
       "    <tr>\n",
       "      <th>50%</th>\n",
       "      <td>4,392.00</td>\n",
       "      <td>5,478.00</td>\n",
       "      <td>55.07</td>\n",
       "      <td>48.58</td>\n",
       "      <td>-0.02</td>\n",
       "    </tr>\n",
       "    <tr>\n",
       "      <th>75%</th>\n",
       "      <td>6,660.00</td>\n",
       "      <td>5,478.00</td>\n",
       "      <td>56.12</td>\n",
       "      <td>84.95</td>\n",
       "      <td>0.04</td>\n",
       "    </tr>\n",
       "    <tr>\n",
       "      <th>max</th>\n",
       "      <td>8,811.00</td>\n",
       "      <td>8,083.00</td>\n",
       "      <td>69.49</td>\n",
       "      <td>173.71</td>\n",
       "      <td>0.22</td>\n",
       "    </tr>\n",
       "  </tbody>\n",
       "</table>\n",
       "</div>"
      ],
      "text/plain": [
       "            id  atm_group      lat     long   target\n",
       "count 6,261.00   6,261.00 5,957.00 5,957.00 6,261.00\n",
       "mean  4,419.12   4,417.94    54.16    63.52     0.00\n",
       "std   2,547.21   2,430.41     4.35    33.02     0.09\n",
       "min       5.00      32.00    42.06    19.94    -0.15\n",
       "25%   2,228.00   1,942.00    52.25    37.86    -0.06\n",
       "50%   4,392.00   5,478.00    55.07    48.58    -0.02\n",
       "75%   6,660.00   5,478.00    56.12    84.95     0.04\n",
       "max   8,811.00   8,083.00    69.49   173.71     0.22"
      ]
     },
     "execution_count": 19,
     "metadata": {},
     "output_type": "execute_result"
    }
   ],
   "source": [
    "df_train.describe(include='number')"
   ]
  },
  {
   "cell_type": "code",
   "execution_count": 20,
   "id": "90b8bb60",
   "metadata": {},
   "outputs": [
    {
     "data": {
      "text/html": [
       "<div>\n",
       "<style scoped>\n",
       "    .dataframe tbody tr th:only-of-type {\n",
       "        vertical-align: middle;\n",
       "    }\n",
       "\n",
       "    .dataframe tbody tr th {\n",
       "        vertical-align: top;\n",
       "    }\n",
       "\n",
       "    .dataframe thead th {\n",
       "        text-align: right;\n",
       "    }\n",
       "</style>\n",
       "<table border=\"1\" class=\"dataframe\">\n",
       "  <thead>\n",
       "    <tr style=\"text-align: right;\">\n",
       "      <th></th>\n",
       "      <th>id</th>\n",
       "      <th>atm_group</th>\n",
       "      <th>lat</th>\n",
       "      <th>long</th>\n",
       "    </tr>\n",
       "  </thead>\n",
       "  <tbody>\n",
       "    <tr>\n",
       "      <th>count</th>\n",
       "      <td>2,504.00</td>\n",
       "      <td>2,504.00</td>\n",
       "      <td>2,388.00</td>\n",
       "      <td>2,388.00</td>\n",
       "    </tr>\n",
       "    <tr>\n",
       "      <th>mean</th>\n",
       "      <td>4,368.24</td>\n",
       "      <td>4,379.68</td>\n",
       "      <td>54.08</td>\n",
       "      <td>63.45</td>\n",
       "    </tr>\n",
       "    <tr>\n",
       "      <th>std</th>\n",
       "      <td>2,530.93</td>\n",
       "      <td>2,421.99</td>\n",
       "      <td>4.29</td>\n",
       "      <td>32.21</td>\n",
       "    </tr>\n",
       "    <tr>\n",
       "      <th>min</th>\n",
       "      <td>1.00</td>\n",
       "      <td>32.00</td>\n",
       "      <td>42.65</td>\n",
       "      <td>20.44</td>\n",
       "    </tr>\n",
       "    <tr>\n",
       "      <th>25%</th>\n",
       "      <td>2,146.50</td>\n",
       "      <td>1,942.00</td>\n",
       "      <td>52.21</td>\n",
       "      <td>37.81</td>\n",
       "    </tr>\n",
       "    <tr>\n",
       "      <th>50%</th>\n",
       "      <td>4,437.50</td>\n",
       "      <td>5,478.00</td>\n",
       "      <td>55.04</td>\n",
       "      <td>49.15</td>\n",
       "    </tr>\n",
       "    <tr>\n",
       "      <th>75%</th>\n",
       "      <td>6,468.50</td>\n",
       "      <td>5,478.00</td>\n",
       "      <td>56.10</td>\n",
       "      <td>84.95</td>\n",
       "    </tr>\n",
       "    <tr>\n",
       "      <th>max</th>\n",
       "      <td>8,808.00</td>\n",
       "      <td>8,083.00</td>\n",
       "      <td>69.50</td>\n",
       "      <td>160.85</td>\n",
       "    </tr>\n",
       "  </tbody>\n",
       "</table>\n",
       "</div>"
      ],
      "text/plain": [
       "            id  atm_group      lat     long\n",
       "count 2,504.00   2,504.00 2,388.00 2,388.00\n",
       "mean  4,368.24   4,379.68    54.08    63.45\n",
       "std   2,530.93   2,421.99     4.29    32.21\n",
       "min       1.00      32.00    42.65    20.44\n",
       "25%   2,146.50   1,942.00    52.21    37.81\n",
       "50%   4,437.50   5,478.00    55.04    49.15\n",
       "75%   6,468.50   5,478.00    56.10    84.95\n",
       "max   8,808.00   8,083.00    69.50   160.85"
      ]
     },
     "execution_count": 20,
     "metadata": {},
     "output_type": "execute_result"
    }
   ],
   "source": [
    "df_test.describe(include='number')"
   ]
  },
  {
   "cell_type": "markdown",
   "id": "0f1aa949",
   "metadata": {},
   "source": [
    "Широта может иметь значения от 0 до 90 градусов, долгота - от 0 до 180 градусов. Наши наблюдения не выходят за рамки этих пределов.  "
   ]
  },
  {
   "cell_type": "markdown",
   "id": "c77e3739",
   "metadata": {},
   "source": [
    "Посмотрим на категориальные переменные:"
   ]
  },
  {
   "cell_type": "code",
   "execution_count": 23,
   "id": "e11f33ea",
   "metadata": {},
   "outputs": [
    {
     "data": {
      "text/html": [
       "<div>\n",
       "<style scoped>\n",
       "    .dataframe tbody tr th:only-of-type {\n",
       "        vertical-align: middle;\n",
       "    }\n",
       "\n",
       "    .dataframe tbody tr th {\n",
       "        vertical-align: top;\n",
       "    }\n",
       "\n",
       "    .dataframe thead th {\n",
       "        text-align: right;\n",
       "    }\n",
       "</style>\n",
       "<table border=\"1\" class=\"dataframe\">\n",
       "  <thead>\n",
       "    <tr style=\"text-align: right;\">\n",
       "      <th></th>\n",
       "      <th>address</th>\n",
       "      <th>address_rus</th>\n",
       "    </tr>\n",
       "  </thead>\n",
       "  <tbody>\n",
       "    <tr>\n",
       "      <th>count</th>\n",
       "      <td>6261</td>\n",
       "      <td>5957</td>\n",
       "    </tr>\n",
       "    <tr>\n",
       "      <th>unique</th>\n",
       "      <td>5343</td>\n",
       "      <td>4553</td>\n",
       "    </tr>\n",
       "    <tr>\n",
       "      <th>top</th>\n",
       "      <td>HOROSHEVSKOE SH,V38       MOSKVA</td>\n",
       "      <td>улица Ватутина, 107, Новосибирск, Россия, 630024</td>\n",
       "    </tr>\n",
       "    <tr>\n",
       "      <th>freq</th>\n",
       "      <td>7</td>\n",
       "      <td>8</td>\n",
       "    </tr>\n",
       "  </tbody>\n",
       "</table>\n",
       "</div>"
      ],
      "text/plain": [
       "                                       address  \\\n",
       "count                                     6261   \n",
       "unique                                    5343   \n",
       "top     HOROSHEVSKOE SH,V38       MOSKVA         \n",
       "freq                                         7   \n",
       "\n",
       "                                             address_rus  \n",
       "count                                               5957  \n",
       "unique                                              4553  \n",
       "top     улица Ватутина, 107, Новосибирск, Россия, 630024  \n",
       "freq                                                   8  "
      ]
     },
     "execution_count": 23,
     "metadata": {},
     "output_type": "execute_result"
    }
   ],
   "source": [
    "df_train.describe(include='object')"
   ]
  },
  {
   "cell_type": "code",
   "execution_count": 24,
   "id": "e053b7dd",
   "metadata": {},
   "outputs": [
    {
     "data": {
      "text/html": [
       "<div>\n",
       "<style scoped>\n",
       "    .dataframe tbody tr th:only-of-type {\n",
       "        vertical-align: middle;\n",
       "    }\n",
       "\n",
       "    .dataframe tbody tr th {\n",
       "        vertical-align: top;\n",
       "    }\n",
       "\n",
       "    .dataframe thead th {\n",
       "        text-align: right;\n",
       "    }\n",
       "</style>\n",
       "<table border=\"1\" class=\"dataframe\">\n",
       "  <thead>\n",
       "    <tr style=\"text-align: right;\">\n",
       "      <th></th>\n",
       "      <th>address</th>\n",
       "      <th>address_rus</th>\n",
       "    </tr>\n",
       "  </thead>\n",
       "  <tbody>\n",
       "    <tr>\n",
       "      <th>count</th>\n",
       "      <td>2504</td>\n",
       "      <td>2388</td>\n",
       "    </tr>\n",
       "    <tr>\n",
       "      <th>unique</th>\n",
       "      <td>2138</td>\n",
       "      <td>1952</td>\n",
       "    </tr>\n",
       "    <tr>\n",
       "      <th>top</th>\n",
       "      <td>30/32 KUTUZOVSKIY PR.     MOSCOW</td>\n",
       "      <td>Кутузовский проспект, 30, Москва, Россия, 121165</td>\n",
       "    </tr>\n",
       "    <tr>\n",
       "      <th>freq</th>\n",
       "      <td>6</td>\n",
       "      <td>6</td>\n",
       "    </tr>\n",
       "  </tbody>\n",
       "</table>\n",
       "</div>"
      ],
      "text/plain": [
       "                                       address  \\\n",
       "count                                     2504   \n",
       "unique                                    2138   \n",
       "top     30/32 KUTUZOVSKIY PR.     MOSCOW         \n",
       "freq                                         6   \n",
       "\n",
       "                                             address_rus  \n",
       "count                                               2388  \n",
       "unique                                              1952  \n",
       "top     Кутузовский проспект, 30, Москва, Россия, 121165  \n",
       "freq                                                   6  "
      ]
     },
     "execution_count": 24,
     "metadata": {},
     "output_type": "execute_result"
    }
   ],
   "source": [
    "df_test.describe(include='object')"
   ]
  },
  {
   "cell_type": "markdown",
   "id": "deccfb10",
   "metadata": {},
   "source": [
    "Посмотрим сколько банкоматов принадледит той или иной группе:"
   ]
  },
  {
   "cell_type": "code",
   "execution_count": 27,
   "id": "b7438eb1",
   "metadata": {},
   "outputs": [
    {
     "data": {
      "text/html": [
       "<div>\n",
       "<style scoped>\n",
       "    .dataframe tbody tr th:only-of-type {\n",
       "        vertical-align: middle;\n",
       "    }\n",
       "\n",
       "    .dataframe tbody tr th {\n",
       "        vertical-align: top;\n",
       "    }\n",
       "\n",
       "    .dataframe thead th {\n",
       "        text-align: right;\n",
       "    }\n",
       "</style>\n",
       "<table border=\"1\" class=\"dataframe\">\n",
       "  <thead>\n",
       "    <tr style=\"text-align: right;\">\n",
       "      <th></th>\n",
       "      <th>atm_group</th>\n",
       "      <th>Банкоматов</th>\n",
       "    </tr>\n",
       "  </thead>\n",
       "  <tbody>\n",
       "    <tr>\n",
       "      <th>5</th>\n",
       "      <td>5,478.00</td>\n",
       "      <td>2662</td>\n",
       "    </tr>\n",
       "    <tr>\n",
       "      <th>3</th>\n",
       "      <td>1,942.00</td>\n",
       "      <td>1160</td>\n",
       "    </tr>\n",
       "    <tr>\n",
       "      <th>6</th>\n",
       "      <td>8,083.00</td>\n",
       "      <td>1050</td>\n",
       "    </tr>\n",
       "    <tr>\n",
       "      <th>1</th>\n",
       "      <td>496.50</td>\n",
       "      <td>616</td>\n",
       "    </tr>\n",
       "    <tr>\n",
       "      <th>4</th>\n",
       "      <td>3,185.50</td>\n",
       "      <td>594</td>\n",
       "    </tr>\n",
       "    <tr>\n",
       "      <th>2</th>\n",
       "      <td>1,022.00</td>\n",
       "      <td>136</td>\n",
       "    </tr>\n",
       "    <tr>\n",
       "      <th>0</th>\n",
       "      <td>32.00</td>\n",
       "      <td>43</td>\n",
       "    </tr>\n",
       "  </tbody>\n",
       "</table>\n",
       "</div>"
      ],
      "text/plain": [
       "   atm_group  Банкоматов\n",
       "5   5,478.00        2662\n",
       "3   1,942.00        1160\n",
       "6   8,083.00        1050\n",
       "1     496.50         616\n",
       "4   3,185.50         594\n",
       "2   1,022.00         136\n",
       "0      32.00          43"
      ]
     },
     "execution_count": 27,
     "metadata": {},
     "output_type": "execute_result"
    }
   ],
   "source": [
    "df_train.groupby('atm_group', as_index=False).agg(Банкоматов=('atm_group', 'count')).sort_values(by='Банкоматов', ascending=False)"
   ]
  },
  {
   "cell_type": "markdown",
   "id": "d4e2967b",
   "metadata": {},
   "source": [
    "Уберем возможные пробелы для наших записей:"
   ]
  },
  {
   "cell_type": "code",
   "execution_count": 36,
   "id": "7d492c7f",
   "metadata": {},
   "outputs": [],
   "source": [
    "df_train['address_rus'] = df_train['address_rus'].apply(lambda x: x.strip() if pd.notnull(x) else None)"
   ]
  },
  {
   "cell_type": "markdown",
   "id": "9bec471d",
   "metadata": {},
   "source": [
    "Посмотрим на длину записей адресов:"
   ]
  },
  {
   "cell_type": "code",
   "execution_count": 44,
   "id": "ef0ff8e3",
   "metadata": {},
   "outputs": [],
   "source": [
    "df_train['len_address'] = df_train['address_rus'].apply(lambda x: len(x) if x != None else None)"
   ]
  },
  {
   "cell_type": "code",
   "execution_count": 46,
   "id": "5263c3d6",
   "metadata": {},
   "outputs": [
    {
     "data": {
      "text/plain": [
       "(27.0, 144.0)"
      ]
     },
     "execution_count": 46,
     "metadata": {},
     "output_type": "execute_result"
    }
   ],
   "source": [
    "df_train['len_address'].min(), df_train['len_address'].max()"
   ]
  },
  {
   "cell_type": "markdown",
   "id": "b8eb60d7",
   "metadata": {},
   "source": [
    "Посмотрим на самый длинный адрес в наших данных:"
   ]
  },
  {
   "cell_type": "code",
   "execution_count": 49,
   "id": "716b68fc",
   "metadata": {},
   "outputs": [
    {
     "data": {
      "text/plain": [
       "'Волжская улица, 1, посёлок городского типа Ванино, городское поселение Рабочий Посёлок Ванино, Ванинский район, Хабаровский край, Россия, 682860'"
      ]
     },
     "execution_count": 49,
     "metadata": {},
     "output_type": "execute_result"
    }
   ],
   "source": [
    "df_train[df_train['len_address'] == 144]['address_rus'].loc[3579]"
   ]
  },
  {
   "cell_type": "markdown",
   "id": "4b9cf954",
   "metadata": {},
   "source": [
    "Каких-то аномально длинных адресов нет."
   ]
  },
  {
   "cell_type": "markdown",
   "id": "6eddf0bf",
   "metadata": {},
   "source": [
    "Посмотрим на формат записей адресов банкоматов на русском:"
   ]
  },
  {
   "cell_type": "code",
   "execution_count": 55,
   "id": "f487a800",
   "metadata": {},
   "outputs": [
    {
     "data": {
      "text/plain": [
       "'улица А.О. Емельянова, 34, Южно-Сахалинск, Сахалинская область, Россия'"
      ]
     },
     "execution_count": 55,
     "metadata": {},
     "output_type": "execute_result"
    }
   ],
   "source": [
    "df_train['address_rus'][0]"
   ]
  },
  {
   "cell_type": "code",
   "execution_count": 57,
   "id": "141b27af",
   "metadata": {},
   "outputs": [
    {
     "data": {
      "text/plain": [
       "'Большая Московская улица, 90А, Владимир, Россия, 600000'"
      ]
     },
     "execution_count": 57,
     "metadata": {},
     "output_type": "execute_result"
    }
   ],
   "source": [
    "df_train['address_rus'][10]"
   ]
  },
  {
   "cell_type": "code",
   "execution_count": 59,
   "id": "99f4b7a2",
   "metadata": {},
   "outputs": [
    {
     "data": {
      "text/plain": [
       "'Магаданская улица, 31, посёлок Хандыга, Томпонский муниципальный район, Республика Саха (Якутия), Россия, 678720'"
      ]
     },
     "execution_count": 59,
     "metadata": {},
     "output_type": "execute_result"
    }
   ],
   "source": [
    "df_train['address_rus'][1343]"
   ]
  },
  {
   "cell_type": "markdown",
   "id": "fe97c956",
   "metadata": {},
   "source": [
    "Спарсим наши адреса на русском на составляющие: `почтовый индекс`, `страна`, `город`, `улица`, `дом`:"
   ]
  },
  {
   "cell_type": "markdown",
   "id": "d4dd1d8e",
   "metadata": {},
   "source": [
    "__1. Достанем из адреса почтовый индекс, если он имеется:__"
   ]
  },
  {
   "cell_type": "code",
   "execution_count": 63,
   "id": "0b43a1f1",
   "metadata": {},
   "outputs": [],
   "source": [
    "def get_postal_code(address: str):\n",
    "    address = address.split(', ')\n",
    "    if address[-1].isdigit():\n",
    "        return address[-1]\n",
    "    else:\n",
    "        return None"
   ]
  },
  {
   "cell_type": "code",
   "execution_count": 65,
   "id": "58426e1e",
   "metadata": {},
   "outputs": [],
   "source": [
    "df_train['postal_code'] = df_train['address_rus'].apply(lambda x: get_postal_code(x) if pd.notnull(x) else None)"
   ]
  },
  {
   "cell_type": "markdown",
   "id": "5bd1e450",
   "metadata": {},
   "source": [
    "В России принята 6-значная система почтовых индексов XXXYYY, где XXX - код субъекта федерации, YYY - номер почтового отделения в нем, но крупные города, такие как, например, Москва имеет несколько кодов. Проверим какой длины имеющиеся индексы в наших данных:"
   ]
  },
  {
   "cell_type": "code",
   "execution_count": 68,
   "id": "c4603086",
   "metadata": {},
   "outputs": [],
   "source": [
    "df_train['len_postal_code'] = df_train['postal_code'].apply(lambda x: len(x) if pd.notnull(x) else None)"
   ]
  },
  {
   "cell_type": "code",
   "execution_count": 70,
   "id": "06ebfb2c",
   "metadata": {},
   "outputs": [
    {
     "data": {
      "text/plain": [
       "array([nan,  6.])"
      ]
     },
     "execution_count": 70,
     "metadata": {},
     "output_type": "execute_result"
    }
   ],
   "source": [
    "df_train['len_postal_code'].unique()"
   ]
  },
  {
   "cell_type": "markdown",
   "id": "aaf36a68",
   "metadata": {},
   "source": [
    "Все почтовые индексы имеют нужную длину."
   ]
  },
  {
   "cell_type": "markdown",
   "id": "58d720de",
   "metadata": {},
   "source": [
    "__2. Достанем из адреса страну, если она имеется:__"
   ]
  },
  {
   "cell_type": "code",
   "execution_count": 74,
   "id": "423eb987",
   "metadata": {},
   "outputs": [],
   "source": [
    "def get_country(address: str):\n",
    "    address = address.split(', ')\n",
    "    if address[-1].isalpha():\n",
    "        return address[-1]\n",
    "    elif address[-2].isalpha():\n",
    "        return address[-2]\n",
    "    else:\n",
    "        return None"
   ]
  },
  {
   "cell_type": "code",
   "execution_count": 76,
   "id": "a1adb75a",
   "metadata": {},
   "outputs": [],
   "source": [
    "df_train['country'] = df_train['address_rus'].apply(lambda x: get_country(x) if pd.notnull(x) else None)"
   ]
  },
  {
   "cell_type": "code",
   "execution_count": 78,
   "id": "a6fe8149",
   "metadata": {},
   "outputs": [
    {
     "data": {
      "text/plain": [
       "array(['Россия', None], dtype=object)"
      ]
     },
     "execution_count": 78,
     "metadata": {},
     "output_type": "execute_result"
    }
   ],
   "source": [
    "df_train['country'].unique()"
   ]
  },
  {
   "cell_type": "markdown",
   "id": "a9ed01d8",
   "metadata": {},
   "source": [
    "Без неожиданностей - все адреса банкоматов в России."
   ]
  },
  {
   "cell_type": "markdown",
   "id": "3c124944",
   "metadata": {},
   "source": [
    "__3. Достанем из адреса город, если он имеется:__"
   ]
  },
  {
   "cell_type": "markdown",
   "id": "f34d526b",
   "metadata": {},
   "source": [
    "Возьмем список городов России из Википедии:"
   ]
  },
  {
   "cell_type": "code",
   "execution_count": 83,
   "id": "0ca2978d",
   "metadata": {},
   "outputs": [],
   "source": [
    "url = 'https://ru.wikipedia.org/wiki/%D0%A1%D0%BF%D0%B8%D1%81%D0%BE%D0%BA_%D0%B3%D0%BE%D1%80%D0%BE%D0%B4%D0%BE%D0%B2_%D0%A0%D0%BE%D1%81%D1%81%D0%B8%D0%B8'\n",
    "test = pd.read_html(url)[0]\n",
    "cities = test['Город']"
   ]
  },
  {
   "cell_type": "code",
   "execution_count": 84,
   "id": "c4372aa1",
   "metadata": {},
   "outputs": [
    {
     "data": {
      "text/plain": [
       "0           Абаза\n",
       "1          Абакан\n",
       "2        Абдулино\n",
       "3          Абинск\n",
       "4         Агидель\n",
       "          ...    \n",
       "1120    Ярославль\n",
       "1121       Ярцево\n",
       "1122    Ясногорск\n",
       "1123        Ясный\n",
       "1124       Яхрома\n",
       "Name: Город, Length: 1125, dtype: object"
      ]
     },
     "execution_count": 84,
     "metadata": {},
     "output_type": "execute_result"
    }
   ],
   "source": [
    "cities"
   ]
  },
  {
   "cell_type": "code",
   "execution_count": 85,
   "id": "5bf35cae",
   "metadata": {},
   "outputs": [],
   "source": [
    "def get_city(address: str):\n",
    "    for city in cities:\n",
    "        if city in address:\n",
    "            return city\n",
    "        else:\n",
    "            None"
   ]
  },
  {
   "cell_type": "code",
   "execution_count": 86,
   "id": "9603a231",
   "metadata": {},
   "outputs": [],
   "source": [
    "df_train['city'] = df_train['address_rus'].apply(lambda x: get_city(x) if pd.notnull(x) else None)"
   ]
  },
  {
   "cell_type": "markdown",
   "id": "ede29759",
   "metadata": {},
   "source": [
    "Посмотрим какая доля записей осталась без города среди адресов, которые имеют запись на русском:"
   ]
  },
  {
   "cell_type": "code",
   "execution_count": 88,
   "id": "bec99f07",
   "metadata": {},
   "outputs": [],
   "source": [
    "no_city = round(100 * df_train[(df_train['address_rus'].notna()) & (df_train['city'].isnull())].shape[0] / df_train[df_train['address_rus'].notna()].shape[0], 1)"
   ]
  },
  {
   "cell_type": "code",
   "execution_count": 89,
   "id": "4d7ad106",
   "metadata": {},
   "outputs": [
    {
     "name": "stdout",
     "output_type": "stream",
     "text": [
      "1.4%\n"
     ]
    }
   ],
   "source": [
    "print(f'{no_city}%')"
   ]
  },
  {
   "cell_type": "markdown",
   "id": "0905b562",
   "metadata": {},
   "source": [
    "__4. Достанем из адеса улицу, если она имеется:__"
   ]
  },
  {
   "cell_type": "markdown",
   "id": "7d86cc1c",
   "metadata": {},
   "source": [
    "Регулярное выражение, чтобы достать из адреса название улицы, когда сперва идет слово `улица`, а потом название:"
   ]
  },
  {
   "cell_type": "code",
   "execution_count": 92,
   "id": "05b2cbae",
   "metadata": {},
   "outputs": [],
   "source": [
    "second_street_pattern = r\"(улица)([А-Яа-яё0-9-\\s+\\.]+)\""
   ]
  },
  {
   "cell_type": "markdown",
   "id": "441d4b5d",
   "metadata": {},
   "source": [
    "Регулярное выражение, чтобы достать из адреса название улицы, когда сперва идет название, а потом слово `улица`:"
   ]
  },
  {
   "cell_type": "code",
   "execution_count": 94,
   "id": "ab50f952",
   "metadata": {},
   "outputs": [],
   "source": [
    "first_street_pattern = r\"([А-Яа-яё0-9-\\s+\\.]+)(улица)\""
   ]
  },
  {
   "cell_type": "markdown",
   "id": "6e00fc52",
   "metadata": {},
   "source": [
    "Регулярное выражение, чтобы достать название улицы, когда сперва идут слова `проспект`, `проезд`, `переулок`, `набережная`, `площадь`, `бульвар`, `шоссе`, `тракт`, `квартал`, `микрорайон`, а потом название:"
   ]
  },
  {
   "cell_type": "code",
   "execution_count": 99,
   "id": "aa88e954",
   "metadata": {},
   "outputs": [],
   "source": [
    "second_group_street_patterns = [r\"(проспект)([А-Яа-яё0-9-\\s+\\.]+)\", \\\n",
    "                                r\"(проезд)([А-Яа-яё0-9-\\s+\\.]+)\", \\\n",
    "                                r\"(переулок)([А-Яа-яё0-9-\\s+\\.]+)\", \\\n",
    "                                r\"(набережная)([А-Яа-яё0-9-\\s+\\.]+)\", \\\n",
    "                                r\"(площадь)([А-Яа-яё0-9-\\s+\\.]+)\", \\\n",
    "                                r\"(бульвар)([А-Яа-яё0-9-\\s+\\.]+)\", \\\n",
    "                                r\"(шоссе)([А-Яа-яё0-9-\\s+\\.]+)\", \\\n",
    "                                r\"(тракт)([А-Яа-яё0-9-\\s+\\.]+)\", \\\n",
    "                                r\"(квартал)([А-Яа-яё0-9-\\s+\\.]+)\", \\\n",
    "                                r\"(микрорайон)([А-Яа-яё0-9-\\s+\\.]+)\"]"
   ]
  },
  {
   "cell_type": "markdown",
   "id": "fa5bc14e",
   "metadata": {},
   "source": [
    "Регулярное выражение, чтобы достать название улицы, когда сперва идет название, а потом слова `проспект`, `проезд`, `переулок`, `набережная`, `площадь`, `бульвар`, `шоссе`, `тракт`, `квартал`, `микрорайон`:"
   ]
  },
  {
   "cell_type": "code",
   "execution_count": 101,
   "id": "c4a4f9e9",
   "metadata": {},
   "outputs": [],
   "source": [
    "first_group_street_patterns = [r\"([А-Яа-яё0-9-\\s+\\.]+)(проспект)\", \\\n",
    "                               r\"([А-Яа-яё0-9-\\s+\\.]+)(проезд)\", \\\n",
    "                               r\"([А-Яа-яё0-9-\\s+\\.]+)(переулок)\", \\\n",
    "                               r\"([А-Яа-яё0-9-\\s+\\.]+)(набережная)\", \\\n",
    "                               r\"([А-Яа-яё0-9-\\s+\\.]+)(площадь)\", \\\n",
    "                               r\"([А-Яа-яё0-9-\\s+\\.]+)(бульвар)\", \\\n",
    "                               r\"([А-Яа-яё0-9-\\s+\\.]+)(шоссе)\", \\\n",
    "                               r\"([А-Яа-яё0-9-\\s+\\.]+)(тракт)\", \\\n",
    "                               r\"([А-Яа-яё0-9-\\s+\\.]+)(квартал)\", \\\n",
    "                               r\"([А-Яа-яё0-9-\\s+\\.]+)(микрорайон)\"]"
   ]
  },
  {
   "cell_type": "markdown",
   "id": "f18d150d",
   "metadata": {},
   "source": [
    "Регулярное выражение, чтобы достать `номер дома`:"
   ]
  },
  {
   "cell_type": "code",
   "execution_count": 103,
   "id": "17308163",
   "metadata": {},
   "outputs": [],
   "source": [
    "number_pattern = r\"([\\d][0-9а-жёА-Ж\\.\\/]+|(\\d+))\""
   ]
  },
  {
   "cell_type": "code",
   "execution_count": 105,
   "id": "06016c20",
   "metadata": {},
   "outputs": [],
   "source": [
    "def get_part_street_name(address: str):\n",
    "    try:\n",
    "        name_street = re.search(second_street_pattern, address).group(2)\n",
    "        return name_street.strip()\n",
    "    except:\n",
    "        name_street = None\n",
    "    \n",
    "    try:\n",
    "        name_street = re.search(first_street_pattern, address).group(1)\n",
    "        return name_street.strip()\n",
    "    except:\n",
    "        name_street = None\n",
    "        \n",
    "    for pattern in second_group_street_patterns:\n",
    "         try:\n",
    "            name_street = re.findall(pattern, address)\n",
    "            return (name_street[0][0] + name_street[0][1]).strip()\n",
    "         except:\n",
    "            name_street = None\n",
    "            \n",
    "    for pattern in first_group_street_patterns:\n",
    "         try:\n",
    "            name_street = re.findall(pattern, address)\n",
    "            return (name_street[0][0] + name_street[0][1]).strip()\n",
    "         except:\n",
    "            name_street = None\n",
    "    return name_street"
   ]
  },
  {
   "cell_type": "code",
   "execution_count": 108,
   "id": "69dee15d",
   "metadata": {},
   "outputs": [],
   "source": [
    "df_train['street_name'] = df_train['address_rus'].apply(lambda x: get_part_street_name(x))"
   ]
  },
  {
   "cell_type": "markdown",
   "id": "bb6a3a97",
   "metadata": {},
   "source": [
    "Посмотрим адреса, которые есть на русском и к которым мы не смогли достать название улицы:"
   ]
  },
  {
   "cell_type": "code",
   "execution_count": 114,
   "id": "a50b1374",
   "metadata": {},
   "outputs": [
    {
     "data": {
      "text/plain": [
       "8      деревня Веледниково, городской округ Истра, Мо...\n",
       "30               19-я линия, 10, Иваново, Россия, 153031\n",
       "145    метро Площадь Габдуллы Тукая, Центральная лини...\n",
       "189    автодорога Красноярск-Железногорск, 20 км, Бер...\n",
       "249    срезка на 5 км, территория Спортивный клуб Ром...\n",
       "299    Буденновский лес, Красногвардейский район, Бел...\n",
       "300    Буденновский лес, Красногвардейский район, Бел...\n",
       "317    посёлок Красный Бор, 1, Ярославский район, Яро...\n",
       "400    посёлок Ростовка, 23, Омский район, Омская обл...\n",
       "438    СНТ 60 лет Октября, 60, Старый Оскол, Белгород...\n",
       "456    садовое товарищество Грибники, Венёвский район...\n",
       "497    А-181 Скандинавия, 132-й километр, Выборгский ...\n",
       "510    деревня Колпино, Краснохолмский район, Тверска...\n",
       "582    КАД, 29-й километр, внешнее кольцо, Санкт-Пете...\n",
       "590    СНТ Выбор, 194, село Немчиновка, Одинцовский р...\n",
       "594    посёлок Молодёжный, 14, городской округ Подоль...\n",
       "596    КАД, 29-й километр, внешнее кольцо, Санкт-Пете...\n",
       "665    поселок Новые Лапсары, городской округ Чебокса...\n",
       "707    деревня Самара, Михайловский район, Рязанская ...\n",
       "709    деревня Самара, Михайловский район, Рязанская ...\n",
       "Name: address_rus, dtype: object"
      ]
     },
     "execution_count": 114,
     "metadata": {},
     "output_type": "execute_result"
    }
   ],
   "source": [
    "empty_street = df_train[(df_train['address_rus'].notna()) & (df_train['street_name'].isnull())]\n",
    "empty_street['address_rus'].head(20)"
   ]
  },
  {
   "cell_type": "code",
   "execution_count": 117,
   "id": "56f95d6c",
   "metadata": {},
   "outputs": [
    {
     "data": {
      "text/plain": [
       "id                   0\n",
       "atm_group            0\n",
       "address              0\n",
       "address_rus          0\n",
       "lat                  0\n",
       "long                 0\n",
       "target               0\n",
       "len_address          0\n",
       "postal_code        154\n",
       "len_postal_code    154\n",
       "country              0\n",
       "city                20\n",
       "street_name        157\n",
       "dtype: int64"
      ]
     },
     "execution_count": 117,
     "metadata": {},
     "output_type": "execute_result"
    }
   ],
   "source": [
    "empty_street.isna().sum()"
   ]
  },
  {
   "cell_type": "code",
   "execution_count": 118,
   "id": "0ad085cb",
   "metadata": {},
   "outputs": [
    {
     "name": "stdout",
     "output_type": "stream",
     "text": [
      "Таких адресов получилось 2.6%.\n"
     ]
    }
   ],
   "source": [
    "steet_gaps = round(100 * empty_street['street_name'].isna().sum() / df_train[df_train['address_rus'].notna()].shape[0],1)\n",
    "print(f'Таких адресов получилось {steet_gaps}%.')"
   ]
  },
  {
   "cell_type": "markdown",
   "id": "eaf6c45f",
   "metadata": {},
   "source": [
    "__5. Достанем номера домов для адресов, из которых удалось достать название улицы:__"
   ]
  },
  {
   "cell_type": "code",
   "execution_count": 124,
   "id": "752dabe6",
   "metadata": {},
   "outputs": [],
   "source": [
    "def get_number(address: str):\n",
    "    try:\n",
    "        number = re.search(number_pattern, address).group(0)\n",
    "        return number.strip()\n",
    "    except:\n",
    "        number = None\n",
    "    return number"
   ]
  },
  {
   "cell_type": "code",
   "execution_count": 125,
   "id": "82e43451",
   "metadata": {},
   "outputs": [],
   "source": [
    "df_train['number'] = df_train[df_train['address_rus'].notna()]['address_rus'].apply(lambda x: get_number(x.split(', ')[1]))"
   ]
  },
  {
   "cell_type": "code",
   "execution_count": 128,
   "id": "3430f10b",
   "metadata": {},
   "outputs": [
    {
     "data": {
      "text/html": [
       "<div>\n",
       "<style scoped>\n",
       "    .dataframe tbody tr th:only-of-type {\n",
       "        vertical-align: middle;\n",
       "    }\n",
       "\n",
       "    .dataframe tbody tr th {\n",
       "        vertical-align: top;\n",
       "    }\n",
       "\n",
       "    .dataframe thead th {\n",
       "        text-align: right;\n",
       "    }\n",
       "</style>\n",
       "<table border=\"1\" class=\"dataframe\">\n",
       "  <thead>\n",
       "    <tr style=\"text-align: right;\">\n",
       "      <th></th>\n",
       "      <th>id</th>\n",
       "      <th>atm_group</th>\n",
       "      <th>address</th>\n",
       "      <th>address_rus</th>\n",
       "      <th>lat</th>\n",
       "      <th>long</th>\n",
       "      <th>target</th>\n",
       "      <th>len_address</th>\n",
       "      <th>postal_code</th>\n",
       "      <th>len_postal_code</th>\n",
       "      <th>country</th>\n",
       "      <th>city</th>\n",
       "      <th>street_name</th>\n",
       "      <th>number</th>\n",
       "    </tr>\n",
       "  </thead>\n",
       "  <tbody>\n",
       "    <tr>\n",
       "      <th>1937</th>\n",
       "      <td>5,969.00</td>\n",
       "      <td>5,478.00</td>\n",
       "      <td>D. 1, UL. PARIZHSKOI KOMM SLYUDYANKA G</td>\n",
       "      <td>улица Парижской Коммуны, 1, Слюдянка, Иркутска...</td>\n",
       "      <td>51.66</td>\n",
       "      <td>103.72</td>\n",
       "      <td>-0.05</td>\n",
       "      <td>63.00</td>\n",
       "      <td>None</td>\n",
       "      <td>NaN</td>\n",
       "      <td>Россия</td>\n",
       "      <td>Иркутск</td>\n",
       "      <td>Парижской Коммуны</td>\n",
       "      <td>1</td>\n",
       "    </tr>\n",
       "    <tr>\n",
       "      <th>3404</th>\n",
       "      <td>7,455.00</td>\n",
       "      <td>5,478.00</td>\n",
       "      <td>D. 20, UL. KIROVA         OMSK G</td>\n",
       "      <td>улица Кирова, 20, Омск, Россия, 644041</td>\n",
       "      <td>54.94</td>\n",
       "      <td>73.42</td>\n",
       "      <td>0.00</td>\n",
       "      <td>38.00</td>\n",
       "      <td>644041</td>\n",
       "      <td>6.00</td>\n",
       "      <td>Россия</td>\n",
       "      <td>Киров</td>\n",
       "      <td>Кирова</td>\n",
       "      <td>20</td>\n",
       "    </tr>\n",
       "    <tr>\n",
       "      <th>4249</th>\n",
       "      <td>2,580.00</td>\n",
       "      <td>3,185.50</td>\n",
       "      <td>GAGARINA,  14A            TROICK</td>\n",
       "      <td>улица Гагарина, 14А, Троицк, Челябинская облас...</td>\n",
       "      <td>54.08</td>\n",
       "      <td>61.53</td>\n",
       "      <td>-0.07</td>\n",
       "      <td>56.00</td>\n",
       "      <td>None</td>\n",
       "      <td>NaN</td>\n",
       "      <td>Россия</td>\n",
       "      <td>Гагарин</td>\n",
       "      <td>Гагарина</td>\n",
       "      <td>14А</td>\n",
       "    </tr>\n",
       "    <tr>\n",
       "      <th>1562</th>\n",
       "      <td>984.00</td>\n",
       "      <td>1,942.00</td>\n",
       "      <td>35 KHOROSHEVSKOE H.       MOSCOW</td>\n",
       "      <td>Хорошёвское шоссе, 35Ас1, Москва, Россия, 123007</td>\n",
       "      <td>55.78</td>\n",
       "      <td>37.52</td>\n",
       "      <td>0.02</td>\n",
       "      <td>48.00</td>\n",
       "      <td>123007</td>\n",
       "      <td>6.00</td>\n",
       "      <td>Россия</td>\n",
       "      <td>Москва</td>\n",
       "      <td>Хорошёвское шоссе</td>\n",
       "      <td>35А</td>\n",
       "    </tr>\n",
       "    <tr>\n",
       "      <th>5679</th>\n",
       "      <td>5,743.00</td>\n",
       "      <td>5,478.00</td>\n",
       "      <td>D. 60A, UL. RYABIKOVA     ULYANOVSK G</td>\n",
       "      <td>улица Рябикова, 60А, Ульяновск, Россия, 432045</td>\n",
       "      <td>54.28</td>\n",
       "      <td>48.29</td>\n",
       "      <td>-0.08</td>\n",
       "      <td>46.00</td>\n",
       "      <td>432045</td>\n",
       "      <td>6.00</td>\n",
       "      <td>Россия</td>\n",
       "      <td>Ульяновск</td>\n",
       "      <td>Рябикова</td>\n",
       "      <td>60А</td>\n",
       "    </tr>\n",
       "  </tbody>\n",
       "</table>\n",
       "</div>"
      ],
      "text/plain": [
       "           id  atm_group                                 address  \\\n",
       "1937 5,969.00   5,478.00  D. 1, UL. PARIZHSKOI KOMM SLYUDYANKA G   \n",
       "3404 7,455.00   5,478.00  D. 20, UL. KIROVA         OMSK G         \n",
       "4249 2,580.00   3,185.50  GAGARINA,  14A            TROICK         \n",
       "1562   984.00   1,942.00  35 KHOROSHEVSKOE H.       MOSCOW         \n",
       "5679 5,743.00   5,478.00  D. 60A, UL. RYABIKOVA     ULYANOVSK G    \n",
       "\n",
       "                                            address_rus   lat   long  target  \\\n",
       "1937  улица Парижской Коммуны, 1, Слюдянка, Иркутска... 51.66 103.72   -0.05   \n",
       "3404             улица Кирова, 20, Омск, Россия, 644041 54.94  73.42    0.00   \n",
       "4249  улица Гагарина, 14А, Троицк, Челябинская облас... 54.08  61.53   -0.07   \n",
       "1562   Хорошёвское шоссе, 35Ас1, Москва, Россия, 123007 55.78  37.52    0.02   \n",
       "5679     улица Рябикова, 60А, Ульяновск, Россия, 432045 54.28  48.29   -0.08   \n",
       "\n",
       "      len_address postal_code  len_postal_code country       city  \\\n",
       "1937        63.00        None              NaN  Россия    Иркутск   \n",
       "3404        38.00      644041             6.00  Россия      Киров   \n",
       "4249        56.00        None              NaN  Россия    Гагарин   \n",
       "1562        48.00      123007             6.00  Россия     Москва   \n",
       "5679        46.00      432045             6.00  Россия  Ульяновск   \n",
       "\n",
       "            street_name number  \n",
       "1937  Парижской Коммуны      1  \n",
       "3404             Кирова     20  \n",
       "4249           Гагарина    14А  \n",
       "1562  Хорошёвское шоссе    35А  \n",
       "5679           Рябикова    60А  "
      ]
     },
     "execution_count": 128,
     "metadata": {},
     "output_type": "execute_result"
    }
   ],
   "source": [
    "df_train.sample(5)"
   ]
  },
  {
   "cell_type": "markdown",
   "id": "10f13626",
   "metadata": {},
   "source": [
    "Посмотрим какое количество городов представлено в наших данных:"
   ]
  },
  {
   "cell_type": "code",
   "execution_count": 131,
   "id": "b53c8aa2",
   "metadata": {
    "scrolled": true
   },
   "outputs": [
    {
     "data": {
      "text/plain": [
       "422"
      ]
     },
     "execution_count": 131,
     "metadata": {},
     "output_type": "execute_result"
    }
   ],
   "source": [
    "df_train['city'].nunique()"
   ]
  },
  {
   "cell_type": "markdown",
   "id": "17f4cc8e",
   "metadata": {},
   "source": [
    "Выведем топ-10 городов по численности банкоматов по городам:"
   ]
  },
  {
   "cell_type": "code",
   "execution_count": 134,
   "id": "3d21d5a0",
   "metadata": {},
   "outputs": [],
   "source": [
    "top_10_atms = df_train.groupby('city', as_index=False).agg(atm=('id', 'count')).sort_values(by='atm', ascending=False).head(10)"
   ]
  },
  {
   "cell_type": "code",
   "execution_count": 136,
   "id": "7fd0a5af",
   "metadata": {},
   "outputs": [],
   "source": [
    "top_10_atms['share,%'] = round(100 * top_10_atms['atm'] / df_train.shape[0], 1)"
   ]
  },
  {
   "cell_type": "code",
   "execution_count": 138,
   "id": "048b6c8a",
   "metadata": {
    "scrolled": true
   },
   "outputs": [
    {
     "data": {
      "text/html": [
       "<div>\n",
       "<style scoped>\n",
       "    .dataframe tbody tr th:only-of-type {\n",
       "        vertical-align: middle;\n",
       "    }\n",
       "\n",
       "    .dataframe tbody tr th {\n",
       "        vertical-align: top;\n",
       "    }\n",
       "\n",
       "    .dataframe thead th {\n",
       "        text-align: right;\n",
       "    }\n",
       "</style>\n",
       "<table border=\"1\" class=\"dataframe\">\n",
       "  <thead>\n",
       "    <tr style=\"text-align: right;\">\n",
       "      <th></th>\n",
       "      <th>city</th>\n",
       "      <th>atm</th>\n",
       "      <th>share,%</th>\n",
       "    </tr>\n",
       "  </thead>\n",
       "  <tbody>\n",
       "    <tr>\n",
       "      <th>262</th>\n",
       "      <td>Москва</td>\n",
       "      <td>504</td>\n",
       "      <td>8.00</td>\n",
       "    </tr>\n",
       "    <tr>\n",
       "      <th>207</th>\n",
       "      <td>Красноярск</td>\n",
       "      <td>214</td>\n",
       "      <td>3.40</td>\n",
       "    </tr>\n",
       "    <tr>\n",
       "      <th>343</th>\n",
       "      <td>Санкт-Петербург</td>\n",
       "      <td>176</td>\n",
       "      <td>2.80</td>\n",
       "    </tr>\n",
       "    <tr>\n",
       "      <th>287</th>\n",
       "      <td>Новосибирск</td>\n",
       "      <td>138</td>\n",
       "      <td>2.20</td>\n",
       "    </tr>\n",
       "    <tr>\n",
       "      <th>184</th>\n",
       "      <td>Киров</td>\n",
       "      <td>126</td>\n",
       "      <td>2.00</td>\n",
       "    </tr>\n",
       "    <tr>\n",
       "      <th>203</th>\n",
       "      <td>Краснодар</td>\n",
       "      <td>121</td>\n",
       "      <td>1.90</td>\n",
       "    </tr>\n",
       "    <tr>\n",
       "      <th>296</th>\n",
       "      <td>Омск</td>\n",
       "      <td>114</td>\n",
       "      <td>1.80</td>\n",
       "    </tr>\n",
       "    <tr>\n",
       "      <th>78</th>\n",
       "      <td>Владивосток</td>\n",
       "      <td>99</td>\n",
       "      <td>1.60</td>\n",
       "    </tr>\n",
       "    <tr>\n",
       "      <th>130</th>\n",
       "      <td>Екатеринбург</td>\n",
       "      <td>94</td>\n",
       "      <td>1.50</td>\n",
       "    </tr>\n",
       "    <tr>\n",
       "      <th>10</th>\n",
       "      <td>Амурск</td>\n",
       "      <td>91</td>\n",
       "      <td>1.50</td>\n",
       "    </tr>\n",
       "  </tbody>\n",
       "</table>\n",
       "</div>"
      ],
      "text/plain": [
       "                city  atm  share,%\n",
       "262           Москва  504     8.00\n",
       "207       Красноярск  214     3.40\n",
       "343  Санкт-Петербург  176     2.80\n",
       "287      Новосибирск  138     2.20\n",
       "184            Киров  126     2.00\n",
       "203        Краснодар  121     1.90\n",
       "296             Омск  114     1.80\n",
       "78       Владивосток   99     1.60\n",
       "130     Екатеринбург   94     1.50\n",
       "10            Амурск   91     1.50"
      ]
     },
     "execution_count": 138,
     "metadata": {},
     "output_type": "execute_result"
    }
   ],
   "source": [
    "top_10_atms"
   ]
  },
  {
   "cell_type": "code",
   "execution_count": 140,
   "id": "0f4a2a01",
   "metadata": {},
   "outputs": [
    {
     "data": {
      "image/png": "[encoded data removed]",
      "text/plain": [
       "<Figure size 1500x600 with 1 Axes>"
      ]
     },
     "metadata": {},
     "output_type": "display_data"
    }
   ],
   "source": [
    "plt.figure(figsize=(15, 6))\n",
    "plt.bar(x=top_10_atms['city'], height=top_10_atms['atm'])\n",
    "plt.title('Распределение банкоматов Росбанка по городам России ', fontsize=20)\n",
    "sns.color_palette('pastel')\n",
    "plt.xticks(rotation=60)\n",
    "plt.xlabel('Город')\n",
    "plt.ylabel('Количество банкоматов')\n",
    "\n",
    "plt.show()"
   ]
  },
  {
   "cell_type": "markdown",
   "id": "6fec3af0",
   "metadata": {},
   "source": [
    "Посмотрим на распределение таргета:"
   ]
  },
  {
   "cell_type": "code",
   "execution_count": 142,
   "id": "cadc10a4",
   "metadata": {},
   "outputs": [
    {
     "data": {
      "image/png": "[encoded data removed]",
      "text/plain": [
       "<Figure size 1500x600 with 1 Axes>"
      ]
     },
     "metadata": {},
     "output_type": "display_data"
    }
   ],
   "source": [
    "plt.figure(figsize=(15, 6))\n",
    "plt.title('Распределение таргета ', fontsize=20)\n",
    "sns.histplot(df_train, x='target')\n",
    "sns.color_palette('pastel')\n",
    "plt.xlabel('target')\n",
    "plt.ylabel('frequency')\n",
    "\n",
    "plt.show()"
   ]
  },
  {
   "cell_type": "code",
   "execution_count": 144,
   "id": "e1d23b11",
   "metadata": {},
   "outputs": [
    {
     "name": "stdout",
     "output_type": "stream",
     "text": [
      "Имеем распределение со средним 0.001 и стандартным отклонением 0.09\n"
     ]
    }
   ],
   "source": [
    "print(f'Имеем распределение со средним {df_train.target.mean():.3f} и стандартным отклонением {df_train.target.std():.2f}')"
   ]
  },
  {
   "cell_type": "code",
   "execution_count": 465,
   "id": "d262514d",
   "metadata": {},
   "outputs": [
    {
     "data": {
      "text/plain": [
       "'Магаданская улица, 31, посёлок Хандыга, Томпонский муниципальный район, Республика Саха (Якутия), Россия, 678720'"
      ]
     },
     "execution_count": 465,
     "metadata": {},
     "output_type": "execute_result"
    }
   ],
   "source": [
    "df_train['address_rus'][1343]"
   ]
  },
  {
   "cell_type": "markdown",
   "id": "3251b436-e9e0-43a4-a7d4-d901049d34a4",
   "metadata": {},
   "source": [
    "Сделаем промежуточный вывод о структуре данных и потенциальных проблемах. По записи 1343 (см. ячейку выше) можно видеть муниципальный формат записи адреса. В муниципальном делении указывают структуры местного самоуправления, например, регион, районы, сельские и городские поселения, муниципальные округа. Данный факт усложняет формат записи адреса для его парсинга на составлящие. Также имеются записи о банкоматах в нашем датасете, адресов на русском с географическими координатами которых нет вовсе."
   ]
  },
  {
   "cell_type": "markdown",
   "id": "6d0a276e-7337-4d8c-bc1b-d6c0844a2cf8",
   "metadata": {},
   "source": [
    "Построим корреляционную матрицу с количеством банкоматов и городом:"
   ]
  },
  {
   "cell_type": "markdown",
   "id": "452f5904-7433-4b9a-88e7-4f66e424f6f9",
   "metadata": {},
   "source": [
    "Для этого сперва закодируем каждый город с помощью Target encoding, т.e. каждую категорию, в нашем случае это город, закодируем средним значением целевой переменной по этой категории."
   ]
  },
  {
   "cell_type": "code",
   "execution_count": 231,
   "id": "cc005a91-0b7c-4bc3-a772-00fa3290ef37",
   "metadata": {},
   "outputs": [
    {
     "data": {
      "text/plain": [
       "422"
      ]
     },
     "execution_count": 231,
     "metadata": {},
     "output_type": "execute_result"
    }
   ],
   "source": [
    "df_train['city'].nunique()"
   ]
  },
  {
   "cell_type": "code",
   "execution_count": 280,
   "id": "2f6d6ddb-04c6-4a25-ae3c-453c726bf2e4",
   "metadata": {},
   "outputs": [],
   "source": [
    "df_train['feature_mean'] = df_train.groupby('city')['target'].transform('mean')"
   ]
  },
  {
   "cell_type": "markdown",
   "id": "d36aaa9d-66dc-4cb2-8336-b008e13958b8",
   "metadata": {},
   "source": [
    "Если кодировать при помощи счетчиков сразу все обучающие данные, то мы переобучимся. Применим сглаживание:"
   ]
  },
  {
   "cell_type": "markdown",
   "id": "91f7ea48-b465-4a6f-8d15-b85b1da736c5",
   "metadata": {},
   "source": [
    "$$\n",
    "p = \\frac{\\text{mean(target)} \\cdot n_{\\text{rows}} + \\alpha \\cdot \\text{GlobalTarget}}{n_{\\text{rows}} + \\alpha}\n",
    "$$"
   ]
  },
  {
   "cell_type": "code",
   "execution_count": 517,
   "id": "5bc01fb5-d7a8-4ae3-8e79-6edd4386664b",
   "metadata": {},
   "outputs": [],
   "source": [
    "def counter_with_smoothing(df, city, target, alpha):\n",
    "    \"\"\"\n",
    "    p - число, которым кодируем категорию\n",
    "    n_rows - число строк в категории\n",
    "    mean(target) - среднее значение целевой переменной по категории\n",
    "    Global_target - среднее значение целевой переменной по всей обучающей выборке\n",
    "    α - гиперпараметр\n",
    "    \"\"\"\n",
    "    df['feature_mean'] = df.groupby(city)[target].transform('mean')\n",
    "\n",
    "    global_mean = df[target].mean()\n",
    "\n",
    "    df['city_count'] = df.groupby(city)[target].transform('count')\n",
    "\n",
    "    df['p'] = (df['feature_mean'] * df['city_count'] + alpha * global_mean) / (df['city_count'] + alpha)\n",
    "\n",
    "    return df"
   ]
  },
  {
   "cell_type": "code",
   "execution_count": 539,
   "id": "1b91a92f-f15b-4ed6-8a99-035f7ca73e66",
   "metadata": {},
   "outputs": [],
   "source": [
    "df_train = counter_with_smoothing(df_train, 'city', 'target', 30)"
   ]
  },
  {
   "cell_type": "code",
   "execution_count": 541,
   "id": "fec3ef45-11b8-44bf-874f-71346fa8661d",
   "metadata": {},
   "outputs": [
    {
     "data": {
      "text/html": [
       "<div>\n",
       "<style scoped>\n",
       "    .dataframe tbody tr th:only-of-type {\n",
       "        vertical-align: middle;\n",
       "    }\n",
       "\n",
       "    .dataframe tbody tr th {\n",
       "        vertical-align: top;\n",
       "    }\n",
       "\n",
       "    .dataframe thead th {\n",
       "        text-align: right;\n",
       "    }\n",
       "</style>\n",
       "<table border=\"1\" class=\"dataframe\">\n",
       "  <thead>\n",
       "    <tr style=\"text-align: right;\">\n",
       "      <th></th>\n",
       "      <th>id</th>\n",
       "      <th>atm_group</th>\n",
       "      <th>address</th>\n",
       "      <th>address_rus</th>\n",
       "      <th>lat</th>\n",
       "      <th>long</th>\n",
       "      <th>target</th>\n",
       "      <th>len_address</th>\n",
       "      <th>postal_code</th>\n",
       "      <th>len_postal_code</th>\n",
       "      <th>country</th>\n",
       "      <th>city</th>\n",
       "      <th>street_name</th>\n",
       "      <th>number</th>\n",
       "      <th>count</th>\n",
       "      <th>feature_mean</th>\n",
       "      <th>city_count</th>\n",
       "      <th>p</th>\n",
       "    </tr>\n",
       "  </thead>\n",
       "  <tbody>\n",
       "    <tr>\n",
       "      <th>0</th>\n",
       "      <td>8,526.00</td>\n",
       "      <td>32.00</td>\n",
       "      <td>EMELYANOVA,34          Y-SAKHALINSK</td>\n",
       "      <td>улица А.О. Емельянова, 34, Южно-Сахалинск, Сах...</td>\n",
       "      <td>46.94</td>\n",
       "      <td>142.74</td>\n",
       "      <td>0.01</td>\n",
       "      <td>70.00</td>\n",
       "      <td>None</td>\n",
       "      <td>NaN</td>\n",
       "      <td>Россия</td>\n",
       "      <td>Южно-Сахалинск</td>\n",
       "      <td>А.О. Емельянова</td>\n",
       "      <td>34</td>\n",
       "      <td>1</td>\n",
       "      <td>0.04</td>\n",
       "      <td>28.00</td>\n",
       "      <td>0.02</td>\n",
       "    </tr>\n",
       "    <tr>\n",
       "      <th>1</th>\n",
       "      <td>8,532.00</td>\n",
       "      <td>32.00</td>\n",
       "      <td>KOMSOMOLSKAYA,259B     Y.SAKHALINSK</td>\n",
       "      <td>Комсомольская улица, 259, Южно-Сахалинск, Саха...</td>\n",
       "      <td>46.94</td>\n",
       "      <td>142.75</td>\n",
       "      <td>0.03</td>\n",
       "      <td>69.00</td>\n",
       "      <td>None</td>\n",
       "      <td>NaN</td>\n",
       "      <td>Россия</td>\n",
       "      <td>Комсомольск</td>\n",
       "      <td>Комсомольская</td>\n",
       "      <td>259</td>\n",
       "      <td>1</td>\n",
       "      <td>0.04</td>\n",
       "      <td>66.00</td>\n",
       "      <td>0.03</td>\n",
       "    </tr>\n",
       "    <tr>\n",
       "      <th>2</th>\n",
       "      <td>8,533.00</td>\n",
       "      <td>32.00</td>\n",
       "      <td>KOMMUN. PR., 32        YUZHNO SAKHAL</td>\n",
       "      <td>Коммунистический проспект, Южно-Сахалинск, Сах...</td>\n",
       "      <td>46.96</td>\n",
       "      <td>142.74</td>\n",
       "      <td>0.01</td>\n",
       "      <td>70.00</td>\n",
       "      <td>None</td>\n",
       "      <td>NaN</td>\n",
       "      <td>Россия</td>\n",
       "      <td>Южно-Сахалинск</td>\n",
       "      <td>Коммунистический проспект</td>\n",
       "      <td>None</td>\n",
       "      <td>1</td>\n",
       "      <td>0.04</td>\n",
       "      <td>28.00</td>\n",
       "      <td>0.02</td>\n",
       "    </tr>\n",
       "    <tr>\n",
       "      <th>3</th>\n",
       "      <td>8,684.00</td>\n",
       "      <td>32.00</td>\n",
       "      <td>LENINGRADSKIY PR.,76A  MOSCOW</td>\n",
       "      <td>Ленинградский проспект, 76А, Москва, Россия, 1...</td>\n",
       "      <td>55.81</td>\n",
       "      <td>37.52</td>\n",
       "      <td>-0.09</td>\n",
       "      <td>51.00</td>\n",
       "      <td>125315</td>\n",
       "      <td>6.00</td>\n",
       "      <td>Россия</td>\n",
       "      <td>Москва</td>\n",
       "      <td>Ленинградский проспект</td>\n",
       "      <td>76А</td>\n",
       "      <td>1</td>\n",
       "      <td>0.04</td>\n",
       "      <td>504.00</td>\n",
       "      <td>0.03</td>\n",
       "    </tr>\n",
       "    <tr>\n",
       "      <th>4</th>\n",
       "      <td>37.00</td>\n",
       "      <td>32.00</td>\n",
       "      <td>GVARDEYSKAYA PL., 2    NORILSK</td>\n",
       "      <td>Гвардейская площадь, 2, Норильск, Красноярский...</td>\n",
       "      <td>69.34</td>\n",
       "      <td>88.21</td>\n",
       "      <td>0.08</td>\n",
       "      <td>67.00</td>\n",
       "      <td>663302</td>\n",
       "      <td>6.00</td>\n",
       "      <td>Россия</td>\n",
       "      <td>Гвардейск</td>\n",
       "      <td>Гвардейская площадь</td>\n",
       "      <td>2</td>\n",
       "      <td>1</td>\n",
       "      <td>0.01</td>\n",
       "      <td>5.00</td>\n",
       "      <td>0.00</td>\n",
       "    </tr>\n",
       "    <tr>\n",
       "      <th>...</th>\n",
       "      <td>...</td>\n",
       "      <td>...</td>\n",
       "      <td>...</td>\n",
       "      <td>...</td>\n",
       "      <td>...</td>\n",
       "      <td>...</td>\n",
       "      <td>...</td>\n",
       "      <td>...</td>\n",
       "      <td>...</td>\n",
       "      <td>...</td>\n",
       "      <td>...</td>\n",
       "      <td>...</td>\n",
       "      <td>...</td>\n",
       "      <td>...</td>\n",
       "      <td>...</td>\n",
       "      <td>...</td>\n",
       "      <td>...</td>\n",
       "      <td>...</td>\n",
       "    </tr>\n",
       "    <tr>\n",
       "      <th>6256</th>\n",
       "      <td>4,402.00</td>\n",
       "      <td>8,083.00</td>\n",
       "      <td>FEDORA POPOVA, 14      Yakutsk</td>\n",
       "      <td>улица Федора Попова, 14, Якутск, Республика Са...</td>\n",
       "      <td>62.05</td>\n",
       "      <td>129.75</td>\n",
       "      <td>0.21</td>\n",
       "      <td>73.00</td>\n",
       "      <td>677009</td>\n",
       "      <td>6.00</td>\n",
       "      <td>Россия</td>\n",
       "      <td>Якутск</td>\n",
       "      <td>Федора Попова</td>\n",
       "      <td>14</td>\n",
       "      <td>1</td>\n",
       "      <td>0.04</td>\n",
       "      <td>65.00</td>\n",
       "      <td>0.02</td>\n",
       "    </tr>\n",
       "    <tr>\n",
       "      <th>6257</th>\n",
       "      <td>4,421.00</td>\n",
       "      <td>8,083.00</td>\n",
       "      <td>STROITELEY, 43         Novokuznetsk</td>\n",
       "      <td>проспект Строителей, 43, Новокузнецк, Кемеровс...</td>\n",
       "      <td>53.77</td>\n",
       "      <td>87.12</td>\n",
       "      <td>0.06</td>\n",
       "      <td>73.00</td>\n",
       "      <td>654005</td>\n",
       "      <td>6.00</td>\n",
       "      <td>Россия</td>\n",
       "      <td>Новокузнецк</td>\n",
       "      <td>проспект Строителей</td>\n",
       "      <td>43</td>\n",
       "      <td>1</td>\n",
       "      <td>-0.03</td>\n",
       "      <td>32.00</td>\n",
       "      <td>-0.01</td>\n",
       "    </tr>\n",
       "    <tr>\n",
       "      <th>6258</th>\n",
       "      <td>4,422.00</td>\n",
       "      <td>8,083.00</td>\n",
       "      <td>Rublevskoye sh, 62     Moskva</td>\n",
       "      <td>Рублёвское шоссе, 62, Москва, Россия, 121609</td>\n",
       "      <td>55.77</td>\n",
       "      <td>37.38</td>\n",
       "      <td>0.11</td>\n",
       "      <td>44.00</td>\n",
       "      <td>121609</td>\n",
       "      <td>6.00</td>\n",
       "      <td>Россия</td>\n",
       "      <td>Москва</td>\n",
       "      <td>Рублёвское шоссе</td>\n",
       "      <td>62</td>\n",
       "      <td>1</td>\n",
       "      <td>0.04</td>\n",
       "      <td>504.00</td>\n",
       "      <td>0.03</td>\n",
       "    </tr>\n",
       "    <tr>\n",
       "      <th>6259</th>\n",
       "      <td>4,426.00</td>\n",
       "      <td>8,083.00</td>\n",
       "      <td>EFANOVA, 22            Zyryanskoye</td>\n",
       "      <td>улица Ефанова, 22, село Зырянское, Зырянский р...</td>\n",
       "      <td>56.84</td>\n",
       "      <td>86.64</td>\n",
       "      <td>0.15</td>\n",
       "      <td>75.00</td>\n",
       "      <td>None</td>\n",
       "      <td>NaN</td>\n",
       "      <td>Россия</td>\n",
       "      <td>Томск</td>\n",
       "      <td>Ефанова</td>\n",
       "      <td>22</td>\n",
       "      <td>1</td>\n",
       "      <td>0.04</td>\n",
       "      <td>85.00</td>\n",
       "      <td>0.03</td>\n",
       "    </tr>\n",
       "    <tr>\n",
       "      <th>6260</th>\n",
       "      <td>4,429.00</td>\n",
       "      <td>8,083.00</td>\n",
       "      <td>OMMUNISTICHESKAYA,10A  Kizhinga</td>\n",
       "      <td>Коммунистическая улица, 10А, село Кижинга, Киж...</td>\n",
       "      <td>51.85</td>\n",
       "      <td>109.91</td>\n",
       "      <td>0.09</td>\n",
       "      <td>97.00</td>\n",
       "      <td>671450</td>\n",
       "      <td>6.00</td>\n",
       "      <td>Россия</td>\n",
       "      <td>None</td>\n",
       "      <td>Коммунистическая</td>\n",
       "      <td>10А</td>\n",
       "      <td>1</td>\n",
       "      <td>NaN</td>\n",
       "      <td>NaN</td>\n",
       "      <td>NaN</td>\n",
       "    </tr>\n",
       "  </tbody>\n",
       "</table>\n",
       "<p>6261 rows × 18 columns</p>\n",
       "</div>"
      ],
      "text/plain": [
       "           id  atm_group                                 address  \\\n",
       "0    8,526.00      32.00  EMELYANOVA,34          Y-SAKHALINSK      \n",
       "1    8,532.00      32.00  KOMSOMOLSKAYA,259B     Y.SAKHALINSK      \n",
       "2    8,533.00      32.00  KOMMUN. PR., 32        YUZHNO SAKHAL     \n",
       "3    8,684.00      32.00  LENINGRADSKIY PR.,76A  MOSCOW            \n",
       "4       37.00      32.00  GVARDEYSKAYA PL., 2    NORILSK           \n",
       "...       ...        ...                                     ...   \n",
       "6256 4,402.00   8,083.00  FEDORA POPOVA, 14      Yakutsk           \n",
       "6257 4,421.00   8,083.00  STROITELEY, 43         Novokuznetsk      \n",
       "6258 4,422.00   8,083.00  Rublevskoye sh, 62     Moskva            \n",
       "6259 4,426.00   8,083.00  EFANOVA, 22            Zyryanskoye       \n",
       "6260 4,429.00   8,083.00  OMMUNISTICHESKAYA,10A  Kizhinga          \n",
       "\n",
       "                                            address_rus   lat   long  target  \\\n",
       "0     улица А.О. Емельянова, 34, Южно-Сахалинск, Сах... 46.94 142.74    0.01   \n",
       "1     Комсомольская улица, 259, Южно-Сахалинск, Саха... 46.94 142.75    0.03   \n",
       "2     Коммунистический проспект, Южно-Сахалинск, Сах... 46.96 142.74    0.01   \n",
       "3     Ленинградский проспект, 76А, Москва, Россия, 1... 55.81  37.52   -0.09   \n",
       "4     Гвардейская площадь, 2, Норильск, Красноярский... 69.34  88.21    0.08   \n",
       "...                                                 ...   ...    ...     ...   \n",
       "6256  улица Федора Попова, 14, Якутск, Республика Са... 62.05 129.75    0.21   \n",
       "6257  проспект Строителей, 43, Новокузнецк, Кемеровс... 53.77  87.12    0.06   \n",
       "6258       Рублёвское шоссе, 62, Москва, Россия, 121609 55.77  37.38    0.11   \n",
       "6259  улица Ефанова, 22, село Зырянское, Зырянский р... 56.84  86.64    0.15   \n",
       "6260  Коммунистическая улица, 10А, село Кижинга, Киж... 51.85 109.91    0.09   \n",
       "\n",
       "      len_address postal_code  len_postal_code country            city  \\\n",
       "0           70.00        None              NaN  Россия  Южно-Сахалинск   \n",
       "1           69.00        None              NaN  Россия     Комсомольск   \n",
       "2           70.00        None              NaN  Россия  Южно-Сахалинск   \n",
       "3           51.00      125315             6.00  Россия          Москва   \n",
       "4           67.00      663302             6.00  Россия       Гвардейск   \n",
       "...           ...         ...              ...     ...             ...   \n",
       "6256        73.00      677009             6.00  Россия          Якутск   \n",
       "6257        73.00      654005             6.00  Россия     Новокузнецк   \n",
       "6258        44.00      121609             6.00  Россия          Москва   \n",
       "6259        75.00        None              NaN  Россия           Томск   \n",
       "6260        97.00      671450             6.00  Россия            None   \n",
       "\n",
       "                    street_name number  count  feature_mean  city_count     p  \n",
       "0               А.О. Емельянова     34      1          0.04       28.00  0.02  \n",
       "1                 Комсомольская    259      1          0.04       66.00  0.03  \n",
       "2     Коммунистический проспект   None      1          0.04       28.00  0.02  \n",
       "3        Ленинградский проспект    76А      1          0.04      504.00  0.03  \n",
       "4           Гвардейская площадь      2      1          0.01        5.00  0.00  \n",
       "...                         ...    ...    ...           ...         ...   ...  \n",
       "6256              Федора Попова     14      1          0.04       65.00  0.02  \n",
       "6257        проспект Строителей     43      1         -0.03       32.00 -0.01  \n",
       "6258           Рублёвское шоссе     62      1          0.04      504.00  0.03  \n",
       "6259                    Ефанова     22      1          0.04       85.00  0.03  \n",
       "6260           Коммунистическая    10А      1           NaN         NaN   NaN  \n",
       "\n",
       "[6261 rows x 18 columns]"
      ]
     },
     "execution_count": 541,
     "metadata": {},
     "output_type": "execute_result"
    }
   ],
   "source": [
    "df_train"
   ]
  },
  {
   "cell_type": "code",
   "execution_count": 543,
   "id": "f859c3b9-641b-4ba3-b8a7-1daf6bc6f6ef",
   "metadata": {},
   "outputs": [
    {
     "data": {
      "text/plain": [
       "<Axes: >"
      ]
     },
     "execution_count": 543,
     "metadata": {},
     "output_type": "execute_result"
    },
    {
     "data": {
      "image/png": "[encoded data removed]",
      "text/plain": [
       "<Figure size 640x480 with 2 Axes>"
      ]
     },
     "metadata": {},
     "output_type": "display_data"
    }
   ],
   "source": [
    "df_corr = df_train.groupby('city', as_index=False).agg(count_atm=('lat', 'count'), \\\n",
    "                                                               p=('p', 'mean'))\n",
    "\n",
    "sns.heatmap(df_corr[['p', 'count_atm']].corr(), cmap=\"Blues\", annot=True)"
   ]
  },
  {
   "cell_type": "markdown",
   "id": "d098545f-efd4-4e48-9bb1-ce94388fccdd",
   "metadata": {},
   "source": [
    "Попробую проинтепретировать полученное значение: в целом у нас наблюдается положительная корреляция между закодированным числом города и числом банкоматов в нем, но зависимость слабая. Хоть и есть некоторая связь, но она вряд ли объясняет поведение числа банкоматов (count_atm)."
   ]
  },
  {
   "cell_type": "markdown",
   "id": "88908828-ec6b-4a06-8d15-fb841bde8a25",
   "metadata": {},
   "source": [
    "__Применим библиотеку Folium для визуализации геоданных наших банкоматов:__"
   ]
  },
  {
   "cell_type": "code",
   "execution_count": 154,
   "id": "24068a58-b55d-489e-95c3-b58c5a93be4d",
   "metadata": {},
   "outputs": [
    {
     "name": "stdout",
     "output_type": "stream",
     "text": [
      "Collecting folium\n",
      "  Downloading folium-0.18.0-py2.py3-none-any.whl.metadata (3.8 kB)\n",
      "Collecting branca>=0.6.0 (from folium)\n",
      "  Downloading branca-0.8.0-py3-none-any.whl.metadata (1.5 kB)\n",
      "Requirement already satisfied: jinja2>=2.9 in c:\\users\\dns\\anaconda3\\lib\\site-packages (from folium) (3.1.4)\n",
      "Requirement already satisfied: numpy in c:\\users\\dns\\anaconda3\\lib\\site-packages (from folium) (1.26.4)\n",
      "Requirement already satisfied: requests in c:\\users\\dns\\anaconda3\\lib\\site-packages (from folium) (2.32.3)\n",
      "Requirement already satisfied: xyzservices in c:\\users\\dns\\anaconda3\\lib\\site-packages (from folium) (2022.9.0)\n",
      "Requirement already satisfied: MarkupSafe>=2.0 in c:\\users\\dns\\anaconda3\\lib\\site-packages (from jinja2>=2.9->folium) (2.1.3)\n",
      "Requirement already satisfied: charset-normalizer<4,>=2 in c:\\users\\dns\\anaconda3\\lib\\site-packages (from requests->folium) (3.3.2)\n",
      "Requirement already satisfied: idna<4,>=2.5 in c:\\users\\dns\\anaconda3\\lib\\site-packages (from requests->folium) (3.7)\n",
      "Requirement already satisfied: urllib3<3,>=1.21.1 in c:\\users\\dns\\anaconda3\\lib\\site-packages (from requests->folium) (2.2.3)\n",
      "Requirement already satisfied: certifi>=2017.4.17 in c:\\users\\dns\\anaconda3\\lib\\site-packages (from requests->folium) (2024.8.30)\n",
      "Downloading folium-0.18.0-py2.py3-none-any.whl (108 kB)\n",
      "Downloading branca-0.8.0-py3-none-any.whl (25 kB)\n",
      "Installing collected packages: branca, folium\n",
      "Successfully installed branca-0.8.0 folium-0.18.0\n",
      "Note: you may need to restart the kernel to use updated packages.\n"
     ]
    }
   ],
   "source": [
    "pip install folium"
   ]
  },
  {
   "cell_type": "code",
   "execution_count": 156,
   "id": "26674c3a-5e88-492b-9b75-f1d9a47f9223",
   "metadata": {},
   "outputs": [],
   "source": [
    "import folium\n",
    "from folium.plugins import HeatMap"
   ]
  },
  {
   "cell_type": "code",
   "execution_count": 198,
   "id": "e26d7761-21a4-47f5-a717-c56890e65449",
   "metadata": {},
   "outputs": [],
   "source": [
    "atm_coordinates = df_train[(df_train['lat'].notna()) & (df_train['long'].notna())][['lat', 'long']]"
   ]
  },
  {
   "cell_type": "code",
   "execution_count": 202,
   "id": "19520df4-c6d6-4b2a-b426-29e32faae37d",
   "metadata": {},
   "outputs": [
    {
     "name": "stdout",
     "output_type": "stream",
     "text": [
      "Тепловая карта сохранена в файл heatmap.html\n"
     ]
    }
   ],
   "source": [
    "if 'count' not in atm_coordinates.columns:\n",
    "    atm_coordinates['count'] = 1  # Если нет столбца с весами, назначим по 1 банкомату\n",
    "\n",
    "# Создаем карту\n",
    "m = folium.Map(location=[atm_coordinates['lat'].mean(), atm_coordinates['long'].mean()], zoom_start=6)\n",
    "\n",
    "# Добавляем слой тепловой карты\n",
    "heat_data = atm_coordinates[['lat', 'long', 'count']].values.tolist()\n",
    "HeatMap(heat_data).add_to(m)\n",
    "\n",
    "# Сохраняем карту в HTML\n",
    "m.save(\"heatmap.html\")\n",
    "print(\"Тепловая карта сохранена в файл heatmap.html\")"
   ]
  },
  {
   "cell_type": "markdown",
   "id": "abd81d8e-8ee6-40fc-92ff-3ab89458b24f",
   "metadata": {},
   "source": [
    "## Часть 2 | Модель только на вещественных числах"
   ]
  },
  {
   "cell_type": "markdown",
   "id": "e4c48069-6401-4f24-aaea-f5c2616b5156",
   "metadata": {},
   "source": [
    "(далее добавим категориальные)"
   ]
  },
  {
   "cell_type": "code",
   "execution_count": 785,
   "id": "06179426-776a-4698-abcc-189083b95eec",
   "metadata": {},
   "outputs": [],
   "source": [
    "from sklearn.linear_model import LinearRegression\n",
    "from sklearn.metrics import mean_absolute_error as MAE, mean_absolute_percentage_error as MAPE, r2_score as R2"
   ]
  },
  {
   "cell_type": "code",
   "execution_count": 787,
   "id": "3d397a3c-c069-43da-afb5-97c241eda367",
   "metadata": {},
   "outputs": [
    {
     "data": {
      "text/plain": [
       "id                    0\n",
       "atm_group             0\n",
       "address               0\n",
       "address_rus           0\n",
       "lat                   0\n",
       "long                  0\n",
       "target                0\n",
       "len_address           0\n",
       "postal_code        1259\n",
       "len_postal_code    1259\n",
       "country               0\n",
       "city                 83\n",
       "street_name         157\n",
       "number              199\n",
       "count                 0\n",
       "feature_mean         83\n",
       "city_count            0\n",
       "p                     0\n",
       "dtype: int64"
      ]
     },
     "execution_count": 787,
     "metadata": {},
     "output_type": "execute_result"
    }
   ],
   "source": [
    "df_train_filtered.isna().sum()"
   ]
  },
  {
   "cell_type": "code",
   "execution_count": 789,
   "id": "56822d0a-fdb9-41f2-ad31-2da3f74118aa",
   "metadata": {},
   "outputs": [],
   "source": [
    "df_train_filtered = df_train[(df_train['lat'].notna()) & (df_train['long'].notna())]\n",
    "df_test_filtered = df_test[(df_test['lat'].notna()) & (df_test['long'].notna())]"
   ]
  },
  {
   "cell_type": "code",
   "execution_count": 791,
   "id": "2dc29e11-5111-4402-9173-211507e9dbfe",
   "metadata": {},
   "outputs": [
    {
     "name": "stderr",
     "output_type": "stream",
     "text": [
      "C:\\Users\\DNS\\AppData\\Local\\Temp\\ipykernel_23904\\3576405579.py:1: FutureWarning: A value is trying to be set on a copy of a DataFrame or Series through chained assignment using an inplace method.\n",
      "The behavior will change in pandas 3.0. This inplace method will never work because the intermediate object on which we are setting values always behaves as a copy.\n",
      "\n",
      "For example, when doing 'df[col].method(value, inplace=True)', try using 'df.method({col: value}, inplace=True)' or df[col] = df[col].method(value) instead, to perform the operation inplace on the original object.\n",
      "\n",
      "\n",
      "  df_train_filtered['p'].fillna(round(df_train_filtered['p'].median(), 2), inplace=True)\n",
      "C:\\Users\\DNS\\AppData\\Local\\Temp\\ipykernel_23904\\3576405579.py:1: SettingWithCopyWarning: \n",
      "A value is trying to be set on a copy of a slice from a DataFrame\n",
      "\n",
      "See the caveats in the documentation: https://pandas.pydata.org/pandas-docs/stable/user_guide/indexing.html#returning-a-view-versus-a-copy\n",
      "  df_train_filtered['p'].fillna(round(df_train_filtered['p'].median(), 2), inplace=True)\n"
     ]
    }
   ],
   "source": [
    "df_train_filtered['p'].fillna(round(df_train_filtered['p'].median(), 2), inplace=True)"
   ]
  },
  {
   "cell_type": "code",
   "execution_count": 793,
   "id": "5f1d5bb3-40e2-4303-8408-d87f8329d655",
   "metadata": {},
   "outputs": [
    {
     "name": "stderr",
     "output_type": "stream",
     "text": [
      "C:\\Users\\DNS\\AppData\\Local\\Temp\\ipykernel_23904\\4294653977.py:1: FutureWarning: A value is trying to be set on a copy of a DataFrame or Series through chained assignment using an inplace method.\n",
      "The behavior will change in pandas 3.0. This inplace method will never work because the intermediate object on which we are setting values always behaves as a copy.\n",
      "\n",
      "For example, when doing 'df[col].method(value, inplace=True)', try using 'df.method({col: value}, inplace=True)' or df[col] = df[col].method(value) instead, to perform the operation inplace on the original object.\n",
      "\n",
      "\n",
      "  df_train_filtered['city_count'].fillna(round(df_train_filtered['city_count'].median(), 2), inplace=True)\n",
      "C:\\Users\\DNS\\AppData\\Local\\Temp\\ipykernel_23904\\4294653977.py:1: SettingWithCopyWarning: \n",
      "A value is trying to be set on a copy of a slice from a DataFrame\n",
      "\n",
      "See the caveats in the documentation: https://pandas.pydata.org/pandas-docs/stable/user_guide/indexing.html#returning-a-view-versus-a-copy\n",
      "  df_train_filtered['city_count'].fillna(round(df_train_filtered['city_count'].median(), 2), inplace=True)\n",
      "C:\\Users\\DNS\\AppData\\Local\\Temp\\ipykernel_23904\\4294653977.py:2: FutureWarning: A value is trying to be set on a copy of a DataFrame or Series through chained assignment using an inplace method.\n",
      "The behavior will change in pandas 3.0. This inplace method will never work because the intermediate object on which we are setting values always behaves as a copy.\n",
      "\n",
      "For example, when doing 'df[col].method(value, inplace=True)', try using 'df.method({col: value}, inplace=True)' or df[col] = df[col].method(value) instead, to perform the operation inplace on the original object.\n",
      "\n",
      "\n",
      "  df_test_filtered['city_count'].fillna(round(df_test_filtered['city_count'].median(), 2), inplace=True)\n",
      "C:\\Users\\DNS\\AppData\\Local\\Temp\\ipykernel_23904\\4294653977.py:2: SettingWithCopyWarning: \n",
      "A value is trying to be set on a copy of a slice from a DataFrame\n",
      "\n",
      "See the caveats in the documentation: https://pandas.pydata.org/pandas-docs/stable/user_guide/indexing.html#returning-a-view-versus-a-copy\n",
      "  df_test_filtered['city_count'].fillna(round(df_test_filtered['city_count'].median(), 2), inplace=True)\n"
     ]
    }
   ],
   "source": [
    "df_train_filtered['city_count'].fillna(round(df_train_filtered['city_count'].median(), 2), inplace=True)\n",
    "df_test_filtered['city_count'].fillna(round(df_test_filtered['city_count'].median(), 2), inplace=True)"
   ]
  },
  {
   "cell_type": "code",
   "execution_count": 795,
   "id": "5e419045-cd24-4179-a80c-254da90bdc34",
   "metadata": {},
   "outputs": [],
   "source": [
    "df_test['city'] = df_test['address_rus'].apply(lambda x: get_city(x) if pd.notnull(x) else None)"
   ]
  },
  {
   "cell_type": "code",
   "execution_count": 796,
   "id": "1e88e2b4-8ff0-46c0-ab1d-ac0ecd1982f8",
   "metadata": {},
   "outputs": [],
   "source": [
    "df_test['city_count'] = df_test.groupby('city')['atm_group'].transform('count')"
   ]
  },
  {
   "cell_type": "code",
   "execution_count": 799,
   "id": "bf4dc046-2e54-45d4-9878-baf8062dbf30",
   "metadata": {},
   "outputs": [],
   "source": [
    "y_train = df_train_filtered['target']\n",
    "X_train = df_train_filtered[['lat', 'long', 'city_count', 'p']]"
   ]
  },
  {
   "cell_type": "code",
   "execution_count": 801,
   "id": "1fe2c1ed-56a6-4262-89b8-6aa9d9210f26",
   "metadata": {},
   "outputs": [],
   "source": [
    "X_test = df_test_filtered[['lat', 'long', 'city_count']]"
   ]
  },
  {
   "cell_type": "code",
   "execution_count": 803,
   "id": "955c05d2-5702-4a77-bd78-51fc1f1e6729",
   "metadata": {},
   "outputs": [
    {
     "data": {
      "text/html": [
       "<style>#sk-container-id-5 {\n",
       "  /* Definition of color scheme common for light and dark mode */\n",
       "  --sklearn-color-text: black;\n",
       "  --sklearn-color-line: gray;\n",
       "  /* Definition of color scheme for unfitted estimators */\n",
       "  --sklearn-color-unfitted-level-0: #fff5e6;\n",
       "  --sklearn-color-unfitted-level-1: #f6e4d2;\n",
       "  --sklearn-color-unfitted-level-2: #ffe0b3;\n",
       "  --sklearn-color-unfitted-level-3: chocolate;\n",
       "  /* Definition of color scheme for fitted estimators */\n",
       "  --sklearn-color-fitted-level-0: #f0f8ff;\n",
       "  --sklearn-color-fitted-level-1: #d4ebff;\n",
       "  --sklearn-color-fitted-level-2: #b3dbfd;\n",
       "  --sklearn-color-fitted-level-3: cornflowerblue;\n",
       "\n",
       "  /* Specific color for light theme */\n",
       "  --sklearn-color-text-on-default-background: var(--sg-text-color, var(--theme-code-foreground, var(--jp-content-font-color1, black)));\n",
       "  --sklearn-color-background: var(--sg-background-color, var(--theme-background, var(--jp-layout-color0, white)));\n",
       "  --sklearn-color-border-box: var(--sg-text-color, var(--theme-code-foreground, var(--jp-content-font-color1, black)));\n",
       "  --sklearn-color-icon: #696969;\n",
       "\n",
       "  @media (prefers-color-scheme: dark) {\n",
       "    /* Redefinition of color scheme for dark theme */\n",
       "    --sklearn-color-text-on-default-background: var(--sg-text-color, var(--theme-code-foreground, var(--jp-content-font-color1, white)));\n",
       "    --sklearn-color-background: var(--sg-background-color, var(--theme-background, var(--jp-layout-color0, #111)));\n",
       "    --sklearn-color-border-box: var(--sg-text-color, var(--theme-code-foreground, var(--jp-content-font-color1, white)));\n",
       "    --sklearn-color-icon: #878787;\n",
       "  }\n",
       "}\n",
       "\n",
       "#sk-container-id-5 {\n",
       "  color: var(--sklearn-color-text);\n",
       "}\n",
       "\n",
       "#sk-container-id-5 pre {\n",
       "  padding: 0;\n",
       "}\n",
       "\n",
       "#sk-container-id-5 input.sk-hidden--visually {\n",
       "  border: 0;\n",
       "  clip: rect(1px 1px 1px 1px);\n",
       "  clip: rect(1px, 1px, 1px, 1px);\n",
       "  height: 1px;\n",
       "  margin: -1px;\n",
       "  overflow: hidden;\n",
       "  padding: 0;\n",
       "  position: absolute;\n",
       "  width: 1px;\n",
       "}\n",
       "\n",
       "#sk-container-id-5 div.sk-dashed-wrapped {\n",
       "  border: 1px dashed var(--sklearn-color-line);\n",
       "  margin: 0 0.4em 0.5em 0.4em;\n",
       "  box-sizing: border-box;\n",
       "  padding-bottom: 0.4em;\n",
       "  background-color: var(--sklearn-color-background);\n",
       "}\n",
       "\n",
       "#sk-container-id-5 div.sk-container {\n",
       "  /* jupyter's `normalize.less` sets `[hidden] { display: none; }`\n",
       "     but bootstrap.min.css set `[hidden] { display: none !important; }`\n",
       "     so we also need the `!important` here to be able to override the\n",
       "     default hidden behavior on the sphinx rendered scikit-learn.org.\n",
       "     See: https://github.com/scikit-learn/scikit-learn/issues/21755 */\n",
       "  display: inline-block !important;\n",
       "  position: relative;\n",
       "}\n",
       "\n",
       "#sk-container-id-5 div.sk-text-repr-fallback {\n",
       "  display: none;\n",
       "}\n",
       "\n",
       "div.sk-parallel-item,\n",
       "div.sk-serial,\n",
       "div.sk-item {\n",
       "  /* draw centered vertical line to link estimators */\n",
       "  background-image: linear-gradient(var(--sklearn-color-text-on-default-background), var(--sklearn-color-text-on-default-background));\n",
       "  background-size: 2px 100%;\n",
       "  background-repeat: no-repeat;\n",
       "  background-position: center center;\n",
       "}\n",
       "\n",
       "/* Parallel-specific style estimator block */\n",
       "\n",
       "#sk-container-id-5 div.sk-parallel-item::after {\n",
       "  content: \"\";\n",
       "  width: 100%;\n",
       "  border-bottom: 2px solid var(--sklearn-color-text-on-default-background);\n",
       "  flex-grow: 1;\n",
       "}\n",
       "\n",
       "#sk-container-id-5 div.sk-parallel {\n",
       "  display: flex;\n",
       "  align-items: stretch;\n",
       "  justify-content: center;\n",
       "  background-color: var(--sklearn-color-background);\n",
       "  position: relative;\n",
       "}\n",
       "\n",
       "#sk-container-id-5 div.sk-parallel-item {\n",
       "  display: flex;\n",
       "  flex-direction: column;\n",
       "}\n",
       "\n",
       "#sk-container-id-5 div.sk-parallel-item:first-child::after {\n",
       "  align-self: flex-end;\n",
       "  width: 50%;\n",
       "}\n",
       "\n",
       "#sk-container-id-5 div.sk-parallel-item:last-child::after {\n",
       "  align-self: flex-start;\n",
       "  width: 50%;\n",
       "}\n",
       "\n",
       "#sk-container-id-5 div.sk-parallel-item:only-child::after {\n",
       "  width: 0;\n",
       "}\n",
       "\n",
       "/* Serial-specific style estimator block */\n",
       "\n",
       "#sk-container-id-5 div.sk-serial {\n",
       "  display: flex;\n",
       "  flex-direction: column;\n",
       "  align-items: center;\n",
       "  background-color: var(--sklearn-color-background);\n",
       "  padding-right: 1em;\n",
       "  padding-left: 1em;\n",
       "}\n",
       "\n",
       "\n",
       "/* Toggleable style: style used for estimator/Pipeline/ColumnTransformer box that is\n",
       "clickable and can be expanded/collapsed.\n",
       "- Pipeline and ColumnTransformer use this feature and define the default style\n",
       "- Estimators will overwrite some part of the style using the `sk-estimator` class\n",
       "*/\n",
       "\n",
       "/* Pipeline and ColumnTransformer style (default) */\n",
       "\n",
       "#sk-container-id-5 div.sk-toggleable {\n",
       "  /* Default theme specific background. It is overwritten whether we have a\n",
       "  specific estimator or a Pipeline/ColumnTransformer */\n",
       "  background-color: var(--sklearn-color-background);\n",
       "}\n",
       "\n",
       "/* Toggleable label */\n",
       "#sk-container-id-5 label.sk-toggleable__label {\n",
       "  cursor: pointer;\n",
       "  display: block;\n",
       "  width: 100%;\n",
       "  margin-bottom: 0;\n",
       "  padding: 0.5em;\n",
       "  box-sizing: border-box;\n",
       "  text-align: center;\n",
       "}\n",
       "\n",
       "#sk-container-id-5 label.sk-toggleable__label-arrow:before {\n",
       "  /* Arrow on the left of the label */\n",
       "  content: \"▸\";\n",
       "  float: left;\n",
       "  margin-right: 0.25em;\n",
       "  color: var(--sklearn-color-icon);\n",
       "}\n",
       "\n",
       "#sk-container-id-5 label.sk-toggleable__label-arrow:hover:before {\n",
       "  color: var(--sklearn-color-text);\n",
       "}\n",
       "\n",
       "/* Toggleable content - dropdown */\n",
       "\n",
       "#sk-container-id-5 div.sk-toggleable__content {\n",
       "  max-height: 0;\n",
       "  max-width: 0;\n",
       "  overflow: hidden;\n",
       "  text-align: left;\n",
       "  /* unfitted */\n",
       "  background-color: var(--sklearn-color-unfitted-level-0);\n",
       "}\n",
       "\n",
       "#sk-container-id-5 div.sk-toggleable__content.fitted {\n",
       "  /* fitted */\n",
       "  background-color: var(--sklearn-color-fitted-level-0);\n",
       "}\n",
       "\n",
       "#sk-container-id-5 div.sk-toggleable__content pre {\n",
       "  margin: 0.2em;\n",
       "  border-radius: 0.25em;\n",
       "  color: var(--sklearn-color-text);\n",
       "  /* unfitted */\n",
       "  background-color: var(--sklearn-color-unfitted-level-0);\n",
       "}\n",
       "\n",
       "#sk-container-id-5 div.sk-toggleable__content.fitted pre {\n",
       "  /* unfitted */\n",
       "  background-color: var(--sklearn-color-fitted-level-0);\n",
       "}\n",
       "\n",
       "#sk-container-id-5 input.sk-toggleable__control:checked~div.sk-toggleable__content {\n",
       "  /* Expand drop-down */\n",
       "  max-height: 200px;\n",
       "  max-width: 100%;\n",
       "  overflow: auto;\n",
       "}\n",
       "\n",
       "#sk-container-id-5 input.sk-toggleable__control:checked~label.sk-toggleable__label-arrow:before {\n",
       "  content: \"▾\";\n",
       "}\n",
       "\n",
       "/* Pipeline/ColumnTransformer-specific style */\n",
       "\n",
       "#sk-container-id-5 div.sk-label input.sk-toggleable__control:checked~label.sk-toggleable__label {\n",
       "  color: var(--sklearn-color-text);\n",
       "  background-color: var(--sklearn-color-unfitted-level-2);\n",
       "}\n",
       "\n",
       "#sk-container-id-5 div.sk-label.fitted input.sk-toggleable__control:checked~label.sk-toggleable__label {\n",
       "  background-color: var(--sklearn-color-fitted-level-2);\n",
       "}\n",
       "\n",
       "/* Estimator-specific style */\n",
       "\n",
       "/* Colorize estimator box */\n",
       "#sk-container-id-5 div.sk-estimator input.sk-toggleable__control:checked~label.sk-toggleable__label {\n",
       "  /* unfitted */\n",
       "  background-color: var(--sklearn-color-unfitted-level-2);\n",
       "}\n",
       "\n",
       "#sk-container-id-5 div.sk-estimator.fitted input.sk-toggleable__control:checked~label.sk-toggleable__label {\n",
       "  /* fitted */\n",
       "  background-color: var(--sklearn-color-fitted-level-2);\n",
       "}\n",
       "\n",
       "#sk-container-id-5 div.sk-label label.sk-toggleable__label,\n",
       "#sk-container-id-5 div.sk-label label {\n",
       "  /* The background is the default theme color */\n",
       "  color: var(--sklearn-color-text-on-default-background);\n",
       "}\n",
       "\n",
       "/* On hover, darken the color of the background */\n",
       "#sk-container-id-5 div.sk-label:hover label.sk-toggleable__label {\n",
       "  color: var(--sklearn-color-text);\n",
       "  background-color: var(--sklearn-color-unfitted-level-2);\n",
       "}\n",
       "\n",
       "/* Label box, darken color on hover, fitted */\n",
       "#sk-container-id-5 div.sk-label.fitted:hover label.sk-toggleable__label.fitted {\n",
       "  color: var(--sklearn-color-text);\n",
       "  background-color: var(--sklearn-color-fitted-level-2);\n",
       "}\n",
       "\n",
       "/* Estimator label */\n",
       "\n",
       "#sk-container-id-5 div.sk-label label {\n",
       "  font-family: monospace;\n",
       "  font-weight: bold;\n",
       "  display: inline-block;\n",
       "  line-height: 1.2em;\n",
       "}\n",
       "\n",
       "#sk-container-id-5 div.sk-label-container {\n",
       "  text-align: center;\n",
       "}\n",
       "\n",
       "/* Estimator-specific */\n",
       "#sk-container-id-5 div.sk-estimator {\n",
       "  font-family: monospace;\n",
       "  border: 1px dotted var(--sklearn-color-border-box);\n",
       "  border-radius: 0.25em;\n",
       "  box-sizing: border-box;\n",
       "  margin-bottom: 0.5em;\n",
       "  /* unfitted */\n",
       "  background-color: var(--sklearn-color-unfitted-level-0);\n",
       "}\n",
       "\n",
       "#sk-container-id-5 div.sk-estimator.fitted {\n",
       "  /* fitted */\n",
       "  background-color: var(--sklearn-color-fitted-level-0);\n",
       "}\n",
       "\n",
       "/* on hover */\n",
       "#sk-container-id-5 div.sk-estimator:hover {\n",
       "  /* unfitted */\n",
       "  background-color: var(--sklearn-color-unfitted-level-2);\n",
       "}\n",
       "\n",
       "#sk-container-id-5 div.sk-estimator.fitted:hover {\n",
       "  /* fitted */\n",
       "  background-color: var(--sklearn-color-fitted-level-2);\n",
       "}\n",
       "\n",
       "/* Specification for estimator info (e.g. \"i\" and \"?\") */\n",
       "\n",
       "/* Common style for \"i\" and \"?\" */\n",
       "\n",
       ".sk-estimator-doc-link,\n",
       "a:link.sk-estimator-doc-link,\n",
       "a:visited.sk-estimator-doc-link {\n",
       "  float: right;\n",
       "  font-size: smaller;\n",
       "  line-height: 1em;\n",
       "  font-family: monospace;\n",
       "  background-color: var(--sklearn-color-background);\n",
       "  border-radius: 1em;\n",
       "  height: 1em;\n",
       "  width: 1em;\n",
       "  text-decoration: none !important;\n",
       "  margin-left: 1ex;\n",
       "  /* unfitted */\n",
       "  border: var(--sklearn-color-unfitted-level-1) 1pt solid;\n",
       "  color: var(--sklearn-color-unfitted-level-1);\n",
       "}\n",
       "\n",
       ".sk-estimator-doc-link.fitted,\n",
       "a:link.sk-estimator-doc-link.fitted,\n",
       "a:visited.sk-estimator-doc-link.fitted {\n",
       "  /* fitted */\n",
       "  border: var(--sklearn-color-fitted-level-1) 1pt solid;\n",
       "  color: var(--sklearn-color-fitted-level-1);\n",
       "}\n",
       "\n",
       "/* On hover */\n",
       "div.sk-estimator:hover .sk-estimator-doc-link:hover,\n",
       ".sk-estimator-doc-link:hover,\n",
       "div.sk-label-container:hover .sk-estimator-doc-link:hover,\n",
       ".sk-estimator-doc-link:hover {\n",
       "  /* unfitted */\n",
       "  background-color: var(--sklearn-color-unfitted-level-3);\n",
       "  color: var(--sklearn-color-background);\n",
       "  text-decoration: none;\n",
       "}\n",
       "\n",
       "div.sk-estimator.fitted:hover .sk-estimator-doc-link.fitted:hover,\n",
       ".sk-estimator-doc-link.fitted:hover,\n",
       "div.sk-label-container:hover .sk-estimator-doc-link.fitted:hover,\n",
       ".sk-estimator-doc-link.fitted:hover {\n",
       "  /* fitted */\n",
       "  background-color: var(--sklearn-color-fitted-level-3);\n",
       "  color: var(--sklearn-color-background);\n",
       "  text-decoration: none;\n",
       "}\n",
       "\n",
       "/* Span, style for the box shown on hovering the info icon */\n",
       ".sk-estimator-doc-link span {\n",
       "  display: none;\n",
       "  z-index: 9999;\n",
       "  position: relative;\n",
       "  font-weight: normal;\n",
       "  right: .2ex;\n",
       "  padding: .5ex;\n",
       "  margin: .5ex;\n",
       "  width: min-content;\n",
       "  min-width: 20ex;\n",
       "  max-width: 50ex;\n",
       "  color: var(--sklearn-color-text);\n",
       "  box-shadow: 2pt 2pt 4pt #999;\n",
       "  /* unfitted */\n",
       "  background: var(--sklearn-color-unfitted-level-0);\n",
       "  border: .5pt solid var(--sklearn-color-unfitted-level-3);\n",
       "}\n",
       "\n",
       ".sk-estimator-doc-link.fitted span {\n",
       "  /* fitted */\n",
       "  background: var(--sklearn-color-fitted-level-0);\n",
       "  border: var(--sklearn-color-fitted-level-3);\n",
       "}\n",
       "\n",
       ".sk-estimator-doc-link:hover span {\n",
       "  display: block;\n",
       "}\n",
       "\n",
       "/* \"?\"-specific style due to the `<a>` HTML tag */\n",
       "\n",
       "#sk-container-id-5 a.estimator_doc_link {\n",
       "  float: right;\n",
       "  font-size: 1rem;\n",
       "  line-height: 1em;\n",
       "  font-family: monospace;\n",
       "  background-color: var(--sklearn-color-background);\n",
       "  border-radius: 1rem;\n",
       "  height: 1rem;\n",
       "  width: 1rem;\n",
       "  text-decoration: none;\n",
       "  /* unfitted */\n",
       "  color: var(--sklearn-color-unfitted-level-1);\n",
       "  border: var(--sklearn-color-unfitted-level-1) 1pt solid;\n",
       "}\n",
       "\n",
       "#sk-container-id-5 a.estimator_doc_link.fitted {\n",
       "  /* fitted */\n",
       "  border: var(--sklearn-color-fitted-level-1) 1pt solid;\n",
       "  color: var(--sklearn-color-fitted-level-1);\n",
       "}\n",
       "\n",
       "/* On hover */\n",
       "#sk-container-id-5 a.estimator_doc_link:hover {\n",
       "  /* unfitted */\n",
       "  background-color: var(--sklearn-color-unfitted-level-3);\n",
       "  color: var(--sklearn-color-background);\n",
       "  text-decoration: none;\n",
       "}\n",
       "\n",
       "#sk-container-id-5 a.estimator_doc_link.fitted:hover {\n",
       "  /* fitted */\n",
       "  background-color: var(--sklearn-color-fitted-level-3);\n",
       "}\n",
       "</style><div id=\"sk-container-id-5\" class=\"sk-top-container\"><div class=\"sk-text-repr-fallback\"><pre>LinearRegression()</pre><b>In a Jupyter environment, please rerun this cell to show the HTML representation or trust the notebook. <br />On GitHub, the HTML representation is unable to render, please try loading this page with nbviewer.org.</b></div><div class=\"sk-container\" hidden><div class=\"sk-item\"><div class=\"sk-estimator fitted sk-toggleable\"><input class=\"sk-toggleable__control sk-hidden--visually\" id=\"sk-estimator-id-5\" type=\"checkbox\" checked><label for=\"sk-estimator-id-5\" class=\"sk-toggleable__label fitted sk-toggleable__label-arrow fitted\">&nbsp;&nbsp;LinearRegression<a class=\"sk-estimator-doc-link fitted\" rel=\"noreferrer\" target=\"_blank\" href=\"https://scikit-learn.org/1.5/modules/generated/sklearn.linear_model.LinearRegression.html\">?<span>Documentation for LinearRegression</span></a><span class=\"sk-estimator-doc-link fitted\">i<span>Fitted</span></span></label><div class=\"sk-toggleable__content fitted\"><pre>LinearRegression()</pre></div> </div></div></div></div>"
      ],
      "text/plain": [
       "LinearRegression()"
      ]
     },
     "execution_count": 803,
     "metadata": {},
     "output_type": "execute_result"
    }
   ],
   "source": [
    "model_lr = LinearRegression()\n",
    "model_lr.fit(X_train, y_train)"
   ]
  },
  {
   "cell_type": "code",
   "execution_count": 805,
   "id": "b8d7909d-3478-4512-ab92-65df6a2be03d",
   "metadata": {},
   "outputs": [],
   "source": [
    "y_train_predict = model_lr.predict(X_train)"
   ]
  },
  {
   "cell_type": "markdown",
   "id": "bdf221ce-5030-4346-b845-c65eadbe687c",
   "metadata": {},
   "source": [
    "Посчитаем метрики качества:"
   ]
  },
  {
   "cell_type": "code",
   "execution_count": 808,
   "id": "406dfddc-09e2-499e-bc8e-5cd6fd878f8f",
   "metadata": {},
   "outputs": [
    {
     "name": "stdout",
     "output_type": "stream",
     "text": [
      "Metrics:\n",
      "mae_test=0.06203874424467889\n",
      "mape_test=2.700312472950015\n",
      "R2_test=0.13400646764854418\n",
      "\n"
     ]
    }
   ],
   "source": [
    "print(f'''Metrics:\n",
    "mae_test={MAE(y_train, y_train_predict)}\n",
    "mape_test={MAPE(y_train, y_train_predict)}\n",
    "R2_test={R2(y_train, y_train_predict)}\n",
    "''')"
   ]
  }
 ],
 "metadata": {
  "kernelspec": {
   "display_name": "Python 3 (ipykernel)",
   "language": "python",
   "name": "python3"
  },
  "language_info": {
   "codemirror_mode": {
    "name": "ipython",
    "version": 3
   },
   "file_extension": ".py",
   "mimetype": "text/x-python",
   "name": "python",
   "nbconvert_exporter": "python",
   "pygments_lexer": "ipython3",
   "version": "3.12.7"
  }
 },
 "nbformat": 4,
 "nbformat_minor": 5
}
