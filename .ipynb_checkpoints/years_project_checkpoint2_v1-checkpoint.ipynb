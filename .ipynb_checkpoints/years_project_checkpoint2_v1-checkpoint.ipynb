{
 "cells": [
  {
   "cell_type": "markdown",
   "id": "d7dd3fec",
   "metadata": {},
   "source": [
    "# Годовой проект - Определение популярности геолокации для размещения банкомата"
   ]
  },
  {
   "cell_type": "markdown",
   "id": "e1bd7f6d",
   "metadata": {},
   "source": [
    "`Куратор`: \n",
    "- Ковалева Александра  \n",
    "    \n",
    "`Команда`:\n",
    "- Цуканов Николай Сергеевич\n",
    "- Исхаков Ильдус Халитович\n",
    "- Устименко Кирилл Александрович\n",
    "- Волокитина Анастасия Евгеньевна"
   ]
  },
  {
   "cell_type": "markdown",
   "id": "9ef0d87b",
   "metadata": {},
   "source": [
    "## Исходные данные"
   ]
  },
  {
   "cell_type": "markdown",
   "id": "f1910a4a",
   "metadata": {},
   "source": [
    "`id` - идентификатор банкомата  \n",
    "`atm_group` - принадлежность банкомата к группе  \n",
    "`address` - адрес банкомата на английском  \n",
    "`address_rus` - адрес банкомата на русском  \n",
    "`lat` - широта  \n",
    "`long` - долгота    \n",
    "`target` - целевая метрика  "
   ]
  },
  {
   "cell_type": "markdown",
   "id": "9c5bf0df",
   "metadata": {},
   "source": [
    "Импортируем библиотеки:"
   ]
  },
  {
   "cell_type": "code",
   "execution_count": 1,
   "id": "e679a024",
   "metadata": {},
   "outputs": [],
   "source": [
    "import pandas as pd\n",
    "import numpy as np\n",
    "import seaborn as sns\n",
    "import matplotlib.pyplot as plt\n",
    "import re"
   ]
  },
  {
   "cell_type": "markdown",
   "id": "dd8870f3",
   "metadata": {},
   "source": [
    "Загрузим данные:"
   ]
  },
  {
   "cell_type": "code",
   "execution_count": 2,
   "id": "55904fb5",
   "metadata": {},
   "outputs": [],
   "source": [
    "df = pd.read_csv('train.csv', index_col=0)"
   ]
  },
  {
   "cell_type": "code",
   "execution_count": 3,
   "id": "6b95f0c5",
   "metadata": {},
   "outputs": [
    {
     "name": "stdout",
     "output_type": "stream",
     "text": [
      "Данные для обучающей выборки состоят из 6261 строки и 7 столбцов.\n"
     ]
    }
   ],
   "source": [
    "rows, columns = df.shape\n",
    "print(f'Данные для обучающей выборки состоят из {rows} строки и {columns} столбцов.') "
   ]
  },
  {
   "cell_type": "markdown",
   "id": "fa6376e3",
   "metadata": {},
   "source": [
    "Посмотрим на наши наблюдения:"
   ]
  },
  {
   "cell_type": "code",
   "execution_count": 4,
   "id": "6c176d10",
   "metadata": {},
   "outputs": [
    {
     "data": {
      "text/html": [
       "<div>\n",
       "<style scoped>\n",
       "    .dataframe tbody tr th:only-of-type {\n",
       "        vertical-align: middle;\n",
       "    }\n",
       "\n",
       "    .dataframe tbody tr th {\n",
       "        vertical-align: top;\n",
       "    }\n",
       "\n",
       "    .dataframe thead th {\n",
       "        text-align: right;\n",
       "    }\n",
       "</style>\n",
       "<table border=\"1\" class=\"dataframe\">\n",
       "  <thead>\n",
       "    <tr style=\"text-align: right;\">\n",
       "      <th></th>\n",
       "      <th>id</th>\n",
       "      <th>atm_group</th>\n",
       "      <th>address</th>\n",
       "      <th>address_rus</th>\n",
       "      <th>lat</th>\n",
       "      <th>long</th>\n",
       "      <th>target</th>\n",
       "    </tr>\n",
       "  </thead>\n",
       "  <tbody>\n",
       "    <tr>\n",
       "      <th>3342</th>\n",
       "      <td>6953.0</td>\n",
       "      <td>5478.0</td>\n",
       "      <td>D. 94, UL. SADOVAYA BOL'S SARATOV G</td>\n",
       "      <td>Большая Садовая улица, 94, Саратов, Россия, 41...</td>\n",
       "      <td>51.528441</td>\n",
       "      <td>45.982945</td>\n",
       "      <td>-0.013918</td>\n",
       "    </tr>\n",
       "    <tr>\n",
       "      <th>4769</th>\n",
       "      <td>8149.0</td>\n",
       "      <td>5478.0</td>\n",
       "      <td>D. 59, UL. KARLA MARKSA   KURSK G</td>\n",
       "      <td>улица Карла Маркса, 59, Курск, Россия, 305029</td>\n",
       "      <td>51.758249</td>\n",
       "      <td>36.188407</td>\n",
       "      <td>0.009977</td>\n",
       "    </tr>\n",
       "    <tr>\n",
       "      <th>1124</th>\n",
       "      <td>3600.0</td>\n",
       "      <td>8083.0</td>\n",
       "      <td>KARLA MARKSA, 38       CHelyabinsk</td>\n",
       "      <td>улица Маркса, 38, Челябинск, Россия, 454091</td>\n",
       "      <td>55.165888</td>\n",
       "      <td>61.411788</td>\n",
       "      <td>0.218608</td>\n",
       "    </tr>\n",
       "    <tr>\n",
       "      <th>3793</th>\n",
       "      <td>2971.0</td>\n",
       "      <td>496.5</td>\n",
       "      <td>KOVALENKO 10              KISELEVSK</td>\n",
       "      <td>улица Коваленко, 10, Киселёвск, Кемеровская об...</td>\n",
       "      <td>54.002484</td>\n",
       "      <td>86.640120</td>\n",
       "      <td>-0.046148</td>\n",
       "    </tr>\n",
       "    <tr>\n",
       "      <th>3180</th>\n",
       "      <td>5866.0</td>\n",
       "      <td>5478.0</td>\n",
       "      <td>D. 1B, UL. SOVETSKAYA     RAMENSKOE G</td>\n",
       "      <td>Советская улица, 1, Раменское, Московская обла...</td>\n",
       "      <td>55.566287</td>\n",
       "      <td>38.229325</td>\n",
       "      <td>-0.045745</td>\n",
       "    </tr>\n",
       "  </tbody>\n",
       "</table>\n",
       "</div>"
      ],
      "text/plain": [
       "          id  atm_group                                 address  \\\n",
       "3342  6953.0     5478.0  D. 94, UL. SADOVAYA BOL'S SARATOV G      \n",
       "4769  8149.0     5478.0  D. 59, UL. KARLA MARKSA   KURSK G        \n",
       "1124  3600.0     8083.0  KARLA MARKSA, 38       CHelyabinsk       \n",
       "3793  2971.0      496.5  KOVALENKO 10              KISELEVSK      \n",
       "3180  5866.0     5478.0  D. 1B, UL. SOVETSKAYA     RAMENSKOE G    \n",
       "\n",
       "                                            address_rus        lat       long  \\\n",
       "3342  Большая Садовая улица, 94, Саратов, Россия, 41...  51.528441  45.982945   \n",
       "4769      улица Карла Маркса, 59, Курск, Россия, 305029  51.758249  36.188407   \n",
       "1124        улица Маркса, 38, Челябинск, Россия, 454091  55.165888  61.411788   \n",
       "3793  улица Коваленко, 10, Киселёвск, Кемеровская об...  54.002484  86.640120   \n",
       "3180  Советская улица, 1, Раменское, Московская обла...  55.566287  38.229325   \n",
       "\n",
       "        target  \n",
       "3342 -0.013918  \n",
       "4769  0.009977  \n",
       "1124  0.218608  \n",
       "3793 -0.046148  \n",
       "3180 -0.045745  "
      ]
     },
     "execution_count": 4,
     "metadata": {},
     "output_type": "execute_result"
    }
   ],
   "source": [
    "df.sample(5)"
   ]
  },
  {
   "cell_type": "markdown",
   "id": "e2a13a07",
   "metadata": {},
   "source": [
    "## Изучим данные:"
   ]
  },
  {
   "cell_type": "markdown",
   "id": "565e87ff",
   "metadata": {},
   "source": [
    "Посмотрим на типы данных:"
   ]
  },
  {
   "cell_type": "code",
   "execution_count": 5,
   "id": "c5fbebd5",
   "metadata": {},
   "outputs": [
    {
     "name": "stdout",
     "output_type": "stream",
     "text": [
      "<class 'pandas.core.frame.DataFrame'>\n",
      "Int64Index: 6261 entries, 0 to 6260\n",
      "Data columns (total 7 columns):\n",
      " #   Column       Non-Null Count  Dtype  \n",
      "---  ------       --------------  -----  \n",
      " 0   id           6261 non-null   float64\n",
      " 1   atm_group    6261 non-null   float64\n",
      " 2   address      6261 non-null   object \n",
      " 3   address_rus  5957 non-null   object \n",
      " 4   lat          5957 non-null   float64\n",
      " 5   long         5957 non-null   float64\n",
      " 6   target       6261 non-null   float64\n",
      "dtypes: float64(5), object(2)\n",
      "memory usage: 391.3+ KB\n"
     ]
    }
   ],
   "source": [
    "df.info()"
   ]
  },
  {
   "cell_type": "markdown",
   "id": "df748e34",
   "metadata": {},
   "source": [
    "Посмотрим на наличие пропусков:"
   ]
  },
  {
   "cell_type": "code",
   "execution_count": 6,
   "id": "4f497c54",
   "metadata": {},
   "outputs": [
    {
     "data": {
      "text/plain": [
       "id               0\n",
       "atm_group        0\n",
       "address          0\n",
       "address_rus    304\n",
       "lat            304\n",
       "long           304\n",
       "target           0\n",
       "dtype: int64"
      ]
     },
     "execution_count": 6,
     "metadata": {},
     "output_type": "execute_result"
    }
   ],
   "source": [
    "df.isna().sum()"
   ]
  },
  {
   "cell_type": "code",
   "execution_count": 7,
   "id": "63e9bc44",
   "metadata": {},
   "outputs": [],
   "source": [
    "data_gaps = round(100 * (df.shape[0] - df[df['address_rus'].notna()].shape[0]) / df.shape[0], 2)"
   ]
  },
  {
   "cell_type": "code",
   "execution_count": 8,
   "id": "209563d1",
   "metadata": {},
   "outputs": [
    {
     "name": "stdout",
     "output_type": "stream",
     "text": [
      "Имеется 304 банкомата (4.86% от общего числа) без указания адреса на русском и географических координат.\n"
     ]
    }
   ],
   "source": [
    "print(f'Имеется 304 банкомата ({data_gaps}% от общего числа) без указания адреса на русском и географических координат.')"
   ]
  },
  {
   "cell_type": "markdown",
   "id": "7e7a19cf",
   "metadata": {},
   "source": [
    "Посмотрим на наличие дублей:"
   ]
  },
  {
   "cell_type": "code",
   "execution_count": 9,
   "id": "1d6a1dc8",
   "metadata": {},
   "outputs": [
    {
     "data": {
      "text/plain": [
       "0"
      ]
     },
     "execution_count": 9,
     "metadata": {},
     "output_type": "execute_result"
    }
   ],
   "source": [
    "df.duplicated().sum()"
   ]
  },
  {
   "cell_type": "markdown",
   "id": "f3981299",
   "metadata": {},
   "source": [
    "Дубли отсутствуют."
   ]
  },
  {
   "cell_type": "markdown",
   "id": "2eedcc47",
   "metadata": {},
   "source": [
    "Посмотрим на количественные переменные:"
   ]
  },
  {
   "cell_type": "code",
   "execution_count": 10,
   "id": "c2f799ff",
   "metadata": {},
   "outputs": [
    {
     "data": {
      "text/html": [
       "<div>\n",
       "<style scoped>\n",
       "    .dataframe tbody tr th:only-of-type {\n",
       "        vertical-align: middle;\n",
       "    }\n",
       "\n",
       "    .dataframe tbody tr th {\n",
       "        vertical-align: top;\n",
       "    }\n",
       "\n",
       "    .dataframe thead th {\n",
       "        text-align: right;\n",
       "    }\n",
       "</style>\n",
       "<table border=\"1\" class=\"dataframe\">\n",
       "  <thead>\n",
       "    <tr style=\"text-align: right;\">\n",
       "      <th></th>\n",
       "      <th>id</th>\n",
       "      <th>atm_group</th>\n",
       "      <th>lat</th>\n",
       "      <th>long</th>\n",
       "      <th>target</th>\n",
       "    </tr>\n",
       "  </thead>\n",
       "  <tbody>\n",
       "    <tr>\n",
       "      <th>count</th>\n",
       "      <td>6261.000000</td>\n",
       "      <td>6261.000000</td>\n",
       "      <td>5957.000000</td>\n",
       "      <td>5957.000000</td>\n",
       "      <td>6261.000000</td>\n",
       "    </tr>\n",
       "    <tr>\n",
       "      <th>mean</th>\n",
       "      <td>4419.120827</td>\n",
       "      <td>4417.937230</td>\n",
       "      <td>54.160017</td>\n",
       "      <td>63.519692</td>\n",
       "      <td>0.000715</td>\n",
       "    </tr>\n",
       "    <tr>\n",
       "      <th>std</th>\n",
       "      <td>2547.213467</td>\n",
       "      <td>2430.413287</td>\n",
       "      <td>4.346200</td>\n",
       "      <td>33.020176</td>\n",
       "      <td>0.085852</td>\n",
       "    </tr>\n",
       "    <tr>\n",
       "      <th>min</th>\n",
       "      <td>5.000000</td>\n",
       "      <td>32.000000</td>\n",
       "      <td>42.057080</td>\n",
       "      <td>19.941530</td>\n",
       "      <td>-0.145001</td>\n",
       "    </tr>\n",
       "    <tr>\n",
       "      <th>25%</th>\n",
       "      <td>2228.000000</td>\n",
       "      <td>1942.000000</td>\n",
       "      <td>52.248916</td>\n",
       "      <td>37.858986</td>\n",
       "      <td>-0.061176</td>\n",
       "    </tr>\n",
       "    <tr>\n",
       "      <th>50%</th>\n",
       "      <td>4392.000000</td>\n",
       "      <td>5478.000000</td>\n",
       "      <td>55.069638</td>\n",
       "      <td>48.578510</td>\n",
       "      <td>-0.015573</td>\n",
       "    </tr>\n",
       "    <tr>\n",
       "      <th>75%</th>\n",
       "      <td>6660.000000</td>\n",
       "      <td>5478.000000</td>\n",
       "      <td>56.122756</td>\n",
       "      <td>84.951080</td>\n",
       "      <td>0.040149</td>\n",
       "    </tr>\n",
       "    <tr>\n",
       "      <th>max</th>\n",
       "      <td>8811.000000</td>\n",
       "      <td>8083.000000</td>\n",
       "      <td>69.491912</td>\n",
       "      <td>173.706490</td>\n",
       "      <td>0.218608</td>\n",
       "    </tr>\n",
       "  </tbody>\n",
       "</table>\n",
       "</div>"
      ],
      "text/plain": [
       "                id    atm_group          lat         long       target\n",
       "count  6261.000000  6261.000000  5957.000000  5957.000000  6261.000000\n",
       "mean   4419.120827  4417.937230    54.160017    63.519692     0.000715\n",
       "std    2547.213467  2430.413287     4.346200    33.020176     0.085852\n",
       "min       5.000000    32.000000    42.057080    19.941530    -0.145001\n",
       "25%    2228.000000  1942.000000    52.248916    37.858986    -0.061176\n",
       "50%    4392.000000  5478.000000    55.069638    48.578510    -0.015573\n",
       "75%    6660.000000  5478.000000    56.122756    84.951080     0.040149\n",
       "max    8811.000000  8083.000000    69.491912   173.706490     0.218608"
      ]
     },
     "execution_count": 10,
     "metadata": {},
     "output_type": "execute_result"
    }
   ],
   "source": [
    "df.describe(include='number')"
   ]
  },
  {
   "cell_type": "markdown",
   "id": "0f1aa949",
   "metadata": {},
   "source": [
    "Широта может иметь значения от 0 до 90 градусов, долгота - от 0 до 180 градусов. Наши наблюдения не выходят за рамки этих пределов.  "
   ]
  },
  {
   "cell_type": "markdown",
   "id": "c77e3739",
   "metadata": {},
   "source": [
    "Посмотрим на категориальные переменные:"
   ]
  },
  {
   "cell_type": "code",
   "execution_count": 11,
   "id": "e11f33ea",
   "metadata": {},
   "outputs": [
    {
     "data": {
      "text/html": [
       "<div>\n",
       "<style scoped>\n",
       "    .dataframe tbody tr th:only-of-type {\n",
       "        vertical-align: middle;\n",
       "    }\n",
       "\n",
       "    .dataframe tbody tr th {\n",
       "        vertical-align: top;\n",
       "    }\n",
       "\n",
       "    .dataframe thead th {\n",
       "        text-align: right;\n",
       "    }\n",
       "</style>\n",
       "<table border=\"1\" class=\"dataframe\">\n",
       "  <thead>\n",
       "    <tr style=\"text-align: right;\">\n",
       "      <th></th>\n",
       "      <th>address</th>\n",
       "      <th>address_rus</th>\n",
       "    </tr>\n",
       "  </thead>\n",
       "  <tbody>\n",
       "    <tr>\n",
       "      <th>count</th>\n",
       "      <td>6261</td>\n",
       "      <td>5957</td>\n",
       "    </tr>\n",
       "    <tr>\n",
       "      <th>unique</th>\n",
       "      <td>5343</td>\n",
       "      <td>4553</td>\n",
       "    </tr>\n",
       "    <tr>\n",
       "      <th>top</th>\n",
       "      <td>HOROSHEVSKOE SH,V38       MOSKVA</td>\n",
       "      <td>улица Ватутина, 107, Новосибирск, Россия, 630024</td>\n",
       "    </tr>\n",
       "    <tr>\n",
       "      <th>freq</th>\n",
       "      <td>7</td>\n",
       "      <td>8</td>\n",
       "    </tr>\n",
       "  </tbody>\n",
       "</table>\n",
       "</div>"
      ],
      "text/plain": [
       "                                       address  \\\n",
       "count                                     6261   \n",
       "unique                                    5343   \n",
       "top     HOROSHEVSKOE SH,V38       MOSKVA         \n",
       "freq                                         7   \n",
       "\n",
       "                                             address_rus  \n",
       "count                                               5957  \n",
       "unique                                              4553  \n",
       "top     улица Ватутина, 107, Новосибирск, Россия, 630024  \n",
       "freq                                                   8  "
      ]
     },
     "execution_count": 11,
     "metadata": {},
     "output_type": "execute_result"
    }
   ],
   "source": [
    "df.describe(include='object')"
   ]
  },
  {
   "cell_type": "markdown",
   "id": "deccfb10",
   "metadata": {},
   "source": [
    "Посмотрим сколько банкоматов принадледит той или иной группе:"
   ]
  },
  {
   "cell_type": "code",
   "execution_count": 12,
   "id": "b7438eb1",
   "metadata": {},
   "outputs": [
    {
     "data": {
      "text/html": [
       "<div>\n",
       "<style scoped>\n",
       "    .dataframe tbody tr th:only-of-type {\n",
       "        vertical-align: middle;\n",
       "    }\n",
       "\n",
       "    .dataframe tbody tr th {\n",
       "        vertical-align: top;\n",
       "    }\n",
       "\n",
       "    .dataframe thead th {\n",
       "        text-align: right;\n",
       "    }\n",
       "</style>\n",
       "<table border=\"1\" class=\"dataframe\">\n",
       "  <thead>\n",
       "    <tr style=\"text-align: right;\">\n",
       "      <th></th>\n",
       "      <th>atm_group</th>\n",
       "      <th>Банкоматов</th>\n",
       "    </tr>\n",
       "  </thead>\n",
       "  <tbody>\n",
       "    <tr>\n",
       "      <th>5</th>\n",
       "      <td>5478.0</td>\n",
       "      <td>2662</td>\n",
       "    </tr>\n",
       "    <tr>\n",
       "      <th>3</th>\n",
       "      <td>1942.0</td>\n",
       "      <td>1160</td>\n",
       "    </tr>\n",
       "    <tr>\n",
       "      <th>6</th>\n",
       "      <td>8083.0</td>\n",
       "      <td>1050</td>\n",
       "    </tr>\n",
       "    <tr>\n",
       "      <th>1</th>\n",
       "      <td>496.5</td>\n",
       "      <td>616</td>\n",
       "    </tr>\n",
       "    <tr>\n",
       "      <th>4</th>\n",
       "      <td>3185.5</td>\n",
       "      <td>594</td>\n",
       "    </tr>\n",
       "    <tr>\n",
       "      <th>2</th>\n",
       "      <td>1022.0</td>\n",
       "      <td>136</td>\n",
       "    </tr>\n",
       "    <tr>\n",
       "      <th>0</th>\n",
       "      <td>32.0</td>\n",
       "      <td>43</td>\n",
       "    </tr>\n",
       "  </tbody>\n",
       "</table>\n",
       "</div>"
      ],
      "text/plain": [
       "   atm_group  Банкоматов\n",
       "5     5478.0        2662\n",
       "3     1942.0        1160\n",
       "6     8083.0        1050\n",
       "1      496.5         616\n",
       "4     3185.5         594\n",
       "2     1022.0         136\n",
       "0       32.0          43"
      ]
     },
     "execution_count": 12,
     "metadata": {},
     "output_type": "execute_result"
    }
   ],
   "source": [
    "df.groupby('atm_group', as_index=False).agg(Банкоматов=('atm_group', 'count')).sort_values(by='Банкоматов', ascending=False)"
   ]
  },
  {
   "cell_type": "markdown",
   "id": "d4e2967b",
   "metadata": {},
   "source": [
    "Уберем возможные пробелы для наших записей:"
   ]
  },
  {
   "cell_type": "code",
   "execution_count": 13,
   "id": "7d492c7f",
   "metadata": {},
   "outputs": [],
   "source": [
    "df['address_rus'] = df['address_rus'].apply(lambda x: x.strip() if pd.notnull(x) else None)"
   ]
  },
  {
   "cell_type": "markdown",
   "id": "9bec471d",
   "metadata": {},
   "source": [
    "Посмотрим на длину записей адресов:"
   ]
  },
  {
   "cell_type": "code",
   "execution_count": 14,
   "id": "ef0ff8e3",
   "metadata": {},
   "outputs": [],
   "source": [
    "df['len_address'] = df['address_rus'].apply(lambda x: len(x) if x != None else None)"
   ]
  },
  {
   "cell_type": "code",
   "execution_count": 15,
   "id": "5263c3d6",
   "metadata": {},
   "outputs": [
    {
     "data": {
      "text/plain": [
       "(27.0, 144.0)"
      ]
     },
     "execution_count": 15,
     "metadata": {},
     "output_type": "execute_result"
    }
   ],
   "source": [
    "df['len_address'].min(), df['len_address'].max()"
   ]
  },
  {
   "cell_type": "markdown",
   "id": "b8eb60d7",
   "metadata": {},
   "source": [
    "Посмотрим на самый длинный адрес в наших данных:"
   ]
  },
  {
   "cell_type": "code",
   "execution_count": 16,
   "id": "716b68fc",
   "metadata": {},
   "outputs": [
    {
     "data": {
      "text/plain": [
       "'Волжская улица, 1, посёлок городского типа Ванино, городское поселение Рабочий Посёлок Ванино, Ванинский район, Хабаровский край, Россия, 682860'"
      ]
     },
     "execution_count": 16,
     "metadata": {},
     "output_type": "execute_result"
    }
   ],
   "source": [
    "df[df['len_address'] == 144]['address_rus'].loc[3579]"
   ]
  },
  {
   "cell_type": "markdown",
   "id": "4b9cf954",
   "metadata": {},
   "source": [
    "Каких-то аномально длинных адресов нет."
   ]
  },
  {
   "cell_type": "markdown",
   "id": "6eddf0bf",
   "metadata": {},
   "source": [
    "Посмотрим на формат записей адресов банкоматов на русском:"
   ]
  },
  {
   "cell_type": "code",
   "execution_count": 17,
   "id": "f487a800",
   "metadata": {},
   "outputs": [
    {
     "data": {
      "text/plain": [
       "'улица А.О. Емельянова, 34, Южно-Сахалинск, Сахалинская область, Россия'"
      ]
     },
     "execution_count": 17,
     "metadata": {},
     "output_type": "execute_result"
    }
   ],
   "source": [
    "df['address_rus'][0]"
   ]
  },
  {
   "cell_type": "code",
   "execution_count": 18,
   "id": "141b27af",
   "metadata": {},
   "outputs": [
    {
     "data": {
      "text/plain": [
       "'Большая Московская улица, 90А, Владимир, Россия, 600000'"
      ]
     },
     "execution_count": 18,
     "metadata": {},
     "output_type": "execute_result"
    }
   ],
   "source": [
    "df['address_rus'][10]"
   ]
  },
  {
   "cell_type": "code",
   "execution_count": 19,
   "id": "99f4b7a2",
   "metadata": {},
   "outputs": [
    {
     "data": {
      "text/plain": [
       "'Магаданская улица, 31, посёлок Хандыга, Томпонский муниципальный район, Республика Саха (Якутия), Россия, 678720'"
      ]
     },
     "execution_count": 19,
     "metadata": {},
     "output_type": "execute_result"
    }
   ],
   "source": [
    "df['address_rus'][1343]"
   ]
  },
  {
   "cell_type": "markdown",
   "id": "fe97c956",
   "metadata": {},
   "source": [
    "Спарсим наши адреса на русском на составляющие: `почтовый индекс`, `страна`, `город`, `улица`, `дом`:"
   ]
  },
  {
   "cell_type": "markdown",
   "id": "d4dd1d8e",
   "metadata": {},
   "source": [
    "__1. Достанем из адреса почтовый индекс, если он имеется:__"
   ]
  },
  {
   "cell_type": "code",
   "execution_count": 20,
   "id": "0b43a1f1",
   "metadata": {},
   "outputs": [],
   "source": [
    "def get_postal_code(address: str):\n",
    "    address = address.split(', ')\n",
    "    if address[-1].isdigit():\n",
    "        return address[-1]\n",
    "    else:\n",
    "        return None"
   ]
  },
  {
   "cell_type": "code",
   "execution_count": 21,
   "id": "58426e1e",
   "metadata": {},
   "outputs": [],
   "source": [
    "df['postal_code'] = df['address_rus'].apply(lambda x: get_postal_code(x) if pd.notnull(x) else None)"
   ]
  },
  {
   "cell_type": "markdown",
   "id": "5bd1e450",
   "metadata": {},
   "source": [
    "В России принята 6-значная система почтовых индексов XXXYYY, где XXX - код субъекта федерации, YYY - номер почтового отделения в нем, но крупные города, такие как, например, Москва имеет несколько кодов. Проверим какой длины имеющиеся индексы в наших данных:"
   ]
  },
  {
   "cell_type": "code",
   "execution_count": 22,
   "id": "c4603086",
   "metadata": {},
   "outputs": [],
   "source": [
    "df['len_postal_code'] = df['postal_code'].apply(lambda x: len(x) if pd.notnull(x) else None)"
   ]
  },
  {
   "cell_type": "code",
   "execution_count": 23,
   "id": "06ebfb2c",
   "metadata": {},
   "outputs": [
    {
     "data": {
      "text/plain": [
       "array([nan,  6.])"
      ]
     },
     "execution_count": 23,
     "metadata": {},
     "output_type": "execute_result"
    }
   ],
   "source": [
    "df['len_postal_code'].unique()"
   ]
  },
  {
   "cell_type": "markdown",
   "id": "aaf36a68",
   "metadata": {},
   "source": [
    "Все почтовые индексы имеют нужную длину."
   ]
  },
  {
   "cell_type": "markdown",
   "id": "58d720de",
   "metadata": {},
   "source": [
    "__2. Достанем из адреса страну, если она имеется:__"
   ]
  },
  {
   "cell_type": "code",
   "execution_count": 24,
   "id": "423eb987",
   "metadata": {},
   "outputs": [],
   "source": [
    "def get_country(address: str):\n",
    "    address = address.split(', ')\n",
    "    if address[-1].isalpha():\n",
    "        return address[-1]\n",
    "    elif address[-2].isalpha():\n",
    "        return address[-2]\n",
    "    else:\n",
    "        return None"
   ]
  },
  {
   "cell_type": "code",
   "execution_count": 25,
   "id": "a1adb75a",
   "metadata": {},
   "outputs": [],
   "source": [
    "df['country'] = df['address_rus'].apply(lambda x: get_country(x) if pd.notnull(x) else None)"
   ]
  },
  {
   "cell_type": "code",
   "execution_count": 26,
   "id": "a6fe8149",
   "metadata": {},
   "outputs": [
    {
     "data": {
      "text/plain": [
       "array(['Россия', None], dtype=object)"
      ]
     },
     "execution_count": 26,
     "metadata": {},
     "output_type": "execute_result"
    }
   ],
   "source": [
    "df['country'].unique()"
   ]
  },
  {
   "cell_type": "markdown",
   "id": "a9ed01d8",
   "metadata": {},
   "source": [
    "Без неожиданностей - все адреса банкоматов в России."
   ]
  },
  {
   "cell_type": "markdown",
   "id": "3c124944",
   "metadata": {},
   "source": [
    "__3. Достанем из адреса город, если он имеется:__"
   ]
  },
  {
   "cell_type": "markdown",
   "id": "f34d526b",
   "metadata": {},
   "source": [
    "Возьмем список городов России из Википедии:"
   ]
  },
  {
   "cell_type": "code",
   "execution_count": 27,
   "id": "0ca2978d",
   "metadata": {},
   "outputs": [],
   "source": [
    "url = 'https://ru.wikipedia.org/wiki/%D0%A1%D0%BF%D0%B8%D1%81%D0%BE%D0%BA_%D0%B3%D0%BE%D1%80%D0%BE%D0%B4%D0%BE%D0%B2_%D0%A0%D0%BE%D1%81%D1%81%D0%B8%D0%B8'\n",
    "test = pd.read_html(url)[0]\n",
    "cities = test['Город']"
   ]
  },
  {
   "cell_type": "code",
   "execution_count": 28,
   "id": "c4372aa1",
   "metadata": {},
   "outputs": [
    {
     "data": {
      "text/plain": [
       "0           Абаза\n",
       "1          Абакан\n",
       "2        Абдулино\n",
       "3          Абинск\n",
       "4         Агидель\n",
       "          ...    \n",
       "1120    Ярославль\n",
       "1121       Ярцево\n",
       "1122    Ясногорск\n",
       "1123        Ясный\n",
       "1124       Яхрома\n",
       "Name: Город, Length: 1125, dtype: object"
      ]
     },
     "execution_count": 28,
     "metadata": {},
     "output_type": "execute_result"
    }
   ],
   "source": [
    "cities"
   ]
  },
  {
   "cell_type": "code",
   "execution_count": 29,
   "id": "5bf35cae",
   "metadata": {},
   "outputs": [],
   "source": [
    "def get_city(address: str):\n",
    "    for city in cities:\n",
    "        if city in address:\n",
    "            return city\n",
    "        else:\n",
    "            None"
   ]
  },
  {
   "cell_type": "code",
   "execution_count": 30,
   "id": "9603a231",
   "metadata": {},
   "outputs": [],
   "source": [
    "df['city'] = df['address_rus'].apply(lambda x: get_city(x) if pd.notnull(x) else None)"
   ]
  },
  {
   "cell_type": "markdown",
   "id": "ede29759",
   "metadata": {},
   "source": [
    "Посмотрим какая доля записей осталась без города среди адресов, которые имеют запись на русском:"
   ]
  },
  {
   "cell_type": "code",
   "execution_count": 31,
   "id": "bec99f07",
   "metadata": {},
   "outputs": [],
   "source": [
    "no_city = round(100 * df[(df['address_rus'].notna()) & (df['city'].isnull())].shape[0] / df[df['address_rus'].notna()].shape[0], 1)"
   ]
  },
  {
   "cell_type": "code",
   "execution_count": 32,
   "id": "4d7ad106",
   "metadata": {},
   "outputs": [
    {
     "name": "stdout",
     "output_type": "stream",
     "text": [
      "1.4%\n"
     ]
    }
   ],
   "source": [
    "print(f'{no_city}%')"
   ]
  },
  {
   "cell_type": "markdown",
   "id": "17f4cc8e",
   "metadata": {},
   "source": [
    "Посмотрим на распределение топ-10 по численности банкоматов по городам:"
   ]
  },
  {
   "cell_type": "code",
   "execution_count": 33,
   "id": "3d21d5a0",
   "metadata": {},
   "outputs": [],
   "source": [
    "top_10_atms = df.groupby('city', as_index=False).agg(atm=('id', 'count')).sort_values(by='atm', ascending=False).head(10)"
   ]
  },
  {
   "cell_type": "code",
   "execution_count": 34,
   "id": "7fd0a5af",
   "metadata": {},
   "outputs": [],
   "source": [
    "top_10_atms['share,%'] = round(100 * top_10_atms['atm'] / df.shape[0], 1)"
   ]
  },
  {
   "cell_type": "code",
   "execution_count": 35,
   "id": "048b6c8a",
   "metadata": {},
   "outputs": [
    {
     "data": {
      "text/html": [
       "<div>\n",
       "<style scoped>\n",
       "    .dataframe tbody tr th:only-of-type {\n",
       "        vertical-align: middle;\n",
       "    }\n",
       "\n",
       "    .dataframe tbody tr th {\n",
       "        vertical-align: top;\n",
       "    }\n",
       "\n",
       "    .dataframe thead th {\n",
       "        text-align: right;\n",
       "    }\n",
       "</style>\n",
       "<table border=\"1\" class=\"dataframe\">\n",
       "  <thead>\n",
       "    <tr style=\"text-align: right;\">\n",
       "      <th></th>\n",
       "      <th>city</th>\n",
       "      <th>atm</th>\n",
       "      <th>share,%</th>\n",
       "    </tr>\n",
       "  </thead>\n",
       "  <tbody>\n",
       "    <tr>\n",
       "      <th>262</th>\n",
       "      <td>Москва</td>\n",
       "      <td>504</td>\n",
       "      <td>8.0</td>\n",
       "    </tr>\n",
       "    <tr>\n",
       "      <th>207</th>\n",
       "      <td>Красноярск</td>\n",
       "      <td>214</td>\n",
       "      <td>3.4</td>\n",
       "    </tr>\n",
       "    <tr>\n",
       "      <th>343</th>\n",
       "      <td>Санкт-Петербург</td>\n",
       "      <td>176</td>\n",
       "      <td>2.8</td>\n",
       "    </tr>\n",
       "    <tr>\n",
       "      <th>287</th>\n",
       "      <td>Новосибирск</td>\n",
       "      <td>138</td>\n",
       "      <td>2.2</td>\n",
       "    </tr>\n",
       "    <tr>\n",
       "      <th>184</th>\n",
       "      <td>Киров</td>\n",
       "      <td>126</td>\n",
       "      <td>2.0</td>\n",
       "    </tr>\n",
       "    <tr>\n",
       "      <th>203</th>\n",
       "      <td>Краснодар</td>\n",
       "      <td>121</td>\n",
       "      <td>1.9</td>\n",
       "    </tr>\n",
       "    <tr>\n",
       "      <th>296</th>\n",
       "      <td>Омск</td>\n",
       "      <td>114</td>\n",
       "      <td>1.8</td>\n",
       "    </tr>\n",
       "    <tr>\n",
       "      <th>78</th>\n",
       "      <td>Владивосток</td>\n",
       "      <td>99</td>\n",
       "      <td>1.6</td>\n",
       "    </tr>\n",
       "    <tr>\n",
       "      <th>130</th>\n",
       "      <td>Екатеринбург</td>\n",
       "      <td>94</td>\n",
       "      <td>1.5</td>\n",
       "    </tr>\n",
       "    <tr>\n",
       "      <th>10</th>\n",
       "      <td>Амурск</td>\n",
       "      <td>91</td>\n",
       "      <td>1.5</td>\n",
       "    </tr>\n",
       "  </tbody>\n",
       "</table>\n",
       "</div>"
      ],
      "text/plain": [
       "                city  atm  share,%\n",
       "262           Москва  504      8.0\n",
       "207       Красноярск  214      3.4\n",
       "343  Санкт-Петербург  176      2.8\n",
       "287      Новосибирск  138      2.2\n",
       "184            Киров  126      2.0\n",
       "203        Краснодар  121      1.9\n",
       "296             Омск  114      1.8\n",
       "78       Владивосток   99      1.6\n",
       "130     Екатеринбург   94      1.5\n",
       "10            Амурск   91      1.5"
      ]
     },
     "execution_count": 35,
     "metadata": {},
     "output_type": "execute_result"
    }
   ],
   "source": [
    "top_10_atms"
   ]
  },
  {
   "cell_type": "code",
   "execution_count": 36,
   "id": "0f4a2a01",
   "metadata": {},
   "outputs": [
    {
     "data": {
      "text/plain": [
       "Text(0, 0.5, 'Количество банкоматов')"
      ]
     },
     "execution_count": 36,
     "metadata": {},
     "output_type": "execute_result"
    },
    {
     "data": {
      "image/png": "[encoded data removed]",
      "text/plain": [
       "<Figure size 1080x432 with 1 Axes>"
      ]
     },
     "metadata": {
      "needs_background": "light"
     },
     "output_type": "display_data"
    }
   ],
   "source": [
    "plt.figure(figsize=(15, 6))\n",
    "plt.bar(x=top_10_atms['city'], height=top_10_atms['atm'], color='green')\n",
    "plt.title('Распределение банкоматов Росбанка по городам России ', fontsize=20)\n",
    "plt.xticks(rotation=60)\n",
    "plt.xlabel('Город')\n",
    "plt.ylabel('Количество банкоматов')"
   ]
  },
  {
   "cell_type": "markdown",
   "id": "0905b562",
   "metadata": {},
   "source": [
    "__4. Достанем из адеса улицу, если она имеется:__"
   ]
  },
  {
   "cell_type": "markdown",
   "id": "7d86cc1c",
   "metadata": {},
   "source": [
    "Регулярное выражение, чтобы достать из адреса название улицы, когда сперва идет слово `улица`, а потом название:"
   ]
  },
  {
   "cell_type": "code",
   "execution_count": 37,
   "id": "05b2cbae",
   "metadata": {},
   "outputs": [],
   "source": [
    "second_street_pattern = r\"(улица)([А-Яа-яё0-9-\\s+\\.]+)\""
   ]
  },
  {
   "cell_type": "markdown",
   "id": "441d4b5d",
   "metadata": {},
   "source": [
    "Регулярное выражение, чтобы достать из адреса название улицы, когда сперва идет название, а потом слово `улица`:"
   ]
  },
  {
   "cell_type": "code",
   "execution_count": 38,
   "id": "ab50f952",
   "metadata": {},
   "outputs": [],
   "source": [
    "first_street_pattern = r\"([А-Яа-яё0-9-\\s+\\.]+)(улица)\""
   ]
  },
  {
   "cell_type": "markdown",
   "id": "6e00fc52",
   "metadata": {},
   "source": [
    "Регулярное выражение, чтобы достать название улицы, когда сперва идут слова `проспект`, `проезд`, `переулок`, `набережная`, `площадь`, `бульвар`, `шоссе`, `тракт`, `квартал`, `микрорайон`, а потом название:"
   ]
  },
  {
   "cell_type": "code",
   "execution_count": 39,
   "id": "aa88e954",
   "metadata": {},
   "outputs": [],
   "source": [
    "second_group_street_patterns = [r\"(проспект)([А-Яа-яё0-9-\\s+\\.]+)\", \\\n",
    "                                r\"(проезд)([А-Яа-яё0-9-\\s+\\.]+)\", \\\n",
    "                                r\"(переулок)([А-Яа-яё0-9-\\s+\\.]+)\", \\\n",
    "                                r\"(набережная)([А-Яа-яё0-9-\\s+\\.]+)\", \\\n",
    "                                r\"(площадь)([А-Яа-яё0-9-\\s+\\.]+)\", \\\n",
    "                                r\"(бульвар)([А-Яа-яё0-9-\\s+\\.]+)\", \\\n",
    "                                r\"(шоссе)([А-Яа-яё0-9-\\s+\\.]+)\", \\\n",
    "                                r\"(тракт)([А-Яа-яё0-9-\\s+\\.]+)\", \\\n",
    "                                r\"(квартал)([А-Яа-яё0-9-\\s+\\.]+)\", \\\n",
    "                                r\"(микрорайон)([А-Яа-яё0-9-\\s+\\.]+)\"]"
   ]
  },
  {
   "cell_type": "markdown",
   "id": "fa5bc14e",
   "metadata": {},
   "source": [
    "Регулярное выражение, чтобы достать название улицы, когда сперва идет название, а потом слова `проспект`, `проезд`, `переулок`, `набережная`, `площадь`, `бульвар`, `шоссе`, `тракт`, `квартал`, `микрорайон`:"
   ]
  },
  {
   "cell_type": "code",
   "execution_count": 40,
   "id": "c4a4f9e9",
   "metadata": {},
   "outputs": [],
   "source": [
    "first_group_street_patterns = [r\"([А-Яа-яё0-9-\\s+\\.]+)(проспект)\", \\\n",
    "                               r\"([А-Яа-яё0-9-\\s+\\.]+)(проезд)\", \\\n",
    "                               r\"([А-Яа-яё0-9-\\s+\\.]+)(переулок)\", \\\n",
    "                               r\"([А-Яа-яё0-9-\\s+\\.]+)(набережная)\", \\\n",
    "                               r\"([А-Яа-яё0-9-\\s+\\.]+)(площадь)\", \\\n",
    "                               r\"([А-Яа-яё0-9-\\s+\\.]+)(бульвар)\", \\\n",
    "                               r\"([А-Яа-яё0-9-\\s+\\.]+)(шоссе)\", \\\n",
    "                               r\"([А-Яа-яё0-9-\\s+\\.]+)(тракт)\", \\\n",
    "                               r\"([А-Яа-яё0-9-\\s+\\.]+)(квартал)\", \\\n",
    "                               r\"([А-Яа-яё0-9-\\s+\\.]+)(микрорайон)\"]"
   ]
  },
  {
   "cell_type": "markdown",
   "id": "f18d150d",
   "metadata": {},
   "source": [
    "Регулярное выражение, чтобы достать `номер дома`:"
   ]
  },
  {
   "cell_type": "code",
   "execution_count": 41,
   "id": "17308163",
   "metadata": {},
   "outputs": [],
   "source": [
    "number_pattern = r\"([\\d][0-9а-жёА-Ж\\.\\/]+|(\\d+))\""
   ]
  },
  {
   "cell_type": "code",
   "execution_count": 42,
   "id": "06016c20",
   "metadata": {},
   "outputs": [],
   "source": [
    "def get_part_street_name(address: str):\n",
    "    try:\n",
    "        name_street = re.search(second_street_pattern, address).group(2)\n",
    "        return name_street.strip()\n",
    "    except:\n",
    "        name_street = None\n",
    "    \n",
    "    try:\n",
    "        name_street = re.search(first_street_pattern, address).group(1)\n",
    "        return name_street.strip()\n",
    "    except:\n",
    "        name_street = None\n",
    "        \n",
    "    for pattern in second_group_street_patterns:\n",
    "         try:\n",
    "            name_street = re.findall(pattern, address)\n",
    "            return (name_street[0][0] + name_street[0][1]).strip()\n",
    "         except:\n",
    "            name_street = None\n",
    "            \n",
    "    for pattern in first_group_street_patterns:\n",
    "         try:\n",
    "            name_street = re.findall(pattern, address)\n",
    "            return (name_street[0][0] + name_street[0][1]).strip()\n",
    "         except:\n",
    "            name_street = None\n",
    "    return name_street"
   ]
  },
  {
   "cell_type": "code",
   "execution_count": 43,
   "id": "69dee15d",
   "metadata": {},
   "outputs": [],
   "source": [
    "df['street_name'] = df['address_rus'].apply(lambda x: get_part_street_name(x))"
   ]
  },
  {
   "cell_type": "markdown",
   "id": "bb6a3a97",
   "metadata": {},
   "source": [
    "Посмотрим адреса, которые есть на русском и к которым мы не смогли достать название улицы:"
   ]
  },
  {
   "cell_type": "code",
   "execution_count": 45,
   "id": "a50b1374",
   "metadata": {},
   "outputs": [
    {
     "data": {
      "text/plain": [
       "8      деревня Веледниково, городской округ Истра, Мо...\n",
       "30               19-я линия, 10, Иваново, Россия, 153031\n",
       "145    метро Площадь Габдуллы Тукая, Центральная лини...\n",
       "189    автодорога Красноярск-Железногорск, 20 км, Бер...\n",
       "249    срезка на 5 км, территория Спортивный клуб Ром...\n",
       "299    Буденновский лес, Красногвардейский район, Бел...\n",
       "300    Буденновский лес, Красногвардейский район, Бел...\n",
       "317    посёлок Красный Бор, 1, Ярославский район, Яро...\n",
       "400    посёлок Ростовка, 23, Омский район, Омская обл...\n",
       "438    СНТ 60 лет Октября, 60, Старый Оскол, Белгород...\n",
       "456    садовое товарищество Грибники, Венёвский район...\n",
       "497    А-181 Скандинавия, 132-й километр, Выборгский ...\n",
       "510    деревня Колпино, Краснохолмский район, Тверска...\n",
       "582    КАД, 29-й километр, внешнее кольцо, Санкт-Пете...\n",
       "590    СНТ Выбор, 194, село Немчиновка, Одинцовский р...\n",
       "594    посёлок Молодёжный, 14, городской округ Подоль...\n",
       "596    КАД, 29-й километр, внешнее кольцо, Санкт-Пете...\n",
       "665    поселок Новые Лапсары, городской округ Чебокса...\n",
       "707    деревня Самара, Михайловский район, Рязанская ...\n",
       "709    деревня Самара, Михайловский район, Рязанская ...\n",
       "Name: address_rus, dtype: object"
      ]
     },
     "execution_count": 45,
     "metadata": {},
     "output_type": "execute_result"
    }
   ],
   "source": [
    "empty_street = df[(df['address_rus'].notna()) & (df['street_name'].isnull())]\n",
    "empty_street['address_rus'].head(20)"
   ]
  },
  {
   "cell_type": "code",
   "execution_count": 46,
   "id": "56f95d6c",
   "metadata": {},
   "outputs": [
    {
     "data": {
      "text/plain": [
       "id                   0\n",
       "atm_group            0\n",
       "address              0\n",
       "address_rus          0\n",
       "lat                  0\n",
       "long                 0\n",
       "target               0\n",
       "len_address          0\n",
       "postal_code        154\n",
       "len_postal_code    154\n",
       "country              0\n",
       "city                20\n",
       "street_name        157\n",
       "dtype: int64"
      ]
     },
     "execution_count": 46,
     "metadata": {},
     "output_type": "execute_result"
    }
   ],
   "source": [
    "empty_street.isna().sum()"
   ]
  },
  {
   "cell_type": "code",
   "execution_count": 47,
   "id": "0ad085cb",
   "metadata": {},
   "outputs": [
    {
     "name": "stdout",
     "output_type": "stream",
     "text": [
      "Таких адресов получилось 2.6%.\n"
     ]
    }
   ],
   "source": [
    "steet_gaps = round(100 * empty_street['street_name'].isna().sum() / df[df['address_rus'].notna()].shape[0],1)\n",
    "print(f'Таких адресов получилось {steet_gaps}%.')"
   ]
  },
  {
   "cell_type": "markdown",
   "id": "eaf6c45f",
   "metadata": {},
   "source": [
    "__5. Достанем номера домов для адресов, из которых удалось достать название улицы:__"
   ]
  },
  {
   "cell_type": "code",
   "execution_count": 48,
   "id": "752dabe6",
   "metadata": {},
   "outputs": [],
   "source": [
    "def get_number(address: str):\n",
    "    try:\n",
    "        number = re.search(number_pattern, address).group(0)\n",
    "        return number.strip()\n",
    "    except:\n",
    "        number = None\n",
    "    return number"
   ]
  },
  {
   "cell_type": "code",
   "execution_count": 49,
   "id": "82e43451",
   "metadata": {},
   "outputs": [],
   "source": [
    "df['number'] = df[df['address_rus'].notna()]['address_rus'].apply(lambda x: get_number(x.split(', ')[1]))"
   ]
  },
  {
   "cell_type": "code",
   "execution_count": 50,
   "id": "3430f10b",
   "metadata": {},
   "outputs": [
    {
     "data": {
      "text/html": [
       "<div>\n",
       "<style scoped>\n",
       "    .dataframe tbody tr th:only-of-type {\n",
       "        vertical-align: middle;\n",
       "    }\n",
       "\n",
       "    .dataframe tbody tr th {\n",
       "        vertical-align: top;\n",
       "    }\n",
       "\n",
       "    .dataframe thead th {\n",
       "        text-align: right;\n",
       "    }\n",
       "</style>\n",
       "<table border=\"1\" class=\"dataframe\">\n",
       "  <thead>\n",
       "    <tr style=\"text-align: right;\">\n",
       "      <th></th>\n",
       "      <th>id</th>\n",
       "      <th>atm_group</th>\n",
       "      <th>address</th>\n",
       "      <th>address_rus</th>\n",
       "      <th>lat</th>\n",
       "      <th>long</th>\n",
       "      <th>target</th>\n",
       "      <th>len_address</th>\n",
       "      <th>postal_code</th>\n",
       "      <th>len_postal_code</th>\n",
       "      <th>country</th>\n",
       "      <th>city</th>\n",
       "      <th>street_name</th>\n",
       "      <th>number</th>\n",
       "    </tr>\n",
       "  </thead>\n",
       "  <tbody>\n",
       "    <tr>\n",
       "      <th>0</th>\n",
       "      <td>8526.0</td>\n",
       "      <td>32.0</td>\n",
       "      <td>EMELYANOVA,34          Y-SAKHALINSK</td>\n",
       "      <td>улица А.О. Емельянова, 34, Южно-Сахалинск, Сах...</td>\n",
       "      <td>46.940995</td>\n",
       "      <td>142.738319</td>\n",
       "      <td>0.011500</td>\n",
       "      <td>70.0</td>\n",
       "      <td>None</td>\n",
       "      <td>NaN</td>\n",
       "      <td>Россия</td>\n",
       "      <td>Южно-Сахалинск</td>\n",
       "      <td>А.О. Емельянова</td>\n",
       "      <td>34</td>\n",
       "    </tr>\n",
       "    <tr>\n",
       "      <th>1</th>\n",
       "      <td>8532.0</td>\n",
       "      <td>32.0</td>\n",
       "      <td>KOMSOMOLSKAYA,259B     Y.SAKHALINSK</td>\n",
       "      <td>Комсомольская улица, 259, Южно-Сахалинск, Саха...</td>\n",
       "      <td>46.937353</td>\n",
       "      <td>142.753348</td>\n",
       "      <td>0.029710</td>\n",
       "      <td>69.0</td>\n",
       "      <td>None</td>\n",
       "      <td>NaN</td>\n",
       "      <td>Россия</td>\n",
       "      <td>Комсомольск</td>\n",
       "      <td>Комсомольская</td>\n",
       "      <td>259</td>\n",
       "    </tr>\n",
       "    <tr>\n",
       "      <th>2</th>\n",
       "      <td>8533.0</td>\n",
       "      <td>32.0</td>\n",
       "      <td>KOMMUN. PR., 32        YUZHNO SAKHAL</td>\n",
       "      <td>Коммунистический проспект, Южно-Сахалинск, Сах...</td>\n",
       "      <td>46.959413</td>\n",
       "      <td>142.741113</td>\n",
       "      <td>0.009540</td>\n",
       "      <td>70.0</td>\n",
       "      <td>None</td>\n",
       "      <td>NaN</td>\n",
       "      <td>Россия</td>\n",
       "      <td>Южно-Сахалинск</td>\n",
       "      <td>Коммунистический проспект</td>\n",
       "      <td>None</td>\n",
       "    </tr>\n",
       "    <tr>\n",
       "      <th>3</th>\n",
       "      <td>8684.0</td>\n",
       "      <td>32.0</td>\n",
       "      <td>LENINGRADSKIY PR.,76A  MOSCOW</td>\n",
       "      <td>Ленинградский проспект, 76А, Москва, Россия, 1...</td>\n",
       "      <td>55.805827</td>\n",
       "      <td>37.515146</td>\n",
       "      <td>-0.094035</td>\n",
       "      <td>51.0</td>\n",
       "      <td>125315</td>\n",
       "      <td>6.0</td>\n",
       "      <td>Россия</td>\n",
       "      <td>Москва</td>\n",
       "      <td>Ленинградский проспект</td>\n",
       "      <td>76А</td>\n",
       "    </tr>\n",
       "    <tr>\n",
       "      <th>4</th>\n",
       "      <td>37.0</td>\n",
       "      <td>32.0</td>\n",
       "      <td>GVARDEYSKAYA PL., 2    NORILSK</td>\n",
       "      <td>Гвардейская площадь, 2, Норильск, Красноярский...</td>\n",
       "      <td>69.343541</td>\n",
       "      <td>88.211228</td>\n",
       "      <td>0.079277</td>\n",
       "      <td>67.0</td>\n",
       "      <td>663302</td>\n",
       "      <td>6.0</td>\n",
       "      <td>Россия</td>\n",
       "      <td>Гвардейск</td>\n",
       "      <td>Гвардейская площадь</td>\n",
       "      <td>2</td>\n",
       "    </tr>\n",
       "    <tr>\n",
       "      <th>...</th>\n",
       "      <td>...</td>\n",
       "      <td>...</td>\n",
       "      <td>...</td>\n",
       "      <td>...</td>\n",
       "      <td>...</td>\n",
       "      <td>...</td>\n",
       "      <td>...</td>\n",
       "      <td>...</td>\n",
       "      <td>...</td>\n",
       "      <td>...</td>\n",
       "      <td>...</td>\n",
       "      <td>...</td>\n",
       "      <td>...</td>\n",
       "      <td>...</td>\n",
       "    </tr>\n",
       "    <tr>\n",
       "      <th>6256</th>\n",
       "      <td>4402.0</td>\n",
       "      <td>8083.0</td>\n",
       "      <td>FEDORA POPOVA, 14      Yakutsk</td>\n",
       "      <td>улица Федора Попова, 14, Якутск, Республика Са...</td>\n",
       "      <td>62.045259</td>\n",
       "      <td>129.748896</td>\n",
       "      <td>0.207916</td>\n",
       "      <td>73.0</td>\n",
       "      <td>677009</td>\n",
       "      <td>6.0</td>\n",
       "      <td>Россия</td>\n",
       "      <td>Якутск</td>\n",
       "      <td>Федора Попова</td>\n",
       "      <td>14</td>\n",
       "    </tr>\n",
       "    <tr>\n",
       "      <th>6257</th>\n",
       "      <td>4421.0</td>\n",
       "      <td>8083.0</td>\n",
       "      <td>STROITELEY, 43         Novokuznetsk</td>\n",
       "      <td>проспект Строителей, 43, Новокузнецк, Кемеровс...</td>\n",
       "      <td>53.769459</td>\n",
       "      <td>87.117251</td>\n",
       "      <td>0.062220</td>\n",
       "      <td>73.0</td>\n",
       "      <td>654005</td>\n",
       "      <td>6.0</td>\n",
       "      <td>Россия</td>\n",
       "      <td>Новокузнецк</td>\n",
       "      <td>проспект Строителей</td>\n",
       "      <td>43</td>\n",
       "    </tr>\n",
       "    <tr>\n",
       "      <th>6258</th>\n",
       "      <td>4422.0</td>\n",
       "      <td>8083.0</td>\n",
       "      <td>Rublevskoye sh, 62     Moskva</td>\n",
       "      <td>Рублёвское шоссе, 62, Москва, Россия, 121609</td>\n",
       "      <td>55.766212</td>\n",
       "      <td>37.380875</td>\n",
       "      <td>0.108743</td>\n",
       "      <td>44.0</td>\n",
       "      <td>121609</td>\n",
       "      <td>6.0</td>\n",
       "      <td>Россия</td>\n",
       "      <td>Москва</td>\n",
       "      <td>Рублёвское шоссе</td>\n",
       "      <td>62</td>\n",
       "    </tr>\n",
       "    <tr>\n",
       "      <th>6259</th>\n",
       "      <td>4426.0</td>\n",
       "      <td>8083.0</td>\n",
       "      <td>EFANOVA, 22            Zyryanskoye</td>\n",
       "      <td>улица Ефанова, 22, село Зырянское, Зырянский р...</td>\n",
       "      <td>56.838223</td>\n",
       "      <td>86.640829</td>\n",
       "      <td>0.148938</td>\n",
       "      <td>75.0</td>\n",
       "      <td>None</td>\n",
       "      <td>NaN</td>\n",
       "      <td>Россия</td>\n",
       "      <td>Томск</td>\n",
       "      <td>Ефанова</td>\n",
       "      <td>22</td>\n",
       "    </tr>\n",
       "    <tr>\n",
       "      <th>6260</th>\n",
       "      <td>4429.0</td>\n",
       "      <td>8083.0</td>\n",
       "      <td>OMMUNISTICHESKAYA,10A  Kizhinga</td>\n",
       "      <td>Коммунистическая улица, 10А, село Кижинга, Киж...</td>\n",
       "      <td>51.848725</td>\n",
       "      <td>109.905102</td>\n",
       "      <td>0.089919</td>\n",
       "      <td>97.0</td>\n",
       "      <td>671450</td>\n",
       "      <td>6.0</td>\n",
       "      <td>Россия</td>\n",
       "      <td>None</td>\n",
       "      <td>Коммунистическая</td>\n",
       "      <td>10А</td>\n",
       "    </tr>\n",
       "  </tbody>\n",
       "</table>\n",
       "<p>6261 rows × 14 columns</p>\n",
       "</div>"
      ],
      "text/plain": [
       "          id  atm_group                                 address  \\\n",
       "0     8526.0       32.0  EMELYANOVA,34          Y-SAKHALINSK      \n",
       "1     8532.0       32.0  KOMSOMOLSKAYA,259B     Y.SAKHALINSK      \n",
       "2     8533.0       32.0  KOMMUN. PR., 32        YUZHNO SAKHAL     \n",
       "3     8684.0       32.0  LENINGRADSKIY PR.,76A  MOSCOW            \n",
       "4       37.0       32.0  GVARDEYSKAYA PL., 2    NORILSK           \n",
       "...      ...        ...                                     ...   \n",
       "6256  4402.0     8083.0  FEDORA POPOVA, 14      Yakutsk           \n",
       "6257  4421.0     8083.0  STROITELEY, 43         Novokuznetsk      \n",
       "6258  4422.0     8083.0  Rublevskoye sh, 62     Moskva            \n",
       "6259  4426.0     8083.0  EFANOVA, 22            Zyryanskoye       \n",
       "6260  4429.0     8083.0  OMMUNISTICHESKAYA,10A  Kizhinga          \n",
       "\n",
       "                                            address_rus        lat  \\\n",
       "0     улица А.О. Емельянова, 34, Южно-Сахалинск, Сах...  46.940995   \n",
       "1     Комсомольская улица, 259, Южно-Сахалинск, Саха...  46.937353   \n",
       "2     Коммунистический проспект, Южно-Сахалинск, Сах...  46.959413   \n",
       "3     Ленинградский проспект, 76А, Москва, Россия, 1...  55.805827   \n",
       "4     Гвардейская площадь, 2, Норильск, Красноярский...  69.343541   \n",
       "...                                                 ...        ...   \n",
       "6256  улица Федора Попова, 14, Якутск, Республика Са...  62.045259   \n",
       "6257  проспект Строителей, 43, Новокузнецк, Кемеровс...  53.769459   \n",
       "6258       Рублёвское шоссе, 62, Москва, Россия, 121609  55.766212   \n",
       "6259  улица Ефанова, 22, село Зырянское, Зырянский р...  56.838223   \n",
       "6260  Коммунистическая улица, 10А, село Кижинга, Киж...  51.848725   \n",
       "\n",
       "            long    target  len_address postal_code  len_postal_code country  \\\n",
       "0     142.738319  0.011500         70.0        None              NaN  Россия   \n",
       "1     142.753348  0.029710         69.0        None              NaN  Россия   \n",
       "2     142.741113  0.009540         70.0        None              NaN  Россия   \n",
       "3      37.515146 -0.094035         51.0      125315              6.0  Россия   \n",
       "4      88.211228  0.079277         67.0      663302              6.0  Россия   \n",
       "...          ...       ...          ...         ...              ...     ...   \n",
       "6256  129.748896  0.207916         73.0      677009              6.0  Россия   \n",
       "6257   87.117251  0.062220         73.0      654005              6.0  Россия   \n",
       "6258   37.380875  0.108743         44.0      121609              6.0  Россия   \n",
       "6259   86.640829  0.148938         75.0        None              NaN  Россия   \n",
       "6260  109.905102  0.089919         97.0      671450              6.0  Россия   \n",
       "\n",
       "                city                street_name number  \n",
       "0     Южно-Сахалинск            А.О. Емельянова     34  \n",
       "1        Комсомольск              Комсомольская    259  \n",
       "2     Южно-Сахалинск  Коммунистический проспект   None  \n",
       "3             Москва     Ленинградский проспект    76А  \n",
       "4          Гвардейск        Гвардейская площадь      2  \n",
       "...              ...                        ...    ...  \n",
       "6256          Якутск              Федора Попова     14  \n",
       "6257     Новокузнецк        проспект Строителей     43  \n",
       "6258          Москва           Рублёвское шоссе     62  \n",
       "6259           Томск                    Ефанова     22  \n",
       "6260            None           Коммунистическая    10А  \n",
       "\n",
       "[6261 rows x 14 columns]"
      ]
     },
     "execution_count": 50,
     "metadata": {},
     "output_type": "execute_result"
    }
   ],
   "source": [
    "df"
   ]
  },
  {
   "cell_type": "code",
   "execution_count": 51,
   "id": "d262514d",
   "metadata": {},
   "outputs": [
    {
     "data": {
      "text/plain": [
       "'Магаданская улица, 31, посёлок Хандыга, Томпонский муниципальный район, Республика Саха (Якутия), Россия, 678720'"
      ]
     },
     "execution_count": 51,
     "metadata": {},
     "output_type": "execute_result"
    }
   ],
   "source": [
    "df['address_rus'][1343]"
   ]
  },
  {
   "cell_type": "markdown",
   "id": "941944a1",
   "metadata": {},
   "source": [
    "Сделаем промежуточный вывод о структуре данных и потенциальных проблемах. По записи 1343 (см. ячейку выше) можно видеть муниципальный формат записи адреса. В муниципальном делении указывают структуры местного самоуправления, например, регион, районы, сельские и городские поселения, муниципальные округа. Данный факт усложняет формат записи адреса для его парсинга на составлящие. Также имеются записи о банкоматах в нашем датасете, адресов на русском с географическими координатами которых нет вовсе."
   ]
  }
 ],
 "metadata": {
  "kernelspec": {
   "display_name": "Python 3 (ipykernel)",
   "language": "python",
   "name": "python3"
  },
  "language_info": {
   "codemirror_mode": {
    "name": "ipython",
    "version": 3
   },
   "file_extension": ".py",
   "mimetype": "text/x-python",
   "name": "python",
   "nbconvert_exporter": "python",
   "pygments_lexer": "ipython3",
   "version": "3.9.7"
  }
 },
 "nbformat": 4,
 "nbformat_minor": 5
}
