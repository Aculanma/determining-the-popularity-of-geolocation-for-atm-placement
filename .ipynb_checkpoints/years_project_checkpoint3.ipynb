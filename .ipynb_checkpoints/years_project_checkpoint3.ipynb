{
 "cells": [
  {
   "cell_type": "markdown",
   "id": "d7dd3fec",
   "metadata": {},
   "source": [
    "# Годовой проект - Определение популярности геолокации для размещения банкомата"
   ]
  },
  {
   "cell_type": "markdown",
   "id": "e1bd7f6d",
   "metadata": {},
   "source": [
    "`Куратор`: \n",
    "- Ковалева Александра  \n",
    "    \n",
    "`Команда`:\n",
    "- Цуканов Николай Сергеевич\n",
    "- Исхаков Ильдус Халитович\n",
    "- Устименко Кирилл Александрович\n",
    "- Волокитина Анастасия Евгеньевна"
   ]
  },
  {
   "cell_type": "markdown",
   "id": "9ef0d87b",
   "metadata": {},
   "source": [
    "## Исходные данные"
   ]
  },
  {
   "cell_type": "markdown",
   "id": "f1910a4a",
   "metadata": {},
   "source": [
    "`id` - идентификатор банкомата  \n",
    "`atm_group` - принадлежность банкомата к группе  \n",
    "`address` - адрес банкомата на английском  \n",
    "`address_rus` - адрес банкомата на русском  \n",
    "`lat` - широта  \n",
    "`long` - долгота    \n",
    "`target` - целевая метрика  "
   ]
  },
  {
   "cell_type": "markdown",
   "id": "9c5bf0df",
   "metadata": {},
   "source": [
    "Импортируем библиотеки:"
   ]
  },
  {
   "cell_type": "code",
   "execution_count": 1268,
   "id": "e679a024",
   "metadata": {},
   "outputs": [],
   "source": [
    "import pandas as pd\n",
    "import numpy as np\n",
    "import seaborn as sns\n",
    "import matplotlib.pyplot as plt\n",
    "import re"
   ]
  },
  {
   "cell_type": "markdown",
   "id": "dd8870f3",
   "metadata": {},
   "source": [
    "Загрузим данные:"
   ]
  },
  {
   "cell_type": "code",
   "execution_count": 1271,
   "id": "55904fb5",
   "metadata": {},
   "outputs": [],
   "source": [
    "df_train = pd.read_csv('train.csv', index_col=0)\n",
    "df_test = pd.read_csv('test.csv', index_col=0)"
   ]
  },
  {
   "cell_type": "code",
   "execution_count": 1273,
   "id": "6b95f0c5",
   "metadata": {},
   "outputs": [
    {
     "name": "stdout",
     "output_type": "stream",
     "text": [
      "Данные для обучающей выборки состоят из 6261 строки и 7 столбцов.\n",
      "Данные для тестовой выборки состоят из 2504 строк и 6 столбцов.\n"
     ]
    }
   ],
   "source": [
    "train_rows, train_columns = df_train.shape\n",
    "test_rows, test_columns = df_test.shape\n",
    "print(f'Данные для обучающей выборки состоят из {train_rows} строки и {train_columns} столбцов.') \n",
    "print(f'Данные для тестовой выборки состоят из {test_rows} строк и {test_columns} столбцов.') "
   ]
  },
  {
   "cell_type": "markdown",
   "id": "fa6376e3",
   "metadata": {},
   "source": [
    "Посмотрим на наши наблюдения:"
   ]
  },
  {
   "cell_type": "code",
   "execution_count": 1276,
   "id": "6c176d10",
   "metadata": {},
   "outputs": [
    {
     "data": {
      "text/html": [
       "<div>\n",
       "<style scoped>\n",
       "    .dataframe tbody tr th:only-of-type {\n",
       "        vertical-align: middle;\n",
       "    }\n",
       "\n",
       "    .dataframe tbody tr th {\n",
       "        vertical-align: top;\n",
       "    }\n",
       "\n",
       "    .dataframe thead th {\n",
       "        text-align: right;\n",
       "    }\n",
       "</style>\n",
       "<table border=\"1\" class=\"dataframe\">\n",
       "  <thead>\n",
       "    <tr style=\"text-align: right;\">\n",
       "      <th></th>\n",
       "      <th>id</th>\n",
       "      <th>atm_group</th>\n",
       "      <th>address</th>\n",
       "      <th>address_rus</th>\n",
       "      <th>lat</th>\n",
       "      <th>long</th>\n",
       "      <th>target</th>\n",
       "    </tr>\n",
       "  </thead>\n",
       "  <tbody>\n",
       "    <tr>\n",
       "      <th>4432</th>\n",
       "      <td>5,704.00</td>\n",
       "      <td>5,478.00</td>\n",
       "      <td>D. 6, UL. SOVETSKAYA      SAFONOVO G</td>\n",
       "      <td>Советская улица, 6, Сафоново, Смоленская область, Россия, 215500</td>\n",
       "      <td>55.11</td>\n",
       "      <td>33.25</td>\n",
       "      <td>-0.03</td>\n",
       "    </tr>\n",
       "    <tr>\n",
       "      <th>3366</th>\n",
       "      <td>7,166.00</td>\n",
       "      <td>5,478.00</td>\n",
       "      <td>D. 4, UL. PETRISHEVA      DZERZHINSK G</td>\n",
       "      <td>улица Петрищева, 4, Дзержинск, Нижегородская область, Россия, 606029</td>\n",
       "      <td>56.24</td>\n",
       "      <td>43.43</td>\n",
       "      <td>-0.07</td>\n",
       "    </tr>\n",
       "    <tr>\n",
       "      <th>3949</th>\n",
       "      <td>419.00</td>\n",
       "      <td>1,942.00</td>\n",
       "      <td>52 MIRA AV.               KRASNOYARSK</td>\n",
       "      <td>проспект Мира, 52, Красноярск, Россия, 660049</td>\n",
       "      <td>56.01</td>\n",
       "      <td>92.88</td>\n",
       "      <td>0.04</td>\n",
       "    </tr>\n",
       "    <tr>\n",
       "      <th>431</th>\n",
       "      <td>2,416.00</td>\n",
       "      <td>3,185.50</td>\n",
       "      <td>UL.SHILKINSKAYA, 42       VLADIVOSTOK</td>\n",
       "      <td>Шилкинская улица, 38, Владивосток, Приморский край, Россия, 690066</td>\n",
       "      <td>43.12</td>\n",
       "      <td>131.93</td>\n",
       "      <td>0.02</td>\n",
       "    </tr>\n",
       "    <tr>\n",
       "      <th>5891</th>\n",
       "      <td>7,124.00</td>\n",
       "      <td>5,478.00</td>\n",
       "      <td>D. 1, UL. ZAGORODNAYA     GURYEVSK G</td>\n",
       "      <td>Загородная улица, 1, Гурьевск, Калининградская область, Россия, 238300</td>\n",
       "      <td>54.78</td>\n",
       "      <td>20.59</td>\n",
       "      <td>-0.08</td>\n",
       "    </tr>\n",
       "  </tbody>\n",
       "</table>\n",
       "</div>"
      ],
      "text/plain": [
       "           id  atm_group                                 address                                                             address_rus   lat   long  target\n",
       "4432 5,704.00   5,478.00  D. 6, UL. SOVETSKAYA      SAFONOVO G          Советская улица, 6, Сафоново, Смоленская область, Россия, 215500 55.11  33.25   -0.03\n",
       "3366 7,166.00   5,478.00  D. 4, UL. PETRISHEVA      DZERZHINSK G    улица Петрищева, 4, Дзержинск, Нижегородская область, Россия, 606029 56.24  43.43   -0.07\n",
       "3949   419.00   1,942.00  52 MIRA AV.               KRASNOYARSK                            проспект Мира, 52, Красноярск, Россия, 660049 56.01  92.88    0.04\n",
       "431  2,416.00   3,185.50  UL.SHILKINSKAYA, 42       VLADIVOSTOK       Шилкинская улица, 38, Владивосток, Приморский край, Россия, 690066 43.12 131.93    0.02\n",
       "5891 7,124.00   5,478.00  D. 1, UL. ZAGORODNAYA     GURYEVSK G    Загородная улица, 1, Гурьевск, Калининградская область, Россия, 238300 54.78  20.59   -0.08"
      ]
     },
     "execution_count": 1276,
     "metadata": {},
     "output_type": "execute_result"
    }
   ],
   "source": [
    "df_train.sample(5)"
   ]
  },
  {
   "cell_type": "markdown",
   "id": "e2a13a07",
   "metadata": {},
   "source": [
    "## Часть 1 | EDA и визуализация"
   ]
  },
  {
   "cell_type": "markdown",
   "id": "565e87ff",
   "metadata": {},
   "source": [
    "__1. Посмотрим на типы данных:__"
   ]
  },
  {
   "cell_type": "code",
   "execution_count": 1280,
   "id": "c5fbebd5",
   "metadata": {},
   "outputs": [
    {
     "name": "stdout",
     "output_type": "stream",
     "text": [
      "<class 'pandas.core.frame.DataFrame'>\n",
      "Index: 6261 entries, 0 to 6260\n",
      "Data columns (total 7 columns):\n",
      " #   Column       Non-Null Count  Dtype  \n",
      "---  ------       --------------  -----  \n",
      " 0   id           6261 non-null   float64\n",
      " 1   atm_group    6261 non-null   float64\n",
      " 2   address      6261 non-null   object \n",
      " 3   address_rus  5957 non-null   object \n",
      " 4   lat          5957 non-null   float64\n",
      " 5   long         5957 non-null   float64\n",
      " 6   target       6261 non-null   float64\n",
      "dtypes: float64(5), object(2)\n",
      "memory usage: 391.3+ KB\n"
     ]
    }
   ],
   "source": [
    "df_train.info()"
   ]
  },
  {
   "cell_type": "markdown",
   "id": "df748e34",
   "metadata": {},
   "source": [
    "__2. Посмотрим на наличие пропусков:__"
   ]
  },
  {
   "cell_type": "code",
   "execution_count": 1283,
   "id": "4f497c54",
   "metadata": {},
   "outputs": [
    {
     "data": {
      "text/plain": [
       "id               0\n",
       "atm_group        0\n",
       "address          0\n",
       "address_rus    304\n",
       "lat            304\n",
       "long           304\n",
       "target           0\n",
       "dtype: int64"
      ]
     },
     "execution_count": 1283,
     "metadata": {},
     "output_type": "execute_result"
    }
   ],
   "source": [
    "df_train.isna().sum()"
   ]
  },
  {
   "cell_type": "code",
   "execution_count": 1285,
   "id": "63e9bc44",
   "metadata": {},
   "outputs": [],
   "source": [
    "data_gaps = round(100 * df_train[df_train['address_rus'].isna()].shape[0] / df_train.shape[0], 2)"
   ]
  },
  {
   "cell_type": "code",
   "execution_count": 1287,
   "id": "209563d1",
   "metadata": {},
   "outputs": [
    {
     "name": "stdout",
     "output_type": "stream",
     "text": [
      "Имеется 304 банкомата (4.86% от общего числа) без указания адреса на русском и географических координат.\n"
     ]
    }
   ],
   "source": [
    "print(f'Имеется 304 банкомата ({data_gaps}% от общего числа) без указания адреса на русском и географических координат.')"
   ]
  },
  {
   "cell_type": "markdown",
   "id": "7e7a19cf",
   "metadata": {},
   "source": [
    "__3. Посмотрим на наличие полных дублей:__"
   ]
  },
  {
   "cell_type": "code",
   "execution_count": 1290,
   "id": "1d6a1dc8",
   "metadata": {},
   "outputs": [
    {
     "data": {
      "text/plain": [
       "0"
      ]
     },
     "execution_count": 1290,
     "metadata": {},
     "output_type": "execute_result"
    }
   ],
   "source": [
    "df_train.duplicated().sum()"
   ]
  },
  {
   "cell_type": "markdown",
   "id": "f3981299",
   "metadata": {},
   "source": [
    "Дубли отсутствуют."
   ]
  },
  {
   "cell_type": "markdown",
   "id": "ceab7460-5ee7-4c8d-87c4-68575fde2757",
   "metadata": {},
   "source": [
    "__4. Посмотрим на описательные статистики:__"
   ]
  },
  {
   "cell_type": "markdown",
   "id": "2eedcc47",
   "metadata": {},
   "source": [
    "Посмотрим на количественные переменные:"
   ]
  },
  {
   "cell_type": "code",
   "execution_count": 1295,
   "id": "f45dc97f",
   "metadata": {},
   "outputs": [],
   "source": [
    "pd.options.display.float_format = '{:,.2f}'.format"
   ]
  },
  {
   "cell_type": "code",
   "execution_count": 1297,
   "id": "c2f799ff",
   "metadata": {},
   "outputs": [
    {
     "data": {
      "text/html": [
       "<div>\n",
       "<style scoped>\n",
       "    .dataframe tbody tr th:only-of-type {\n",
       "        vertical-align: middle;\n",
       "    }\n",
       "\n",
       "    .dataframe tbody tr th {\n",
       "        vertical-align: top;\n",
       "    }\n",
       "\n",
       "    .dataframe thead th {\n",
       "        text-align: right;\n",
       "    }\n",
       "</style>\n",
       "<table border=\"1\" class=\"dataframe\">\n",
       "  <thead>\n",
       "    <tr style=\"text-align: right;\">\n",
       "      <th></th>\n",
       "      <th>id</th>\n",
       "      <th>atm_group</th>\n",
       "      <th>lat</th>\n",
       "      <th>long</th>\n",
       "      <th>target</th>\n",
       "    </tr>\n",
       "  </thead>\n",
       "  <tbody>\n",
       "    <tr>\n",
       "      <th>count</th>\n",
       "      <td>6,261.00</td>\n",
       "      <td>6,261.00</td>\n",
       "      <td>5,957.00</td>\n",
       "      <td>5,957.00</td>\n",
       "      <td>6,261.00</td>\n",
       "    </tr>\n",
       "    <tr>\n",
       "      <th>mean</th>\n",
       "      <td>4,419.12</td>\n",
       "      <td>4,417.94</td>\n",
       "      <td>54.16</td>\n",
       "      <td>63.52</td>\n",
       "      <td>0.00</td>\n",
       "    </tr>\n",
       "    <tr>\n",
       "      <th>std</th>\n",
       "      <td>2,547.21</td>\n",
       "      <td>2,430.41</td>\n",
       "      <td>4.35</td>\n",
       "      <td>33.02</td>\n",
       "      <td>0.09</td>\n",
       "    </tr>\n",
       "    <tr>\n",
       "      <th>min</th>\n",
       "      <td>5.00</td>\n",
       "      <td>32.00</td>\n",
       "      <td>42.06</td>\n",
       "      <td>19.94</td>\n",
       "      <td>-0.15</td>\n",
       "    </tr>\n",
       "    <tr>\n",
       "      <th>25%</th>\n",
       "      <td>2,228.00</td>\n",
       "      <td>1,942.00</td>\n",
       "      <td>52.25</td>\n",
       "      <td>37.86</td>\n",
       "      <td>-0.06</td>\n",
       "    </tr>\n",
       "    <tr>\n",
       "      <th>50%</th>\n",
       "      <td>4,392.00</td>\n",
       "      <td>5,478.00</td>\n",
       "      <td>55.07</td>\n",
       "      <td>48.58</td>\n",
       "      <td>-0.02</td>\n",
       "    </tr>\n",
       "    <tr>\n",
       "      <th>75%</th>\n",
       "      <td>6,660.00</td>\n",
       "      <td>5,478.00</td>\n",
       "      <td>56.12</td>\n",
       "      <td>84.95</td>\n",
       "      <td>0.04</td>\n",
       "    </tr>\n",
       "    <tr>\n",
       "      <th>max</th>\n",
       "      <td>8,811.00</td>\n",
       "      <td>8,083.00</td>\n",
       "      <td>69.49</td>\n",
       "      <td>173.71</td>\n",
       "      <td>0.22</td>\n",
       "    </tr>\n",
       "  </tbody>\n",
       "</table>\n",
       "</div>"
      ],
      "text/plain": [
       "            id  atm_group      lat     long   target\n",
       "count 6,261.00   6,261.00 5,957.00 5,957.00 6,261.00\n",
       "mean  4,419.12   4,417.94    54.16    63.52     0.00\n",
       "std   2,547.21   2,430.41     4.35    33.02     0.09\n",
       "min       5.00      32.00    42.06    19.94    -0.15\n",
       "25%   2,228.00   1,942.00    52.25    37.86    -0.06\n",
       "50%   4,392.00   5,478.00    55.07    48.58    -0.02\n",
       "75%   6,660.00   5,478.00    56.12    84.95     0.04\n",
       "max   8,811.00   8,083.00    69.49   173.71     0.22"
      ]
     },
     "execution_count": 1297,
     "metadata": {},
     "output_type": "execute_result"
    }
   ],
   "source": [
    "df_train.describe(include='number')"
   ]
  },
  {
   "cell_type": "code",
   "execution_count": 1299,
   "id": "90b8bb60",
   "metadata": {},
   "outputs": [
    {
     "data": {
      "text/html": [
       "<div>\n",
       "<style scoped>\n",
       "    .dataframe tbody tr th:only-of-type {\n",
       "        vertical-align: middle;\n",
       "    }\n",
       "\n",
       "    .dataframe tbody tr th {\n",
       "        vertical-align: top;\n",
       "    }\n",
       "\n",
       "    .dataframe thead th {\n",
       "        text-align: right;\n",
       "    }\n",
       "</style>\n",
       "<table border=\"1\" class=\"dataframe\">\n",
       "  <thead>\n",
       "    <tr style=\"text-align: right;\">\n",
       "      <th></th>\n",
       "      <th>id</th>\n",
       "      <th>atm_group</th>\n",
       "      <th>lat</th>\n",
       "      <th>long</th>\n",
       "    </tr>\n",
       "  </thead>\n",
       "  <tbody>\n",
       "    <tr>\n",
       "      <th>count</th>\n",
       "      <td>2,504.00</td>\n",
       "      <td>2,504.00</td>\n",
       "      <td>2,388.00</td>\n",
       "      <td>2,388.00</td>\n",
       "    </tr>\n",
       "    <tr>\n",
       "      <th>mean</th>\n",
       "      <td>4,368.24</td>\n",
       "      <td>4,379.68</td>\n",
       "      <td>54.08</td>\n",
       "      <td>63.45</td>\n",
       "    </tr>\n",
       "    <tr>\n",
       "      <th>std</th>\n",
       "      <td>2,530.93</td>\n",
       "      <td>2,421.99</td>\n",
       "      <td>4.29</td>\n",
       "      <td>32.21</td>\n",
       "    </tr>\n",
       "    <tr>\n",
       "      <th>min</th>\n",
       "      <td>1.00</td>\n",
       "      <td>32.00</td>\n",
       "      <td>42.65</td>\n",
       "      <td>20.44</td>\n",
       "    </tr>\n",
       "    <tr>\n",
       "      <th>25%</th>\n",
       "      <td>2,146.50</td>\n",
       "      <td>1,942.00</td>\n",
       "      <td>52.21</td>\n",
       "      <td>37.81</td>\n",
       "    </tr>\n",
       "    <tr>\n",
       "      <th>50%</th>\n",
       "      <td>4,437.50</td>\n",
       "      <td>5,478.00</td>\n",
       "      <td>55.04</td>\n",
       "      <td>49.15</td>\n",
       "    </tr>\n",
       "    <tr>\n",
       "      <th>75%</th>\n",
       "      <td>6,468.50</td>\n",
       "      <td>5,478.00</td>\n",
       "      <td>56.10</td>\n",
       "      <td>84.95</td>\n",
       "    </tr>\n",
       "    <tr>\n",
       "      <th>max</th>\n",
       "      <td>8,808.00</td>\n",
       "      <td>8,083.00</td>\n",
       "      <td>69.50</td>\n",
       "      <td>160.85</td>\n",
       "    </tr>\n",
       "  </tbody>\n",
       "</table>\n",
       "</div>"
      ],
      "text/plain": [
       "            id  atm_group      lat     long\n",
       "count 2,504.00   2,504.00 2,388.00 2,388.00\n",
       "mean  4,368.24   4,379.68    54.08    63.45\n",
       "std   2,530.93   2,421.99     4.29    32.21\n",
       "min       1.00      32.00    42.65    20.44\n",
       "25%   2,146.50   1,942.00    52.21    37.81\n",
       "50%   4,437.50   5,478.00    55.04    49.15\n",
       "75%   6,468.50   5,478.00    56.10    84.95\n",
       "max   8,808.00   8,083.00    69.50   160.85"
      ]
     },
     "execution_count": 1299,
     "metadata": {},
     "output_type": "execute_result"
    }
   ],
   "source": [
    "df_test.describe(include='number')"
   ]
  },
  {
   "cell_type": "markdown",
   "id": "0f1aa949",
   "metadata": {},
   "source": [
    "Широта может иметь значения от 0 до 90 градусов, долгота - от 0 до 180 градусов. Наши наблюдения не выходят за рамки этих пределов.  "
   ]
  },
  {
   "cell_type": "markdown",
   "id": "c77e3739",
   "metadata": {},
   "source": [
    "Посмотрим на категориальные переменные:"
   ]
  },
  {
   "cell_type": "code",
   "execution_count": 1303,
   "id": "e11f33ea",
   "metadata": {},
   "outputs": [
    {
     "data": {
      "text/html": [
       "<div>\n",
       "<style scoped>\n",
       "    .dataframe tbody tr th:only-of-type {\n",
       "        vertical-align: middle;\n",
       "    }\n",
       "\n",
       "    .dataframe tbody tr th {\n",
       "        vertical-align: top;\n",
       "    }\n",
       "\n",
       "    .dataframe thead th {\n",
       "        text-align: right;\n",
       "    }\n",
       "</style>\n",
       "<table border=\"1\" class=\"dataframe\">\n",
       "  <thead>\n",
       "    <tr style=\"text-align: right;\">\n",
       "      <th></th>\n",
       "      <th>address</th>\n",
       "      <th>address_rus</th>\n",
       "    </tr>\n",
       "  </thead>\n",
       "  <tbody>\n",
       "    <tr>\n",
       "      <th>count</th>\n",
       "      <td>6261</td>\n",
       "      <td>5957</td>\n",
       "    </tr>\n",
       "    <tr>\n",
       "      <th>unique</th>\n",
       "      <td>5343</td>\n",
       "      <td>4553</td>\n",
       "    </tr>\n",
       "    <tr>\n",
       "      <th>top</th>\n",
       "      <td>HOROSHEVSKOE SH,V38       MOSKVA</td>\n",
       "      <td>улица Ватутина, 107, Новосибирск, Россия, 630024</td>\n",
       "    </tr>\n",
       "    <tr>\n",
       "      <th>freq</th>\n",
       "      <td>7</td>\n",
       "      <td>8</td>\n",
       "    </tr>\n",
       "  </tbody>\n",
       "</table>\n",
       "</div>"
      ],
      "text/plain": [
       "                                       address                                       address_rus\n",
       "count                                     6261                                              5957\n",
       "unique                                    5343                                              4553\n",
       "top     HOROSHEVSKOE SH,V38       MOSKVA        улица Ватутина, 107, Новосибирск, Россия, 630024\n",
       "freq                                         7                                                 8"
      ]
     },
     "execution_count": 1303,
     "metadata": {},
     "output_type": "execute_result"
    }
   ],
   "source": [
    "df_train.describe(include='object')"
   ]
  },
  {
   "cell_type": "code",
   "execution_count": 1305,
   "id": "e053b7dd",
   "metadata": {},
   "outputs": [
    {
     "data": {
      "text/html": [
       "<div>\n",
       "<style scoped>\n",
       "    .dataframe tbody tr th:only-of-type {\n",
       "        vertical-align: middle;\n",
       "    }\n",
       "\n",
       "    .dataframe tbody tr th {\n",
       "        vertical-align: top;\n",
       "    }\n",
       "\n",
       "    .dataframe thead th {\n",
       "        text-align: right;\n",
       "    }\n",
       "</style>\n",
       "<table border=\"1\" class=\"dataframe\">\n",
       "  <thead>\n",
       "    <tr style=\"text-align: right;\">\n",
       "      <th></th>\n",
       "      <th>address</th>\n",
       "      <th>address_rus</th>\n",
       "    </tr>\n",
       "  </thead>\n",
       "  <tbody>\n",
       "    <tr>\n",
       "      <th>count</th>\n",
       "      <td>2504</td>\n",
       "      <td>2388</td>\n",
       "    </tr>\n",
       "    <tr>\n",
       "      <th>unique</th>\n",
       "      <td>2138</td>\n",
       "      <td>1952</td>\n",
       "    </tr>\n",
       "    <tr>\n",
       "      <th>top</th>\n",
       "      <td>30/32 KUTUZOVSKIY PR.     MOSCOW</td>\n",
       "      <td>Кутузовский проспект, 30, Москва, Россия, 121165</td>\n",
       "    </tr>\n",
       "    <tr>\n",
       "      <th>freq</th>\n",
       "      <td>6</td>\n",
       "      <td>6</td>\n",
       "    </tr>\n",
       "  </tbody>\n",
       "</table>\n",
       "</div>"
      ],
      "text/plain": [
       "                                       address                                       address_rus\n",
       "count                                     2504                                              2388\n",
       "unique                                    2138                                              1952\n",
       "top     30/32 KUTUZOVSKIY PR.     MOSCOW        Кутузовский проспект, 30, Москва, Россия, 121165\n",
       "freq                                         6                                                 6"
      ]
     },
     "execution_count": 1305,
     "metadata": {},
     "output_type": "execute_result"
    }
   ],
   "source": [
    "df_test.describe(include='object')"
   ]
  },
  {
   "cell_type": "markdown",
   "id": "deccfb10",
   "metadata": {},
   "source": [
    "__5. Посмотрим сколько банкоматов принадлежит той или иной группе:__"
   ]
  },
  {
   "cell_type": "code",
   "execution_count": 1308,
   "id": "b7438eb1",
   "metadata": {},
   "outputs": [
    {
     "data": {
      "text/html": [
       "<div>\n",
       "<style scoped>\n",
       "    .dataframe tbody tr th:only-of-type {\n",
       "        vertical-align: middle;\n",
       "    }\n",
       "\n",
       "    .dataframe tbody tr th {\n",
       "        vertical-align: top;\n",
       "    }\n",
       "\n",
       "    .dataframe thead th {\n",
       "        text-align: right;\n",
       "    }\n",
       "</style>\n",
       "<table border=\"1\" class=\"dataframe\">\n",
       "  <thead>\n",
       "    <tr style=\"text-align: right;\">\n",
       "      <th></th>\n",
       "      <th>atm_group</th>\n",
       "      <th>atm_count</th>\n",
       "    </tr>\n",
       "  </thead>\n",
       "  <tbody>\n",
       "    <tr>\n",
       "      <th>5</th>\n",
       "      <td>5,478.00</td>\n",
       "      <td>2662</td>\n",
       "    </tr>\n",
       "    <tr>\n",
       "      <th>3</th>\n",
       "      <td>1,942.00</td>\n",
       "      <td>1160</td>\n",
       "    </tr>\n",
       "    <tr>\n",
       "      <th>6</th>\n",
       "      <td>8,083.00</td>\n",
       "      <td>1050</td>\n",
       "    </tr>\n",
       "    <tr>\n",
       "      <th>1</th>\n",
       "      <td>496.50</td>\n",
       "      <td>616</td>\n",
       "    </tr>\n",
       "    <tr>\n",
       "      <th>4</th>\n",
       "      <td>3,185.50</td>\n",
       "      <td>594</td>\n",
       "    </tr>\n",
       "    <tr>\n",
       "      <th>2</th>\n",
       "      <td>1,022.00</td>\n",
       "      <td>136</td>\n",
       "    </tr>\n",
       "    <tr>\n",
       "      <th>0</th>\n",
       "      <td>32.00</td>\n",
       "      <td>43</td>\n",
       "    </tr>\n",
       "  </tbody>\n",
       "</table>\n",
       "</div>"
      ],
      "text/plain": [
       "   atm_group  atm_count\n",
       "5   5,478.00       2662\n",
       "3   1,942.00       1160\n",
       "6   8,083.00       1050\n",
       "1     496.50        616\n",
       "4   3,185.50        594\n",
       "2   1,022.00        136\n",
       "0      32.00         43"
      ]
     },
     "execution_count": 1308,
     "metadata": {},
     "output_type": "execute_result"
    }
   ],
   "source": [
    "df_train.groupby('atm_group', as_index=False).agg(atm_count=('atm_group', 'count')).sort_values(by='atm_count', ascending=False)"
   ]
  },
  {
   "cell_type": "markdown",
   "id": "d4e2967b",
   "metadata": {},
   "source": [
    "__6. Уберем возможные пробелы для наших записей:__"
   ]
  },
  {
   "cell_type": "code",
   "execution_count": 1311,
   "id": "7d492c7f",
   "metadata": {},
   "outputs": [],
   "source": [
    "df_train['address_rus'] = df_train['address_rus'].apply(lambda x: x.strip() if pd.notnull(x) else None)\n",
    "df_test['address_rus'] = df_test['address_rus'].apply(lambda x: x.strip() if pd.notnull(x) else None)"
   ]
  },
  {
   "cell_type": "markdown",
   "id": "9bec471d",
   "metadata": {},
   "source": [
    "__7. Посмотрим на длину записей адресов:__"
   ]
  },
  {
   "cell_type": "code",
   "execution_count": 1314,
   "id": "ef0ff8e3",
   "metadata": {},
   "outputs": [],
   "source": [
    "df_train['len_address'] = df_train['address_rus'].apply(lambda x: len(x) if x != None else None)"
   ]
  },
  {
   "cell_type": "code",
   "execution_count": 1316,
   "id": "5263c3d6",
   "metadata": {},
   "outputs": [
    {
     "data": {
      "text/plain": [
       "(27.0, 144.0)"
      ]
     },
     "execution_count": 1316,
     "metadata": {},
     "output_type": "execute_result"
    }
   ],
   "source": [
    "df_train['len_address'].min(), df_train['len_address'].max()"
   ]
  },
  {
   "cell_type": "markdown",
   "id": "b8eb60d7",
   "metadata": {},
   "source": [
    "Посмотрим на самый длинный адрес в наших данных:"
   ]
  },
  {
   "cell_type": "code",
   "execution_count": 1319,
   "id": "716b68fc",
   "metadata": {},
   "outputs": [
    {
     "data": {
      "text/plain": [
       "'Волжская улица, 1, посёлок городского типа Ванино, городское поселение Рабочий Посёлок Ванино, Ванинский район, Хабаровский край, Россия, 682860'"
      ]
     },
     "execution_count": 1319,
     "metadata": {},
     "output_type": "execute_result"
    }
   ],
   "source": [
    "df_train[df_train['len_address'] == 144]['address_rus'].loc[3579]"
   ]
  },
  {
   "cell_type": "markdown",
   "id": "4b9cf954",
   "metadata": {},
   "source": [
    "Каких-то аномально длинных адресов нет."
   ]
  },
  {
   "cell_type": "markdown",
   "id": "6eddf0bf",
   "metadata": {},
   "source": [
    "__8. Посмотрим на формат записей адресов банкоматов на русском:__"
   ]
  },
  {
   "cell_type": "code",
   "execution_count": 1323,
   "id": "f487a800",
   "metadata": {},
   "outputs": [
    {
     "data": {
      "text/plain": [
       "'улица А.О. Емельянова, 34, Южно-Сахалинск, Сахалинская область, Россия'"
      ]
     },
     "execution_count": 1323,
     "metadata": {},
     "output_type": "execute_result"
    }
   ],
   "source": [
    "df_train['address_rus'][0]"
   ]
  },
  {
   "cell_type": "code",
   "execution_count": 1325,
   "id": "141b27af",
   "metadata": {},
   "outputs": [
    {
     "data": {
      "text/plain": [
       "'Большая Московская улица, 90А, Владимир, Россия, 600000'"
      ]
     },
     "execution_count": 1325,
     "metadata": {},
     "output_type": "execute_result"
    }
   ],
   "source": [
    "df_train['address_rus'][10]"
   ]
  },
  {
   "cell_type": "code",
   "execution_count": 1327,
   "id": "99f4b7a2",
   "metadata": {},
   "outputs": [
    {
     "data": {
      "text/plain": [
       "'Магаданская улица, 31, посёлок Хандыга, Томпонский муниципальный район, Республика Саха (Якутия), Россия, 678720'"
      ]
     },
     "execution_count": 1327,
     "metadata": {},
     "output_type": "execute_result"
    }
   ],
   "source": [
    "df_train['address_rus'][1343]"
   ]
  },
  {
   "cell_type": "markdown",
   "id": "fe97c956",
   "metadata": {},
   "source": [
    "__9. Спарсим наши адреса на русском на составляющие: `почтовый индекс`, `страна`, `город`, `улица`, `дом`:__"
   ]
  },
  {
   "cell_type": "markdown",
   "id": "d4dd1d8e",
   "metadata": {},
   "source": [
    "9.1 Достанем из адреса почтовый индекс, если он имеется:__"
   ]
  },
  {
   "cell_type": "code",
   "execution_count": 1331,
   "id": "0b43a1f1",
   "metadata": {},
   "outputs": [],
   "source": [
    "def get_postal_code(address: str):\n",
    "    \"\"\"\n",
    "    Функция возвращает индекс из строки адреса\n",
    "    \"\"\"\n",
    "    address = address.split(', ')\n",
    "    if address[-1].isdigit():\n",
    "        return address[-1]\n",
    "    else:\n",
    "        return None"
   ]
  },
  {
   "cell_type": "code",
   "execution_count": 1333,
   "id": "58426e1e",
   "metadata": {},
   "outputs": [],
   "source": [
    "df_train['postal_code'] = df_train['address_rus'].apply(lambda x: get_postal_code(x) if pd.notnull(x) else None)\n",
    "df_test['postal_code'] = df_test['address_rus'].apply(lambda x: get_postal_code(x) if pd.notnull(x) else None)"
   ]
  },
  {
   "cell_type": "markdown",
   "id": "5bd1e450",
   "metadata": {},
   "source": [
    "В России принята 6-значная система почтовых индексов XXXYYY, где XXX - код субъекта федерации, YYY - номер почтового отделения в нем, но крупные города, такие как, например, Москва имеет несколько кодов. Проверим какой длины имеющиеся индексы в наших данных:"
   ]
  },
  {
   "cell_type": "code",
   "execution_count": 1336,
   "id": "c4603086",
   "metadata": {},
   "outputs": [],
   "source": [
    "df_train['len_postal_code'] = df_train['postal_code'].apply(lambda x: len(x) if pd.notnull(x) else None)"
   ]
  },
  {
   "cell_type": "code",
   "execution_count": 1338,
   "id": "06ebfb2c",
   "metadata": {},
   "outputs": [
    {
     "data": {
      "text/plain": [
       "array([nan,  6.])"
      ]
     },
     "execution_count": 1338,
     "metadata": {},
     "output_type": "execute_result"
    }
   ],
   "source": [
    "df_train['len_postal_code'].unique()"
   ]
  },
  {
   "cell_type": "markdown",
   "id": "aaf36a68",
   "metadata": {},
   "source": [
    "Все имеющиеся почтовые индексы имеют нужную длину."
   ]
  },
  {
   "cell_type": "markdown",
   "id": "58d720de",
   "metadata": {},
   "source": [
    "9.2 Достанем из адреса страну, если она имеется:"
   ]
  },
  {
   "cell_type": "code",
   "execution_count": 1342,
   "id": "423eb987",
   "metadata": {},
   "outputs": [],
   "source": [
    "def get_country(address: str):\n",
    "    \"\"\"\n",
    "    Функция возвращает страну из строки адреса\n",
    "    \"\"\"\n",
    "    address = address.split(', ')\n",
    "    if address[-1].isalpha():\n",
    "        return address[-1]\n",
    "    elif address[-2].isalpha():\n",
    "        return address[-2]\n",
    "    else:\n",
    "        return None"
   ]
  },
  {
   "cell_type": "code",
   "execution_count": 1344,
   "id": "a1adb75a",
   "metadata": {},
   "outputs": [],
   "source": [
    "df_train['country'] = df_train['address_rus'].apply(lambda x: get_country(x) if pd.notnull(x) else None)\n",
    "df_test['country'] = df_test['address_rus'].apply(lambda x: get_country(x) if pd.notnull(x) else None)"
   ]
  },
  {
   "cell_type": "code",
   "execution_count": 1346,
   "id": "a6fe8149",
   "metadata": {},
   "outputs": [
    {
     "data": {
      "text/plain": [
       "array(['Россия', None], dtype=object)"
      ]
     },
     "execution_count": 1346,
     "metadata": {},
     "output_type": "execute_result"
    }
   ],
   "source": [
    "df_train['country'].unique()"
   ]
  },
  {
   "cell_type": "markdown",
   "id": "a9ed01d8",
   "metadata": {},
   "source": [
    "Без неожиданностей - все адреса банкоматов в России."
   ]
  },
  {
   "cell_type": "markdown",
   "id": "3c124944",
   "metadata": {},
   "source": [
    "9.3 Достанем из адреса населенный пункт, если он имеется:"
   ]
  },
  {
   "cell_type": "markdown",
   "id": "f34d526b",
   "metadata": {},
   "source": [
    "Возьмем список городов России из Википедии:"
   ]
  },
  {
   "cell_type": "code",
   "execution_count": 1351,
   "id": "0ca2978d",
   "metadata": {},
   "outputs": [],
   "source": [
    "url = 'https://ru.wikipedia.org/wiki/%D0%A1%D0%BF%D0%B8%D1%81%D0%BE%D0%BA_%D0%B3%D0%BE%D1%80%D0%BE%D0%B4%D0%BE%D0%B2_%D0%A0%D0%BE%D1%81%D1%81%D0%B8%D0%B8'\n",
    "test = pd.read_html(url)[0]\n",
    "cities = test['Город']"
   ]
  },
  {
   "cell_type": "code",
   "execution_count": 1352,
   "id": "b43b44a4-8466-4db0-b9f1-ecc0e42ee15d",
   "metadata": {},
   "outputs": [
    {
     "data": {
      "text/plain": [
       "0           Абаза\n",
       "1          Абакан\n",
       "2        Абдулино\n",
       "3          Абинск\n",
       "4         Агидель\n",
       "          ...    \n",
       "1120    Ярославль\n",
       "1121       Ярцево\n",
       "1122    Ясногорск\n",
       "1123        Ясный\n",
       "1124       Яхрома\n",
       "Name: Город, Length: 1125, dtype: object"
      ]
     },
     "execution_count": 1352,
     "metadata": {},
     "output_type": "execute_result"
    }
   ],
   "source": [
    "cities"
   ]
  },
  {
   "cell_type": "markdown",
   "id": "fb1f0b3c-5941-44b8-8045-c03f025e09fa",
   "metadata": {},
   "source": [
    "Регулярное выражение, чтобы достать из адреса населенный пункт:"
   ]
  },
  {
   "cell_type": "code",
   "execution_count": 1356,
   "id": "254d5279-4d9d-45f9-8eb1-6b0ddb6d908e",
   "metadata": {},
   "outputs": [],
   "source": [
    "settlement_pattern = r\"(село\\s[а-яА-Я0-9\\s]+)|(посёлок городского типа\\s[а-яА-Я0-9\\s]+)|(деревня\\s[а-яА-Я0-9]+)|(СНТ\\s[а-яА-Я0-9\\s]+)|(поселок городского типа\\s[а-яА-Я0-9\\s]+)|(поселок\\s[а-яА-Я0-9\\s]+)|(посёлок\\s[а-яА-Я0-9\\s]+)|(сельское поселение\\s[а-яА-Я0-9\\s]+)|(посёлок\\s[а-яА-Я0-9\\s]+)|(садовое товарищество\\s[а-яА-Я0-9\\s]+)|(Особая экономическая\\s[а-яА-Я0-9\\s]+)\""
   ]
  },
  {
   "cell_type": "code",
   "execution_count": 1358,
   "id": "5bf35cae",
   "metadata": {},
   "outputs": [],
   "source": [
    "def get_settlement(address: str):\n",
    "    \"\"\"\n",
    "    Функция возвращает населенный пункт из строки адреса\n",
    "    \"\"\"\n",
    "    for city in cities:\n",
    "        if city in address:\n",
    "            return city\n",
    "    try:\n",
    "        settlement = re.search(settlement_pattern, address).group(0)\n",
    "        return settlement.strip()\n",
    "    except:\n",
    "        settlement = None\n",
    "    return settlement"
   ]
  },
  {
   "cell_type": "code",
   "execution_count": 1360,
   "id": "767315cd-0823-4cc8-bc5d-506a86c952d9",
   "metadata": {},
   "outputs": [],
   "source": [
    "df_train['settlement'] = df_train['address_rus'].apply(lambda x: get_settlement(x) if pd.notnull(x) else None)\n",
    "df_test['settlement'] = df_test['address_rus'].apply(lambda x: get_settlement(x) if pd.notnull(x) else None)"
   ]
  },
  {
   "cell_type": "markdown",
   "id": "ede29759",
   "metadata": {},
   "source": [
    "Посмотрим какая доля записей осталась без города среди адресов, которые имеют запись на русском:"
   ]
  },
  {
   "cell_type": "code",
   "execution_count": 1362,
   "id": "bec99f07",
   "metadata": {},
   "outputs": [],
   "source": [
    "no_settlement = round(100 * df_train[(df_train['address_rus'].notnull()) & (df_train['settlement'].isnull())].shape[0] / df_train[df_train['address_rus'].notnull()].shape[0], 1)"
   ]
  },
  {
   "cell_type": "code",
   "execution_count": 1363,
   "id": "4d7ad106",
   "metadata": {},
   "outputs": [
    {
     "name": "stdout",
     "output_type": "stream",
     "text": [
      "0.2%\n"
     ]
    }
   ],
   "source": [
    "print(f'{no_settlement}%')"
   ]
  },
  {
   "cell_type": "markdown",
   "id": "0905b562",
   "metadata": {},
   "source": [
    "9.4 Достанем из адеса улицу, если она имеется:"
   ]
  },
  {
   "cell_type": "markdown",
   "id": "7d86cc1c",
   "metadata": {},
   "source": [
    "Регулярное выражение, чтобы достать из адреса название улицы, когда сперва идет слово `улица`, а потом название:"
   ]
  },
  {
   "cell_type": "code",
   "execution_count": 1369,
   "id": "05b2cbae",
   "metadata": {},
   "outputs": [],
   "source": [
    "second_street_pattern = r\"(улица)([А-Яа-яё0-9-\\s+\\.]+)\""
   ]
  },
  {
   "cell_type": "markdown",
   "id": "441d4b5d",
   "metadata": {},
   "source": [
    "Регулярное выражение, чтобы достать из адреса название улицы, когда сперва идет название, а потом слово `улица`:"
   ]
  },
  {
   "cell_type": "code",
   "execution_count": 1372,
   "id": "ab50f952",
   "metadata": {},
   "outputs": [],
   "source": [
    "first_street_pattern = r\"([А-Яа-яё0-9-\\s+\\.]+)(улица)\""
   ]
  },
  {
   "cell_type": "markdown",
   "id": "6e00fc52",
   "metadata": {},
   "source": [
    "Регулярное выражение, чтобы достать название улицы, когда сперва идут слова `проспект`, `проезд`, `переулок`, `набережная`, `площадь`, `бульвар`, `шоссе`, `тракт`, `квартал`, `микрорайон`, а потом название:"
   ]
  },
  {
   "cell_type": "code",
   "execution_count": 1375,
   "id": "aa88e954",
   "metadata": {},
   "outputs": [],
   "source": [
    "second_group_street_patterns = [r\"(проспект)([А-Яа-яё0-9-\\s+\\.]+)\", \\\n",
    "                                r\"(проезд)([А-Яа-яё0-9-\\s+\\.]+)\", \\\n",
    "                                r\"(переулок)([А-Яа-яё0-9-\\s+\\.]+)\", \\\n",
    "                                r\"(набережная)([А-Яа-яё0-9-\\s+\\.]+)\", \\\n",
    "                                r\"(площадь)([А-Яа-яё0-9-\\s+\\.]+)\", \\\n",
    "                                r\"(бульвар)([А-Яа-яё0-9-\\s+\\.]+)\", \\\n",
    "                                r\"(шоссе)([А-Яа-яё0-9-\\s+\\.]+)\", \\\n",
    "                                r\"(тракт)([А-Яа-яё0-9-\\s+\\.]+)\", \\\n",
    "                                r\"(квартал)([А-Яа-яё0-9-\\s+\\.]+)\", \\\n",
    "                                r\"(микрорайон)([А-Яа-яё0-9-\\s+\\.]+)\"]"
   ]
  },
  {
   "cell_type": "markdown",
   "id": "fa5bc14e",
   "metadata": {},
   "source": [
    "Регулярное выражение, чтобы достать название улицы, когда сперва идет название, а потом слова `проспект`, `проезд`, `переулок`, `набережная`, `площадь`, `бульвар`, `шоссе`, `тракт`, `квартал`, `микрорайон`:"
   ]
  },
  {
   "cell_type": "code",
   "execution_count": 1377,
   "id": "c4a4f9e9",
   "metadata": {},
   "outputs": [],
   "source": [
    "first_group_street_patterns = [r\"([А-Яа-яё0-9-\\s+\\.]+)(проспект)\", \\\n",
    "                               r\"([А-Яа-яё0-9-\\s+\\.]+)(проезд)\", \\\n",
    "                               r\"([А-Яа-яё0-9-\\s+\\.]+)(переулок)\", \\\n",
    "                               r\"([А-Яа-яё0-9-\\s+\\.]+)(набережная)\", \\\n",
    "                               r\"([А-Яа-яё0-9-\\s+\\.]+)(площадь)\", \\\n",
    "                               r\"([А-Яа-яё0-9-\\s+\\.]+)(бульвар)\", \\\n",
    "                               r\"([А-Яа-яё0-9-\\s+\\.]+)(шоссе)\", \\\n",
    "                               r\"([А-Яа-яё0-9-\\s+\\.]+)(тракт)\", \\\n",
    "                               r\"([А-Яа-яё0-9-\\s+\\.]+)(квартал)\", \\\n",
    "                               r\"([А-Яа-яё0-9-\\s+\\.]+)(микрорайон)\"]"
   ]
  },
  {
   "cell_type": "markdown",
   "id": "f18d150d",
   "metadata": {},
   "source": [
    "Регулярное выражение, чтобы достать `номер дома`:"
   ]
  },
  {
   "cell_type": "code",
   "execution_count": 1381,
   "id": "17308163",
   "metadata": {},
   "outputs": [],
   "source": [
    "number_pattern = r\"([\\d][0-9а-жёА-Ж\\.\\/]+|(\\d+))\""
   ]
  },
  {
   "cell_type": "code",
   "execution_count": 1383,
   "id": "06016c20",
   "metadata": {},
   "outputs": [],
   "source": [
    "def get_part_street_name(address: str):\n",
    "    \"\"\"\n",
    "    Функция возвращает название улицы из строки адреса\n",
    "    \"\"\"\n",
    "    try:\n",
    "        name_street = re.search(second_street_pattern, address).group(2)\n",
    "        return name_street.strip()\n",
    "    except:\n",
    "        name_street = None\n",
    "    \n",
    "    try:\n",
    "        name_street = re.search(first_street_pattern, address).group(1)\n",
    "        return name_street.strip()\n",
    "    except:\n",
    "        name_street = None\n",
    "        \n",
    "    for pattern in second_group_street_patterns:\n",
    "         try:\n",
    "            name_street = re.findall(pattern, address)\n",
    "            return (name_street[0][0] + name_street[0][1]).strip()\n",
    "         except:\n",
    "            name_street = None\n",
    "            \n",
    "    for pattern in first_group_street_patterns:\n",
    "         try:\n",
    "            name_street = re.findall(pattern, address)\n",
    "            return (name_street[0][0] + name_street[0][1]).strip()\n",
    "         except:\n",
    "            name_street = None\n",
    "    return name_street"
   ]
  },
  {
   "cell_type": "code",
   "execution_count": 1385,
   "id": "69dee15d",
   "metadata": {},
   "outputs": [],
   "source": [
    "df_train['street_name'] = df_train['address_rus'].apply(lambda x: get_part_street_name(x))\n",
    "df_test['street_name'] = df_test['address_rus'].apply(lambda x: get_part_street_name(x))"
   ]
  },
  {
   "cell_type": "markdown",
   "id": "bb6a3a97",
   "metadata": {},
   "source": [
    "Посмотрим адреса, которые есть на русском и к которым мы не смогли достать название улицы:"
   ]
  },
  {
   "cell_type": "code",
   "execution_count": 1388,
   "id": "a50b1374",
   "metadata": {},
   "outputs": [
    {
     "data": {
      "text/plain": [
       "8                       деревня Веледниково, городской округ Истра, Московская область, Россия\n",
       "30                                                     19-я линия, 10, Иваново, Россия, 153031\n",
       "145      метро Площадь Габдуллы Тукая, Центральная линия, Казань, Республика Татарстан, Россия\n",
       "189    автодорога Красноярск-Железногорск, 20 км, Берёзовский район, Красноярский край, Россия\n",
       "249                       срезка на 5 км, территория Спортивный клуб Ромашково, Москва, Россия\n",
       "299                    Буденновский лес, Красногвардейский район, Белгородская область, Россия\n",
       "300                    Буденновский лес, Красногвардейский район, Белгородская область, Россия\n",
       "317                     посёлок Красный Бор, 1, Ярославский район, Ярославская область, Россия\n",
       "400                                 посёлок Ростовка, 23, Омский район, Омская область, Россия\n",
       "438                         СНТ 60 лет Октября, 60, Старый Оскол, Белгородская область, Россия\n",
       "456                   садовое товарищество Грибники, Венёвский район, Тульская область, Россия\n",
       "497         А-181 Скандинавия, 132-й километр, Выборгский район, Ленинградская область, Россия\n",
       "510                            деревня Колпино, Краснохолмский район, Тверская область, Россия\n",
       "582                                КАД, 29-й километр, внешнее кольцо, Санкт-Петербург, Россия\n",
       "590             СНТ Выбор, 194, село Немчиновка, Одинцовский район, Московская область, Россия\n",
       "594               посёлок Молодёжный, 14, городской округ Подольск, Московская область, Россия\n",
       "596                                КАД, 29-й километр, внешнее кольцо, Санкт-Петербург, Россия\n",
       "665             поселок Новые Лапсары, городской округ Чебоксары, Чувашская Республика, Россия\n",
       "707                              деревня Самара, Михайловский район, Рязанская область, Россия\n",
       "709                              деревня Самара, Михайловский район, Рязанская область, Россия\n",
       "Name: address_rus, dtype: object"
      ]
     },
     "execution_count": 1388,
     "metadata": {},
     "output_type": "execute_result"
    }
   ],
   "source": [
    "empty_street = df_train[(df_train['address_rus'].notnull()) & (df_train['street_name'].isnull())]\n",
    "empty_street['address_rus'].head(20)"
   ]
  },
  {
   "cell_type": "code",
   "execution_count": 1390,
   "id": "56f95d6c",
   "metadata": {},
   "outputs": [
    {
     "data": {
      "text/plain": [
       "id                   0\n",
       "atm_group            0\n",
       "address              0\n",
       "address_rus          0\n",
       "lat                  0\n",
       "long                 0\n",
       "target               0\n",
       "len_address          0\n",
       "postal_code        154\n",
       "len_postal_code    154\n",
       "country              0\n",
       "settlement           7\n",
       "street_name        157\n",
       "dtype: int64"
      ]
     },
     "execution_count": 1390,
     "metadata": {},
     "output_type": "execute_result"
    }
   ],
   "source": [
    "empty_street.isna().sum()"
   ]
  },
  {
   "cell_type": "code",
   "execution_count": 1392,
   "id": "0ad085cb",
   "metadata": {},
   "outputs": [
    {
     "name": "stdout",
     "output_type": "stream",
     "text": [
      "Таких адресов получилось 2.6%.\n"
     ]
    }
   ],
   "source": [
    "steet_gaps = round(100 * empty_street['street_name'].isna().sum() / df_train[df_train['address_rus'].notnull()].shape[0],1)\n",
    "print(f'Таких адресов получилось {steet_gaps}%.')"
   ]
  },
  {
   "cell_type": "markdown",
   "id": "eaf6c45f",
   "metadata": {},
   "source": [
    "9.5 Достанем номера домов для адресов, из которых удалось достать название улицы:"
   ]
  },
  {
   "cell_type": "code",
   "execution_count": 1395,
   "id": "752dabe6",
   "metadata": {},
   "outputs": [],
   "source": [
    "def get_number(address: str):\n",
    "    \"\"\"\n",
    "    Функция возвращает номер дома из строки адреса\n",
    "    \"\"\"\n",
    "    try:\n",
    "        number = re.search(number_pattern, address).group(0)\n",
    "        return number.strip()\n",
    "    except:\n",
    "        number = None\n",
    "    return number"
   ]
  },
  {
   "cell_type": "code",
   "execution_count": 1397,
   "id": "82e43451",
   "metadata": {},
   "outputs": [],
   "source": [
    "df_train['number'] = df_train[df_train['address_rus'].notnull()]['address_rus'].apply(lambda x: get_number(x.split(', ')[1]))\n",
    "df_test['number'] = df_test[df_test['address_rus'].notnull()]['address_rus'].apply(lambda x: get_number(x.split(', ')[1]))"
   ]
  },
  {
   "cell_type": "code",
   "execution_count": 1399,
   "id": "3430f10b",
   "metadata": {},
   "outputs": [
    {
     "data": {
      "text/html": [
       "<div>\n",
       "<style scoped>\n",
       "    .dataframe tbody tr th:only-of-type {\n",
       "        vertical-align: middle;\n",
       "    }\n",
       "\n",
       "    .dataframe tbody tr th {\n",
       "        vertical-align: top;\n",
       "    }\n",
       "\n",
       "    .dataframe thead th {\n",
       "        text-align: right;\n",
       "    }\n",
       "</style>\n",
       "<table border=\"1\" class=\"dataframe\">\n",
       "  <thead>\n",
       "    <tr style=\"text-align: right;\">\n",
       "      <th></th>\n",
       "      <th>id</th>\n",
       "      <th>atm_group</th>\n",
       "      <th>address</th>\n",
       "      <th>address_rus</th>\n",
       "      <th>lat</th>\n",
       "      <th>long</th>\n",
       "      <th>target</th>\n",
       "      <th>len_address</th>\n",
       "      <th>postal_code</th>\n",
       "      <th>len_postal_code</th>\n",
       "      <th>country</th>\n",
       "      <th>settlement</th>\n",
       "      <th>street_name</th>\n",
       "      <th>number</th>\n",
       "    </tr>\n",
       "  </thead>\n",
       "  <tbody>\n",
       "    <tr>\n",
       "      <th>4076</th>\n",
       "      <td>1,026.00</td>\n",
       "      <td>1,942.00</td>\n",
       "      <td>50 LET OKTYABRYA 12       KRASNOGORSK</td>\n",
       "      <td>улица 50 лет Октября, 12, Красногорск, Московская область, Россия</td>\n",
       "      <td>55.82</td>\n",
       "      <td>37.31</td>\n",
       "      <td>0.05</td>\n",
       "      <td>65.00</td>\n",
       "      <td>None</td>\n",
       "      <td>NaN</td>\n",
       "      <td>Россия</td>\n",
       "      <td>Красногорск</td>\n",
       "      <td>50 лет Октября</td>\n",
       "      <td>12</td>\n",
       "    </tr>\n",
       "    <tr>\n",
       "      <th>584</th>\n",
       "      <td>5,126.00</td>\n",
       "      <td>5,478.00</td>\n",
       "      <td>D. 8, KORP. 2, UL. SOSNOV KIROVO-CHEPE</td>\n",
       "      <td>Сосновая улица, 8к2, Кирово-Чепецк, Кировская область, Россия, 613047</td>\n",
       "      <td>58.54</td>\n",
       "      <td>50.03</td>\n",
       "      <td>-0.05</td>\n",
       "      <td>69.00</td>\n",
       "      <td>613047</td>\n",
       "      <td>6.00</td>\n",
       "      <td>Россия</td>\n",
       "      <td>Киров</td>\n",
       "      <td>Сосновая</td>\n",
       "      <td>8</td>\n",
       "    </tr>\n",
       "    <tr>\n",
       "      <th>800</th>\n",
       "      <td>6,756.00</td>\n",
       "      <td>5,478.00</td>\n",
       "      <td>D. 59, UL. DUKI           BRYANSK G</td>\n",
       "      <td>улица Дуки, 59, Брянск, Россия, 241050</td>\n",
       "      <td>53.26</td>\n",
       "      <td>34.36</td>\n",
       "      <td>-0.02</td>\n",
       "      <td>38.00</td>\n",
       "      <td>241050</td>\n",
       "      <td>6.00</td>\n",
       "      <td>Россия</td>\n",
       "      <td>Брянск</td>\n",
       "      <td>Дуки</td>\n",
       "      <td>59</td>\n",
       "    </tr>\n",
       "    <tr>\n",
       "      <th>1327</th>\n",
       "      <td>8,538.00</td>\n",
       "      <td>496.50</td>\n",
       "      <td>KHARKOVSKAYA 3            KURSK</td>\n",
       "      <td>Харьковская улица, 3, Курск, Россия, 305018</td>\n",
       "      <td>51.67</td>\n",
       "      <td>36.15</td>\n",
       "      <td>-0.06</td>\n",
       "      <td>43.00</td>\n",
       "      <td>305018</td>\n",
       "      <td>6.00</td>\n",
       "      <td>Россия</td>\n",
       "      <td>Курск</td>\n",
       "      <td>Харьковская</td>\n",
       "      <td>3</td>\n",
       "    </tr>\n",
       "    <tr>\n",
       "      <th>2094</th>\n",
       "      <td>7,126.00</td>\n",
       "      <td>5,478.00</td>\n",
       "      <td>D. 5, UL. LENINA          LENINSK-KUZN</td>\n",
       "      <td>улица Ленина, 5А, Ленинск-Кузнецкий, Кемеровская область, Россия, 652518</td>\n",
       "      <td>54.66</td>\n",
       "      <td>86.15</td>\n",
       "      <td>-0.06</td>\n",
       "      <td>72.00</td>\n",
       "      <td>652518</td>\n",
       "      <td>6.00</td>\n",
       "      <td>Россия</td>\n",
       "      <td>Кузнецк</td>\n",
       "      <td>Ленина</td>\n",
       "      <td>5А</td>\n",
       "    </tr>\n",
       "  </tbody>\n",
       "</table>\n",
       "</div>"
      ],
      "text/plain": [
       "           id  atm_group                                 address                                                               address_rus   lat  long  target  len_address postal_code  len_postal_code country   settlement     street_name number\n",
       "4076 1,026.00   1,942.00  50 LET OKTYABRYA 12       KRASNOGORSK          улица 50 лет Октября, 12, Красногорск, Московская область, Россия 55.82 37.31    0.05        65.00        None              NaN  Россия  Красногорск  50 лет Октября     12\n",
       "584  5,126.00   5,478.00  D. 8, KORP. 2, UL. SOSNOV KIROVO-CHEPE     Сосновая улица, 8к2, Кирово-Чепецк, Кировская область, Россия, 613047 58.54 50.03   -0.05        69.00      613047             6.00  Россия        Киров        Сосновая      8\n",
       "800  6,756.00   5,478.00  D. 59, UL. DUKI           BRYANSK G                                       улица Дуки, 59, Брянск, Россия, 241050 53.26 34.36   -0.02        38.00      241050             6.00  Россия       Брянск            Дуки     59\n",
       "1327 8,538.00     496.50  KHARKOVSKAYA 3            KURSK                                      Харьковская улица, 3, Курск, Россия, 305018 51.67 36.15   -0.06        43.00      305018             6.00  Россия        Курск     Харьковская      3\n",
       "2094 7,126.00   5,478.00  D. 5, UL. LENINA          LENINSK-KUZN  улица Ленина, 5А, Ленинск-Кузнецкий, Кемеровская область, Россия, 652518 54.66 86.15   -0.06        72.00      652518             6.00  Россия      Кузнецк          Ленина     5А"
      ]
     },
     "execution_count": 1399,
     "metadata": {},
     "output_type": "execute_result"
    }
   ],
   "source": [
    "df_train.sample(5)"
   ]
  },
  {
   "cell_type": "markdown",
   "id": "10f13626",
   "metadata": {},
   "source": [
    "__10. Посмотрим какое количество населенных пунктов представлено в наших данных:__"
   ]
  },
  {
   "cell_type": "code",
   "execution_count": 1402,
   "id": "b53c8aa2",
   "metadata": {
    "scrolled": true
   },
   "outputs": [
    {
     "data": {
      "text/plain": [
       "484"
      ]
     },
     "execution_count": 1402,
     "metadata": {},
     "output_type": "execute_result"
    }
   ],
   "source": [
    "df_train['settlement'].nunique()"
   ]
  },
  {
   "cell_type": "markdown",
   "id": "17f4cc8e",
   "metadata": {},
   "source": [
    "__11. Выведем топ-10 городов по численности банкоматов по городам:__"
   ]
  },
  {
   "cell_type": "code",
   "execution_count": 1405,
   "id": "3d21d5a0",
   "metadata": {},
   "outputs": [],
   "source": [
    "top_10_atms = df_train.groupby('settlement', as_index=False).agg(atm=('id', 'count')).sort_values(by='atm', ascending=False).head(10)"
   ]
  },
  {
   "cell_type": "code",
   "execution_count": 1407,
   "id": "7fd0a5af",
   "metadata": {},
   "outputs": [],
   "source": [
    "top_10_atms['share,%'] = round(100 * top_10_atms['atm'] / df_train.shape[0], 1)"
   ]
  },
  {
   "cell_type": "code",
   "execution_count": 1409,
   "id": "048b6c8a",
   "metadata": {
    "scrolled": true
   },
   "outputs": [
    {
     "data": {
      "text/html": [
       "<div>\n",
       "<style scoped>\n",
       "    .dataframe tbody tr th:only-of-type {\n",
       "        vertical-align: middle;\n",
       "    }\n",
       "\n",
       "    .dataframe tbody tr th {\n",
       "        vertical-align: top;\n",
       "    }\n",
       "\n",
       "    .dataframe thead th {\n",
       "        text-align: right;\n",
       "    }\n",
       "</style>\n",
       "<table border=\"1\" class=\"dataframe\">\n",
       "  <thead>\n",
       "    <tr style=\"text-align: right;\">\n",
       "      <th></th>\n",
       "      <th>settlement</th>\n",
       "      <th>atm</th>\n",
       "      <th>share,%</th>\n",
       "    </tr>\n",
       "  </thead>\n",
       "  <tbody>\n",
       "    <tr>\n",
       "      <th>262</th>\n",
       "      <td>Москва</td>\n",
       "      <td>504</td>\n",
       "      <td>8.00</td>\n",
       "    </tr>\n",
       "    <tr>\n",
       "      <th>207</th>\n",
       "      <td>Красноярск</td>\n",
       "      <td>214</td>\n",
       "      <td>3.40</td>\n",
       "    </tr>\n",
       "    <tr>\n",
       "      <th>346</th>\n",
       "      <td>Санкт-Петербург</td>\n",
       "      <td>176</td>\n",
       "      <td>2.80</td>\n",
       "    </tr>\n",
       "    <tr>\n",
       "      <th>287</th>\n",
       "      <td>Новосибирск</td>\n",
       "      <td>138</td>\n",
       "      <td>2.20</td>\n",
       "    </tr>\n",
       "    <tr>\n",
       "      <th>184</th>\n",
       "      <td>Киров</td>\n",
       "      <td>126</td>\n",
       "      <td>2.00</td>\n",
       "    </tr>\n",
       "    <tr>\n",
       "      <th>203</th>\n",
       "      <td>Краснодар</td>\n",
       "      <td>121</td>\n",
       "      <td>1.90</td>\n",
       "    </tr>\n",
       "    <tr>\n",
       "      <th>296</th>\n",
       "      <td>Омск</td>\n",
       "      <td>114</td>\n",
       "      <td>1.80</td>\n",
       "    </tr>\n",
       "    <tr>\n",
       "      <th>78</th>\n",
       "      <td>Владивосток</td>\n",
       "      <td>99</td>\n",
       "      <td>1.60</td>\n",
       "    </tr>\n",
       "    <tr>\n",
       "      <th>130</th>\n",
       "      <td>Екатеринбург</td>\n",
       "      <td>94</td>\n",
       "      <td>1.50</td>\n",
       "    </tr>\n",
       "    <tr>\n",
       "      <th>10</th>\n",
       "      <td>Амурск</td>\n",
       "      <td>91</td>\n",
       "      <td>1.50</td>\n",
       "    </tr>\n",
       "  </tbody>\n",
       "</table>\n",
       "</div>"
      ],
      "text/plain": [
       "          settlement  atm  share,%\n",
       "262           Москва  504     8.00\n",
       "207       Красноярск  214     3.40\n",
       "346  Санкт-Петербург  176     2.80\n",
       "287      Новосибирск  138     2.20\n",
       "184            Киров  126     2.00\n",
       "203        Краснодар  121     1.90\n",
       "296             Омск  114     1.80\n",
       "78       Владивосток   99     1.60\n",
       "130     Екатеринбург   94     1.50\n",
       "10            Амурск   91     1.50"
      ]
     },
     "execution_count": 1409,
     "metadata": {},
     "output_type": "execute_result"
    }
   ],
   "source": [
    "top_10_atms"
   ]
  },
  {
   "cell_type": "code",
   "execution_count": 1411,
   "id": "0f4a2a01",
   "metadata": {},
   "outputs": [
    {
     "data": {
      "image/png": "[encoded data removed]",
      "text/plain": [
       "<Figure size 1500x600 with 1 Axes>"
      ]
     },
     "metadata": {},
     "output_type": "display_data"
    }
   ],
   "source": [
    "plt.figure(figsize=(15, 6))\n",
    "plt.bar(x=top_10_atms['settlement'], height=top_10_atms['atm'])\n",
    "plt.title('Распределение банкоматов Росбанка по населенным пунктам России ', fontsize=20)\n",
    "sns.color_palette('pastel')\n",
    "plt.xticks(rotation=60)\n",
    "plt.xlabel('Населенный пункт')\n",
    "plt.ylabel('Количество банкоматов')\n",
    "\n",
    "plt.show()"
   ]
  },
  {
   "cell_type": "markdown",
   "id": "6fec3af0",
   "metadata": {},
   "source": [
    "__12. Посмотрим на распределение таргета:__"
   ]
  },
  {
   "cell_type": "code",
   "execution_count": 1414,
   "id": "cadc10a4",
   "metadata": {},
   "outputs": [
    {
     "data": {
      "image/png": "[encoded data removed]",
      "text/plain": [
       "<Figure size 1500x600 with 1 Axes>"
      ]
     },
     "metadata": {},
     "output_type": "display_data"
    }
   ],
   "source": [
    "plt.figure(figsize=(15, 6))\n",
    "plt.title('Распределение таргета ', fontsize=20)\n",
    "sns.histplot(df_train, x='target')\n",
    "sns.color_palette('pastel')\n",
    "plt.xlabel('target')\n",
    "plt.ylabel('frequency')\n",
    "\n",
    "plt.show()"
   ]
  },
  {
   "cell_type": "code",
   "execution_count": 1416,
   "id": "e1d23b11",
   "metadata": {},
   "outputs": [
    {
     "name": "stdout",
     "output_type": "stream",
     "text": [
      "Имеем распределение со средним 0.001 и стандартным отклонением 0.09\n"
     ]
    }
   ],
   "source": [
    "print(f'Имеем распределение со средним {df_train.target.mean():.3f} и стандартным отклонением {df_train.target.std():.2f}')"
   ]
  },
  {
   "cell_type": "code",
   "execution_count": 1418,
   "id": "d262514d",
   "metadata": {},
   "outputs": [
    {
     "data": {
      "text/plain": [
       "'Магаданская улица, 31, посёлок Хандыга, Томпонский муниципальный район, Республика Саха (Якутия), Россия, 678720'"
      ]
     },
     "execution_count": 1418,
     "metadata": {},
     "output_type": "execute_result"
    }
   ],
   "source": [
    "df_train['address_rus'][1343]"
   ]
  },
  {
   "cell_type": "markdown",
   "id": "3251b436-e9e0-43a4-a7d4-d901049d34a4",
   "metadata": {},
   "source": [
    "Сделаем промежуточный вывод о структуре данных и потенциальных проблемах. По записи 1343 (см. ячейку выше) можно видеть муниципальный формат записи адреса. В муниципальном делении указывают структуры местного самоуправления, например, регион, районы, сельские и городские поселения, муниципальные округа. Данный факт усложняет формат записи адреса для его парсинга на составлящие. Также имеются записи о банкоматах в нашем датасете, адресов на русском с географическими координатами которых нет вовсе."
   ]
  },
  {
   "cell_type": "markdown",
   "id": "6d0a276e-7337-4d8c-bc1b-d6c0844a2cf8",
   "metadata": {},
   "source": [
    "__13. Построим корреляционную матрицу с количеством банкоматов и городом:__"
   ]
  },
  {
   "cell_type": "markdown",
   "id": "452f5904-7433-4b9a-88e7-4f66e424f6f9",
   "metadata": {},
   "source": [
    "Для этого сперва закодируем каждый город с помощью Target encoding, т.e. каждую категорию, в нашем случае это город, закодируем средним значением целевой переменной по этой категории."
   ]
  },
  {
   "cell_type": "code",
   "execution_count": 1423,
   "id": "cc005a91-0b7c-4bc3-a772-00fa3290ef37",
   "metadata": {},
   "outputs": [
    {
     "data": {
      "text/plain": [
       "484"
      ]
     },
     "execution_count": 1423,
     "metadata": {},
     "output_type": "execute_result"
    }
   ],
   "source": [
    "df_train['settlement'].nunique()"
   ]
  },
  {
   "cell_type": "code",
   "execution_count": 1430,
   "id": "2f6d6ddb-04c6-4a25-ae3c-453c726bf2e4",
   "metadata": {},
   "outputs": [],
   "source": [
    "df_train['feature_mean'] = df_train.groupby('settlement')['target'].transform('mean')"
   ]
  },
  {
   "cell_type": "markdown",
   "id": "d36aaa9d-66dc-4cb2-8336-b008e13958b8",
   "metadata": {},
   "source": [
    "Если кодировать при помощи счетчиков сразу все обучающие данные, то мы переобучимся. Применим сглаживание по следующей формуле:"
   ]
  },
  {
   "cell_type": "markdown",
   "id": "91f7ea48-b465-4a6f-8d15-b85b1da736c5",
   "metadata": {},
   "source": [
    "$$\n",
    "p = \\frac{\\text{mean(target)} \\cdot n_{\\text{rows}} + \\alpha \\cdot \\text{GlobalTarget}}{n_{\\text{rows}} + \\alpha}\n",
    "$$"
   ]
  },
  {
   "cell_type": "code",
   "execution_count": 1434,
   "id": "5bc01fb5-d7a8-4ae3-8e79-6edd4386664b",
   "metadata": {},
   "outputs": [],
   "source": [
    "def counter_with_smoothing(df, settlement, target, alpha):\n",
    "    \"\"\"\n",
    "    p - число, которым кодируем категорию\n",
    "    n_rows - число строк в категории\n",
    "    mean(target) - среднее значение целевой переменной по категории\n",
    "    Global_target - среднее значение целевой переменной по всей обучающей выборке\n",
    "    α - гиперпараметр\n",
    "    \"\"\"\n",
    "    df['feature_mean'] = df.groupby(settlement)[target].transform('mean')\n",
    "\n",
    "    global_mean = df[target].mean()\n",
    "\n",
    "    df['settlement_count'] = df.groupby(settlement)[target].transform('count')\n",
    "\n",
    "    df['p'] = (df['feature_mean'] * df['settlement_count'] + alpha * global_mean) / (df['settlement_count'] + alpha)\n",
    "\n",
    "    return df"
   ]
  },
  {
   "cell_type": "code",
   "execution_count": 1436,
   "id": "1b91a92f-f15b-4ed6-8a99-035f7ca73e66",
   "metadata": {},
   "outputs": [],
   "source": [
    "df_train = counter_with_smoothing(df_train, 'settlement', 'target', 30)"
   ]
  },
  {
   "cell_type": "code",
   "execution_count": 1438,
   "id": "fec3ef45-11b8-44bf-874f-71346fa8661d",
   "metadata": {},
   "outputs": [
    {
     "data": {
      "text/html": [
       "<div>\n",
       "<style scoped>\n",
       "    .dataframe tbody tr th:only-of-type {\n",
       "        vertical-align: middle;\n",
       "    }\n",
       "\n",
       "    .dataframe tbody tr th {\n",
       "        vertical-align: top;\n",
       "    }\n",
       "\n",
       "    .dataframe thead th {\n",
       "        text-align: right;\n",
       "    }\n",
       "</style>\n",
       "<table border=\"1\" class=\"dataframe\">\n",
       "  <thead>\n",
       "    <tr style=\"text-align: right;\">\n",
       "      <th></th>\n",
       "      <th>id</th>\n",
       "      <th>atm_group</th>\n",
       "      <th>address</th>\n",
       "      <th>address_rus</th>\n",
       "      <th>lat</th>\n",
       "      <th>long</th>\n",
       "      <th>target</th>\n",
       "      <th>len_address</th>\n",
       "      <th>postal_code</th>\n",
       "      <th>len_postal_code</th>\n",
       "      <th>country</th>\n",
       "      <th>settlement</th>\n",
       "      <th>street_name</th>\n",
       "      <th>number</th>\n",
       "      <th>feature_mean</th>\n",
       "      <th>settlement_count</th>\n",
       "      <th>p</th>\n",
       "    </tr>\n",
       "  </thead>\n",
       "  <tbody>\n",
       "    <tr>\n",
       "      <th>0</th>\n",
       "      <td>8,526.00</td>\n",
       "      <td>32.00</td>\n",
       "      <td>EMELYANOVA,34          Y-SAKHALINSK</td>\n",
       "      <td>улица А.О. Емельянова, 34, Южно-Сахалинск, Сахалинская область, Россия</td>\n",
       "      <td>46.94</td>\n",
       "      <td>142.74</td>\n",
       "      <td>0.01</td>\n",
       "      <td>70.00</td>\n",
       "      <td>None</td>\n",
       "      <td>NaN</td>\n",
       "      <td>Россия</td>\n",
       "      <td>Южно-Сахалинск</td>\n",
       "      <td>А.О. Емельянова</td>\n",
       "      <td>34</td>\n",
       "      <td>0.04</td>\n",
       "      <td>28.00</td>\n",
       "      <td>0.02</td>\n",
       "    </tr>\n",
       "    <tr>\n",
       "      <th>1</th>\n",
       "      <td>8,532.00</td>\n",
       "      <td>32.00</td>\n",
       "      <td>KOMSOMOLSKAYA,259B     Y.SAKHALINSK</td>\n",
       "      <td>Комсомольская улица, 259, Южно-Сахалинск, Сахалинская область, Россия</td>\n",
       "      <td>46.94</td>\n",
       "      <td>142.75</td>\n",
       "      <td>0.03</td>\n",
       "      <td>69.00</td>\n",
       "      <td>None</td>\n",
       "      <td>NaN</td>\n",
       "      <td>Россия</td>\n",
       "      <td>Комсомольск</td>\n",
       "      <td>Комсомольская</td>\n",
       "      <td>259</td>\n",
       "      <td>0.04</td>\n",
       "      <td>66.00</td>\n",
       "      <td>0.03</td>\n",
       "    </tr>\n",
       "    <tr>\n",
       "      <th>2</th>\n",
       "      <td>8,533.00</td>\n",
       "      <td>32.00</td>\n",
       "      <td>KOMMUN. PR., 32        YUZHNO SAKHAL</td>\n",
       "      <td>Коммунистический проспект, Южно-Сахалинск, Сахалинская область, Россия</td>\n",
       "      <td>46.96</td>\n",
       "      <td>142.74</td>\n",
       "      <td>0.01</td>\n",
       "      <td>70.00</td>\n",
       "      <td>None</td>\n",
       "      <td>NaN</td>\n",
       "      <td>Россия</td>\n",
       "      <td>Южно-Сахалинск</td>\n",
       "      <td>Коммунистический проспект</td>\n",
       "      <td>None</td>\n",
       "      <td>0.04</td>\n",
       "      <td>28.00</td>\n",
       "      <td>0.02</td>\n",
       "    </tr>\n",
       "    <tr>\n",
       "      <th>3</th>\n",
       "      <td>8,684.00</td>\n",
       "      <td>32.00</td>\n",
       "      <td>LENINGRADSKIY PR.,76A  MOSCOW</td>\n",
       "      <td>Ленинградский проспект, 76А, Москва, Россия, 125315</td>\n",
       "      <td>55.81</td>\n",
       "      <td>37.52</td>\n",
       "      <td>-0.09</td>\n",
       "      <td>51.00</td>\n",
       "      <td>125315</td>\n",
       "      <td>6.00</td>\n",
       "      <td>Россия</td>\n",
       "      <td>Москва</td>\n",
       "      <td>Ленинградский проспект</td>\n",
       "      <td>76А</td>\n",
       "      <td>0.04</td>\n",
       "      <td>504.00</td>\n",
       "      <td>0.03</td>\n",
       "    </tr>\n",
       "    <tr>\n",
       "      <th>4</th>\n",
       "      <td>37.00</td>\n",
       "      <td>32.00</td>\n",
       "      <td>GVARDEYSKAYA PL., 2    NORILSK</td>\n",
       "      <td>Гвардейская площадь, 2, Норильск, Красноярский край, Россия, 663302</td>\n",
       "      <td>69.34</td>\n",
       "      <td>88.21</td>\n",
       "      <td>0.08</td>\n",
       "      <td>67.00</td>\n",
       "      <td>663302</td>\n",
       "      <td>6.00</td>\n",
       "      <td>Россия</td>\n",
       "      <td>Гвардейск</td>\n",
       "      <td>Гвардейская площадь</td>\n",
       "      <td>2</td>\n",
       "      <td>0.01</td>\n",
       "      <td>5.00</td>\n",
       "      <td>0.00</td>\n",
       "    </tr>\n",
       "    <tr>\n",
       "      <th>...</th>\n",
       "      <td>...</td>\n",
       "      <td>...</td>\n",
       "      <td>...</td>\n",
       "      <td>...</td>\n",
       "      <td>...</td>\n",
       "      <td>...</td>\n",
       "      <td>...</td>\n",
       "      <td>...</td>\n",
       "      <td>...</td>\n",
       "      <td>...</td>\n",
       "      <td>...</td>\n",
       "      <td>...</td>\n",
       "      <td>...</td>\n",
       "      <td>...</td>\n",
       "      <td>...</td>\n",
       "      <td>...</td>\n",
       "      <td>...</td>\n",
       "    </tr>\n",
       "    <tr>\n",
       "      <th>6256</th>\n",
       "      <td>4,402.00</td>\n",
       "      <td>8,083.00</td>\n",
       "      <td>FEDORA POPOVA, 14      Yakutsk</td>\n",
       "      <td>улица Федора Попова, 14, Якутск, Республика Саха (Якутия), Россия, 677009</td>\n",
       "      <td>62.05</td>\n",
       "      <td>129.75</td>\n",
       "      <td>0.21</td>\n",
       "      <td>73.00</td>\n",
       "      <td>677009</td>\n",
       "      <td>6.00</td>\n",
       "      <td>Россия</td>\n",
       "      <td>Якутск</td>\n",
       "      <td>Федора Попова</td>\n",
       "      <td>14</td>\n",
       "      <td>0.04</td>\n",
       "      <td>65.00</td>\n",
       "      <td>0.02</td>\n",
       "    </tr>\n",
       "    <tr>\n",
       "      <th>6257</th>\n",
       "      <td>4,421.00</td>\n",
       "      <td>8,083.00</td>\n",
       "      <td>STROITELEY, 43         Novokuznetsk</td>\n",
       "      <td>проспект Строителей, 43, Новокузнецк, Кемеровская область, Россия, 654005</td>\n",
       "      <td>53.77</td>\n",
       "      <td>87.12</td>\n",
       "      <td>0.06</td>\n",
       "      <td>73.00</td>\n",
       "      <td>654005</td>\n",
       "      <td>6.00</td>\n",
       "      <td>Россия</td>\n",
       "      <td>Новокузнецк</td>\n",
       "      <td>проспект Строителей</td>\n",
       "      <td>43</td>\n",
       "      <td>-0.03</td>\n",
       "      <td>32.00</td>\n",
       "      <td>-0.01</td>\n",
       "    </tr>\n",
       "    <tr>\n",
       "      <th>6258</th>\n",
       "      <td>4,422.00</td>\n",
       "      <td>8,083.00</td>\n",
       "      <td>Rublevskoye sh, 62     Moskva</td>\n",
       "      <td>Рублёвское шоссе, 62, Москва, Россия, 121609</td>\n",
       "      <td>55.77</td>\n",
       "      <td>37.38</td>\n",
       "      <td>0.11</td>\n",
       "      <td>44.00</td>\n",
       "      <td>121609</td>\n",
       "      <td>6.00</td>\n",
       "      <td>Россия</td>\n",
       "      <td>Москва</td>\n",
       "      <td>Рублёвское шоссе</td>\n",
       "      <td>62</td>\n",
       "      <td>0.04</td>\n",
       "      <td>504.00</td>\n",
       "      <td>0.03</td>\n",
       "    </tr>\n",
       "    <tr>\n",
       "      <th>6259</th>\n",
       "      <td>4,426.00</td>\n",
       "      <td>8,083.00</td>\n",
       "      <td>EFANOVA, 22            Zyryanskoye</td>\n",
       "      <td>улица Ефанова, 22, село Зырянское, Зырянский район, Томская область, Россия</td>\n",
       "      <td>56.84</td>\n",
       "      <td>86.64</td>\n",
       "      <td>0.15</td>\n",
       "      <td>75.00</td>\n",
       "      <td>None</td>\n",
       "      <td>NaN</td>\n",
       "      <td>Россия</td>\n",
       "      <td>Томск</td>\n",
       "      <td>Ефанова</td>\n",
       "      <td>22</td>\n",
       "      <td>0.04</td>\n",
       "      <td>85.00</td>\n",
       "      <td>0.03</td>\n",
       "    </tr>\n",
       "    <tr>\n",
       "      <th>6260</th>\n",
       "      <td>4,429.00</td>\n",
       "      <td>8,083.00</td>\n",
       "      <td>OMMUNISTICHESKAYA,10A  Kizhinga</td>\n",
       "      <td>Коммунистическая улица, 10А, село Кижинга, Кижингинский район, Республика Бурятия, Россия, 671450</td>\n",
       "      <td>51.85</td>\n",
       "      <td>109.91</td>\n",
       "      <td>0.09</td>\n",
       "      <td>97.00</td>\n",
       "      <td>671450</td>\n",
       "      <td>6.00</td>\n",
       "      <td>Россия</td>\n",
       "      <td>село Кижинга</td>\n",
       "      <td>Коммунистическая</td>\n",
       "      <td>10А</td>\n",
       "      <td>0.09</td>\n",
       "      <td>1.00</td>\n",
       "      <td>0.00</td>\n",
       "    </tr>\n",
       "  </tbody>\n",
       "</table>\n",
       "<p>6261 rows × 17 columns</p>\n",
       "</div>"
      ],
      "text/plain": [
       "           id  atm_group                                 address                                                                                        address_rus   lat   long  target  len_address postal_code  len_postal_code country      settlement                street_name number  feature_mean  settlement_count     p\n",
       "0    8,526.00      32.00  EMELYANOVA,34          Y-SAKHALINSK                                улица А.О. Емельянова, 34, Южно-Сахалинск, Сахалинская область, Россия 46.94 142.74    0.01        70.00        None              NaN  Россия  Южно-Сахалинск            А.О. Емельянова     34          0.04             28.00  0.02\n",
       "1    8,532.00      32.00  KOMSOMOLSKAYA,259B     Y.SAKHALINSK                                 Комсомольская улица, 259, Южно-Сахалинск, Сахалинская область, Россия 46.94 142.75    0.03        69.00        None              NaN  Россия     Комсомольск              Комсомольская    259          0.04             66.00  0.03\n",
       "2    8,533.00      32.00  KOMMUN. PR., 32        YUZHNO SAKHAL                               Коммунистический проспект, Южно-Сахалинск, Сахалинская область, Россия 46.96 142.74    0.01        70.00        None              NaN  Россия  Южно-Сахалинск  Коммунистический проспект   None          0.04             28.00  0.02\n",
       "3    8,684.00      32.00  LENINGRADSKIY PR.,76A  MOSCOW                                                         Ленинградский проспект, 76А, Москва, Россия, 125315 55.81  37.52   -0.09        51.00      125315             6.00  Россия          Москва     Ленинградский проспект    76А          0.04            504.00  0.03\n",
       "4       37.00      32.00  GVARDEYSKAYA PL., 2    NORILSK                                        Гвардейская площадь, 2, Норильск, Красноярский край, Россия, 663302 69.34  88.21    0.08        67.00      663302             6.00  Россия       Гвардейск        Гвардейская площадь      2          0.01              5.00  0.00\n",
       "...       ...        ...                                     ...                                                                                                ...   ...    ...     ...          ...         ...              ...     ...             ...                        ...    ...           ...               ...   ...\n",
       "6256 4,402.00   8,083.00  FEDORA POPOVA, 14      Yakutsk                                  улица Федора Попова, 14, Якутск, Республика Саха (Якутия), Россия, 677009 62.05 129.75    0.21        73.00      677009             6.00  Россия          Якутск              Федора Попова     14          0.04             65.00  0.02\n",
       "6257 4,421.00   8,083.00  STROITELEY, 43         Novokuznetsk                             проспект Строителей, 43, Новокузнецк, Кемеровская область, Россия, 654005 53.77  87.12    0.06        73.00      654005             6.00  Россия     Новокузнецк        проспект Строителей     43         -0.03             32.00 -0.01\n",
       "6258 4,422.00   8,083.00  Rublevskoye sh, 62     Moskva                                                                Рублёвское шоссе, 62, Москва, Россия, 121609 55.77  37.38    0.11        44.00      121609             6.00  Россия          Москва           Рублёвское шоссе     62          0.04            504.00  0.03\n",
       "6259 4,426.00   8,083.00  EFANOVA, 22            Zyryanskoye                            улица Ефанова, 22, село Зырянское, Зырянский район, Томская область, Россия 56.84  86.64    0.15        75.00        None              NaN  Россия           Томск                    Ефанова     22          0.04             85.00  0.03\n",
       "6260 4,429.00   8,083.00  OMMUNISTICHESKAYA,10A  Kizhinga         Коммунистическая улица, 10А, село Кижинга, Кижингинский район, Республика Бурятия, Россия, 671450 51.85 109.91    0.09        97.00      671450             6.00  Россия    село Кижинга           Коммунистическая    10А          0.09              1.00  0.00\n",
       "\n",
       "[6261 rows x 17 columns]"
      ]
     },
     "execution_count": 1438,
     "metadata": {},
     "output_type": "execute_result"
    }
   ],
   "source": [
    "df_train"
   ]
  },
  {
   "cell_type": "code",
   "execution_count": 1440,
   "id": "f859c3b9-641b-4ba3-b8a7-1daf6bc6f6ef",
   "metadata": {},
   "outputs": [
    {
     "data": {
      "text/plain": [
       "<Axes: >"
      ]
     },
     "execution_count": 1440,
     "metadata": {},
     "output_type": "execute_result"
    },
    {
     "data": {
      "image/png": "[encoded data removed]",
      "text/plain": [
       "<Figure size 640x480 with 2 Axes>"
      ]
     },
     "metadata": {},
     "output_type": "display_data"
    }
   ],
   "source": [
    "df_corr = df_train.groupby('settlement', as_index=False).agg(count_atm=('lat', 'count'), \\\n",
    "                                                               p=('p', 'mean'))\n",
    "\n",
    "sns.heatmap(df_corr[['p', 'count_atm']].corr(), cmap=\"Blues\", annot=True)"
   ]
  },
  {
   "cell_type": "markdown",
   "id": "d098545f-efd4-4e48-9bb1-ce94388fccdd",
   "metadata": {},
   "source": [
    "Попробую проинтепретировать полученное значение: в целом у нас наблюдается положительная корреляция между закодированным числом города и числом банкоматов в нем, но зависимость слабая. Хоть и есть некоторая связь, но она вряд ли объясняет поведение числа банкоматов (count_atm)."
   ]
  },
  {
   "cell_type": "markdown",
   "id": "88908828-ec6b-4a06-8d15-fb841bde8a25",
   "metadata": {},
   "source": [
    "__Применим библиотеку Folium для визуализации геоданных наших банкоматов:__"
   ]
  },
  {
   "cell_type": "code",
   "execution_count": 154,
   "id": "24068a58-b55d-489e-95c3-b58c5a93be4d",
   "metadata": {},
   "outputs": [
    {
     "name": "stdout",
     "output_type": "stream",
     "text": [
      "Collecting folium\n",
      "  Downloading folium-0.18.0-py2.py3-none-any.whl.metadata (3.8 kB)\n",
      "Collecting branca>=0.6.0 (from folium)\n",
      "  Downloading branca-0.8.0-py3-none-any.whl.metadata (1.5 kB)\n",
      "Requirement already satisfied: jinja2>=2.9 in c:\\users\\dns\\anaconda3\\lib\\site-packages (from folium) (3.1.4)\n",
      "Requirement already satisfied: numpy in c:\\users\\dns\\anaconda3\\lib\\site-packages (from folium) (1.26.4)\n",
      "Requirement already satisfied: requests in c:\\users\\dns\\anaconda3\\lib\\site-packages (from folium) (2.32.3)\n",
      "Requirement already satisfied: xyzservices in c:\\users\\dns\\anaconda3\\lib\\site-packages (from folium) (2022.9.0)\n",
      "Requirement already satisfied: MarkupSafe>=2.0 in c:\\users\\dns\\anaconda3\\lib\\site-packages (from jinja2>=2.9->folium) (2.1.3)\n",
      "Requirement already satisfied: charset-normalizer<4,>=2 in c:\\users\\dns\\anaconda3\\lib\\site-packages (from requests->folium) (3.3.2)\n",
      "Requirement already satisfied: idna<4,>=2.5 in c:\\users\\dns\\anaconda3\\lib\\site-packages (from requests->folium) (3.7)\n",
      "Requirement already satisfied: urllib3<3,>=1.21.1 in c:\\users\\dns\\anaconda3\\lib\\site-packages (from requests->folium) (2.2.3)\n",
      "Requirement already satisfied: certifi>=2017.4.17 in c:\\users\\dns\\anaconda3\\lib\\site-packages (from requests->folium) (2024.8.30)\n",
      "Downloading folium-0.18.0-py2.py3-none-any.whl (108 kB)\n",
      "Downloading branca-0.8.0-py3-none-any.whl (25 kB)\n",
      "Installing collected packages: branca, folium\n",
      "Successfully installed branca-0.8.0 folium-0.18.0\n",
      "Note: you may need to restart the kernel to use updated packages.\n"
     ]
    }
   ],
   "source": [
    "pip install folium"
   ]
  },
  {
   "cell_type": "code",
   "execution_count": 156,
   "id": "26674c3a-5e88-492b-9b75-f1d9a47f9223",
   "metadata": {},
   "outputs": [],
   "source": [
    "import folium\n",
    "from folium.plugins import HeatMap"
   ]
  },
  {
   "cell_type": "code",
   "execution_count": 1266,
   "id": "e26d7761-21a4-47f5-a717-c56890e65449",
   "metadata": {},
   "outputs": [],
   "source": [
    "atm_coordinates = df_train[(df_train['lat'].notnull()) & (df_train['long'].notnull())][['lat', 'long']]"
   ]
  },
  {
   "cell_type": "code",
   "execution_count": 202,
   "id": "19520df4-c6d6-4b2a-b426-29e32faae37d",
   "metadata": {},
   "outputs": [
    {
     "name": "stdout",
     "output_type": "stream",
     "text": [
      "Тепловая карта сохранена в файл heatmap.html\n"
     ]
    }
   ],
   "source": [
    "if 'count' not in atm_coordinates.columns:\n",
    "    atm_coordinates['count'] = 1  # Если нет столбца с весами, назначим по 1 банкомату\n",
    "\n",
    "# Создаем карту\n",
    "m = folium.Map(location=[atm_coordinates['lat'].mean(), atm_coordinates['long'].mean()], zoom_start=6)\n",
    "\n",
    "# Добавляем слой тепловой карты\n",
    "heat_data = atm_coordinates[['lat', 'long', 'count']].values.tolist()\n",
    "HeatMap(heat_data).add_to(m)\n",
    "\n",
    "# Сохраняем карту в HTML\n",
    "m.save(\"heatmap.html\")\n",
    "print(\"Тепловая карта сохранена в файл heatmap.html\")"
   ]
  },
  {
   "cell_type": "markdown",
   "id": "abd81d8e-8ee6-40fc-92ff-3ab89458b24f",
   "metadata": {},
   "source": [
    "## Часть 2 | ML"
   ]
  },
  {
   "cell_type": "markdown",
   "id": "51217b02-89a4-4194-b183-134ad804cb0a",
   "metadata": {},
   "source": [
    "### 1. Модель только на вещественных числах"
   ]
  },
  {
   "cell_type": "markdown",
   "id": "52eda1c1-0e10-47c6-993f-ed0eed74a4c7",
   "metadata": {},
   "source": [
    "Начнем обучение ML моделей с линейной регрессии. Оценивать результаты моделей будем с помощью метрик качества $R^2$, $MAE$ и $MAPE$."
   ]
  },
  {
   "cell_type": "code",
   "execution_count": 1456,
   "id": "06179426-776a-4698-abcc-189083b95eec",
   "metadata": {},
   "outputs": [],
   "source": [
    "from sklearn.linear_model import LinearRegression\n",
    "from sklearn.metrics import mean_absolute_error as MAE, mean_absolute_percentage_error as MAPE, r2_score as R2"
   ]
  },
  {
   "cell_type": "markdown",
   "id": "48c34833-2116-4b73-94ad-421b840c7934",
   "metadata": {},
   "source": [
    "Отберем записи, в которых присутствуют сведения о широте и долготе:"
   ]
  },
  {
   "cell_type": "code",
   "execution_count": 1461,
   "id": "56822d0a-fdb9-41f2-ad31-2da3f74118aa",
   "metadata": {},
   "outputs": [],
   "source": [
    "df_train_filtered = df_train[(df_train['lat'].notnull()) & (df_train['long'].notnull())]\n",
    "df_test_filtered = df_test[(df_test['lat'].notnull()) & (df_test['long'].notnull())]"
   ]
  },
  {
   "cell_type": "code",
   "execution_count": 1494,
   "id": "f7285cde-dadb-4951-99c2-e842b695eef3",
   "metadata": {},
   "outputs": [
    {
     "name": "stderr",
     "output_type": "stream",
     "text": [
      "C:\\Users\\DNS\\AppData\\Local\\Temp\\ipykernel_11192\\911936762.py:1: SettingWithCopyWarning: \n",
      "A value is trying to be set on a copy of a slice from a DataFrame.\n",
      "Try using .loc[row_indexer,col_indexer] = value instead\n",
      "\n",
      "See the caveats in the documentation: https://pandas.pydata.org/pandas-docs/stable/user_guide/indexing.html#returning-a-view-versus-a-copy\n",
      "  df_test_filtered['settlement_count'] = df_test_filtered.groupby('settlement')['atm_group'].transform('count')\n"
     ]
    }
   ],
   "source": [
    "df_test_filtered['settlement_count'] = df_test_filtered.groupby('settlement')['atm_group'].transform('count')"
   ]
  },
  {
   "cell_type": "code",
   "execution_count": 1496,
   "id": "5f1d5bb3-40e2-4303-8408-d87f8329d655",
   "metadata": {},
   "outputs": [
    {
     "name": "stderr",
     "output_type": "stream",
     "text": [
      "C:\\Users\\DNS\\AppData\\Local\\Temp\\ipykernel_11192\\2602348732.py:1: SettingWithCopyWarning: \n",
      "A value is trying to be set on a copy of a slice from a DataFrame\n",
      "\n",
      "See the caveats in the documentation: https://pandas.pydata.org/pandas-docs/stable/user_guide/indexing.html#returning-a-view-versus-a-copy\n",
      "  df_train_filtered['settlement_count'].fillna(round(df_train_filtered['settlement_count'].median(), 2), inplace=True)\n",
      "C:\\Users\\DNS\\AppData\\Local\\Temp\\ipykernel_11192\\2602348732.py:2: FutureWarning: A value is trying to be set on a copy of a DataFrame or Series through chained assignment using an inplace method.\n",
      "The behavior will change in pandas 3.0. This inplace method will never work because the intermediate object on which we are setting values always behaves as a copy.\n",
      "\n",
      "For example, when doing 'df[col].method(value, inplace=True)', try using 'df.method({col: value}, inplace=True)' or df[col] = df[col].method(value) instead, to perform the operation inplace on the original object.\n",
      "\n",
      "\n",
      "  df_test_filtered['settlement_count'].fillna(round(df_test_filtered['settlement_count'].median(), 2), inplace=True)\n",
      "C:\\Users\\DNS\\AppData\\Local\\Temp\\ipykernel_11192\\2602348732.py:2: SettingWithCopyWarning: \n",
      "A value is trying to be set on a copy of a slice from a DataFrame\n",
      "\n",
      "See the caveats in the documentation: https://pandas.pydata.org/pandas-docs/stable/user_guide/indexing.html#returning-a-view-versus-a-copy\n",
      "  df_test_filtered['settlement_count'].fillna(round(df_test_filtered['settlement_count'].median(), 2), inplace=True)\n"
     ]
    }
   ],
   "source": [
    "df_train_filtered['settlement_count'].fillna(round(df_train_filtered['settlement_count'].median(), 2), inplace=True)\n",
    "df_test_filtered['settlement_count'].fillna(round(df_test_filtered['settlement_count'].median(), 2), inplace=True)"
   ]
  },
  {
   "cell_type": "markdown",
   "id": "7bf7d8d6-a615-468f-ba78-ac541f16df20",
   "metadata": {},
   "source": [
    "Разделение данных на признаки (X) и целевую переменную (y):"
   ]
  },
  {
   "cell_type": "code",
   "execution_count": 1502,
   "id": "57cea794-7277-4ea8-8504-afad473b908d",
   "metadata": {},
   "outputs": [],
   "source": [
    "X_train = df_train_filtered[['lat', 'long', 'settlement_count']]\n",
    "y_train = df_train_filtered['target']"
   ]
  },
  {
   "cell_type": "code",
   "execution_count": 1507,
   "id": "1fe2c1ed-56a6-4262-89b8-6aa9d9210f26",
   "metadata": {},
   "outputs": [],
   "source": [
    "X_test = df_test_filtered[['lat', 'long', 'settlement_count']]"
   ]
  },
  {
   "cell_type": "markdown",
   "id": "89a874a3-d7c2-4dd1-a70d-614bb9a22bb1",
   "metadata": {},
   "source": [
    "Обучим модель на тренировочных данных:"
   ]
  },
  {
   "cell_type": "code",
   "execution_count": 1510,
   "id": "955c05d2-5702-4a77-bd78-51fc1f1e6729",
   "metadata": {},
   "outputs": [
    {
     "data": {
      "text/html": [
       "<style>#sk-container-id-1 {\n",
       "  /* Definition of color scheme common for light and dark mode */\n",
       "  --sklearn-color-text: black;\n",
       "  --sklearn-color-line: gray;\n",
       "  /* Definition of color scheme for unfitted estimators */\n",
       "  --sklearn-color-unfitted-level-0: #fff5e6;\n",
       "  --sklearn-color-unfitted-level-1: #f6e4d2;\n",
       "  --sklearn-color-unfitted-level-2: #ffe0b3;\n",
       "  --sklearn-color-unfitted-level-3: chocolate;\n",
       "  /* Definition of color scheme for fitted estimators */\n",
       "  --sklearn-color-fitted-level-0: #f0f8ff;\n",
       "  --sklearn-color-fitted-level-1: #d4ebff;\n",
       "  --sklearn-color-fitted-level-2: #b3dbfd;\n",
       "  --sklearn-color-fitted-level-3: cornflowerblue;\n",
       "\n",
       "  /* Specific color for light theme */\n",
       "  --sklearn-color-text-on-default-background: var(--sg-text-color, var(--theme-code-foreground, var(--jp-content-font-color1, black)));\n",
       "  --sklearn-color-background: var(--sg-background-color, var(--theme-background, var(--jp-layout-color0, white)));\n",
       "  --sklearn-color-border-box: var(--sg-text-color, var(--theme-code-foreground, var(--jp-content-font-color1, black)));\n",
       "  --sklearn-color-icon: #696969;\n",
       "\n",
       "  @media (prefers-color-scheme: dark) {\n",
       "    /* Redefinition of color scheme for dark theme */\n",
       "    --sklearn-color-text-on-default-background: var(--sg-text-color, var(--theme-code-foreground, var(--jp-content-font-color1, white)));\n",
       "    --sklearn-color-background: var(--sg-background-color, var(--theme-background, var(--jp-layout-color0, #111)));\n",
       "    --sklearn-color-border-box: var(--sg-text-color, var(--theme-code-foreground, var(--jp-content-font-color1, white)));\n",
       "    --sklearn-color-icon: #878787;\n",
       "  }\n",
       "}\n",
       "\n",
       "#sk-container-id-1 {\n",
       "  color: var(--sklearn-color-text);\n",
       "}\n",
       "\n",
       "#sk-container-id-1 pre {\n",
       "  padding: 0;\n",
       "}\n",
       "\n",
       "#sk-container-id-1 input.sk-hidden--visually {\n",
       "  border: 0;\n",
       "  clip: rect(1px 1px 1px 1px);\n",
       "  clip: rect(1px, 1px, 1px, 1px);\n",
       "  height: 1px;\n",
       "  margin: -1px;\n",
       "  overflow: hidden;\n",
       "  padding: 0;\n",
       "  position: absolute;\n",
       "  width: 1px;\n",
       "}\n",
       "\n",
       "#sk-container-id-1 div.sk-dashed-wrapped {\n",
       "  border: 1px dashed var(--sklearn-color-line);\n",
       "  margin: 0 0.4em 0.5em 0.4em;\n",
       "  box-sizing: border-box;\n",
       "  padding-bottom: 0.4em;\n",
       "  background-color: var(--sklearn-color-background);\n",
       "}\n",
       "\n",
       "#sk-container-id-1 div.sk-container {\n",
       "  /* jupyter's `normalize.less` sets `[hidden] { display: none; }`\n",
       "     but bootstrap.min.css set `[hidden] { display: none !important; }`\n",
       "     so we also need the `!important` here to be able to override the\n",
       "     default hidden behavior on the sphinx rendered scikit-learn.org.\n",
       "     See: https://github.com/scikit-learn/scikit-learn/issues/21755 */\n",
       "  display: inline-block !important;\n",
       "  position: relative;\n",
       "}\n",
       "\n",
       "#sk-container-id-1 div.sk-text-repr-fallback {\n",
       "  display: none;\n",
       "}\n",
       "\n",
       "div.sk-parallel-item,\n",
       "div.sk-serial,\n",
       "div.sk-item {\n",
       "  /* draw centered vertical line to link estimators */\n",
       "  background-image: linear-gradient(var(--sklearn-color-text-on-default-background), var(--sklearn-color-text-on-default-background));\n",
       "  background-size: 2px 100%;\n",
       "  background-repeat: no-repeat;\n",
       "  background-position: center center;\n",
       "}\n",
       "\n",
       "/* Parallel-specific style estimator block */\n",
       "\n",
       "#sk-container-id-1 div.sk-parallel-item::after {\n",
       "  content: \"\";\n",
       "  width: 100%;\n",
       "  border-bottom: 2px solid var(--sklearn-color-text-on-default-background);\n",
       "  flex-grow: 1;\n",
       "}\n",
       "\n",
       "#sk-container-id-1 div.sk-parallel {\n",
       "  display: flex;\n",
       "  align-items: stretch;\n",
       "  justify-content: center;\n",
       "  background-color: var(--sklearn-color-background);\n",
       "  position: relative;\n",
       "}\n",
       "\n",
       "#sk-container-id-1 div.sk-parallel-item {\n",
       "  display: flex;\n",
       "  flex-direction: column;\n",
       "}\n",
       "\n",
       "#sk-container-id-1 div.sk-parallel-item:first-child::after {\n",
       "  align-self: flex-end;\n",
       "  width: 50%;\n",
       "}\n",
       "\n",
       "#sk-container-id-1 div.sk-parallel-item:last-child::after {\n",
       "  align-self: flex-start;\n",
       "  width: 50%;\n",
       "}\n",
       "\n",
       "#sk-container-id-1 div.sk-parallel-item:only-child::after {\n",
       "  width: 0;\n",
       "}\n",
       "\n",
       "/* Serial-specific style estimator block */\n",
       "\n",
       "#sk-container-id-1 div.sk-serial {\n",
       "  display: flex;\n",
       "  flex-direction: column;\n",
       "  align-items: center;\n",
       "  background-color: var(--sklearn-color-background);\n",
       "  padding-right: 1em;\n",
       "  padding-left: 1em;\n",
       "}\n",
       "\n",
       "\n",
       "/* Toggleable style: style used for estimator/Pipeline/ColumnTransformer box that is\n",
       "clickable and can be expanded/collapsed.\n",
       "- Pipeline and ColumnTransformer use this feature and define the default style\n",
       "- Estimators will overwrite some part of the style using the `sk-estimator` class\n",
       "*/\n",
       "\n",
       "/* Pipeline and ColumnTransformer style (default) */\n",
       "\n",
       "#sk-container-id-1 div.sk-toggleable {\n",
       "  /* Default theme specific background. It is overwritten whether we have a\n",
       "  specific estimator or a Pipeline/ColumnTransformer */\n",
       "  background-color: var(--sklearn-color-background);\n",
       "}\n",
       "\n",
       "/* Toggleable label */\n",
       "#sk-container-id-1 label.sk-toggleable__label {\n",
       "  cursor: pointer;\n",
       "  display: block;\n",
       "  width: 100%;\n",
       "  margin-bottom: 0;\n",
       "  padding: 0.5em;\n",
       "  box-sizing: border-box;\n",
       "  text-align: center;\n",
       "}\n",
       "\n",
       "#sk-container-id-1 label.sk-toggleable__label-arrow:before {\n",
       "  /* Arrow on the left of the label */\n",
       "  content: \"▸\";\n",
       "  float: left;\n",
       "  margin-right: 0.25em;\n",
       "  color: var(--sklearn-color-icon);\n",
       "}\n",
       "\n",
       "#sk-container-id-1 label.sk-toggleable__label-arrow:hover:before {\n",
       "  color: var(--sklearn-color-text);\n",
       "}\n",
       "\n",
       "/* Toggleable content - dropdown */\n",
       "\n",
       "#sk-container-id-1 div.sk-toggleable__content {\n",
       "  max-height: 0;\n",
       "  max-width: 0;\n",
       "  overflow: hidden;\n",
       "  text-align: left;\n",
       "  /* unfitted */\n",
       "  background-color: var(--sklearn-color-unfitted-level-0);\n",
       "}\n",
       "\n",
       "#sk-container-id-1 div.sk-toggleable__content.fitted {\n",
       "  /* fitted */\n",
       "  background-color: var(--sklearn-color-fitted-level-0);\n",
       "}\n",
       "\n",
       "#sk-container-id-1 div.sk-toggleable__content pre {\n",
       "  margin: 0.2em;\n",
       "  border-radius: 0.25em;\n",
       "  color: var(--sklearn-color-text);\n",
       "  /* unfitted */\n",
       "  background-color: var(--sklearn-color-unfitted-level-0);\n",
       "}\n",
       "\n",
       "#sk-container-id-1 div.sk-toggleable__content.fitted pre {\n",
       "  /* unfitted */\n",
       "  background-color: var(--sklearn-color-fitted-level-0);\n",
       "}\n",
       "\n",
       "#sk-container-id-1 input.sk-toggleable__control:checked~div.sk-toggleable__content {\n",
       "  /* Expand drop-down */\n",
       "  max-height: 200px;\n",
       "  max-width: 100%;\n",
       "  overflow: auto;\n",
       "}\n",
       "\n",
       "#sk-container-id-1 input.sk-toggleable__control:checked~label.sk-toggleable__label-arrow:before {\n",
       "  content: \"▾\";\n",
       "}\n",
       "\n",
       "/* Pipeline/ColumnTransformer-specific style */\n",
       "\n",
       "#sk-container-id-1 div.sk-label input.sk-toggleable__control:checked~label.sk-toggleable__label {\n",
       "  color: var(--sklearn-color-text);\n",
       "  background-color: var(--sklearn-color-unfitted-level-2);\n",
       "}\n",
       "\n",
       "#sk-container-id-1 div.sk-label.fitted input.sk-toggleable__control:checked~label.sk-toggleable__label {\n",
       "  background-color: var(--sklearn-color-fitted-level-2);\n",
       "}\n",
       "\n",
       "/* Estimator-specific style */\n",
       "\n",
       "/* Colorize estimator box */\n",
       "#sk-container-id-1 div.sk-estimator input.sk-toggleable__control:checked~label.sk-toggleable__label {\n",
       "  /* unfitted */\n",
       "  background-color: var(--sklearn-color-unfitted-level-2);\n",
       "}\n",
       "\n",
       "#sk-container-id-1 div.sk-estimator.fitted input.sk-toggleable__control:checked~label.sk-toggleable__label {\n",
       "  /* fitted */\n",
       "  background-color: var(--sklearn-color-fitted-level-2);\n",
       "}\n",
       "\n",
       "#sk-container-id-1 div.sk-label label.sk-toggleable__label,\n",
       "#sk-container-id-1 div.sk-label label {\n",
       "  /* The background is the default theme color */\n",
       "  color: var(--sklearn-color-text-on-default-background);\n",
       "}\n",
       "\n",
       "/* On hover, darken the color of the background */\n",
       "#sk-container-id-1 div.sk-label:hover label.sk-toggleable__label {\n",
       "  color: var(--sklearn-color-text);\n",
       "  background-color: var(--sklearn-color-unfitted-level-2);\n",
       "}\n",
       "\n",
       "/* Label box, darken color on hover, fitted */\n",
       "#sk-container-id-1 div.sk-label.fitted:hover label.sk-toggleable__label.fitted {\n",
       "  color: var(--sklearn-color-text);\n",
       "  background-color: var(--sklearn-color-fitted-level-2);\n",
       "}\n",
       "\n",
       "/* Estimator label */\n",
       "\n",
       "#sk-container-id-1 div.sk-label label {\n",
       "  font-family: monospace;\n",
       "  font-weight: bold;\n",
       "  display: inline-block;\n",
       "  line-height: 1.2em;\n",
       "}\n",
       "\n",
       "#sk-container-id-1 div.sk-label-container {\n",
       "  text-align: center;\n",
       "}\n",
       "\n",
       "/* Estimator-specific */\n",
       "#sk-container-id-1 div.sk-estimator {\n",
       "  font-family: monospace;\n",
       "  border: 1px dotted var(--sklearn-color-border-box);\n",
       "  border-radius: 0.25em;\n",
       "  box-sizing: border-box;\n",
       "  margin-bottom: 0.5em;\n",
       "  /* unfitted */\n",
       "  background-color: var(--sklearn-color-unfitted-level-0);\n",
       "}\n",
       "\n",
       "#sk-container-id-1 div.sk-estimator.fitted {\n",
       "  /* fitted */\n",
       "  background-color: var(--sklearn-color-fitted-level-0);\n",
       "}\n",
       "\n",
       "/* on hover */\n",
       "#sk-container-id-1 div.sk-estimator:hover {\n",
       "  /* unfitted */\n",
       "  background-color: var(--sklearn-color-unfitted-level-2);\n",
       "}\n",
       "\n",
       "#sk-container-id-1 div.sk-estimator.fitted:hover {\n",
       "  /* fitted */\n",
       "  background-color: var(--sklearn-color-fitted-level-2);\n",
       "}\n",
       "\n",
       "/* Specification for estimator info (e.g. \"i\" and \"?\") */\n",
       "\n",
       "/* Common style for \"i\" and \"?\" */\n",
       "\n",
       ".sk-estimator-doc-link,\n",
       "a:link.sk-estimator-doc-link,\n",
       "a:visited.sk-estimator-doc-link {\n",
       "  float: right;\n",
       "  font-size: smaller;\n",
       "  line-height: 1em;\n",
       "  font-family: monospace;\n",
       "  background-color: var(--sklearn-color-background);\n",
       "  border-radius: 1em;\n",
       "  height: 1em;\n",
       "  width: 1em;\n",
       "  text-decoration: none !important;\n",
       "  margin-left: 1ex;\n",
       "  /* unfitted */\n",
       "  border: var(--sklearn-color-unfitted-level-1) 1pt solid;\n",
       "  color: var(--sklearn-color-unfitted-level-1);\n",
       "}\n",
       "\n",
       ".sk-estimator-doc-link.fitted,\n",
       "a:link.sk-estimator-doc-link.fitted,\n",
       "a:visited.sk-estimator-doc-link.fitted {\n",
       "  /* fitted */\n",
       "  border: var(--sklearn-color-fitted-level-1) 1pt solid;\n",
       "  color: var(--sklearn-color-fitted-level-1);\n",
       "}\n",
       "\n",
       "/* On hover */\n",
       "div.sk-estimator:hover .sk-estimator-doc-link:hover,\n",
       ".sk-estimator-doc-link:hover,\n",
       "div.sk-label-container:hover .sk-estimator-doc-link:hover,\n",
       ".sk-estimator-doc-link:hover {\n",
       "  /* unfitted */\n",
       "  background-color: var(--sklearn-color-unfitted-level-3);\n",
       "  color: var(--sklearn-color-background);\n",
       "  text-decoration: none;\n",
       "}\n",
       "\n",
       "div.sk-estimator.fitted:hover .sk-estimator-doc-link.fitted:hover,\n",
       ".sk-estimator-doc-link.fitted:hover,\n",
       "div.sk-label-container:hover .sk-estimator-doc-link.fitted:hover,\n",
       ".sk-estimator-doc-link.fitted:hover {\n",
       "  /* fitted */\n",
       "  background-color: var(--sklearn-color-fitted-level-3);\n",
       "  color: var(--sklearn-color-background);\n",
       "  text-decoration: none;\n",
       "}\n",
       "\n",
       "/* Span, style for the box shown on hovering the info icon */\n",
       ".sk-estimator-doc-link span {\n",
       "  display: none;\n",
       "  z-index: 9999;\n",
       "  position: relative;\n",
       "  font-weight: normal;\n",
       "  right: .2ex;\n",
       "  padding: .5ex;\n",
       "  margin: .5ex;\n",
       "  width: min-content;\n",
       "  min-width: 20ex;\n",
       "  max-width: 50ex;\n",
       "  color: var(--sklearn-color-text);\n",
       "  box-shadow: 2pt 2pt 4pt #999;\n",
       "  /* unfitted */\n",
       "  background: var(--sklearn-color-unfitted-level-0);\n",
       "  border: .5pt solid var(--sklearn-color-unfitted-level-3);\n",
       "}\n",
       "\n",
       ".sk-estimator-doc-link.fitted span {\n",
       "  /* fitted */\n",
       "  background: var(--sklearn-color-fitted-level-0);\n",
       "  border: var(--sklearn-color-fitted-level-3);\n",
       "}\n",
       "\n",
       ".sk-estimator-doc-link:hover span {\n",
       "  display: block;\n",
       "}\n",
       "\n",
       "/* \"?\"-specific style due to the `<a>` HTML tag */\n",
       "\n",
       "#sk-container-id-1 a.estimator_doc_link {\n",
       "  float: right;\n",
       "  font-size: 1rem;\n",
       "  line-height: 1em;\n",
       "  font-family: monospace;\n",
       "  background-color: var(--sklearn-color-background);\n",
       "  border-radius: 1rem;\n",
       "  height: 1rem;\n",
       "  width: 1rem;\n",
       "  text-decoration: none;\n",
       "  /* unfitted */\n",
       "  color: var(--sklearn-color-unfitted-level-1);\n",
       "  border: var(--sklearn-color-unfitted-level-1) 1pt solid;\n",
       "}\n",
       "\n",
       "#sk-container-id-1 a.estimator_doc_link.fitted {\n",
       "  /* fitted */\n",
       "  border: var(--sklearn-color-fitted-level-1) 1pt solid;\n",
       "  color: var(--sklearn-color-fitted-level-1);\n",
       "}\n",
       "\n",
       "/* On hover */\n",
       "#sk-container-id-1 a.estimator_doc_link:hover {\n",
       "  /* unfitted */\n",
       "  background-color: var(--sklearn-color-unfitted-level-3);\n",
       "  color: var(--sklearn-color-background);\n",
       "  text-decoration: none;\n",
       "}\n",
       "\n",
       "#sk-container-id-1 a.estimator_doc_link.fitted:hover {\n",
       "  /* fitted */\n",
       "  background-color: var(--sklearn-color-fitted-level-3);\n",
       "}\n",
       "</style><div id=\"sk-container-id-1\" class=\"sk-top-container\"><div class=\"sk-text-repr-fallback\"><pre>LinearRegression()</pre><b>In a Jupyter environment, please rerun this cell to show the HTML representation or trust the notebook. <br />On GitHub, the HTML representation is unable to render, please try loading this page with nbviewer.org.</b></div><div class=\"sk-container\" hidden><div class=\"sk-item\"><div class=\"sk-estimator fitted sk-toggleable\"><input class=\"sk-toggleable__control sk-hidden--visually\" id=\"sk-estimator-id-1\" type=\"checkbox\" checked><label for=\"sk-estimator-id-1\" class=\"sk-toggleable__label fitted sk-toggleable__label-arrow fitted\">&nbsp;&nbsp;LinearRegression<a class=\"sk-estimator-doc-link fitted\" rel=\"noreferrer\" target=\"_blank\" href=\"https://scikit-learn.org/1.5/modules/generated/sklearn.linear_model.LinearRegression.html\">?<span>Documentation for LinearRegression</span></a><span class=\"sk-estimator-doc-link fitted\">i<span>Fitted</span></span></label><div class=\"sk-toggleable__content fitted\"><pre>LinearRegression()</pre></div> </div></div></div></div>"
      ],
      "text/plain": [
       "LinearRegression()"
      ]
     },
     "execution_count": 1510,
     "metadata": {},
     "output_type": "execute_result"
    }
   ],
   "source": [
    "model_lr = LinearRegression()\n",
    "model_lr.fit(X_train, y_train)"
   ]
  },
  {
   "cell_type": "markdown",
   "id": "3c4bfba0-723d-4a5f-9109-675ea70438d5",
   "metadata": {},
   "source": [
    "Сделаем предсказания на тренировочных данных:"
   ]
  },
  {
   "cell_type": "code",
   "execution_count": 1513,
   "id": "b8d7909d-3478-4512-ab92-65df6a2be03d",
   "metadata": {},
   "outputs": [],
   "source": [
    "y_train_predict = model_lr.predict(X_train)"
   ]
  },
  {
   "cell_type": "markdown",
   "id": "bdf221ce-5030-4346-b845-c65eadbe687c",
   "metadata": {},
   "source": [
    "Посчитаем метрики качества:"
   ]
  },
  {
   "cell_type": "code",
   "execution_count": 1673,
   "id": "406dfddc-09e2-499e-bc8e-5cd6fd878f8f",
   "metadata": {},
   "outputs": [
    {
     "name": "stdout",
     "output_type": "stream",
     "text": [
      "Metrics:\n",
      "mae_train=0.066\n",
      "mape_train=1.982\n",
      "R2_train=0.045\n",
      "\n"
     ]
    }
   ],
   "source": [
    "print(f'''Metrics:\n",
    "mae_train={round(MAE(y_train, y_train_predict), 3)}\n",
    "mape_train={round(MAPE(y_train, y_train_predict), 3)}\n",
    "R2_train={round(R2(y_train, y_train_predict), 3)}\n",
    "''')"
   ]
  },
  {
   "cell_type": "markdown",
   "id": "4c4ad062-7a7c-4fce-a7b0-329a914dd676",
   "metadata": {},
   "source": [
    "Выведем веса модели:"
   ]
  },
  {
   "cell_type": "code",
   "execution_count": 1595,
   "id": "4e11e707-e9ff-4e36-8b82-da5839968870",
   "metadata": {},
   "outputs": [
    {
     "name": "stdout",
     "output_type": "stream",
     "text": [
      "Веса: [-7.47911428e-05  1.31678046e-02  1.50909676e-02]\n"
     ]
    }
   ],
   "source": [
    "weigths = model_lr.coef_\n",
    "print(\"Веса:\", weigths)"
   ]
  },
  {
   "cell_type": "markdown",
   "id": "912b59c3-2018-4ffc-8f24-608d93a09099",
   "metadata": {},
   "source": [
    "### 2. Приведем признаки к одному масштабу"
   ]
  },
  {
   "cell_type": "code",
   "execution_count": 1524,
   "id": "b1cbbb47-1f2d-4336-88eb-f42a793cbfba",
   "metadata": {},
   "outputs": [],
   "source": [
    "from sklearn.preprocessing import StandardScaler"
   ]
  },
  {
   "cell_type": "markdown",
   "id": "c7135c20-a4f2-465b-a299-20822420a07d",
   "metadata": {},
   "source": [
    "Обучим стандартизатор на тренировочных данных:"
   ]
  },
  {
   "cell_type": "code",
   "execution_count": 1567,
   "id": "223c7588-7e74-439f-a10c-7c17ed61fa29",
   "metadata": {},
   "outputs": [
    {
     "data": {
      "text/html": [
       "<style>#sk-container-id-6 {\n",
       "  /* Definition of color scheme common for light and dark mode */\n",
       "  --sklearn-color-text: black;\n",
       "  --sklearn-color-line: gray;\n",
       "  /* Definition of color scheme for unfitted estimators */\n",
       "  --sklearn-color-unfitted-level-0: #fff5e6;\n",
       "  --sklearn-color-unfitted-level-1: #f6e4d2;\n",
       "  --sklearn-color-unfitted-level-2: #ffe0b3;\n",
       "  --sklearn-color-unfitted-level-3: chocolate;\n",
       "  /* Definition of color scheme for fitted estimators */\n",
       "  --sklearn-color-fitted-level-0: #f0f8ff;\n",
       "  --sklearn-color-fitted-level-1: #d4ebff;\n",
       "  --sklearn-color-fitted-level-2: #b3dbfd;\n",
       "  --sklearn-color-fitted-level-3: cornflowerblue;\n",
       "\n",
       "  /* Specific color for light theme */\n",
       "  --sklearn-color-text-on-default-background: var(--sg-text-color, var(--theme-code-foreground, var(--jp-content-font-color1, black)));\n",
       "  --sklearn-color-background: var(--sg-background-color, var(--theme-background, var(--jp-layout-color0, white)));\n",
       "  --sklearn-color-border-box: var(--sg-text-color, var(--theme-code-foreground, var(--jp-content-font-color1, black)));\n",
       "  --sklearn-color-icon: #696969;\n",
       "\n",
       "  @media (prefers-color-scheme: dark) {\n",
       "    /* Redefinition of color scheme for dark theme */\n",
       "    --sklearn-color-text-on-default-background: var(--sg-text-color, var(--theme-code-foreground, var(--jp-content-font-color1, white)));\n",
       "    --sklearn-color-background: var(--sg-background-color, var(--theme-background, var(--jp-layout-color0, #111)));\n",
       "    --sklearn-color-border-box: var(--sg-text-color, var(--theme-code-foreground, var(--jp-content-font-color1, white)));\n",
       "    --sklearn-color-icon: #878787;\n",
       "  }\n",
       "}\n",
       "\n",
       "#sk-container-id-6 {\n",
       "  color: var(--sklearn-color-text);\n",
       "}\n",
       "\n",
       "#sk-container-id-6 pre {\n",
       "  padding: 0;\n",
       "}\n",
       "\n",
       "#sk-container-id-6 input.sk-hidden--visually {\n",
       "  border: 0;\n",
       "  clip: rect(1px 1px 1px 1px);\n",
       "  clip: rect(1px, 1px, 1px, 1px);\n",
       "  height: 1px;\n",
       "  margin: -1px;\n",
       "  overflow: hidden;\n",
       "  padding: 0;\n",
       "  position: absolute;\n",
       "  width: 1px;\n",
       "}\n",
       "\n",
       "#sk-container-id-6 div.sk-dashed-wrapped {\n",
       "  border: 1px dashed var(--sklearn-color-line);\n",
       "  margin: 0 0.4em 0.5em 0.4em;\n",
       "  box-sizing: border-box;\n",
       "  padding-bottom: 0.4em;\n",
       "  background-color: var(--sklearn-color-background);\n",
       "}\n",
       "\n",
       "#sk-container-id-6 div.sk-container {\n",
       "  /* jupyter's `normalize.less` sets `[hidden] { display: none; }`\n",
       "     but bootstrap.min.css set `[hidden] { display: none !important; }`\n",
       "     so we also need the `!important` here to be able to override the\n",
       "     default hidden behavior on the sphinx rendered scikit-learn.org.\n",
       "     See: https://github.com/scikit-learn/scikit-learn/issues/21755 */\n",
       "  display: inline-block !important;\n",
       "  position: relative;\n",
       "}\n",
       "\n",
       "#sk-container-id-6 div.sk-text-repr-fallback {\n",
       "  display: none;\n",
       "}\n",
       "\n",
       "div.sk-parallel-item,\n",
       "div.sk-serial,\n",
       "div.sk-item {\n",
       "  /* draw centered vertical line to link estimators */\n",
       "  background-image: linear-gradient(var(--sklearn-color-text-on-default-background), var(--sklearn-color-text-on-default-background));\n",
       "  background-size: 2px 100%;\n",
       "  background-repeat: no-repeat;\n",
       "  background-position: center center;\n",
       "}\n",
       "\n",
       "/* Parallel-specific style estimator block */\n",
       "\n",
       "#sk-container-id-6 div.sk-parallel-item::after {\n",
       "  content: \"\";\n",
       "  width: 100%;\n",
       "  border-bottom: 2px solid var(--sklearn-color-text-on-default-background);\n",
       "  flex-grow: 1;\n",
       "}\n",
       "\n",
       "#sk-container-id-6 div.sk-parallel {\n",
       "  display: flex;\n",
       "  align-items: stretch;\n",
       "  justify-content: center;\n",
       "  background-color: var(--sklearn-color-background);\n",
       "  position: relative;\n",
       "}\n",
       "\n",
       "#sk-container-id-6 div.sk-parallel-item {\n",
       "  display: flex;\n",
       "  flex-direction: column;\n",
       "}\n",
       "\n",
       "#sk-container-id-6 div.sk-parallel-item:first-child::after {\n",
       "  align-self: flex-end;\n",
       "  width: 50%;\n",
       "}\n",
       "\n",
       "#sk-container-id-6 div.sk-parallel-item:last-child::after {\n",
       "  align-self: flex-start;\n",
       "  width: 50%;\n",
       "}\n",
       "\n",
       "#sk-container-id-6 div.sk-parallel-item:only-child::after {\n",
       "  width: 0;\n",
       "}\n",
       "\n",
       "/* Serial-specific style estimator block */\n",
       "\n",
       "#sk-container-id-6 div.sk-serial {\n",
       "  display: flex;\n",
       "  flex-direction: column;\n",
       "  align-items: center;\n",
       "  background-color: var(--sklearn-color-background);\n",
       "  padding-right: 1em;\n",
       "  padding-left: 1em;\n",
       "}\n",
       "\n",
       "\n",
       "/* Toggleable style: style used for estimator/Pipeline/ColumnTransformer box that is\n",
       "clickable and can be expanded/collapsed.\n",
       "- Pipeline and ColumnTransformer use this feature and define the default style\n",
       "- Estimators will overwrite some part of the style using the `sk-estimator` class\n",
       "*/\n",
       "\n",
       "/* Pipeline and ColumnTransformer style (default) */\n",
       "\n",
       "#sk-container-id-6 div.sk-toggleable {\n",
       "  /* Default theme specific background. It is overwritten whether we have a\n",
       "  specific estimator or a Pipeline/ColumnTransformer */\n",
       "  background-color: var(--sklearn-color-background);\n",
       "}\n",
       "\n",
       "/* Toggleable label */\n",
       "#sk-container-id-6 label.sk-toggleable__label {\n",
       "  cursor: pointer;\n",
       "  display: block;\n",
       "  width: 100%;\n",
       "  margin-bottom: 0;\n",
       "  padding: 0.5em;\n",
       "  box-sizing: border-box;\n",
       "  text-align: center;\n",
       "}\n",
       "\n",
       "#sk-container-id-6 label.sk-toggleable__label-arrow:before {\n",
       "  /* Arrow on the left of the label */\n",
       "  content: \"▸\";\n",
       "  float: left;\n",
       "  margin-right: 0.25em;\n",
       "  color: var(--sklearn-color-icon);\n",
       "}\n",
       "\n",
       "#sk-container-id-6 label.sk-toggleable__label-arrow:hover:before {\n",
       "  color: var(--sklearn-color-text);\n",
       "}\n",
       "\n",
       "/* Toggleable content - dropdown */\n",
       "\n",
       "#sk-container-id-6 div.sk-toggleable__content {\n",
       "  max-height: 0;\n",
       "  max-width: 0;\n",
       "  overflow: hidden;\n",
       "  text-align: left;\n",
       "  /* unfitted */\n",
       "  background-color: var(--sklearn-color-unfitted-level-0);\n",
       "}\n",
       "\n",
       "#sk-container-id-6 div.sk-toggleable__content.fitted {\n",
       "  /* fitted */\n",
       "  background-color: var(--sklearn-color-fitted-level-0);\n",
       "}\n",
       "\n",
       "#sk-container-id-6 div.sk-toggleable__content pre {\n",
       "  margin: 0.2em;\n",
       "  border-radius: 0.25em;\n",
       "  color: var(--sklearn-color-text);\n",
       "  /* unfitted */\n",
       "  background-color: var(--sklearn-color-unfitted-level-0);\n",
       "}\n",
       "\n",
       "#sk-container-id-6 div.sk-toggleable__content.fitted pre {\n",
       "  /* unfitted */\n",
       "  background-color: var(--sklearn-color-fitted-level-0);\n",
       "}\n",
       "\n",
       "#sk-container-id-6 input.sk-toggleable__control:checked~div.sk-toggleable__content {\n",
       "  /* Expand drop-down */\n",
       "  max-height: 200px;\n",
       "  max-width: 100%;\n",
       "  overflow: auto;\n",
       "}\n",
       "\n",
       "#sk-container-id-6 input.sk-toggleable__control:checked~label.sk-toggleable__label-arrow:before {\n",
       "  content: \"▾\";\n",
       "}\n",
       "\n",
       "/* Pipeline/ColumnTransformer-specific style */\n",
       "\n",
       "#sk-container-id-6 div.sk-label input.sk-toggleable__control:checked~label.sk-toggleable__label {\n",
       "  color: var(--sklearn-color-text);\n",
       "  background-color: var(--sklearn-color-unfitted-level-2);\n",
       "}\n",
       "\n",
       "#sk-container-id-6 div.sk-label.fitted input.sk-toggleable__control:checked~label.sk-toggleable__label {\n",
       "  background-color: var(--sklearn-color-fitted-level-2);\n",
       "}\n",
       "\n",
       "/* Estimator-specific style */\n",
       "\n",
       "/* Colorize estimator box */\n",
       "#sk-container-id-6 div.sk-estimator input.sk-toggleable__control:checked~label.sk-toggleable__label {\n",
       "  /* unfitted */\n",
       "  background-color: var(--sklearn-color-unfitted-level-2);\n",
       "}\n",
       "\n",
       "#sk-container-id-6 div.sk-estimator.fitted input.sk-toggleable__control:checked~label.sk-toggleable__label {\n",
       "  /* fitted */\n",
       "  background-color: var(--sklearn-color-fitted-level-2);\n",
       "}\n",
       "\n",
       "#sk-container-id-6 div.sk-label label.sk-toggleable__label,\n",
       "#sk-container-id-6 div.sk-label label {\n",
       "  /* The background is the default theme color */\n",
       "  color: var(--sklearn-color-text-on-default-background);\n",
       "}\n",
       "\n",
       "/* On hover, darken the color of the background */\n",
       "#sk-container-id-6 div.sk-label:hover label.sk-toggleable__label {\n",
       "  color: var(--sklearn-color-text);\n",
       "  background-color: var(--sklearn-color-unfitted-level-2);\n",
       "}\n",
       "\n",
       "/* Label box, darken color on hover, fitted */\n",
       "#sk-container-id-6 div.sk-label.fitted:hover label.sk-toggleable__label.fitted {\n",
       "  color: var(--sklearn-color-text);\n",
       "  background-color: var(--sklearn-color-fitted-level-2);\n",
       "}\n",
       "\n",
       "/* Estimator label */\n",
       "\n",
       "#sk-container-id-6 div.sk-label label {\n",
       "  font-family: monospace;\n",
       "  font-weight: bold;\n",
       "  display: inline-block;\n",
       "  line-height: 1.2em;\n",
       "}\n",
       "\n",
       "#sk-container-id-6 div.sk-label-container {\n",
       "  text-align: center;\n",
       "}\n",
       "\n",
       "/* Estimator-specific */\n",
       "#sk-container-id-6 div.sk-estimator {\n",
       "  font-family: monospace;\n",
       "  border: 1px dotted var(--sklearn-color-border-box);\n",
       "  border-radius: 0.25em;\n",
       "  box-sizing: border-box;\n",
       "  margin-bottom: 0.5em;\n",
       "  /* unfitted */\n",
       "  background-color: var(--sklearn-color-unfitted-level-0);\n",
       "}\n",
       "\n",
       "#sk-container-id-6 div.sk-estimator.fitted {\n",
       "  /* fitted */\n",
       "  background-color: var(--sklearn-color-fitted-level-0);\n",
       "}\n",
       "\n",
       "/* on hover */\n",
       "#sk-container-id-6 div.sk-estimator:hover {\n",
       "  /* unfitted */\n",
       "  background-color: var(--sklearn-color-unfitted-level-2);\n",
       "}\n",
       "\n",
       "#sk-container-id-6 div.sk-estimator.fitted:hover {\n",
       "  /* fitted */\n",
       "  background-color: var(--sklearn-color-fitted-level-2);\n",
       "}\n",
       "\n",
       "/* Specification for estimator info (e.g. \"i\" and \"?\") */\n",
       "\n",
       "/* Common style for \"i\" and \"?\" */\n",
       "\n",
       ".sk-estimator-doc-link,\n",
       "a:link.sk-estimator-doc-link,\n",
       "a:visited.sk-estimator-doc-link {\n",
       "  float: right;\n",
       "  font-size: smaller;\n",
       "  line-height: 1em;\n",
       "  font-family: monospace;\n",
       "  background-color: var(--sklearn-color-background);\n",
       "  border-radius: 1em;\n",
       "  height: 1em;\n",
       "  width: 1em;\n",
       "  text-decoration: none !important;\n",
       "  margin-left: 1ex;\n",
       "  /* unfitted */\n",
       "  border: var(--sklearn-color-unfitted-level-1) 1pt solid;\n",
       "  color: var(--sklearn-color-unfitted-level-1);\n",
       "}\n",
       "\n",
       ".sk-estimator-doc-link.fitted,\n",
       "a:link.sk-estimator-doc-link.fitted,\n",
       "a:visited.sk-estimator-doc-link.fitted {\n",
       "  /* fitted */\n",
       "  border: var(--sklearn-color-fitted-level-1) 1pt solid;\n",
       "  color: var(--sklearn-color-fitted-level-1);\n",
       "}\n",
       "\n",
       "/* On hover */\n",
       "div.sk-estimator:hover .sk-estimator-doc-link:hover,\n",
       ".sk-estimator-doc-link:hover,\n",
       "div.sk-label-container:hover .sk-estimator-doc-link:hover,\n",
       ".sk-estimator-doc-link:hover {\n",
       "  /* unfitted */\n",
       "  background-color: var(--sklearn-color-unfitted-level-3);\n",
       "  color: var(--sklearn-color-background);\n",
       "  text-decoration: none;\n",
       "}\n",
       "\n",
       "div.sk-estimator.fitted:hover .sk-estimator-doc-link.fitted:hover,\n",
       ".sk-estimator-doc-link.fitted:hover,\n",
       "div.sk-label-container:hover .sk-estimator-doc-link.fitted:hover,\n",
       ".sk-estimator-doc-link.fitted:hover {\n",
       "  /* fitted */\n",
       "  background-color: var(--sklearn-color-fitted-level-3);\n",
       "  color: var(--sklearn-color-background);\n",
       "  text-decoration: none;\n",
       "}\n",
       "\n",
       "/* Span, style for the box shown on hovering the info icon */\n",
       ".sk-estimator-doc-link span {\n",
       "  display: none;\n",
       "  z-index: 9999;\n",
       "  position: relative;\n",
       "  font-weight: normal;\n",
       "  right: .2ex;\n",
       "  padding: .5ex;\n",
       "  margin: .5ex;\n",
       "  width: min-content;\n",
       "  min-width: 20ex;\n",
       "  max-width: 50ex;\n",
       "  color: var(--sklearn-color-text);\n",
       "  box-shadow: 2pt 2pt 4pt #999;\n",
       "  /* unfitted */\n",
       "  background: var(--sklearn-color-unfitted-level-0);\n",
       "  border: .5pt solid var(--sklearn-color-unfitted-level-3);\n",
       "}\n",
       "\n",
       ".sk-estimator-doc-link.fitted span {\n",
       "  /* fitted */\n",
       "  background: var(--sklearn-color-fitted-level-0);\n",
       "  border: var(--sklearn-color-fitted-level-3);\n",
       "}\n",
       "\n",
       ".sk-estimator-doc-link:hover span {\n",
       "  display: block;\n",
       "}\n",
       "\n",
       "/* \"?\"-specific style due to the `<a>` HTML tag */\n",
       "\n",
       "#sk-container-id-6 a.estimator_doc_link {\n",
       "  float: right;\n",
       "  font-size: 1rem;\n",
       "  line-height: 1em;\n",
       "  font-family: monospace;\n",
       "  background-color: var(--sklearn-color-background);\n",
       "  border-radius: 1rem;\n",
       "  height: 1rem;\n",
       "  width: 1rem;\n",
       "  text-decoration: none;\n",
       "  /* unfitted */\n",
       "  color: var(--sklearn-color-unfitted-level-1);\n",
       "  border: var(--sklearn-color-unfitted-level-1) 1pt solid;\n",
       "}\n",
       "\n",
       "#sk-container-id-6 a.estimator_doc_link.fitted {\n",
       "  /* fitted */\n",
       "  border: var(--sklearn-color-fitted-level-1) 1pt solid;\n",
       "  color: var(--sklearn-color-fitted-level-1);\n",
       "}\n",
       "\n",
       "/* On hover */\n",
       "#sk-container-id-6 a.estimator_doc_link:hover {\n",
       "  /* unfitted */\n",
       "  background-color: var(--sklearn-color-unfitted-level-3);\n",
       "  color: var(--sklearn-color-background);\n",
       "  text-decoration: none;\n",
       "}\n",
       "\n",
       "#sk-container-id-6 a.estimator_doc_link.fitted:hover {\n",
       "  /* fitted */\n",
       "  background-color: var(--sklearn-color-fitted-level-3);\n",
       "}\n",
       "</style><div id=\"sk-container-id-6\" class=\"sk-top-container\"><div class=\"sk-text-repr-fallback\"><pre>StandardScaler()</pre><b>In a Jupyter environment, please rerun this cell to show the HTML representation or trust the notebook. <br />On GitHub, the HTML representation is unable to render, please try loading this page with nbviewer.org.</b></div><div class=\"sk-container\" hidden><div class=\"sk-item\"><div class=\"sk-estimator fitted sk-toggleable\"><input class=\"sk-toggleable__control sk-hidden--visually\" id=\"sk-estimator-id-6\" type=\"checkbox\" checked><label for=\"sk-estimator-id-6\" class=\"sk-toggleable__label fitted sk-toggleable__label-arrow fitted\">&nbsp;&nbsp;StandardScaler<a class=\"sk-estimator-doc-link fitted\" rel=\"noreferrer\" target=\"_blank\" href=\"https://scikit-learn.org/1.5/modules/generated/sklearn.preprocessing.StandardScaler.html\">?<span>Documentation for StandardScaler</span></a><span class=\"sk-estimator-doc-link fitted\">i<span>Fitted</span></span></label><div class=\"sk-toggleable__content fitted\"><pre>StandardScaler()</pre></div> </div></div></div></div>"
      ],
      "text/plain": [
       "StandardScaler()"
      ]
     },
     "execution_count": 1567,
     "metadata": {},
     "output_type": "execute_result"
    }
   ],
   "source": [
    "scaler = StandardScaler()\n",
    "scaler.fit(X_train)"
   ]
  },
  {
   "cell_type": "markdown",
   "id": "570bfaf0-c53c-4a52-8e7f-f916b5a30528",
   "metadata": {},
   "source": [
    "Стандартизируем тренировочные данные:"
   ]
  },
  {
   "cell_type": "code",
   "execution_count": 1570,
   "id": "e6fcb736-dcfc-435e-89b0-8e33335e012c",
   "metadata": {},
   "outputs": [],
   "source": [
    "X_train_scaled = scaler.transform(X_train)"
   ]
  },
  {
   "cell_type": "markdown",
   "id": "fbecdbef-b45f-4a7c-9248-bdd0dd259ecf",
   "metadata": {},
   "source": [
    "Обучим модель на тренировочных данных, которые стандартизировали:"
   ]
  },
  {
   "cell_type": "code",
   "execution_count": 1599,
   "id": "da85ddb9-864c-4761-8875-80de0083b283",
   "metadata": {},
   "outputs": [],
   "source": [
    "model_lr_scaled = LinearRegression()"
   ]
  },
  {
   "cell_type": "code",
   "execution_count": 1601,
   "id": "9f60abc2-d360-49ae-b992-2a66b208935c",
   "metadata": {},
   "outputs": [
    {
     "data": {
      "text/html": [
       "<style>#sk-container-id-8 {\n",
       "  /* Definition of color scheme common for light and dark mode */\n",
       "  --sklearn-color-text: black;\n",
       "  --sklearn-color-line: gray;\n",
       "  /* Definition of color scheme for unfitted estimators */\n",
       "  --sklearn-color-unfitted-level-0: #fff5e6;\n",
       "  --sklearn-color-unfitted-level-1: #f6e4d2;\n",
       "  --sklearn-color-unfitted-level-2: #ffe0b3;\n",
       "  --sklearn-color-unfitted-level-3: chocolate;\n",
       "  /* Definition of color scheme for fitted estimators */\n",
       "  --sklearn-color-fitted-level-0: #f0f8ff;\n",
       "  --sklearn-color-fitted-level-1: #d4ebff;\n",
       "  --sklearn-color-fitted-level-2: #b3dbfd;\n",
       "  --sklearn-color-fitted-level-3: cornflowerblue;\n",
       "\n",
       "  /* Specific color for light theme */\n",
       "  --sklearn-color-text-on-default-background: var(--sg-text-color, var(--theme-code-foreground, var(--jp-content-font-color1, black)));\n",
       "  --sklearn-color-background: var(--sg-background-color, var(--theme-background, var(--jp-layout-color0, white)));\n",
       "  --sklearn-color-border-box: var(--sg-text-color, var(--theme-code-foreground, var(--jp-content-font-color1, black)));\n",
       "  --sklearn-color-icon: #696969;\n",
       "\n",
       "  @media (prefers-color-scheme: dark) {\n",
       "    /* Redefinition of color scheme for dark theme */\n",
       "    --sklearn-color-text-on-default-background: var(--sg-text-color, var(--theme-code-foreground, var(--jp-content-font-color1, white)));\n",
       "    --sklearn-color-background: var(--sg-background-color, var(--theme-background, var(--jp-layout-color0, #111)));\n",
       "    --sklearn-color-border-box: var(--sg-text-color, var(--theme-code-foreground, var(--jp-content-font-color1, white)));\n",
       "    --sklearn-color-icon: #878787;\n",
       "  }\n",
       "}\n",
       "\n",
       "#sk-container-id-8 {\n",
       "  color: var(--sklearn-color-text);\n",
       "}\n",
       "\n",
       "#sk-container-id-8 pre {\n",
       "  padding: 0;\n",
       "}\n",
       "\n",
       "#sk-container-id-8 input.sk-hidden--visually {\n",
       "  border: 0;\n",
       "  clip: rect(1px 1px 1px 1px);\n",
       "  clip: rect(1px, 1px, 1px, 1px);\n",
       "  height: 1px;\n",
       "  margin: -1px;\n",
       "  overflow: hidden;\n",
       "  padding: 0;\n",
       "  position: absolute;\n",
       "  width: 1px;\n",
       "}\n",
       "\n",
       "#sk-container-id-8 div.sk-dashed-wrapped {\n",
       "  border: 1px dashed var(--sklearn-color-line);\n",
       "  margin: 0 0.4em 0.5em 0.4em;\n",
       "  box-sizing: border-box;\n",
       "  padding-bottom: 0.4em;\n",
       "  background-color: var(--sklearn-color-background);\n",
       "}\n",
       "\n",
       "#sk-container-id-8 div.sk-container {\n",
       "  /* jupyter's `normalize.less` sets `[hidden] { display: none; }`\n",
       "     but bootstrap.min.css set `[hidden] { display: none !important; }`\n",
       "     so we also need the `!important` here to be able to override the\n",
       "     default hidden behavior on the sphinx rendered scikit-learn.org.\n",
       "     See: https://github.com/scikit-learn/scikit-learn/issues/21755 */\n",
       "  display: inline-block !important;\n",
       "  position: relative;\n",
       "}\n",
       "\n",
       "#sk-container-id-8 div.sk-text-repr-fallback {\n",
       "  display: none;\n",
       "}\n",
       "\n",
       "div.sk-parallel-item,\n",
       "div.sk-serial,\n",
       "div.sk-item {\n",
       "  /* draw centered vertical line to link estimators */\n",
       "  background-image: linear-gradient(var(--sklearn-color-text-on-default-background), var(--sklearn-color-text-on-default-background));\n",
       "  background-size: 2px 100%;\n",
       "  background-repeat: no-repeat;\n",
       "  background-position: center center;\n",
       "}\n",
       "\n",
       "/* Parallel-specific style estimator block */\n",
       "\n",
       "#sk-container-id-8 div.sk-parallel-item::after {\n",
       "  content: \"\";\n",
       "  width: 100%;\n",
       "  border-bottom: 2px solid var(--sklearn-color-text-on-default-background);\n",
       "  flex-grow: 1;\n",
       "}\n",
       "\n",
       "#sk-container-id-8 div.sk-parallel {\n",
       "  display: flex;\n",
       "  align-items: stretch;\n",
       "  justify-content: center;\n",
       "  background-color: var(--sklearn-color-background);\n",
       "  position: relative;\n",
       "}\n",
       "\n",
       "#sk-container-id-8 div.sk-parallel-item {\n",
       "  display: flex;\n",
       "  flex-direction: column;\n",
       "}\n",
       "\n",
       "#sk-container-id-8 div.sk-parallel-item:first-child::after {\n",
       "  align-self: flex-end;\n",
       "  width: 50%;\n",
       "}\n",
       "\n",
       "#sk-container-id-8 div.sk-parallel-item:last-child::after {\n",
       "  align-self: flex-start;\n",
       "  width: 50%;\n",
       "}\n",
       "\n",
       "#sk-container-id-8 div.sk-parallel-item:only-child::after {\n",
       "  width: 0;\n",
       "}\n",
       "\n",
       "/* Serial-specific style estimator block */\n",
       "\n",
       "#sk-container-id-8 div.sk-serial {\n",
       "  display: flex;\n",
       "  flex-direction: column;\n",
       "  align-items: center;\n",
       "  background-color: var(--sklearn-color-background);\n",
       "  padding-right: 1em;\n",
       "  padding-left: 1em;\n",
       "}\n",
       "\n",
       "\n",
       "/* Toggleable style: style used for estimator/Pipeline/ColumnTransformer box that is\n",
       "clickable and can be expanded/collapsed.\n",
       "- Pipeline and ColumnTransformer use this feature and define the default style\n",
       "- Estimators will overwrite some part of the style using the `sk-estimator` class\n",
       "*/\n",
       "\n",
       "/* Pipeline and ColumnTransformer style (default) */\n",
       "\n",
       "#sk-container-id-8 div.sk-toggleable {\n",
       "  /* Default theme specific background. It is overwritten whether we have a\n",
       "  specific estimator or a Pipeline/ColumnTransformer */\n",
       "  background-color: var(--sklearn-color-background);\n",
       "}\n",
       "\n",
       "/* Toggleable label */\n",
       "#sk-container-id-8 label.sk-toggleable__label {\n",
       "  cursor: pointer;\n",
       "  display: block;\n",
       "  width: 100%;\n",
       "  margin-bottom: 0;\n",
       "  padding: 0.5em;\n",
       "  box-sizing: border-box;\n",
       "  text-align: center;\n",
       "}\n",
       "\n",
       "#sk-container-id-8 label.sk-toggleable__label-arrow:before {\n",
       "  /* Arrow on the left of the label */\n",
       "  content: \"▸\";\n",
       "  float: left;\n",
       "  margin-right: 0.25em;\n",
       "  color: var(--sklearn-color-icon);\n",
       "}\n",
       "\n",
       "#sk-container-id-8 label.sk-toggleable__label-arrow:hover:before {\n",
       "  color: var(--sklearn-color-text);\n",
       "}\n",
       "\n",
       "/* Toggleable content - dropdown */\n",
       "\n",
       "#sk-container-id-8 div.sk-toggleable__content {\n",
       "  max-height: 0;\n",
       "  max-width: 0;\n",
       "  overflow: hidden;\n",
       "  text-align: left;\n",
       "  /* unfitted */\n",
       "  background-color: var(--sklearn-color-unfitted-level-0);\n",
       "}\n",
       "\n",
       "#sk-container-id-8 div.sk-toggleable__content.fitted {\n",
       "  /* fitted */\n",
       "  background-color: var(--sklearn-color-fitted-level-0);\n",
       "}\n",
       "\n",
       "#sk-container-id-8 div.sk-toggleable__content pre {\n",
       "  margin: 0.2em;\n",
       "  border-radius: 0.25em;\n",
       "  color: var(--sklearn-color-text);\n",
       "  /* unfitted */\n",
       "  background-color: var(--sklearn-color-unfitted-level-0);\n",
       "}\n",
       "\n",
       "#sk-container-id-8 div.sk-toggleable__content.fitted pre {\n",
       "  /* unfitted */\n",
       "  background-color: var(--sklearn-color-fitted-level-0);\n",
       "}\n",
       "\n",
       "#sk-container-id-8 input.sk-toggleable__control:checked~div.sk-toggleable__content {\n",
       "  /* Expand drop-down */\n",
       "  max-height: 200px;\n",
       "  max-width: 100%;\n",
       "  overflow: auto;\n",
       "}\n",
       "\n",
       "#sk-container-id-8 input.sk-toggleable__control:checked~label.sk-toggleable__label-arrow:before {\n",
       "  content: \"▾\";\n",
       "}\n",
       "\n",
       "/* Pipeline/ColumnTransformer-specific style */\n",
       "\n",
       "#sk-container-id-8 div.sk-label input.sk-toggleable__control:checked~label.sk-toggleable__label {\n",
       "  color: var(--sklearn-color-text);\n",
       "  background-color: var(--sklearn-color-unfitted-level-2);\n",
       "}\n",
       "\n",
       "#sk-container-id-8 div.sk-label.fitted input.sk-toggleable__control:checked~label.sk-toggleable__label {\n",
       "  background-color: var(--sklearn-color-fitted-level-2);\n",
       "}\n",
       "\n",
       "/* Estimator-specific style */\n",
       "\n",
       "/* Colorize estimator box */\n",
       "#sk-container-id-8 div.sk-estimator input.sk-toggleable__control:checked~label.sk-toggleable__label {\n",
       "  /* unfitted */\n",
       "  background-color: var(--sklearn-color-unfitted-level-2);\n",
       "}\n",
       "\n",
       "#sk-container-id-8 div.sk-estimator.fitted input.sk-toggleable__control:checked~label.sk-toggleable__label {\n",
       "  /* fitted */\n",
       "  background-color: var(--sklearn-color-fitted-level-2);\n",
       "}\n",
       "\n",
       "#sk-container-id-8 div.sk-label label.sk-toggleable__label,\n",
       "#sk-container-id-8 div.sk-label label {\n",
       "  /* The background is the default theme color */\n",
       "  color: var(--sklearn-color-text-on-default-background);\n",
       "}\n",
       "\n",
       "/* On hover, darken the color of the background */\n",
       "#sk-container-id-8 div.sk-label:hover label.sk-toggleable__label {\n",
       "  color: var(--sklearn-color-text);\n",
       "  background-color: var(--sklearn-color-unfitted-level-2);\n",
       "}\n",
       "\n",
       "/* Label box, darken color on hover, fitted */\n",
       "#sk-container-id-8 div.sk-label.fitted:hover label.sk-toggleable__label.fitted {\n",
       "  color: var(--sklearn-color-text);\n",
       "  background-color: var(--sklearn-color-fitted-level-2);\n",
       "}\n",
       "\n",
       "/* Estimator label */\n",
       "\n",
       "#sk-container-id-8 div.sk-label label {\n",
       "  font-family: monospace;\n",
       "  font-weight: bold;\n",
       "  display: inline-block;\n",
       "  line-height: 1.2em;\n",
       "}\n",
       "\n",
       "#sk-container-id-8 div.sk-label-container {\n",
       "  text-align: center;\n",
       "}\n",
       "\n",
       "/* Estimator-specific */\n",
       "#sk-container-id-8 div.sk-estimator {\n",
       "  font-family: monospace;\n",
       "  border: 1px dotted var(--sklearn-color-border-box);\n",
       "  border-radius: 0.25em;\n",
       "  box-sizing: border-box;\n",
       "  margin-bottom: 0.5em;\n",
       "  /* unfitted */\n",
       "  background-color: var(--sklearn-color-unfitted-level-0);\n",
       "}\n",
       "\n",
       "#sk-container-id-8 div.sk-estimator.fitted {\n",
       "  /* fitted */\n",
       "  background-color: var(--sklearn-color-fitted-level-0);\n",
       "}\n",
       "\n",
       "/* on hover */\n",
       "#sk-container-id-8 div.sk-estimator:hover {\n",
       "  /* unfitted */\n",
       "  background-color: var(--sklearn-color-unfitted-level-2);\n",
       "}\n",
       "\n",
       "#sk-container-id-8 div.sk-estimator.fitted:hover {\n",
       "  /* fitted */\n",
       "  background-color: var(--sklearn-color-fitted-level-2);\n",
       "}\n",
       "\n",
       "/* Specification for estimator info (e.g. \"i\" and \"?\") */\n",
       "\n",
       "/* Common style for \"i\" and \"?\" */\n",
       "\n",
       ".sk-estimator-doc-link,\n",
       "a:link.sk-estimator-doc-link,\n",
       "a:visited.sk-estimator-doc-link {\n",
       "  float: right;\n",
       "  font-size: smaller;\n",
       "  line-height: 1em;\n",
       "  font-family: monospace;\n",
       "  background-color: var(--sklearn-color-background);\n",
       "  border-radius: 1em;\n",
       "  height: 1em;\n",
       "  width: 1em;\n",
       "  text-decoration: none !important;\n",
       "  margin-left: 1ex;\n",
       "  /* unfitted */\n",
       "  border: var(--sklearn-color-unfitted-level-1) 1pt solid;\n",
       "  color: var(--sklearn-color-unfitted-level-1);\n",
       "}\n",
       "\n",
       ".sk-estimator-doc-link.fitted,\n",
       "a:link.sk-estimator-doc-link.fitted,\n",
       "a:visited.sk-estimator-doc-link.fitted {\n",
       "  /* fitted */\n",
       "  border: var(--sklearn-color-fitted-level-1) 1pt solid;\n",
       "  color: var(--sklearn-color-fitted-level-1);\n",
       "}\n",
       "\n",
       "/* On hover */\n",
       "div.sk-estimator:hover .sk-estimator-doc-link:hover,\n",
       ".sk-estimator-doc-link:hover,\n",
       "div.sk-label-container:hover .sk-estimator-doc-link:hover,\n",
       ".sk-estimator-doc-link:hover {\n",
       "  /* unfitted */\n",
       "  background-color: var(--sklearn-color-unfitted-level-3);\n",
       "  color: var(--sklearn-color-background);\n",
       "  text-decoration: none;\n",
       "}\n",
       "\n",
       "div.sk-estimator.fitted:hover .sk-estimator-doc-link.fitted:hover,\n",
       ".sk-estimator-doc-link.fitted:hover,\n",
       "div.sk-label-container:hover .sk-estimator-doc-link.fitted:hover,\n",
       ".sk-estimator-doc-link.fitted:hover {\n",
       "  /* fitted */\n",
       "  background-color: var(--sklearn-color-fitted-level-3);\n",
       "  color: var(--sklearn-color-background);\n",
       "  text-decoration: none;\n",
       "}\n",
       "\n",
       "/* Span, style for the box shown on hovering the info icon */\n",
       ".sk-estimator-doc-link span {\n",
       "  display: none;\n",
       "  z-index: 9999;\n",
       "  position: relative;\n",
       "  font-weight: normal;\n",
       "  right: .2ex;\n",
       "  padding: .5ex;\n",
       "  margin: .5ex;\n",
       "  width: min-content;\n",
       "  min-width: 20ex;\n",
       "  max-width: 50ex;\n",
       "  color: var(--sklearn-color-text);\n",
       "  box-shadow: 2pt 2pt 4pt #999;\n",
       "  /* unfitted */\n",
       "  background: var(--sklearn-color-unfitted-level-0);\n",
       "  border: .5pt solid var(--sklearn-color-unfitted-level-3);\n",
       "}\n",
       "\n",
       ".sk-estimator-doc-link.fitted span {\n",
       "  /* fitted */\n",
       "  background: var(--sklearn-color-fitted-level-0);\n",
       "  border: var(--sklearn-color-fitted-level-3);\n",
       "}\n",
       "\n",
       ".sk-estimator-doc-link:hover span {\n",
       "  display: block;\n",
       "}\n",
       "\n",
       "/* \"?\"-specific style due to the `<a>` HTML tag */\n",
       "\n",
       "#sk-container-id-8 a.estimator_doc_link {\n",
       "  float: right;\n",
       "  font-size: 1rem;\n",
       "  line-height: 1em;\n",
       "  font-family: monospace;\n",
       "  background-color: var(--sklearn-color-background);\n",
       "  border-radius: 1rem;\n",
       "  height: 1rem;\n",
       "  width: 1rem;\n",
       "  text-decoration: none;\n",
       "  /* unfitted */\n",
       "  color: var(--sklearn-color-unfitted-level-1);\n",
       "  border: var(--sklearn-color-unfitted-level-1) 1pt solid;\n",
       "}\n",
       "\n",
       "#sk-container-id-8 a.estimator_doc_link.fitted {\n",
       "  /* fitted */\n",
       "  border: var(--sklearn-color-fitted-level-1) 1pt solid;\n",
       "  color: var(--sklearn-color-fitted-level-1);\n",
       "}\n",
       "\n",
       "/* On hover */\n",
       "#sk-container-id-8 a.estimator_doc_link:hover {\n",
       "  /* unfitted */\n",
       "  background-color: var(--sklearn-color-unfitted-level-3);\n",
       "  color: var(--sklearn-color-background);\n",
       "  text-decoration: none;\n",
       "}\n",
       "\n",
       "#sk-container-id-8 a.estimator_doc_link.fitted:hover {\n",
       "  /* fitted */\n",
       "  background-color: var(--sklearn-color-fitted-level-3);\n",
       "}\n",
       "</style><div id=\"sk-container-id-8\" class=\"sk-top-container\"><div class=\"sk-text-repr-fallback\"><pre>LinearRegression()</pre><b>In a Jupyter environment, please rerun this cell to show the HTML representation or trust the notebook. <br />On GitHub, the HTML representation is unable to render, please try loading this page with nbviewer.org.</b></div><div class=\"sk-container\" hidden><div class=\"sk-item\"><div class=\"sk-estimator fitted sk-toggleable\"><input class=\"sk-toggleable__control sk-hidden--visually\" id=\"sk-estimator-id-8\" type=\"checkbox\" checked><label for=\"sk-estimator-id-8\" class=\"sk-toggleable__label fitted sk-toggleable__label-arrow fitted\">&nbsp;&nbsp;LinearRegression<a class=\"sk-estimator-doc-link fitted\" rel=\"noreferrer\" target=\"_blank\" href=\"https://scikit-learn.org/1.5/modules/generated/sklearn.linear_model.LinearRegression.html\">?<span>Documentation for LinearRegression</span></a><span class=\"sk-estimator-doc-link fitted\">i<span>Fitted</span></span></label><div class=\"sk-toggleable__content fitted\"><pre>LinearRegression()</pre></div> </div></div></div></div>"
      ],
      "text/plain": [
       "LinearRegression()"
      ]
     },
     "execution_count": 1601,
     "metadata": {},
     "output_type": "execute_result"
    }
   ],
   "source": [
    "model_lr_scaled.fit(X_train_scaled, y_train)"
   ]
  },
  {
   "cell_type": "markdown",
   "id": "5b1eca48-b399-4204-8a0b-98ff9cb5750c",
   "metadata": {},
   "source": [
    "Сделаем предсказания на тренировочных данных:"
   ]
  },
  {
   "cell_type": "code",
   "execution_count": 1603,
   "id": "5d7683fb-c05f-44e4-a8a7-d482e3ec3b54",
   "metadata": {},
   "outputs": [],
   "source": [
    "y_train_scaled_predict = model_lr_scaled.predict(X_train_scaled)"
   ]
  },
  {
   "cell_type": "markdown",
   "id": "6338e5e7-cda4-47b2-a3af-74f389429916",
   "metadata": {},
   "source": [
    "Посчитаем метрики качества:"
   ]
  },
  {
   "cell_type": "code",
   "execution_count": 1675,
   "id": "f920e170-a1ab-4807-8dfb-04f6ad6f5e17",
   "metadata": {},
   "outputs": [
    {
     "name": "stdout",
     "output_type": "stream",
     "text": [
      "Metrics:\n",
      "mae_train=0.066\n",
      "mape_train=1.982\n",
      "R2_train=0.045\n",
      "\n"
     ]
    }
   ],
   "source": [
    "print(f'''Metrics:\n",
    "mae_train={round(MAE(y_train, y_train_scaled_predict), 3)}\n",
    "mape_train={round(MAPE(y_train, y_train_scaled_predict), 3)}\n",
    "R2_train={round(R2(y_train, y_train_scaled_predict), 3)}\n",
    "''')"
   ]
  },
  {
   "cell_type": "markdown",
   "id": "b736cc00-b5e4-445a-9034-4448ee4d3abb",
   "metadata": {},
   "source": [
    "Стандартизация не помогла прибавить в качестве."
   ]
  },
  {
   "cell_type": "markdown",
   "id": "e88178b1-03f1-461e-886e-a1fd76277c73",
   "metadata": {},
   "source": [
    "Выведем веса модели:"
   ]
  },
  {
   "cell_type": "code",
   "execution_count": 1605,
   "id": "61d44fd2-5c65-47fa-af8e-e10c190d6938",
   "metadata": {},
   "outputs": [
    {
     "name": "stdout",
     "output_type": "stream",
     "text": [
      "Веса: [-7.47911428e-05  1.31678046e-02  1.50909676e-02]\n"
     ]
    }
   ],
   "source": [
    "weigths = model_lr_scaled.coef_\n",
    "print(\"Веса:\", weigths)"
   ]
  },
  {
   "cell_type": "markdown",
   "id": "fc50cfe3-7602-45a7-8b6f-36e96b9dff37",
   "metadata": {},
   "source": [
    "### 2. Добавим категориальные переменные"
   ]
  },
  {
   "cell_type": "markdown",
   "id": "2e3c716a-4d4a-4e3b-9c1e-49df2d0b5337",
   "metadata": {},
   "source": [
    "Обучим модель на сей раз с помощью гребневой (ridge) регрессии и класса GridSearchCV. Кроссвалидируемся по 10-ти фолдам:"
   ]
  },
  {
   "cell_type": "markdown",
   "id": "68b797b4-e49e-4cdc-8466-279f570dabce",
   "metadata": {},
   "source": [
    "Сделаем признами 'atm_group' и 'postal_code' категориальными:"
   ]
  },
  {
   "cell_type": "code",
   "execution_count": 1615,
   "id": "0e414d03-f28f-475e-b170-dd302238cd7c",
   "metadata": {},
   "outputs": [
    {
     "name": "stderr",
     "output_type": "stream",
     "text": [
      "C:\\Users\\DNS\\AppData\\Local\\Temp\\ipykernel_11192\\3463498348.py:1: SettingWithCopyWarning: \n",
      "A value is trying to be set on a copy of a slice from a DataFrame.\n",
      "Try using .loc[row_indexer,col_indexer] = value instead\n",
      "\n",
      "See the caveats in the documentation: https://pandas.pydata.org/pandas-docs/stable/user_guide/indexing.html#returning-a-view-versus-a-copy\n",
      "  df_train_filtered['atm_group'] = df_train_filtered['atm_group'].astype(object)\n",
      "C:\\Users\\DNS\\AppData\\Local\\Temp\\ipykernel_11192\\3463498348.py:2: SettingWithCopyWarning: \n",
      "A value is trying to be set on a copy of a slice from a DataFrame.\n",
      "Try using .loc[row_indexer,col_indexer] = value instead\n",
      "\n",
      "See the caveats in the documentation: https://pandas.pydata.org/pandas-docs/stable/user_guide/indexing.html#returning-a-view-versus-a-copy\n",
      "  df_train_filtered['postal_code'] = df_train_filtered['postal_code'].astype(object)\n",
      "C:\\Users\\DNS\\AppData\\Local\\Temp\\ipykernel_11192\\3463498348.py:4: SettingWithCopyWarning: \n",
      "A value is trying to be set on a copy of a slice from a DataFrame.\n",
      "Try using .loc[row_indexer,col_indexer] = value instead\n",
      "\n",
      "See the caveats in the documentation: https://pandas.pydata.org/pandas-docs/stable/user_guide/indexing.html#returning-a-view-versus-a-copy\n",
      "  df_test_filtered['atm_group'] = df_test_filtered['atm_group'].astype(object)\n",
      "C:\\Users\\DNS\\AppData\\Local\\Temp\\ipykernel_11192\\3463498348.py:5: SettingWithCopyWarning: \n",
      "A value is trying to be set on a copy of a slice from a DataFrame.\n",
      "Try using .loc[row_indexer,col_indexer] = value instead\n",
      "\n",
      "See the caveats in the documentation: https://pandas.pydata.org/pandas-docs/stable/user_guide/indexing.html#returning-a-view-versus-a-copy\n",
      "  df_test_filtered['postal_code'] = df_test_filtered['postal_code'].astype(object)\n"
     ]
    }
   ],
   "source": [
    "df_train_filtered['atm_group'] = df_train_filtered['atm_group'].astype(object)\n",
    "df_train_filtered['postal_code'] = df_train_filtered['postal_code'].astype(object)\n",
    "\n",
    "df_test_filtered['atm_group'] = df_test_filtered['atm_group'].astype(object)\n",
    "df_test_filtered['postal_code'] = df_test_filtered['postal_code'].astype(object)"
   ]
  },
  {
   "cell_type": "code",
   "execution_count": 1617,
   "id": "1b9330c3-4d62-45d9-aa72-a9d47df47cc2",
   "metadata": {},
   "outputs": [
    {
     "data": {
      "text/plain": [
       "id                  float64\n",
       "atm_group            object\n",
       "address              object\n",
       "address_rus          object\n",
       "lat                 float64\n",
       "long                float64\n",
       "target              float64\n",
       "len_address         float64\n",
       "postal_code          object\n",
       "len_postal_code     float64\n",
       "country              object\n",
       "settlement           object\n",
       "street_name          object\n",
       "number               object\n",
       "feature_mean        float64\n",
       "settlement_count    float64\n",
       "p                   float64\n",
       "dtype: object"
      ]
     },
     "execution_count": 1617,
     "metadata": {},
     "output_type": "execute_result"
    }
   ],
   "source": [
    "df_train_filtered.dtypes"
   ]
  },
  {
   "cell_type": "code",
   "execution_count": 1619,
   "id": "864456ce-181a-44aa-80cf-c7ff963d3b68",
   "metadata": {},
   "outputs": [],
   "source": [
    "X_train_with_cat = df_train_filtered[['lat', 'long', 'settlement', 'street_name', 'settlement_count', 'atm_group', 'postal_code']]\n",
    "X_test_with_cat = df_test_filtered[['lat', 'long', 'settlement', 'street_name', 'settlement_count', 'atm_group', 'postal_code']]"
   ]
  },
  {
   "cell_type": "code",
   "execution_count": 1621,
   "id": "d523785a-e6da-4849-9bca-fca3dfc46652",
   "metadata": {},
   "outputs": [],
   "source": [
    "from sklearn.preprocessing import OneHotEncoder"
   ]
  },
  {
   "cell_type": "markdown",
   "id": "af2fa1db-3a91-475b-a1ba-369e43a8fb59",
   "metadata": {},
   "source": [
    "Воспользуемся OneHotEncoder:"
   ]
  },
  {
   "cell_type": "code",
   "execution_count": 1625,
   "id": "b3698540-3e35-42e6-bfcd-e7df97d6a16a",
   "metadata": {},
   "outputs": [],
   "source": [
    "one_hot_enc = OneHotEncoder(drop='first', handle_unknown='ignore')"
   ]
  },
  {
   "cell_type": "markdown",
   "id": "5a232821-5811-4900-b77e-3d5bf29952dd",
   "metadata": {},
   "source": [
    "Запишем категориальные признаки:"
   ]
  },
  {
   "cell_type": "code",
   "execution_count": 1627,
   "id": "b29972d5-60c1-4578-94e9-f1892a643e21",
   "metadata": {},
   "outputs": [],
   "source": [
    "cat_features = ['settlement', 'street_name', 'atm_group', 'postal_code']"
   ]
  },
  {
   "cell_type": "markdown",
   "id": "43e5fb02-f626-40e7-871f-efa39f15b97d",
   "metadata": {},
   "source": [
    "Обучим и преобразуем тренировочные данные:"
   ]
  },
  {
   "cell_type": "code",
   "execution_count": 1629,
   "id": "a643b6ec-d7d1-4a7f-a399-430e8ef44c80",
   "metadata": {},
   "outputs": [],
   "source": [
    "encoded_train = one_hot_enc.fit_transform(X_train_with_cat[cat_features]).toarray()"
   ]
  },
  {
   "cell_type": "markdown",
   "id": "4102d6d4-fa6d-4b00-8983-88796ea24cac",
   "metadata": {},
   "source": [
    "Преобразуем тестовые данные:"
   ]
  },
  {
   "cell_type": "code",
   "execution_count": 1631,
   "id": "0eb829a3-bc91-4145-825d-98003e72d6d8",
   "metadata": {},
   "outputs": [
    {
     "name": "stderr",
     "output_type": "stream",
     "text": [
      "C:\\Users\\DNS\\anaconda3\\Lib\\site-packages\\sklearn\\preprocessing\\_encoders.py:242: UserWarning: Found unknown categories in columns [0, 1, 3] during transform. These unknown categories will be encoded as all zeros\n",
      "  warnings.warn(\n"
     ]
    }
   ],
   "source": [
    "encoded_test = one_hot_enc.transform(X_test_with_cat[cat_features]).toarray()"
   ]
  },
  {
   "cell_type": "markdown",
   "id": "cb1f7485-df7e-4804-844c-def886a22105",
   "metadata": {},
   "source": [
    "Создадим датафреймы для закодированных признаков:"
   ]
  },
  {
   "cell_type": "code",
   "execution_count": 1633,
   "id": "aaa9e20f-3a69-4291-ac3a-16f7cc91befa",
   "metadata": {},
   "outputs": [],
   "source": [
    "encoded_train_df = pd.DataFrame(encoded_train,\n",
    "                                columns=one_hot_enc.get_feature_names_out(cat_features),\n",
    "                                index=X_train_with_cat.index)"
   ]
  },
  {
   "cell_type": "code",
   "execution_count": 1635,
   "id": "e56160f0-ec0b-413e-b5d6-85ee2ee749dc",
   "metadata": {},
   "outputs": [],
   "source": [
    "encoded_test_df = pd.DataFrame(encoded_test,\n",
    "                              columns=one_hot_enc.get_feature_names_out(cat_features),\n",
    "                              index=X_test_with_cat.index)"
   ]
  },
  {
   "cell_type": "markdown",
   "id": "b273208c-6062-4c2b-b066-2a9e51f2c47b",
   "metadata": {},
   "source": [
    "Дропнем исходные категориальные признаки:"
   ]
  },
  {
   "cell_type": "code",
   "execution_count": 1637,
   "id": "965ec50c-6af1-4385-84c6-c1e739a2870e",
   "metadata": {},
   "outputs": [],
   "source": [
    "X_train_encoded = pd.concat([X_train_with_cat.drop(columns=cat_features), encoded_train_df], axis=1)\n",
    "X_test_encoded = pd.concat([X_test_with_cat.drop(columns=cat_features), encoded_test_df], axis=1)"
   ]
  },
  {
   "cell_type": "code",
   "execution_count": 1639,
   "id": "4de0c6cd-879c-473e-a858-9ef93664a60e",
   "metadata": {},
   "outputs": [],
   "source": [
    "from sklearn.linear_model import Ridge\n",
    "from sklearn.model_selection import GridSearchCV"
   ]
  },
  {
   "cell_type": "markdown",
   "id": "f9fc1dfa-3d90-4844-ac71-4b294f487746",
   "metadata": {},
   "source": [
    "Зададим варианты гиперпараметра alpha, который будем поочереди применять на модели:"
   ]
  },
  {
   "cell_type": "code",
   "execution_count": 1641,
   "id": "d70f2237-24d4-45d4-89ab-095dfba501d8",
   "metadata": {},
   "outputs": [],
   "source": [
    "params = {'alpha' : [0.01, 0.2, 0.4, 0.6, 0,8, 1]}"
   ]
  },
  {
   "cell_type": "code",
   "execution_count": 1643,
   "id": "954ba6fe-4b78-4baf-b638-b3bd2a3236ea",
   "metadata": {},
   "outputs": [],
   "source": [
    "ridge_model = Ridge(random_state=42)"
   ]
  },
  {
   "cell_type": "markdown",
   "id": "48fca336-6849-41a4-a807-c65dfeff135f",
   "metadata": {},
   "source": [
    "Подберем гиперпараметры по кросс-валидации:"
   ]
  },
  {
   "cell_type": "code",
   "execution_count": 1645,
   "id": "fba89d7c-1568-4a88-ab09-d66506eba6d1",
   "metadata": {},
   "outputs": [
    {
     "name": "stderr",
     "output_type": "stream",
     "text": [
      "C:\\Users\\DNS\\anaconda3\\Lib\\site-packages\\sklearn\\model_selection\\_validation.py:540: FitFailedWarning: \n",
      "2 fits failed out of a total of 70.\n",
      "The score on these train-test partitions for these parameters will be set to nan.\n",
      "If these failures are not expected, you can try to debug them by setting error_score='raise'.\n",
      "\n",
      "Below are more details about the failures:\n",
      "--------------------------------------------------------------------------------\n",
      "2 fits failed with the following error:\n",
      "Traceback (most recent call last):\n",
      "  File \"C:\\Users\\DNS\\anaconda3\\Lib\\site-packages\\sklearn\\model_selection\\_validation.py\", line 888, in _fit_and_score\n",
      "    estimator.fit(X_train, y_train, **fit_params)\n",
      "  File \"C:\\Users\\DNS\\anaconda3\\Lib\\site-packages\\sklearn\\base.py\", line 1473, in wrapper\n",
      "    return fit_method(estimator, *args, **kwargs)\n",
      "           ^^^^^^^^^^^^^^^^^^^^^^^^^^^^^^^^^^^^^^\n",
      "  File \"C:\\Users\\DNS\\anaconda3\\Lib\\site-packages\\sklearn\\linear_model\\_ridge.py\", line 1251, in fit\n",
      "    return super().fit(X, y, sample_weight=sample_weight)\n",
      "           ^^^^^^^^^^^^^^^^^^^^^^^^^^^^^^^^^^^^^^^^^^^^^^\n",
      "  File \"C:\\Users\\DNS\\anaconda3\\Lib\\site-packages\\sklearn\\linear_model\\_ridge.py\", line 994, in fit\n",
      "    self.coef_, self.n_iter_, self.solver_ = _ridge_regression(\n",
      "                                             ^^^^^^^^^^^^^^^^^^\n",
      "  File \"C:\\Users\\DNS\\anaconda3\\Lib\\site-packages\\sklearn\\linear_model\\_ridge.py\", line 811, in _ridge_regression\n",
      "    coef = _solve_svd(X, y, alpha, xp)\n",
      "           ^^^^^^^^^^^^^^^^^^^^^^^^^^^\n",
      "  File \"C:\\Users\\DNS\\anaconda3\\Lib\\site-packages\\sklearn\\linear_model\\_ridge.py\", line 290, in _solve_svd\n",
      "    U, s, Vt = xp.linalg.svd(X, full_matrices=False)\n",
      "               ^^^^^^^^^^^^^^^^^^^^^^^^^^^^^^^^^^^^^\n",
      "  File \"C:\\Users\\DNS\\anaconda3\\Lib\\site-packages\\numpy\\linalg\\linalg.py\", line 1681, in svd\n",
      "    u, s, vh = gufunc(a, signature=signature, extobj=extobj)\n",
      "               ^^^^^^^^^^^^^^^^^^^^^^^^^^^^^^^^^^^^^^^^^^^^^\n",
      "  File \"C:\\Users\\DNS\\anaconda3\\Lib\\site-packages\\numpy\\linalg\\linalg.py\", line 121, in _raise_linalgerror_svd_nonconvergence\n",
      "    raise LinAlgError(\"SVD did not converge\")\n",
      "numpy.linalg.LinAlgError: SVD did not converge\n",
      "\n",
      "  warnings.warn(some_fits_failed_message, FitFailedWarning)\n",
      "C:\\Users\\DNS\\anaconda3\\Lib\\site-packages\\sklearn\\model_selection\\_search.py:1102: UserWarning: One or more of the test scores are non-finite: [0.19747985 0.3920624  0.43423013 0.45687333        nan 0.53441389\n",
      " 0.48227937]\n",
      "  warnings.warn(\n"
     ]
    },
    {
     "data": {
      "text/html": [
       "<style>#sk-container-id-9 {\n",
       "  /* Definition of color scheme common for light and dark mode */\n",
       "  --sklearn-color-text: black;\n",
       "  --sklearn-color-line: gray;\n",
       "  /* Definition of color scheme for unfitted estimators */\n",
       "  --sklearn-color-unfitted-level-0: #fff5e6;\n",
       "  --sklearn-color-unfitted-level-1: #f6e4d2;\n",
       "  --sklearn-color-unfitted-level-2: #ffe0b3;\n",
       "  --sklearn-color-unfitted-level-3: chocolate;\n",
       "  /* Definition of color scheme for fitted estimators */\n",
       "  --sklearn-color-fitted-level-0: #f0f8ff;\n",
       "  --sklearn-color-fitted-level-1: #d4ebff;\n",
       "  --sklearn-color-fitted-level-2: #b3dbfd;\n",
       "  --sklearn-color-fitted-level-3: cornflowerblue;\n",
       "\n",
       "  /* Specific color for light theme */\n",
       "  --sklearn-color-text-on-default-background: var(--sg-text-color, var(--theme-code-foreground, var(--jp-content-font-color1, black)));\n",
       "  --sklearn-color-background: var(--sg-background-color, var(--theme-background, var(--jp-layout-color0, white)));\n",
       "  --sklearn-color-border-box: var(--sg-text-color, var(--theme-code-foreground, var(--jp-content-font-color1, black)));\n",
       "  --sklearn-color-icon: #696969;\n",
       "\n",
       "  @media (prefers-color-scheme: dark) {\n",
       "    /* Redefinition of color scheme for dark theme */\n",
       "    --sklearn-color-text-on-default-background: var(--sg-text-color, var(--theme-code-foreground, var(--jp-content-font-color1, white)));\n",
       "    --sklearn-color-background: var(--sg-background-color, var(--theme-background, var(--jp-layout-color0, #111)));\n",
       "    --sklearn-color-border-box: var(--sg-text-color, var(--theme-code-foreground, var(--jp-content-font-color1, white)));\n",
       "    --sklearn-color-icon: #878787;\n",
       "  }\n",
       "}\n",
       "\n",
       "#sk-container-id-9 {\n",
       "  color: var(--sklearn-color-text);\n",
       "}\n",
       "\n",
       "#sk-container-id-9 pre {\n",
       "  padding: 0;\n",
       "}\n",
       "\n",
       "#sk-container-id-9 input.sk-hidden--visually {\n",
       "  border: 0;\n",
       "  clip: rect(1px 1px 1px 1px);\n",
       "  clip: rect(1px, 1px, 1px, 1px);\n",
       "  height: 1px;\n",
       "  margin: -1px;\n",
       "  overflow: hidden;\n",
       "  padding: 0;\n",
       "  position: absolute;\n",
       "  width: 1px;\n",
       "}\n",
       "\n",
       "#sk-container-id-9 div.sk-dashed-wrapped {\n",
       "  border: 1px dashed var(--sklearn-color-line);\n",
       "  margin: 0 0.4em 0.5em 0.4em;\n",
       "  box-sizing: border-box;\n",
       "  padding-bottom: 0.4em;\n",
       "  background-color: var(--sklearn-color-background);\n",
       "}\n",
       "\n",
       "#sk-container-id-9 div.sk-container {\n",
       "  /* jupyter's `normalize.less` sets `[hidden] { display: none; }`\n",
       "     but bootstrap.min.css set `[hidden] { display: none !important; }`\n",
       "     so we also need the `!important` here to be able to override the\n",
       "     default hidden behavior on the sphinx rendered scikit-learn.org.\n",
       "     See: https://github.com/scikit-learn/scikit-learn/issues/21755 */\n",
       "  display: inline-block !important;\n",
       "  position: relative;\n",
       "}\n",
       "\n",
       "#sk-container-id-9 div.sk-text-repr-fallback {\n",
       "  display: none;\n",
       "}\n",
       "\n",
       "div.sk-parallel-item,\n",
       "div.sk-serial,\n",
       "div.sk-item {\n",
       "  /* draw centered vertical line to link estimators */\n",
       "  background-image: linear-gradient(var(--sklearn-color-text-on-default-background), var(--sklearn-color-text-on-default-background));\n",
       "  background-size: 2px 100%;\n",
       "  background-repeat: no-repeat;\n",
       "  background-position: center center;\n",
       "}\n",
       "\n",
       "/* Parallel-specific style estimator block */\n",
       "\n",
       "#sk-container-id-9 div.sk-parallel-item::after {\n",
       "  content: \"\";\n",
       "  width: 100%;\n",
       "  border-bottom: 2px solid var(--sklearn-color-text-on-default-background);\n",
       "  flex-grow: 1;\n",
       "}\n",
       "\n",
       "#sk-container-id-9 div.sk-parallel {\n",
       "  display: flex;\n",
       "  align-items: stretch;\n",
       "  justify-content: center;\n",
       "  background-color: var(--sklearn-color-background);\n",
       "  position: relative;\n",
       "}\n",
       "\n",
       "#sk-container-id-9 div.sk-parallel-item {\n",
       "  display: flex;\n",
       "  flex-direction: column;\n",
       "}\n",
       "\n",
       "#sk-container-id-9 div.sk-parallel-item:first-child::after {\n",
       "  align-self: flex-end;\n",
       "  width: 50%;\n",
       "}\n",
       "\n",
       "#sk-container-id-9 div.sk-parallel-item:last-child::after {\n",
       "  align-self: flex-start;\n",
       "  width: 50%;\n",
       "}\n",
       "\n",
       "#sk-container-id-9 div.sk-parallel-item:only-child::after {\n",
       "  width: 0;\n",
       "}\n",
       "\n",
       "/* Serial-specific style estimator block */\n",
       "\n",
       "#sk-container-id-9 div.sk-serial {\n",
       "  display: flex;\n",
       "  flex-direction: column;\n",
       "  align-items: center;\n",
       "  background-color: var(--sklearn-color-background);\n",
       "  padding-right: 1em;\n",
       "  padding-left: 1em;\n",
       "}\n",
       "\n",
       "\n",
       "/* Toggleable style: style used for estimator/Pipeline/ColumnTransformer box that is\n",
       "clickable and can be expanded/collapsed.\n",
       "- Pipeline and ColumnTransformer use this feature and define the default style\n",
       "- Estimators will overwrite some part of the style using the `sk-estimator` class\n",
       "*/\n",
       "\n",
       "/* Pipeline and ColumnTransformer style (default) */\n",
       "\n",
       "#sk-container-id-9 div.sk-toggleable {\n",
       "  /* Default theme specific background. It is overwritten whether we have a\n",
       "  specific estimator or a Pipeline/ColumnTransformer */\n",
       "  background-color: var(--sklearn-color-background);\n",
       "}\n",
       "\n",
       "/* Toggleable label */\n",
       "#sk-container-id-9 label.sk-toggleable__label {\n",
       "  cursor: pointer;\n",
       "  display: block;\n",
       "  width: 100%;\n",
       "  margin-bottom: 0;\n",
       "  padding: 0.5em;\n",
       "  box-sizing: border-box;\n",
       "  text-align: center;\n",
       "}\n",
       "\n",
       "#sk-container-id-9 label.sk-toggleable__label-arrow:before {\n",
       "  /* Arrow on the left of the label */\n",
       "  content: \"▸\";\n",
       "  float: left;\n",
       "  margin-right: 0.25em;\n",
       "  color: var(--sklearn-color-icon);\n",
       "}\n",
       "\n",
       "#sk-container-id-9 label.sk-toggleable__label-arrow:hover:before {\n",
       "  color: var(--sklearn-color-text);\n",
       "}\n",
       "\n",
       "/* Toggleable content - dropdown */\n",
       "\n",
       "#sk-container-id-9 div.sk-toggleable__content {\n",
       "  max-height: 0;\n",
       "  max-width: 0;\n",
       "  overflow: hidden;\n",
       "  text-align: left;\n",
       "  /* unfitted */\n",
       "  background-color: var(--sklearn-color-unfitted-level-0);\n",
       "}\n",
       "\n",
       "#sk-container-id-9 div.sk-toggleable__content.fitted {\n",
       "  /* fitted */\n",
       "  background-color: var(--sklearn-color-fitted-level-0);\n",
       "}\n",
       "\n",
       "#sk-container-id-9 div.sk-toggleable__content pre {\n",
       "  margin: 0.2em;\n",
       "  border-radius: 0.25em;\n",
       "  color: var(--sklearn-color-text);\n",
       "  /* unfitted */\n",
       "  background-color: var(--sklearn-color-unfitted-level-0);\n",
       "}\n",
       "\n",
       "#sk-container-id-9 div.sk-toggleable__content.fitted pre {\n",
       "  /* unfitted */\n",
       "  background-color: var(--sklearn-color-fitted-level-0);\n",
       "}\n",
       "\n",
       "#sk-container-id-9 input.sk-toggleable__control:checked~div.sk-toggleable__content {\n",
       "  /* Expand drop-down */\n",
       "  max-height: 200px;\n",
       "  max-width: 100%;\n",
       "  overflow: auto;\n",
       "}\n",
       "\n",
       "#sk-container-id-9 input.sk-toggleable__control:checked~label.sk-toggleable__label-arrow:before {\n",
       "  content: \"▾\";\n",
       "}\n",
       "\n",
       "/* Pipeline/ColumnTransformer-specific style */\n",
       "\n",
       "#sk-container-id-9 div.sk-label input.sk-toggleable__control:checked~label.sk-toggleable__label {\n",
       "  color: var(--sklearn-color-text);\n",
       "  background-color: var(--sklearn-color-unfitted-level-2);\n",
       "}\n",
       "\n",
       "#sk-container-id-9 div.sk-label.fitted input.sk-toggleable__control:checked~label.sk-toggleable__label {\n",
       "  background-color: var(--sklearn-color-fitted-level-2);\n",
       "}\n",
       "\n",
       "/* Estimator-specific style */\n",
       "\n",
       "/* Colorize estimator box */\n",
       "#sk-container-id-9 div.sk-estimator input.sk-toggleable__control:checked~label.sk-toggleable__label {\n",
       "  /* unfitted */\n",
       "  background-color: var(--sklearn-color-unfitted-level-2);\n",
       "}\n",
       "\n",
       "#sk-container-id-9 div.sk-estimator.fitted input.sk-toggleable__control:checked~label.sk-toggleable__label {\n",
       "  /* fitted */\n",
       "  background-color: var(--sklearn-color-fitted-level-2);\n",
       "}\n",
       "\n",
       "#sk-container-id-9 div.sk-label label.sk-toggleable__label,\n",
       "#sk-container-id-9 div.sk-label label {\n",
       "  /* The background is the default theme color */\n",
       "  color: var(--sklearn-color-text-on-default-background);\n",
       "}\n",
       "\n",
       "/* On hover, darken the color of the background */\n",
       "#sk-container-id-9 div.sk-label:hover label.sk-toggleable__label {\n",
       "  color: var(--sklearn-color-text);\n",
       "  background-color: var(--sklearn-color-unfitted-level-2);\n",
       "}\n",
       "\n",
       "/* Label box, darken color on hover, fitted */\n",
       "#sk-container-id-9 div.sk-label.fitted:hover label.sk-toggleable__label.fitted {\n",
       "  color: var(--sklearn-color-text);\n",
       "  background-color: var(--sklearn-color-fitted-level-2);\n",
       "}\n",
       "\n",
       "/* Estimator label */\n",
       "\n",
       "#sk-container-id-9 div.sk-label label {\n",
       "  font-family: monospace;\n",
       "  font-weight: bold;\n",
       "  display: inline-block;\n",
       "  line-height: 1.2em;\n",
       "}\n",
       "\n",
       "#sk-container-id-9 div.sk-label-container {\n",
       "  text-align: center;\n",
       "}\n",
       "\n",
       "/* Estimator-specific */\n",
       "#sk-container-id-9 div.sk-estimator {\n",
       "  font-family: monospace;\n",
       "  border: 1px dotted var(--sklearn-color-border-box);\n",
       "  border-radius: 0.25em;\n",
       "  box-sizing: border-box;\n",
       "  margin-bottom: 0.5em;\n",
       "  /* unfitted */\n",
       "  background-color: var(--sklearn-color-unfitted-level-0);\n",
       "}\n",
       "\n",
       "#sk-container-id-9 div.sk-estimator.fitted {\n",
       "  /* fitted */\n",
       "  background-color: var(--sklearn-color-fitted-level-0);\n",
       "}\n",
       "\n",
       "/* on hover */\n",
       "#sk-container-id-9 div.sk-estimator:hover {\n",
       "  /* unfitted */\n",
       "  background-color: var(--sklearn-color-unfitted-level-2);\n",
       "}\n",
       "\n",
       "#sk-container-id-9 div.sk-estimator.fitted:hover {\n",
       "  /* fitted */\n",
       "  background-color: var(--sklearn-color-fitted-level-2);\n",
       "}\n",
       "\n",
       "/* Specification for estimator info (e.g. \"i\" and \"?\") */\n",
       "\n",
       "/* Common style for \"i\" and \"?\" */\n",
       "\n",
       ".sk-estimator-doc-link,\n",
       "a:link.sk-estimator-doc-link,\n",
       "a:visited.sk-estimator-doc-link {\n",
       "  float: right;\n",
       "  font-size: smaller;\n",
       "  line-height: 1em;\n",
       "  font-family: monospace;\n",
       "  background-color: var(--sklearn-color-background);\n",
       "  border-radius: 1em;\n",
       "  height: 1em;\n",
       "  width: 1em;\n",
       "  text-decoration: none !important;\n",
       "  margin-left: 1ex;\n",
       "  /* unfitted */\n",
       "  border: var(--sklearn-color-unfitted-level-1) 1pt solid;\n",
       "  color: var(--sklearn-color-unfitted-level-1);\n",
       "}\n",
       "\n",
       ".sk-estimator-doc-link.fitted,\n",
       "a:link.sk-estimator-doc-link.fitted,\n",
       "a:visited.sk-estimator-doc-link.fitted {\n",
       "  /* fitted */\n",
       "  border: var(--sklearn-color-fitted-level-1) 1pt solid;\n",
       "  color: var(--sklearn-color-fitted-level-1);\n",
       "}\n",
       "\n",
       "/* On hover */\n",
       "div.sk-estimator:hover .sk-estimator-doc-link:hover,\n",
       ".sk-estimator-doc-link:hover,\n",
       "div.sk-label-container:hover .sk-estimator-doc-link:hover,\n",
       ".sk-estimator-doc-link:hover {\n",
       "  /* unfitted */\n",
       "  background-color: var(--sklearn-color-unfitted-level-3);\n",
       "  color: var(--sklearn-color-background);\n",
       "  text-decoration: none;\n",
       "}\n",
       "\n",
       "div.sk-estimator.fitted:hover .sk-estimator-doc-link.fitted:hover,\n",
       ".sk-estimator-doc-link.fitted:hover,\n",
       "div.sk-label-container:hover .sk-estimator-doc-link.fitted:hover,\n",
       ".sk-estimator-doc-link.fitted:hover {\n",
       "  /* fitted */\n",
       "  background-color: var(--sklearn-color-fitted-level-3);\n",
       "  color: var(--sklearn-color-background);\n",
       "  text-decoration: none;\n",
       "}\n",
       "\n",
       "/* Span, style for the box shown on hovering the info icon */\n",
       ".sk-estimator-doc-link span {\n",
       "  display: none;\n",
       "  z-index: 9999;\n",
       "  position: relative;\n",
       "  font-weight: normal;\n",
       "  right: .2ex;\n",
       "  padding: .5ex;\n",
       "  margin: .5ex;\n",
       "  width: min-content;\n",
       "  min-width: 20ex;\n",
       "  max-width: 50ex;\n",
       "  color: var(--sklearn-color-text);\n",
       "  box-shadow: 2pt 2pt 4pt #999;\n",
       "  /* unfitted */\n",
       "  background: var(--sklearn-color-unfitted-level-0);\n",
       "  border: .5pt solid var(--sklearn-color-unfitted-level-3);\n",
       "}\n",
       "\n",
       ".sk-estimator-doc-link.fitted span {\n",
       "  /* fitted */\n",
       "  background: var(--sklearn-color-fitted-level-0);\n",
       "  border: var(--sklearn-color-fitted-level-3);\n",
       "}\n",
       "\n",
       ".sk-estimator-doc-link:hover span {\n",
       "  display: block;\n",
       "}\n",
       "\n",
       "/* \"?\"-specific style due to the `<a>` HTML tag */\n",
       "\n",
       "#sk-container-id-9 a.estimator_doc_link {\n",
       "  float: right;\n",
       "  font-size: 1rem;\n",
       "  line-height: 1em;\n",
       "  font-family: monospace;\n",
       "  background-color: var(--sklearn-color-background);\n",
       "  border-radius: 1rem;\n",
       "  height: 1rem;\n",
       "  width: 1rem;\n",
       "  text-decoration: none;\n",
       "  /* unfitted */\n",
       "  color: var(--sklearn-color-unfitted-level-1);\n",
       "  border: var(--sklearn-color-unfitted-level-1) 1pt solid;\n",
       "}\n",
       "\n",
       "#sk-container-id-9 a.estimator_doc_link.fitted {\n",
       "  /* fitted */\n",
       "  border: var(--sklearn-color-fitted-level-1) 1pt solid;\n",
       "  color: var(--sklearn-color-fitted-level-1);\n",
       "}\n",
       "\n",
       "/* On hover */\n",
       "#sk-container-id-9 a.estimator_doc_link:hover {\n",
       "  /* unfitted */\n",
       "  background-color: var(--sklearn-color-unfitted-level-3);\n",
       "  color: var(--sklearn-color-background);\n",
       "  text-decoration: none;\n",
       "}\n",
       "\n",
       "#sk-container-id-9 a.estimator_doc_link.fitted:hover {\n",
       "  /* fitted */\n",
       "  background-color: var(--sklearn-color-fitted-level-3);\n",
       "}\n",
       "</style><div id=\"sk-container-id-9\" class=\"sk-top-container\"><div class=\"sk-text-repr-fallback\"><pre>GridSearchCV(cv=10, estimator=Ridge(random_state=42),\n",
       "             param_grid={&#x27;alpha&#x27;: [0.01, 0.2, 0.4, 0.6, 0, 8, 1]},\n",
       "             scoring=&#x27;r2&#x27;)</pre><b>In a Jupyter environment, please rerun this cell to show the HTML representation or trust the notebook. <br />On GitHub, the HTML representation is unable to render, please try loading this page with nbviewer.org.</b></div><div class=\"sk-container\" hidden><div class=\"sk-item sk-dashed-wrapped\"><div class=\"sk-label-container\"><div class=\"sk-label fitted sk-toggleable\"><input class=\"sk-toggleable__control sk-hidden--visually\" id=\"sk-estimator-id-9\" type=\"checkbox\" ><label for=\"sk-estimator-id-9\" class=\"sk-toggleable__label fitted sk-toggleable__label-arrow fitted\">&nbsp;&nbsp;GridSearchCV<a class=\"sk-estimator-doc-link fitted\" rel=\"noreferrer\" target=\"_blank\" href=\"https://scikit-learn.org/1.5/modules/generated/sklearn.model_selection.GridSearchCV.html\">?<span>Documentation for GridSearchCV</span></a><span class=\"sk-estimator-doc-link fitted\">i<span>Fitted</span></span></label><div class=\"sk-toggleable__content fitted\"><pre>GridSearchCV(cv=10, estimator=Ridge(random_state=42),\n",
       "             param_grid={&#x27;alpha&#x27;: [0.01, 0.2, 0.4, 0.6, 0, 8, 1]},\n",
       "             scoring=&#x27;r2&#x27;)</pre></div> </div></div><div class=\"sk-parallel\"><div class=\"sk-parallel-item\"><div class=\"sk-item\"><div class=\"sk-label-container\"><div class=\"sk-label fitted sk-toggleable\"><input class=\"sk-toggleable__control sk-hidden--visually\" id=\"sk-estimator-id-10\" type=\"checkbox\" ><label for=\"sk-estimator-id-10\" class=\"sk-toggleable__label fitted sk-toggleable__label-arrow fitted\">best_estimator_: Ridge</label><div class=\"sk-toggleable__content fitted\"><pre>Ridge(alpha=8, random_state=42)</pre></div> </div></div><div class=\"sk-serial\"><div class=\"sk-item\"><div class=\"sk-estimator fitted sk-toggleable\"><input class=\"sk-toggleable__control sk-hidden--visually\" id=\"sk-estimator-id-11\" type=\"checkbox\" ><label for=\"sk-estimator-id-11\" class=\"sk-toggleable__label fitted sk-toggleable__label-arrow fitted\">&nbsp;Ridge<a class=\"sk-estimator-doc-link fitted\" rel=\"noreferrer\" target=\"_blank\" href=\"https://scikit-learn.org/1.5/modules/generated/sklearn.linear_model.Ridge.html\">?<span>Documentation for Ridge</span></a></label><div class=\"sk-toggleable__content fitted\"><pre>Ridge(alpha=8, random_state=42)</pre></div> </div></div></div></div></div></div></div></div></div>"
      ],
      "text/plain": [
       "GridSearchCV(cv=10, estimator=Ridge(random_state=42),\n",
       "             param_grid={'alpha': [0.01, 0.2, 0.4, 0.6, 0, 8, 1]},\n",
       "             scoring='r2')"
      ]
     },
     "execution_count": 1645,
     "metadata": {},
     "output_type": "execute_result"
    }
   ],
   "source": [
    "ridge = GridSearchCV(ridge_model, params, scoring='r2', cv=10)\n",
    "ridge.fit(X_train_encoded, y_train)"
   ]
  },
  {
   "cell_type": "markdown",
   "id": "357e1b34-51db-47c2-8618-4034b052a242",
   "metadata": {},
   "source": [
    "Сделаем предсказания на тренировочных данных:"
   ]
  },
  {
   "cell_type": "code",
   "execution_count": 1658,
   "id": "7144e8ac-18a1-4411-b6e0-3136243990e4",
   "metadata": {},
   "outputs": [],
   "source": [
    "y_train_encoded_predict = ridge.predict(X_train_encoded)"
   ]
  },
  {
   "cell_type": "code",
   "execution_count": 1662,
   "id": "5142a4f2-0fca-4343-8e36-c03a905a9ab5",
   "metadata": {},
   "outputs": [
    {
     "name": "stdout",
     "output_type": "stream",
     "text": [
      "Metrics:\n",
      "mae_train=0.032\n",
      "mape_train=2.451\n",
      "R2_train=0.787\n",
      "\n"
     ]
    }
   ],
   "source": [
    "print(f'''Metrics:\n",
    "mae_train={round(MAE(y_train, y_train_encoded_predict), 3)}\n",
    "mape_train={round(MAPE(y_train, y_train_encoded_predict), 3)}\n",
    "R2_train={round(R2(y_train, y_train_encoded_predict), 3)}\n",
    "''')"
   ]
  },
  {
   "cell_type": "markdown",
   "id": "f9da11be-fb64-4d2c-a050-b8d3950827c4",
   "metadata": {},
   "source": [
    "Из полученных результатов видно, чо лучше всех себя проявила модель Ridge. Низкие знаения MAE и MAPE говорят о точности предсказаний, а относительно высокий R2 подтверждает, что модель объясняет значительную часть дисперсии данных. Проинтепретерируем полученные результаты: мы добавили в модель категориальные признаки, которые несут в себе полезную информацию и это помогло модели лучше понять и объяснить данные. "
   ]
  },
  {
   "cell_type": "markdown",
   "id": "ace86683-a1af-44df-99f2-96b5102cc740",
   "metadata": {},
   "source": [
    "Нарисуем получившиеся значения метрик для всех моделей:"
   ]
  },
  {
   "cell_type": "code",
   "execution_count": 1692,
   "id": "099dc8ed-9502-403f-a9d7-b8efb70008e6",
   "metadata": {},
   "outputs": [
    {
     "data": {
      "image/png": "[encoded data removed]",
      "text/plain": [
       "<Figure size 600x600 with 1 Axes>"
      ]
     },
     "metadata": {},
     "output_type": "display_data"
    }
   ],
   "source": [
    "metrics = {\n",
    "    'Model': ['linear_model', 'linear_model+scaler', 'ridge'],\n",
    "    'MAE': [0.066, 0.066, 0.032],\n",
    "    'MAPE': [1.982, 1.982, 2.451],\n",
    "    'R2': [0.045, 0.045, 0.787]\n",
    "}\n",
    "\n",
    "df = pd.DataFrame(metrics)\n",
    "\n",
    "long_df = df.melt(id_vars='Model', var_name='Metric', value_name='Value')\n",
    "\n",
    "plt.figure(figsize=(6, 6))\n",
    "sns.barplot(data=long_df, x='Model', y='Value', hue='Metric')\n",
    "\n",
    "plt.title('Значения метрик качества моделей')\n",
    "plt.xlabel('Модель')\n",
    "plt.ylabel('Значение метрики', fontsize=12)\n",
    "plt.legend(title='Метрика')\n",
    "plt.grid(linestyle='--')\n",
    "plt.show()\n"
   ]
  }
 ],
 "metadata": {
  "kernelspec": {
   "display_name": "Python 3 (ipykernel)",
   "language": "python",
   "name": "python3"
  },
  "language_info": {
   "codemirror_mode": {
    "name": "ipython",
    "version": 3
   },
   "file_extension": ".py",
   "mimetype": "text/x-python",
   "name": "python",
   "nbconvert_exporter": "python",
   "pygments_lexer": "ipython3",
   "version": "3.12.7"
  }
 },
 "nbformat": 4,
 "nbformat_minor": 5
}
