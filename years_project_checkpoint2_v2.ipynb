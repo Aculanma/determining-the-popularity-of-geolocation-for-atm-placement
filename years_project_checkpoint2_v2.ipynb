{
 "cells": [
  {
   "cell_type": "markdown",
   "id": "d7dd3fec",
   "metadata": {},
   "source": [
    "# Годовой проект - Определение популярности геолокации для размещения банкомата"
   ]
  },
  {
   "cell_type": "markdown",
   "id": "e1bd7f6d",
   "metadata": {},
   "source": [
    "`Куратор`: \n",
    "- Ковалева Александра  \n",
    "    \n",
    "`Команда`:\n",
    "- Цуканов Николай Сергеевич\n",
    "- Исхаков Ильдус Халитович\n",
    "- Устименко Кирилл Александрович\n",
    "- Волокитина Анастасия Евгеньевна"
   ]
  },
  {
   "cell_type": "markdown",
   "id": "9ef0d87b",
   "metadata": {},
   "source": [
    "## Исходные данные"
   ]
  },
  {
   "cell_type": "markdown",
   "id": "f1910a4a",
   "metadata": {},
   "source": [
    "`id` - идентификатор банкомата  \n",
    "`atm_group` - принадлежность банкомата к группе  \n",
    "`address` - адрес банкомата на английском  \n",
    "`address_rus` - адрес банкомата на русском  \n",
    "`lat` - широта  \n",
    "`long` - долгота    \n",
    "`target` - целевая метрика  "
   ]
  },
  {
   "cell_type": "markdown",
   "id": "9c5bf0df",
   "metadata": {},
   "source": [
    "Импортируем библиотеки:"
   ]
  },
  {
   "cell_type": "code",
   "execution_count": 1,
   "id": "e679a024",
   "metadata": {},
   "outputs": [],
   "source": [
    "import pandas as pd\n",
    "import numpy as np\n",
    "import seaborn as sns\n",
    "import matplotlib.pyplot as plt\n",
    "import re"
   ]
  },
  {
   "cell_type": "markdown",
   "id": "dd8870f3",
   "metadata": {},
   "source": [
    "Загрузим данные:"
   ]
  },
  {
   "cell_type": "code",
   "execution_count": 141,
   "id": "55904fb5",
   "metadata": {},
   "outputs": [],
   "source": [
    "df_train = pd.read_csv('train.csv', index_col=0)\n",
    "df_test = pd.read_csv('test.csv', index_col=0)"
   ]
  },
  {
   "cell_type": "code",
   "execution_count": 142,
   "id": "6b95f0c5",
   "metadata": {},
   "outputs": [
    {
     "name": "stdout",
     "output_type": "stream",
     "text": [
      "Данные для обучающей выборки состоят из 6261 строки и 7 столбцов.\n",
      "Данные для тестовой выборки состоят из 2504 строк и 6 столбцов.\n"
     ]
    }
   ],
   "source": [
    "train_rows, train_columns = df_train.shape\n",
    "test_rows, test_columns = df_test.shape\n",
    "print(f'Данные для обучающей выборки состоят из {train_rows} строки и {train_columns} столбцов.') \n",
    "print(f'Данные для тестовой выборки состоят из {test_rows} строк и {test_columns} столбцов.') "
   ]
  },
  {
   "cell_type": "markdown",
   "id": "fa6376e3",
   "metadata": {},
   "source": [
    "Посмотрим на наши наблюдения:"
   ]
  },
  {
   "cell_type": "code",
   "execution_count": 138,
   "id": "6c176d10",
   "metadata": {},
   "outputs": [
    {
     "data": {
      "text/html": [
       "<div>\n",
       "<style scoped>\n",
       "    .dataframe tbody tr th:only-of-type {\n",
       "        vertical-align: middle;\n",
       "    }\n",
       "\n",
       "    .dataframe tbody tr th {\n",
       "        vertical-align: top;\n",
       "    }\n",
       "\n",
       "    .dataframe thead th {\n",
       "        text-align: right;\n",
       "    }\n",
       "</style>\n",
       "<table border=\"1\" class=\"dataframe\">\n",
       "  <thead>\n",
       "    <tr style=\"text-align: right;\">\n",
       "      <th></th>\n",
       "      <th>id</th>\n",
       "      <th>atm_group</th>\n",
       "      <th>address</th>\n",
       "      <th>address_rus</th>\n",
       "      <th>lat</th>\n",
       "      <th>long</th>\n",
       "      <th>target</th>\n",
       "    </tr>\n",
       "  </thead>\n",
       "  <tbody>\n",
       "    <tr>\n",
       "      <th>5995</th>\n",
       "      <td>7,869.00</td>\n",
       "      <td>5,478.00</td>\n",
       "      <td>D. 31, UL. KOL'COVSKAYA   VORONEZH G</td>\n",
       "      <td>Кольцовская улица, 31, Воронеж, Россия, 394030</td>\n",
       "      <td>51.67</td>\n",
       "      <td>39.19</td>\n",
       "      <td>-0.05</td>\n",
       "    </tr>\n",
       "    <tr>\n",
       "      <th>3233</th>\n",
       "      <td>6,203.00</td>\n",
       "      <td>5,478.00</td>\n",
       "      <td>D. 90, PR-KT AVIATOROV    YAROSLAVL G</td>\n",
       "      <td>проспект Авиаторов, 90, Ярославль, Россия, 150062</td>\n",
       "      <td>57.66</td>\n",
       "      <td>39.94</td>\n",
       "      <td>-0.00</td>\n",
       "    </tr>\n",
       "    <tr>\n",
       "      <th>4363</th>\n",
       "      <td>5,262.00</td>\n",
       "      <td>5,478.00</td>\n",
       "      <td>D. 11, KORP. A, UL. D'YAK NIZHNIY NOVG</td>\n",
       "      <td>улица Минина, 11А, Нижний Новгород, Россия</td>\n",
       "      <td>56.33</td>\n",
       "      <td>44.02</td>\n",
       "      <td>0.03</td>\n",
       "    </tr>\n",
       "    <tr>\n",
       "      <th>556</th>\n",
       "      <td>4,979.00</td>\n",
       "      <td>5,478.00</td>\n",
       "      <td>D. 28, UL. GAGARINA       YAROSLAVL G</td>\n",
       "      <td>улица Гагарина, 28, Ярославль, Россия, 150046</td>\n",
       "      <td>57.58</td>\n",
       "      <td>39.84</td>\n",
       "      <td>-0.03</td>\n",
       "    </tr>\n",
       "    <tr>\n",
       "      <th>2883</th>\n",
       "      <td>2,104.00</td>\n",
       "      <td>3,185.50</td>\n",
       "      <td>MONTAZHNIKOV, 2           ORENBURG</td>\n",
       "      <td>улица Монтажников, 2, Оренбург, Россия, 460048</td>\n",
       "      <td>51.80</td>\n",
       "      <td>55.14</td>\n",
       "      <td>-0.03</td>\n",
       "    </tr>\n",
       "  </tbody>\n",
       "</table>\n",
       "</div>"
      ],
      "text/plain": [
       "           id  atm_group                                 address  \\\n",
       "5995 7,869.00   5,478.00  D. 31, UL. KOL'COVSKAYA   VORONEZH G     \n",
       "3233 6,203.00   5,478.00  D. 90, PR-KT AVIATOROV    YAROSLAVL G    \n",
       "4363 5,262.00   5,478.00  D. 11, KORP. A, UL. D'YAK NIZHNIY NOVG   \n",
       "556  4,979.00   5,478.00  D. 28, UL. GAGARINA       YAROSLAVL G    \n",
       "2883 2,104.00   3,185.50  MONTAZHNIKOV, 2           ORENBURG       \n",
       "\n",
       "                                            address_rus   lat  long  target  \n",
       "5995     Кольцовская улица, 31, Воронеж, Россия, 394030 51.67 39.19   -0.05  \n",
       "3233  проспект Авиаторов, 90, Ярославль, Россия, 150062 57.66 39.94   -0.00  \n",
       "4363         улица Минина, 11А, Нижний Новгород, Россия 56.33 44.02    0.03  \n",
       "556       улица Гагарина, 28, Ярославль, Россия, 150046 57.58 39.84   -0.03  \n",
       "2883     улица Монтажников, 2, Оренбург, Россия, 460048 51.80 55.14   -0.03  "
      ]
     },
     "execution_count": 138,
     "metadata": {},
     "output_type": "execute_result"
    }
   ],
   "source": [
    "df_train.sample(5)"
   ]
  },
  {
   "cell_type": "markdown",
   "id": "e2a13a07",
   "metadata": {},
   "source": [
    "## Изучим данные:"
   ]
  },
  {
   "cell_type": "markdown",
   "id": "565e87ff",
   "metadata": {},
   "source": [
    "Посмотрим на типы данных:"
   ]
  },
  {
   "cell_type": "code",
   "execution_count": 139,
   "id": "c5fbebd5",
   "metadata": {},
   "outputs": [
    {
     "name": "stdout",
     "output_type": "stream",
     "text": [
      "<class 'pandas.core.frame.DataFrame'>\n",
      "Int64Index: 6261 entries, 0 to 6260\n",
      "Data columns (total 7 columns):\n",
      " #   Column       Non-Null Count  Dtype  \n",
      "---  ------       --------------  -----  \n",
      " 0   id           6261 non-null   float64\n",
      " 1   atm_group    6261 non-null   float64\n",
      " 2   address      6261 non-null   object \n",
      " 3   address_rus  5957 non-null   object \n",
      " 4   lat          5957 non-null   float64\n",
      " 5   long         5957 non-null   float64\n",
      " 6   target       6261 non-null   float64\n",
      "dtypes: float64(5), object(2)\n",
      "memory usage: 391.3+ KB\n"
     ]
    }
   ],
   "source": [
    "df_train.info()"
   ]
  },
  {
   "cell_type": "markdown",
   "id": "df748e34",
   "metadata": {},
   "source": [
    "Посмотрим на наличие пропусков:"
   ]
  },
  {
   "cell_type": "code",
   "execution_count": 140,
   "id": "4f497c54",
   "metadata": {},
   "outputs": [
    {
     "data": {
      "text/plain": [
       "id               0\n",
       "atm_group        0\n",
       "address          0\n",
       "address_rus    304\n",
       "lat            304\n",
       "long           304\n",
       "target           0\n",
       "dtype: int64"
      ]
     },
     "execution_count": 140,
     "metadata": {},
     "output_type": "execute_result"
    }
   ],
   "source": [
    "df_train.isna().sum()"
   ]
  },
  {
   "cell_type": "code",
   "execution_count": 15,
   "id": "63e9bc44",
   "metadata": {},
   "outputs": [],
   "source": [
    "data_gaps = round(100 * (df_train.shape[0] - df_train[df_train['address_rus'].notna()].shape[0]) / df_train.shape[0], 2)"
   ]
  },
  {
   "cell_type": "code",
   "execution_count": 16,
   "id": "209563d1",
   "metadata": {},
   "outputs": [
    {
     "name": "stdout",
     "output_type": "stream",
     "text": [
      "Имеется 304 банкомата (4.86% от общего числа) без указания адреса на русском и географических координат.\n"
     ]
    }
   ],
   "source": [
    "print(f'Имеется 304 банкомата ({data_gaps}% от общего числа) без указания адреса на русском и географических координат.')"
   ]
  },
  {
   "cell_type": "markdown",
   "id": "7e7a19cf",
   "metadata": {},
   "source": [
    "Посмотрим на наличие полных дублей:"
   ]
  },
  {
   "cell_type": "code",
   "execution_count": 18,
   "id": "1d6a1dc8",
   "metadata": {},
   "outputs": [
    {
     "data": {
      "text/plain": [
       "0"
      ]
     },
     "execution_count": 18,
     "metadata": {},
     "output_type": "execute_result"
    }
   ],
   "source": [
    "df_train.duplicated().sum()"
   ]
  },
  {
   "cell_type": "markdown",
   "id": "f3981299",
   "metadata": {},
   "source": [
    "Дубли отсутствуют."
   ]
  },
  {
   "cell_type": "markdown",
   "id": "2eedcc47",
   "metadata": {},
   "source": [
    "Посмотрим на количественные переменные:"
   ]
  },
  {
   "cell_type": "code",
   "execution_count": 120,
   "id": "f45dc97f",
   "metadata": {},
   "outputs": [],
   "source": [
    "pd.options.display.float_format = '{:,.2f}'.format"
   ]
  },
  {
   "cell_type": "code",
   "execution_count": 121,
   "id": "c2f799ff",
   "metadata": {},
   "outputs": [
    {
     "data": {
      "text/html": [
       "<div>\n",
       "<style scoped>\n",
       "    .dataframe tbody tr th:only-of-type {\n",
       "        vertical-align: middle;\n",
       "    }\n",
       "\n",
       "    .dataframe tbody tr th {\n",
       "        vertical-align: top;\n",
       "    }\n",
       "\n",
       "    .dataframe thead th {\n",
       "        text-align: right;\n",
       "    }\n",
       "</style>\n",
       "<table border=\"1\" class=\"dataframe\">\n",
       "  <thead>\n",
       "    <tr style=\"text-align: right;\">\n",
       "      <th></th>\n",
       "      <th>id</th>\n",
       "      <th>atm_group</th>\n",
       "      <th>lat</th>\n",
       "      <th>long</th>\n",
       "      <th>target</th>\n",
       "      <th>len_address</th>\n",
       "      <th>len_postal_code</th>\n",
       "      <th>count</th>\n",
       "    </tr>\n",
       "  </thead>\n",
       "  <tbody>\n",
       "    <tr>\n",
       "      <th>count</th>\n",
       "      <td>6,261.00</td>\n",
       "      <td>6,261.00</td>\n",
       "      <td>5,957.00</td>\n",
       "      <td>5,957.00</td>\n",
       "      <td>6,261.00</td>\n",
       "      <td>5,957.00</td>\n",
       "      <td>4,698.00</td>\n",
       "      <td>6,261.00</td>\n",
       "    </tr>\n",
       "    <tr>\n",
       "      <th>mean</th>\n",
       "      <td>4,419.12</td>\n",
       "      <td>4,417.94</td>\n",
       "      <td>54.16</td>\n",
       "      <td>63.52</td>\n",
       "      <td>0.00</td>\n",
       "      <td>59.36</td>\n",
       "      <td>6.00</td>\n",
       "      <td>1.00</td>\n",
       "    </tr>\n",
       "    <tr>\n",
       "      <th>std</th>\n",
       "      <td>2,547.21</td>\n",
       "      <td>2,430.41</td>\n",
       "      <td>4.35</td>\n",
       "      <td>33.02</td>\n",
       "      <td>0.09</td>\n",
       "      <td>16.14</td>\n",
       "      <td>0.00</td>\n",
       "      <td>0.00</td>\n",
       "    </tr>\n",
       "    <tr>\n",
       "      <th>min</th>\n",
       "      <td>5.00</td>\n",
       "      <td>32.00</td>\n",
       "      <td>42.06</td>\n",
       "      <td>19.94</td>\n",
       "      <td>-0.15</td>\n",
       "      <td>27.00</td>\n",
       "      <td>6.00</td>\n",
       "      <td>1.00</td>\n",
       "    </tr>\n",
       "    <tr>\n",
       "      <th>25%</th>\n",
       "      <td>2,228.00</td>\n",
       "      <td>1,942.00</td>\n",
       "      <td>52.25</td>\n",
       "      <td>37.86</td>\n",
       "      <td>-0.06</td>\n",
       "      <td>46.00</td>\n",
       "      <td>6.00</td>\n",
       "      <td>1.00</td>\n",
       "    </tr>\n",
       "    <tr>\n",
       "      <th>50%</th>\n",
       "      <td>4,392.00</td>\n",
       "      <td>5,478.00</td>\n",
       "      <td>55.07</td>\n",
       "      <td>48.58</td>\n",
       "      <td>-0.02</td>\n",
       "      <td>58.00</td>\n",
       "      <td>6.00</td>\n",
       "      <td>1.00</td>\n",
       "    </tr>\n",
       "    <tr>\n",
       "      <th>75%</th>\n",
       "      <td>6,660.00</td>\n",
       "      <td>5,478.00</td>\n",
       "      <td>56.12</td>\n",
       "      <td>84.95</td>\n",
       "      <td>0.04</td>\n",
       "      <td>68.00</td>\n",
       "      <td>6.00</td>\n",
       "      <td>1.00</td>\n",
       "    </tr>\n",
       "    <tr>\n",
       "      <th>max</th>\n",
       "      <td>8,811.00</td>\n",
       "      <td>8,083.00</td>\n",
       "      <td>69.49</td>\n",
       "      <td>173.71</td>\n",
       "      <td>0.22</td>\n",
       "      <td>144.00</td>\n",
       "      <td>6.00</td>\n",
       "      <td>1.00</td>\n",
       "    </tr>\n",
       "  </tbody>\n",
       "</table>\n",
       "</div>"
      ],
      "text/plain": [
       "            id  atm_group      lat     long   target  len_address  \\\n",
       "count 6,261.00   6,261.00 5,957.00 5,957.00 6,261.00     5,957.00   \n",
       "mean  4,419.12   4,417.94    54.16    63.52     0.00        59.36   \n",
       "std   2,547.21   2,430.41     4.35    33.02     0.09        16.14   \n",
       "min       5.00      32.00    42.06    19.94    -0.15        27.00   \n",
       "25%   2,228.00   1,942.00    52.25    37.86    -0.06        46.00   \n",
       "50%   4,392.00   5,478.00    55.07    48.58    -0.02        58.00   \n",
       "75%   6,660.00   5,478.00    56.12    84.95     0.04        68.00   \n",
       "max   8,811.00   8,083.00    69.49   173.71     0.22       144.00   \n",
       "\n",
       "       len_postal_code    count  \n",
       "count         4,698.00 6,261.00  \n",
       "mean              6.00     1.00  \n",
       "std               0.00     0.00  \n",
       "min               6.00     1.00  \n",
       "25%               6.00     1.00  \n",
       "50%               6.00     1.00  \n",
       "75%               6.00     1.00  \n",
       "max               6.00     1.00  "
      ]
     },
     "execution_count": 121,
     "metadata": {},
     "output_type": "execute_result"
    }
   ],
   "source": [
    "df_train.describe(include='number')"
   ]
  },
  {
   "cell_type": "code",
   "execution_count": 122,
   "id": "90b8bb60",
   "metadata": {},
   "outputs": [
    {
     "data": {
      "text/html": [
       "<div>\n",
       "<style scoped>\n",
       "    .dataframe tbody tr th:only-of-type {\n",
       "        vertical-align: middle;\n",
       "    }\n",
       "\n",
       "    .dataframe tbody tr th {\n",
       "        vertical-align: top;\n",
       "    }\n",
       "\n",
       "    .dataframe thead th {\n",
       "        text-align: right;\n",
       "    }\n",
       "</style>\n",
       "<table border=\"1\" class=\"dataframe\">\n",
       "  <thead>\n",
       "    <tr style=\"text-align: right;\">\n",
       "      <th></th>\n",
       "      <th>id</th>\n",
       "      <th>atm_group</th>\n",
       "      <th>lat</th>\n",
       "      <th>long</th>\n",
       "    </tr>\n",
       "  </thead>\n",
       "  <tbody>\n",
       "    <tr>\n",
       "      <th>count</th>\n",
       "      <td>2,504.00</td>\n",
       "      <td>2,504.00</td>\n",
       "      <td>2,388.00</td>\n",
       "      <td>2,388.00</td>\n",
       "    </tr>\n",
       "    <tr>\n",
       "      <th>mean</th>\n",
       "      <td>4,368.24</td>\n",
       "      <td>4,379.68</td>\n",
       "      <td>54.08</td>\n",
       "      <td>63.45</td>\n",
       "    </tr>\n",
       "    <tr>\n",
       "      <th>std</th>\n",
       "      <td>2,530.93</td>\n",
       "      <td>2,421.99</td>\n",
       "      <td>4.29</td>\n",
       "      <td>32.21</td>\n",
       "    </tr>\n",
       "    <tr>\n",
       "      <th>min</th>\n",
       "      <td>1.00</td>\n",
       "      <td>32.00</td>\n",
       "      <td>42.65</td>\n",
       "      <td>20.44</td>\n",
       "    </tr>\n",
       "    <tr>\n",
       "      <th>25%</th>\n",
       "      <td>2,146.50</td>\n",
       "      <td>1,942.00</td>\n",
       "      <td>52.21</td>\n",
       "      <td>37.81</td>\n",
       "    </tr>\n",
       "    <tr>\n",
       "      <th>50%</th>\n",
       "      <td>4,437.50</td>\n",
       "      <td>5,478.00</td>\n",
       "      <td>55.04</td>\n",
       "      <td>49.15</td>\n",
       "    </tr>\n",
       "    <tr>\n",
       "      <th>75%</th>\n",
       "      <td>6,468.50</td>\n",
       "      <td>5,478.00</td>\n",
       "      <td>56.10</td>\n",
       "      <td>84.95</td>\n",
       "    </tr>\n",
       "    <tr>\n",
       "      <th>max</th>\n",
       "      <td>8,808.00</td>\n",
       "      <td>8,083.00</td>\n",
       "      <td>69.50</td>\n",
       "      <td>160.85</td>\n",
       "    </tr>\n",
       "  </tbody>\n",
       "</table>\n",
       "</div>"
      ],
      "text/plain": [
       "            id  atm_group      lat     long\n",
       "count 2,504.00   2,504.00 2,388.00 2,388.00\n",
       "mean  4,368.24   4,379.68    54.08    63.45\n",
       "std   2,530.93   2,421.99     4.29    32.21\n",
       "min       1.00      32.00    42.65    20.44\n",
       "25%   2,146.50   1,942.00    52.21    37.81\n",
       "50%   4,437.50   5,478.00    55.04    49.15\n",
       "75%   6,468.50   5,478.00    56.10    84.95\n",
       "max   8,808.00   8,083.00    69.50   160.85"
      ]
     },
     "execution_count": 122,
     "metadata": {},
     "output_type": "execute_result"
    }
   ],
   "source": [
    "df_test.describe(include='number')"
   ]
  },
  {
   "cell_type": "markdown",
   "id": "0f1aa949",
   "metadata": {},
   "source": [
    "Широта может иметь значения от 0 до 90 градусов, долгота - от 0 до 180 градусов. Наши наблюдения не выходят за рамки этих пределов.  "
   ]
  },
  {
   "cell_type": "markdown",
   "id": "c77e3739",
   "metadata": {},
   "source": [
    "Посмотрим на категориальные переменные:"
   ]
  },
  {
   "cell_type": "code",
   "execution_count": 20,
   "id": "e11f33ea",
   "metadata": {},
   "outputs": [
    {
     "data": {
      "text/html": [
       "<div>\n",
       "<style scoped>\n",
       "    .dataframe tbody tr th:only-of-type {\n",
       "        vertical-align: middle;\n",
       "    }\n",
       "\n",
       "    .dataframe tbody tr th {\n",
       "        vertical-align: top;\n",
       "    }\n",
       "\n",
       "    .dataframe thead th {\n",
       "        text-align: right;\n",
       "    }\n",
       "</style>\n",
       "<table border=\"1\" class=\"dataframe\">\n",
       "  <thead>\n",
       "    <tr style=\"text-align: right;\">\n",
       "      <th></th>\n",
       "      <th>address</th>\n",
       "      <th>address_rus</th>\n",
       "    </tr>\n",
       "  </thead>\n",
       "  <tbody>\n",
       "    <tr>\n",
       "      <th>count</th>\n",
       "      <td>6261</td>\n",
       "      <td>5957</td>\n",
       "    </tr>\n",
       "    <tr>\n",
       "      <th>unique</th>\n",
       "      <td>5343</td>\n",
       "      <td>4553</td>\n",
       "    </tr>\n",
       "    <tr>\n",
       "      <th>top</th>\n",
       "      <td>HOROSHEVSKOE SH,V38       MOSKVA</td>\n",
       "      <td>улица Ватутина, 107, Новосибирск, Россия, 630024</td>\n",
       "    </tr>\n",
       "    <tr>\n",
       "      <th>freq</th>\n",
       "      <td>7</td>\n",
       "      <td>8</td>\n",
       "    </tr>\n",
       "  </tbody>\n",
       "</table>\n",
       "</div>"
      ],
      "text/plain": [
       "                                       address  \\\n",
       "count                                     6261   \n",
       "unique                                    5343   \n",
       "top     HOROSHEVSKOE SH,V38       MOSKVA         \n",
       "freq                                         7   \n",
       "\n",
       "                                             address_rus  \n",
       "count                                               5957  \n",
       "unique                                              4553  \n",
       "top     улица Ватутина, 107, Новосибирск, Россия, 630024  \n",
       "freq                                                   8  "
      ]
     },
     "execution_count": 20,
     "metadata": {},
     "output_type": "execute_result"
    }
   ],
   "source": [
    "df_train.describe(include='object')"
   ]
  },
  {
   "cell_type": "code",
   "execution_count": 123,
   "id": "e053b7dd",
   "metadata": {},
   "outputs": [
    {
     "data": {
      "text/html": [
       "<div>\n",
       "<style scoped>\n",
       "    .dataframe tbody tr th:only-of-type {\n",
       "        vertical-align: middle;\n",
       "    }\n",
       "\n",
       "    .dataframe tbody tr th {\n",
       "        vertical-align: top;\n",
       "    }\n",
       "\n",
       "    .dataframe thead th {\n",
       "        text-align: right;\n",
       "    }\n",
       "</style>\n",
       "<table border=\"1\" class=\"dataframe\">\n",
       "  <thead>\n",
       "    <tr style=\"text-align: right;\">\n",
       "      <th></th>\n",
       "      <th>address</th>\n",
       "      <th>address_rus</th>\n",
       "    </tr>\n",
       "  </thead>\n",
       "  <tbody>\n",
       "    <tr>\n",
       "      <th>count</th>\n",
       "      <td>2504</td>\n",
       "      <td>2388</td>\n",
       "    </tr>\n",
       "    <tr>\n",
       "      <th>unique</th>\n",
       "      <td>2138</td>\n",
       "      <td>1952</td>\n",
       "    </tr>\n",
       "    <tr>\n",
       "      <th>top</th>\n",
       "      <td>30/32 KUTUZOVSKIY PR.     MOSCOW</td>\n",
       "      <td>Кутузовский проспект, 30, Москва, Россия, 121165</td>\n",
       "    </tr>\n",
       "    <tr>\n",
       "      <th>freq</th>\n",
       "      <td>6</td>\n",
       "      <td>6</td>\n",
       "    </tr>\n",
       "  </tbody>\n",
       "</table>\n",
       "</div>"
      ],
      "text/plain": [
       "                                       address  \\\n",
       "count                                     2504   \n",
       "unique                                    2138   \n",
       "top     30/32 KUTUZOVSKIY PR.     MOSCOW         \n",
       "freq                                         6   \n",
       "\n",
       "                                             address_rus  \n",
       "count                                               2388  \n",
       "unique                                              1952  \n",
       "top     Кутузовский проспект, 30, Москва, Россия, 121165  \n",
       "freq                                                   6  "
      ]
     },
     "execution_count": 123,
     "metadata": {},
     "output_type": "execute_result"
    }
   ],
   "source": [
    "df_test.describe(include='object')"
   ]
  },
  {
   "cell_type": "markdown",
   "id": "deccfb10",
   "metadata": {},
   "source": [
    "Посмотрим сколько банкоматов принадледит той или иной группе:"
   ]
  },
  {
   "cell_type": "code",
   "execution_count": 21,
   "id": "b7438eb1",
   "metadata": {},
   "outputs": [
    {
     "data": {
      "text/html": [
       "<div>\n",
       "<style scoped>\n",
       "    .dataframe tbody tr th:only-of-type {\n",
       "        vertical-align: middle;\n",
       "    }\n",
       "\n",
       "    .dataframe tbody tr th {\n",
       "        vertical-align: top;\n",
       "    }\n",
       "\n",
       "    .dataframe thead th {\n",
       "        text-align: right;\n",
       "    }\n",
       "</style>\n",
       "<table border=\"1\" class=\"dataframe\">\n",
       "  <thead>\n",
       "    <tr style=\"text-align: right;\">\n",
       "      <th></th>\n",
       "      <th>atm_group</th>\n",
       "      <th>Банкоматов</th>\n",
       "    </tr>\n",
       "  </thead>\n",
       "  <tbody>\n",
       "    <tr>\n",
       "      <th>5</th>\n",
       "      <td>5478.0</td>\n",
       "      <td>2662</td>\n",
       "    </tr>\n",
       "    <tr>\n",
       "      <th>3</th>\n",
       "      <td>1942.0</td>\n",
       "      <td>1160</td>\n",
       "    </tr>\n",
       "    <tr>\n",
       "      <th>6</th>\n",
       "      <td>8083.0</td>\n",
       "      <td>1050</td>\n",
       "    </tr>\n",
       "    <tr>\n",
       "      <th>1</th>\n",
       "      <td>496.5</td>\n",
       "      <td>616</td>\n",
       "    </tr>\n",
       "    <tr>\n",
       "      <th>4</th>\n",
       "      <td>3185.5</td>\n",
       "      <td>594</td>\n",
       "    </tr>\n",
       "    <tr>\n",
       "      <th>2</th>\n",
       "      <td>1022.0</td>\n",
       "      <td>136</td>\n",
       "    </tr>\n",
       "    <tr>\n",
       "      <th>0</th>\n",
       "      <td>32.0</td>\n",
       "      <td>43</td>\n",
       "    </tr>\n",
       "  </tbody>\n",
       "</table>\n",
       "</div>"
      ],
      "text/plain": [
       "   atm_group  Банкоматов\n",
       "5     5478.0        2662\n",
       "3     1942.0        1160\n",
       "6     8083.0        1050\n",
       "1      496.5         616\n",
       "4     3185.5         594\n",
       "2     1022.0         136\n",
       "0       32.0          43"
      ]
     },
     "execution_count": 21,
     "metadata": {},
     "output_type": "execute_result"
    }
   ],
   "source": [
    "df_train.groupby('atm_group', as_index=False).agg(Банкоматов=('atm_group', 'count')).sort_values(by='Банкоматов', ascending=False)"
   ]
  },
  {
   "cell_type": "markdown",
   "id": "d4e2967b",
   "metadata": {},
   "source": [
    "Уберем возможные пробелы для наших записей:"
   ]
  },
  {
   "cell_type": "code",
   "execution_count": 22,
   "id": "7d492c7f",
   "metadata": {},
   "outputs": [],
   "source": [
    "df_train['address_rus'] = df_train['address_rus'].apply(lambda x: x.strip() if pd.notnull(x) else None)"
   ]
  },
  {
   "cell_type": "markdown",
   "id": "9bec471d",
   "metadata": {},
   "source": [
    "Посмотрим на длину записей адресов:"
   ]
  },
  {
   "cell_type": "code",
   "execution_count": 23,
   "id": "ef0ff8e3",
   "metadata": {},
   "outputs": [],
   "source": [
    "df_train['len_address'] = df_train['address_rus'].apply(lambda x: len(x) if x != None else None)"
   ]
  },
  {
   "cell_type": "code",
   "execution_count": 24,
   "id": "5263c3d6",
   "metadata": {},
   "outputs": [
    {
     "data": {
      "text/plain": [
       "(27.0, 144.0)"
      ]
     },
     "execution_count": 24,
     "metadata": {},
     "output_type": "execute_result"
    }
   ],
   "source": [
    "df_train['len_address'].min(), df_train['len_address'].max()"
   ]
  },
  {
   "cell_type": "markdown",
   "id": "b8eb60d7",
   "metadata": {},
   "source": [
    "Посмотрим на самый длинный адрес в наших данных:"
   ]
  },
  {
   "cell_type": "code",
   "execution_count": 25,
   "id": "716b68fc",
   "metadata": {},
   "outputs": [
    {
     "data": {
      "text/plain": [
       "'Волжская улица, 1, посёлок городского типа Ванино, городское поселение Рабочий Посёлок Ванино, Ванинский район, Хабаровский край, Россия, 682860'"
      ]
     },
     "execution_count": 25,
     "metadata": {},
     "output_type": "execute_result"
    }
   ],
   "source": [
    "df_train[df_train['len_address'] == 144]['address_rus'].loc[3579]"
   ]
  },
  {
   "cell_type": "markdown",
   "id": "4b9cf954",
   "metadata": {},
   "source": [
    "Каких-то аномально длинных адресов нет."
   ]
  },
  {
   "cell_type": "markdown",
   "id": "6eddf0bf",
   "metadata": {},
   "source": [
    "Посмотрим на формат записей адресов банкоматов на русском:"
   ]
  },
  {
   "cell_type": "code",
   "execution_count": 26,
   "id": "f487a800",
   "metadata": {},
   "outputs": [
    {
     "data": {
      "text/plain": [
       "'улица А.О. Емельянова, 34, Южно-Сахалинск, Сахалинская область, Россия'"
      ]
     },
     "execution_count": 26,
     "metadata": {},
     "output_type": "execute_result"
    }
   ],
   "source": [
    "df_train['address_rus'][0]"
   ]
  },
  {
   "cell_type": "code",
   "execution_count": 27,
   "id": "141b27af",
   "metadata": {},
   "outputs": [
    {
     "data": {
      "text/plain": [
       "'Большая Московская улица, 90А, Владимир, Россия, 600000'"
      ]
     },
     "execution_count": 27,
     "metadata": {},
     "output_type": "execute_result"
    }
   ],
   "source": [
    "df_train['address_rus'][10]"
   ]
  },
  {
   "cell_type": "code",
   "execution_count": 28,
   "id": "99f4b7a2",
   "metadata": {},
   "outputs": [
    {
     "data": {
      "text/plain": [
       "'Магаданская улица, 31, посёлок Хандыга, Томпонский муниципальный район, Республика Саха (Якутия), Россия, 678720'"
      ]
     },
     "execution_count": 28,
     "metadata": {},
     "output_type": "execute_result"
    }
   ],
   "source": [
    "df_train['address_rus'][1343]"
   ]
  },
  {
   "cell_type": "markdown",
   "id": "fe97c956",
   "metadata": {},
   "source": [
    "Спарсим наши адреса на русском на составляющие: `почтовый индекс`, `страна`, `город`, `улица`, `дом`:"
   ]
  },
  {
   "cell_type": "markdown",
   "id": "d4dd1d8e",
   "metadata": {},
   "source": [
    "__1. Достанем из адреса почтовый индекс, если он имеется:__"
   ]
  },
  {
   "cell_type": "code",
   "execution_count": 33,
   "id": "0b43a1f1",
   "metadata": {},
   "outputs": [],
   "source": [
    "def get_postal_code(address: str):\n",
    "    address = address.split(', ')\n",
    "    if address[-1].isdigit():\n",
    "        return address[-1]\n",
    "    else:\n",
    "        return None"
   ]
  },
  {
   "cell_type": "code",
   "execution_count": 34,
   "id": "58426e1e",
   "metadata": {},
   "outputs": [],
   "source": [
    "df_train['postal_code'] = df_train['address_rus'].apply(lambda x: get_postal_code(x) if pd.notnull(x) else None)"
   ]
  },
  {
   "cell_type": "markdown",
   "id": "5bd1e450",
   "metadata": {},
   "source": [
    "В России принята 6-значная система почтовых индексов XXXYYY, где XXX - код субъекта федерации, YYY - номер почтового отделения в нем, но крупные города, такие как, например, Москва имеет несколько кодов. Проверим какой длины имеющиеся индексы в наших данных:"
   ]
  },
  {
   "cell_type": "code",
   "execution_count": 35,
   "id": "c4603086",
   "metadata": {},
   "outputs": [],
   "source": [
    "df_train['len_postal_code'] = df_train['postal_code'].apply(lambda x: len(x) if pd.notnull(x) else None)"
   ]
  },
  {
   "cell_type": "code",
   "execution_count": 36,
   "id": "06ebfb2c",
   "metadata": {},
   "outputs": [
    {
     "data": {
      "text/plain": [
       "array([nan,  6.])"
      ]
     },
     "execution_count": 36,
     "metadata": {},
     "output_type": "execute_result"
    }
   ],
   "source": [
    "df_train['len_postal_code'].unique()"
   ]
  },
  {
   "cell_type": "markdown",
   "id": "aaf36a68",
   "metadata": {},
   "source": [
    "Все почтовые индексы имеют нужную длину."
   ]
  },
  {
   "cell_type": "markdown",
   "id": "58d720de",
   "metadata": {},
   "source": [
    "__2. Достанем из адреса страну, если она имеется:__"
   ]
  },
  {
   "cell_type": "code",
   "execution_count": 38,
   "id": "423eb987",
   "metadata": {},
   "outputs": [],
   "source": [
    "def get_country(address: str):\n",
    "    address = address.split(', ')\n",
    "    if address[-1].isalpha():\n",
    "        return address[-1]\n",
    "    elif address[-2].isalpha():\n",
    "        return address[-2]\n",
    "    else:\n",
    "        return None"
   ]
  },
  {
   "cell_type": "code",
   "execution_count": 39,
   "id": "a1adb75a",
   "metadata": {},
   "outputs": [],
   "source": [
    "df_train['country'] = df_train['address_rus'].apply(lambda x: get_country(x) if pd.notnull(x) else None)"
   ]
  },
  {
   "cell_type": "code",
   "execution_count": 40,
   "id": "a6fe8149",
   "metadata": {},
   "outputs": [
    {
     "data": {
      "text/plain": [
       "array(['Россия', None], dtype=object)"
      ]
     },
     "execution_count": 40,
     "metadata": {},
     "output_type": "execute_result"
    }
   ],
   "source": [
    "df_train['country'].unique()"
   ]
  },
  {
   "cell_type": "markdown",
   "id": "a9ed01d8",
   "metadata": {},
   "source": [
    "Без неожиданностей - все адреса банкоматов в России."
   ]
  },
  {
   "cell_type": "markdown",
   "id": "3c124944",
   "metadata": {},
   "source": [
    "__3. Достанем из адреса город, если он имеется:__"
   ]
  },
  {
   "cell_type": "markdown",
   "id": "f34d526b",
   "metadata": {},
   "source": [
    "Возьмем список городов России из Википедии:"
   ]
  },
  {
   "cell_type": "code",
   "execution_count": 41,
   "id": "0ca2978d",
   "metadata": {},
   "outputs": [],
   "source": [
    "url = 'https://ru.wikipedia.org/wiki/%D0%A1%D0%BF%D0%B8%D1%81%D0%BE%D0%BA_%D0%B3%D0%BE%D1%80%D0%BE%D0%B4%D0%BE%D0%B2_%D0%A0%D0%BE%D1%81%D1%81%D0%B8%D0%B8'\n",
    "test = pd.read_html(url)[0]\n",
    "cities = test['Город']"
   ]
  },
  {
   "cell_type": "code",
   "execution_count": 42,
   "id": "c4372aa1",
   "metadata": {},
   "outputs": [
    {
     "data": {
      "text/plain": [
       "0           Абаза\n",
       "1          Абакан\n",
       "2        Абдулино\n",
       "3          Абинск\n",
       "4         Агидель\n",
       "          ...    \n",
       "1120    Ярославль\n",
       "1121       Ярцево\n",
       "1122    Ясногорск\n",
       "1123        Ясный\n",
       "1124       Яхрома\n",
       "Name: Город, Length: 1125, dtype: object"
      ]
     },
     "execution_count": 42,
     "metadata": {},
     "output_type": "execute_result"
    }
   ],
   "source": [
    "cities"
   ]
  },
  {
   "cell_type": "code",
   "execution_count": 43,
   "id": "5bf35cae",
   "metadata": {},
   "outputs": [],
   "source": [
    "def get_city(address: str):\n",
    "    for city in cities:\n",
    "        if city in address:\n",
    "            return city\n",
    "        else:\n",
    "            None"
   ]
  },
  {
   "cell_type": "code",
   "execution_count": 44,
   "id": "9603a231",
   "metadata": {},
   "outputs": [],
   "source": [
    "df_train['city'] = df_train['address_rus'].apply(lambda x: get_city(x) if pd.notnull(x) else None)"
   ]
  },
  {
   "cell_type": "markdown",
   "id": "ede29759",
   "metadata": {},
   "source": [
    "Посмотрим какая доля записей осталась без города среди адресов, которые имеют запись на русском:"
   ]
  },
  {
   "cell_type": "code",
   "execution_count": 45,
   "id": "bec99f07",
   "metadata": {},
   "outputs": [],
   "source": [
    "no_city = round(100 * df_train[(df_train['address_rus'].notna()) & (df_train['city'].isnull())].shape[0] / df_train[df_train['address_rus'].notna()].shape[0], 1)"
   ]
  },
  {
   "cell_type": "code",
   "execution_count": 61,
   "id": "4d7ad106",
   "metadata": {},
   "outputs": [
    {
     "name": "stdout",
     "output_type": "stream",
     "text": [
      "1.4%\n"
     ]
    }
   ],
   "source": [
    "print(f'{no_city}%')"
   ]
  },
  {
   "cell_type": "markdown",
   "id": "0905b562",
   "metadata": {},
   "source": [
    "__4. Достанем из адеса улицу, если она имеется:__"
   ]
  },
  {
   "cell_type": "markdown",
   "id": "7d86cc1c",
   "metadata": {},
   "source": [
    "Регулярное выражение, чтобы достать из адреса название улицы, когда сперва идет слово `улица`, а потом название:"
   ]
  },
  {
   "cell_type": "code",
   "execution_count": 59,
   "id": "05b2cbae",
   "metadata": {},
   "outputs": [],
   "source": [
    "second_street_pattern = r\"(улица)([А-Яа-яё0-9-\\s+\\.]+)\""
   ]
  },
  {
   "cell_type": "markdown",
   "id": "441d4b5d",
   "metadata": {},
   "source": [
    "Регулярное выражение, чтобы достать из адреса название улицы, когда сперва идет название, а потом слово `улица`:"
   ]
  },
  {
   "cell_type": "code",
   "execution_count": 60,
   "id": "ab50f952",
   "metadata": {},
   "outputs": [],
   "source": [
    "first_street_pattern = r\"([А-Яа-яё0-9-\\s+\\.]+)(улица)\""
   ]
  },
  {
   "cell_type": "markdown",
   "id": "6e00fc52",
   "metadata": {},
   "source": [
    "Регулярное выражение, чтобы достать название улицы, когда сперва идут слова `проспект`, `проезд`, `переулок`, `набережная`, `площадь`, `бульвар`, `шоссе`, `тракт`, `квартал`, `микрорайон`, а потом название:"
   ]
  },
  {
   "cell_type": "code",
   "execution_count": 62,
   "id": "aa88e954",
   "metadata": {},
   "outputs": [],
   "source": [
    "second_group_street_patterns = [r\"(проспект)([А-Яа-яё0-9-\\s+\\.]+)\", \\\n",
    "                                r\"(проезд)([А-Яа-яё0-9-\\s+\\.]+)\", \\\n",
    "                                r\"(переулок)([А-Яа-яё0-9-\\s+\\.]+)\", \\\n",
    "                                r\"(набережная)([А-Яа-яё0-9-\\s+\\.]+)\", \\\n",
    "                                r\"(площадь)([А-Яа-яё0-9-\\s+\\.]+)\", \\\n",
    "                                r\"(бульвар)([А-Яа-яё0-9-\\s+\\.]+)\", \\\n",
    "                                r\"(шоссе)([А-Яа-яё0-9-\\s+\\.]+)\", \\\n",
    "                                r\"(тракт)([А-Яа-яё0-9-\\s+\\.]+)\", \\\n",
    "                                r\"(квартал)([А-Яа-яё0-9-\\s+\\.]+)\", \\\n",
    "                                r\"(микрорайон)([А-Яа-яё0-9-\\s+\\.]+)\"]"
   ]
  },
  {
   "cell_type": "markdown",
   "id": "fa5bc14e",
   "metadata": {},
   "source": [
    "Регулярное выражение, чтобы достать название улицы, когда сперва идет название, а потом слова `проспект`, `проезд`, `переулок`, `набережная`, `площадь`, `бульвар`, `шоссе`, `тракт`, `квартал`, `микрорайон`:"
   ]
  },
  {
   "cell_type": "code",
   "execution_count": 63,
   "id": "c4a4f9e9",
   "metadata": {},
   "outputs": [],
   "source": [
    "first_group_street_patterns = [r\"([А-Яа-яё0-9-\\s+\\.]+)(проспект)\", \\\n",
    "                               r\"([А-Яа-яё0-9-\\s+\\.]+)(проезд)\", \\\n",
    "                               r\"([А-Яа-яё0-9-\\s+\\.]+)(переулок)\", \\\n",
    "                               r\"([А-Яа-яё0-9-\\s+\\.]+)(набережная)\", \\\n",
    "                               r\"([А-Яа-яё0-9-\\s+\\.]+)(площадь)\", \\\n",
    "                               r\"([А-Яа-яё0-9-\\s+\\.]+)(бульвар)\", \\\n",
    "                               r\"([А-Яа-яё0-9-\\s+\\.]+)(шоссе)\", \\\n",
    "                               r\"([А-Яа-яё0-9-\\s+\\.]+)(тракт)\", \\\n",
    "                               r\"([А-Яа-яё0-9-\\s+\\.]+)(квартал)\", \\\n",
    "                               r\"([А-Яа-яё0-9-\\s+\\.]+)(микрорайон)\"]"
   ]
  },
  {
   "cell_type": "markdown",
   "id": "f18d150d",
   "metadata": {},
   "source": [
    "Регулярное выражение, чтобы достать `номер дома`:"
   ]
  },
  {
   "cell_type": "code",
   "execution_count": 64,
   "id": "17308163",
   "metadata": {},
   "outputs": [],
   "source": [
    "number_pattern = r\"([\\d][0-9а-жёА-Ж\\.\\/]+|(\\d+))\""
   ]
  },
  {
   "cell_type": "code",
   "execution_count": 66,
   "id": "06016c20",
   "metadata": {},
   "outputs": [],
   "source": [
    "def get_part_street_name(address: str):\n",
    "    try:\n",
    "        name_street = re.search(second_street_pattern, address).group(2)\n",
    "        return name_street.strip()\n",
    "    except:\n",
    "        name_street = None\n",
    "    \n",
    "    try:\n",
    "        name_street = re.search(first_street_pattern, address).group(1)\n",
    "        return name_street.strip()\n",
    "    except:\n",
    "        name_street = None\n",
    "        \n",
    "    for pattern in second_group_street_patterns:\n",
    "         try:\n",
    "            name_street = re.findall(pattern, address)\n",
    "            return (name_street[0][0] + name_street[0][1]).strip()\n",
    "         except:\n",
    "            name_street = None\n",
    "            \n",
    "    for pattern in first_group_street_patterns:\n",
    "         try:\n",
    "            name_street = re.findall(pattern, address)\n",
    "            return (name_street[0][0] + name_street[0][1]).strip()\n",
    "         except:\n",
    "            name_street = None\n",
    "    return name_street"
   ]
  },
  {
   "cell_type": "code",
   "execution_count": 67,
   "id": "69dee15d",
   "metadata": {},
   "outputs": [],
   "source": [
    "df_train['street_name'] = df_train['address_rus'].apply(lambda x: get_part_street_name(x))"
   ]
  },
  {
   "cell_type": "markdown",
   "id": "bb6a3a97",
   "metadata": {},
   "source": [
    "Посмотрим адреса, которые есть на русском и к которым мы не смогли достать название улицы:"
   ]
  },
  {
   "cell_type": "code",
   "execution_count": 68,
   "id": "a50b1374",
   "metadata": {},
   "outputs": [
    {
     "data": {
      "text/plain": [
       "8      деревня Веледниково, городской округ Истра, Мо...\n",
       "30               19-я линия, 10, Иваново, Россия, 153031\n",
       "145    метро Площадь Габдуллы Тукая, Центральная лини...\n",
       "189    автодорога Красноярск-Железногорск, 20 км, Бер...\n",
       "249    срезка на 5 км, территория Спортивный клуб Ром...\n",
       "299    Буденновский лес, Красногвардейский район, Бел...\n",
       "300    Буденновский лес, Красногвардейский район, Бел...\n",
       "317    посёлок Красный Бор, 1, Ярославский район, Яро...\n",
       "400    посёлок Ростовка, 23, Омский район, Омская обл...\n",
       "438    СНТ 60 лет Октября, 60, Старый Оскол, Белгород...\n",
       "456    садовое товарищество Грибники, Венёвский район...\n",
       "497    А-181 Скандинавия, 132-й километр, Выборгский ...\n",
       "510    деревня Колпино, Краснохолмский район, Тверска...\n",
       "582    КАД, 29-й километр, внешнее кольцо, Санкт-Пете...\n",
       "590    СНТ Выбор, 194, село Немчиновка, Одинцовский р...\n",
       "594    посёлок Молодёжный, 14, городской округ Подоль...\n",
       "596    КАД, 29-й километр, внешнее кольцо, Санкт-Пете...\n",
       "665    поселок Новые Лапсары, городской округ Чебокса...\n",
       "707    деревня Самара, Михайловский район, Рязанская ...\n",
       "709    деревня Самара, Михайловский район, Рязанская ...\n",
       "Name: address_rus, dtype: object"
      ]
     },
     "execution_count": 68,
     "metadata": {},
     "output_type": "execute_result"
    }
   ],
   "source": [
    "empty_street = df_train[(df_train['address_rus'].notna()) & (df_train['street_name'].isnull())]\n",
    "empty_street['address_rus'].head(20)"
   ]
  },
  {
   "cell_type": "code",
   "execution_count": 69,
   "id": "56f95d6c",
   "metadata": {},
   "outputs": [
    {
     "data": {
      "text/plain": [
       "id                   0\n",
       "atm_group            0\n",
       "address              0\n",
       "address_rus          0\n",
       "lat                  0\n",
       "long                 0\n",
       "target               0\n",
       "len_address          0\n",
       "postal_code        154\n",
       "len_postal_code    154\n",
       "country              0\n",
       "city                20\n",
       "street_name        157\n",
       "dtype: int64"
      ]
     },
     "execution_count": 69,
     "metadata": {},
     "output_type": "execute_result"
    }
   ],
   "source": [
    "empty_street.isna().sum()"
   ]
  },
  {
   "cell_type": "code",
   "execution_count": 70,
   "id": "0ad085cb",
   "metadata": {},
   "outputs": [
    {
     "name": "stdout",
     "output_type": "stream",
     "text": [
      "Таких адресов получилось 2.6%.\n"
     ]
    }
   ],
   "source": [
    "steet_gaps = round(100 * empty_street['street_name'].isna().sum() / df_train[df_train['address_rus'].notna()].shape[0],1)\n",
    "print(f'Таких адресов получилось {steet_gaps}%.')"
   ]
  },
  {
   "cell_type": "markdown",
   "id": "eaf6c45f",
   "metadata": {},
   "source": [
    "__5. Достанем номера домов для адресов, из которых удалось достать название улицы:__"
   ]
  },
  {
   "cell_type": "code",
   "execution_count": 72,
   "id": "752dabe6",
   "metadata": {},
   "outputs": [],
   "source": [
    "def get_number(address: str):\n",
    "    try:\n",
    "        number = re.search(number_pattern, address).group(0)\n",
    "        return number.strip()\n",
    "    except:\n",
    "        number = None\n",
    "    return number"
   ]
  },
  {
   "cell_type": "code",
   "execution_count": 73,
   "id": "82e43451",
   "metadata": {},
   "outputs": [],
   "source": [
    "df_train['number'] = df_train[df_train['address_rus'].notna()]['address_rus'].apply(lambda x: get_number(x.split(', ')[1]))"
   ]
  },
  {
   "cell_type": "code",
   "execution_count": 76,
   "id": "3430f10b",
   "metadata": {},
   "outputs": [
    {
     "data": {
      "text/html": [
       "<div>\n",
       "<style scoped>\n",
       "    .dataframe tbody tr th:only-of-type {\n",
       "        vertical-align: middle;\n",
       "    }\n",
       "\n",
       "    .dataframe tbody tr th {\n",
       "        vertical-align: top;\n",
       "    }\n",
       "\n",
       "    .dataframe thead th {\n",
       "        text-align: right;\n",
       "    }\n",
       "</style>\n",
       "<table border=\"1\" class=\"dataframe\">\n",
       "  <thead>\n",
       "    <tr style=\"text-align: right;\">\n",
       "      <th></th>\n",
       "      <th>id</th>\n",
       "      <th>atm_group</th>\n",
       "      <th>address</th>\n",
       "      <th>address_rus</th>\n",
       "      <th>lat</th>\n",
       "      <th>long</th>\n",
       "      <th>target</th>\n",
       "      <th>len_address</th>\n",
       "      <th>postal_code</th>\n",
       "      <th>len_postal_code</th>\n",
       "      <th>country</th>\n",
       "      <th>city</th>\n",
       "      <th>street_name</th>\n",
       "      <th>number</th>\n",
       "    </tr>\n",
       "  </thead>\n",
       "  <tbody>\n",
       "    <tr>\n",
       "      <th>5206</th>\n",
       "      <td>499.0</td>\n",
       "      <td>1942.0</td>\n",
       "      <td>VOKZALNAYA 4 B            RAMENSKOE MO</td>\n",
       "      <td>Вокзальная улица, 4, Раменское, Московская обл...</td>\n",
       "      <td>55.566603</td>\n",
       "      <td>38.224537</td>\n",
       "      <td>0.045917</td>\n",
       "      <td>66.0</td>\n",
       "      <td>140100</td>\n",
       "      <td>6.0</td>\n",
       "      <td>Россия</td>\n",
       "      <td>Раменское</td>\n",
       "      <td>Вокзальная</td>\n",
       "      <td>4</td>\n",
       "    </tr>\n",
       "    <tr>\n",
       "      <th>1769</th>\n",
       "      <td>8399.0</td>\n",
       "      <td>5478.0</td>\n",
       "      <td>D. 22, UL. LENINA         PROTVINO G</td>\n",
       "      <td>улица Ленина, 22, Протвино, Московская область...</td>\n",
       "      <td>54.873429</td>\n",
       "      <td>37.220580</td>\n",
       "      <td>-0.057288</td>\n",
       "      <td>62.0</td>\n",
       "      <td>142281</td>\n",
       "      <td>6.0</td>\n",
       "      <td>Россия</td>\n",
       "      <td>Протвино</td>\n",
       "      <td>Ленина</td>\n",
       "      <td>22</td>\n",
       "    </tr>\n",
       "    <tr>\n",
       "      <th>5989</th>\n",
       "      <td>7801.0</td>\n",
       "      <td>5478.0</td>\n",
       "      <td>D. 23, UL. KASPIISKAYA    NIZHNIY TAGI</td>\n",
       "      <td>Каспийская улица, 23, Нижний Тагил, Свердловск...</td>\n",
       "      <td>57.852597</td>\n",
       "      <td>60.034842</td>\n",
       "      <td>-0.086901</td>\n",
       "      <td>72.0</td>\n",
       "      <td>622015</td>\n",
       "      <td>6.0</td>\n",
       "      <td>Россия</td>\n",
       "      <td>Каспийск</td>\n",
       "      <td>Каспийская</td>\n",
       "      <td>23</td>\n",
       "    </tr>\n",
       "    <tr>\n",
       "      <th>1957</th>\n",
       "      <td>6085.0</td>\n",
       "      <td>5478.0</td>\n",
       "      <td>D. 99, PR-KT LENINA       BRYANSK G</td>\n",
       "      <td>проспект Ленина, 99, Брянск, Россия, 241050</td>\n",
       "      <td>53.251956</td>\n",
       "      <td>34.373720</td>\n",
       "      <td>-0.028007</td>\n",
       "      <td>43.0</td>\n",
       "      <td>241050</td>\n",
       "      <td>6.0</td>\n",
       "      <td>Россия</td>\n",
       "      <td>Брянск</td>\n",
       "      <td>проспект Ленина</td>\n",
       "      <td>99</td>\n",
       "    </tr>\n",
       "    <tr>\n",
       "      <th>393</th>\n",
       "      <td>2184.0</td>\n",
       "      <td>3185.5</td>\n",
       "      <td>NEFTEZAVODSKAJA,53        OMSK</td>\n",
       "      <td>Нефтезаводская улица, 53, Омск, Россия, 644065</td>\n",
       "      <td>55.058275</td>\n",
       "      <td>73.250703</td>\n",
       "      <td>-0.124397</td>\n",
       "      <td>46.0</td>\n",
       "      <td>644065</td>\n",
       "      <td>6.0</td>\n",
       "      <td>Россия</td>\n",
       "      <td>Омск</td>\n",
       "      <td>Нефтезаводская</td>\n",
       "      <td>53</td>\n",
       "    </tr>\n",
       "  </tbody>\n",
       "</table>\n",
       "</div>"
      ],
      "text/plain": [
       "          id  atm_group                                 address  \\\n",
       "5206   499.0     1942.0  VOKZALNAYA 4 B            RAMENSKOE MO   \n",
       "1769  8399.0     5478.0  D. 22, UL. LENINA         PROTVINO G     \n",
       "5989  7801.0     5478.0  D. 23, UL. KASPIISKAYA    NIZHNIY TAGI   \n",
       "1957  6085.0     5478.0  D. 99, PR-KT LENINA       BRYANSK G      \n",
       "393   2184.0     3185.5  NEFTEZAVODSKAJA,53        OMSK           \n",
       "\n",
       "                                            address_rus        lat       long  \\\n",
       "5206  Вокзальная улица, 4, Раменское, Московская обл...  55.566603  38.224537   \n",
       "1769  улица Ленина, 22, Протвино, Московская область...  54.873429  37.220580   \n",
       "5989  Каспийская улица, 23, Нижний Тагил, Свердловск...  57.852597  60.034842   \n",
       "1957        проспект Ленина, 99, Брянск, Россия, 241050  53.251956  34.373720   \n",
       "393      Нефтезаводская улица, 53, Омск, Россия, 644065  55.058275  73.250703   \n",
       "\n",
       "        target  len_address postal_code  len_postal_code country       city  \\\n",
       "5206  0.045917         66.0      140100              6.0  Россия  Раменское   \n",
       "1769 -0.057288         62.0      142281              6.0  Россия   Протвино   \n",
       "5989 -0.086901         72.0      622015              6.0  Россия   Каспийск   \n",
       "1957 -0.028007         43.0      241050              6.0  Россия     Брянск   \n",
       "393  -0.124397         46.0      644065              6.0  Россия       Омск   \n",
       "\n",
       "          street_name number  \n",
       "5206       Вокзальная      4  \n",
       "1769           Ленина     22  \n",
       "5989       Каспийская     23  \n",
       "1957  проспект Ленина     99  \n",
       "393    Нефтезаводская     53  "
      ]
     },
     "execution_count": 76,
     "metadata": {},
     "output_type": "execute_result"
    }
   ],
   "source": [
    "df_train.sample(5)"
   ]
  },
  {
   "cell_type": "markdown",
   "id": "10f13626",
   "metadata": {},
   "source": [
    "Посмотрим какое количество городов представлено в наших данных:"
   ]
  },
  {
   "cell_type": "code",
   "execution_count": 54,
   "id": "b53c8aa2",
   "metadata": {
    "scrolled": true
   },
   "outputs": [
    {
     "data": {
      "text/plain": [
       "422"
      ]
     },
     "execution_count": 54,
     "metadata": {},
     "output_type": "execute_result"
    }
   ],
   "source": [
    "df_train['city'].nunique()"
   ]
  },
  {
   "cell_type": "markdown",
   "id": "17f4cc8e",
   "metadata": {},
   "source": [
    "Выведем топ-10 городов по численности банкоматов по городам:"
   ]
  },
  {
   "cell_type": "code",
   "execution_count": 77,
   "id": "3d21d5a0",
   "metadata": {},
   "outputs": [],
   "source": [
    "top_10_atms = df_train.groupby('city', as_index=False).agg(atm=('id', 'count')).sort_values(by='atm', ascending=False).head(10)"
   ]
  },
  {
   "cell_type": "code",
   "execution_count": 78,
   "id": "7fd0a5af",
   "metadata": {},
   "outputs": [],
   "source": [
    "top_10_atms['share,%'] = round(100 * top_10_atms['atm'] / df_train.shape[0], 1)"
   ]
  },
  {
   "cell_type": "code",
   "execution_count": 80,
   "id": "048b6c8a",
   "metadata": {
    "scrolled": true
   },
   "outputs": [
    {
     "data": {
      "text/html": [
       "<div>\n",
       "<style scoped>\n",
       "    .dataframe tbody tr th:only-of-type {\n",
       "        vertical-align: middle;\n",
       "    }\n",
       "\n",
       "    .dataframe tbody tr th {\n",
       "        vertical-align: top;\n",
       "    }\n",
       "\n",
       "    .dataframe thead th {\n",
       "        text-align: right;\n",
       "    }\n",
       "</style>\n",
       "<table border=\"1\" class=\"dataframe\">\n",
       "  <thead>\n",
       "    <tr style=\"text-align: right;\">\n",
       "      <th></th>\n",
       "      <th>city</th>\n",
       "      <th>atm</th>\n",
       "      <th>share,%</th>\n",
       "    </tr>\n",
       "  </thead>\n",
       "  <tbody>\n",
       "    <tr>\n",
       "      <th>262</th>\n",
       "      <td>Москва</td>\n",
       "      <td>504</td>\n",
       "      <td>8.0</td>\n",
       "    </tr>\n",
       "    <tr>\n",
       "      <th>207</th>\n",
       "      <td>Красноярск</td>\n",
       "      <td>214</td>\n",
       "      <td>3.4</td>\n",
       "    </tr>\n",
       "    <tr>\n",
       "      <th>343</th>\n",
       "      <td>Санкт-Петербург</td>\n",
       "      <td>176</td>\n",
       "      <td>2.8</td>\n",
       "    </tr>\n",
       "    <tr>\n",
       "      <th>287</th>\n",
       "      <td>Новосибирск</td>\n",
       "      <td>138</td>\n",
       "      <td>2.2</td>\n",
       "    </tr>\n",
       "    <tr>\n",
       "      <th>184</th>\n",
       "      <td>Киров</td>\n",
       "      <td>126</td>\n",
       "      <td>2.0</td>\n",
       "    </tr>\n",
       "    <tr>\n",
       "      <th>203</th>\n",
       "      <td>Краснодар</td>\n",
       "      <td>121</td>\n",
       "      <td>1.9</td>\n",
       "    </tr>\n",
       "    <tr>\n",
       "      <th>296</th>\n",
       "      <td>Омск</td>\n",
       "      <td>114</td>\n",
       "      <td>1.8</td>\n",
       "    </tr>\n",
       "    <tr>\n",
       "      <th>78</th>\n",
       "      <td>Владивосток</td>\n",
       "      <td>99</td>\n",
       "      <td>1.6</td>\n",
       "    </tr>\n",
       "    <tr>\n",
       "      <th>130</th>\n",
       "      <td>Екатеринбург</td>\n",
       "      <td>94</td>\n",
       "      <td>1.5</td>\n",
       "    </tr>\n",
       "    <tr>\n",
       "      <th>10</th>\n",
       "      <td>Амурск</td>\n",
       "      <td>91</td>\n",
       "      <td>1.5</td>\n",
       "    </tr>\n",
       "  </tbody>\n",
       "</table>\n",
       "</div>"
      ],
      "text/plain": [
       "                city  atm  share,%\n",
       "262           Москва  504      8.0\n",
       "207       Красноярск  214      3.4\n",
       "343  Санкт-Петербург  176      2.8\n",
       "287      Новосибирск  138      2.2\n",
       "184            Киров  126      2.0\n",
       "203        Краснодар  121      1.9\n",
       "296             Омск  114      1.8\n",
       "78       Владивосток   99      1.6\n",
       "130     Екатеринбург   94      1.5\n",
       "10            Амурск   91      1.5"
      ]
     },
     "execution_count": 80,
     "metadata": {},
     "output_type": "execute_result"
    }
   ],
   "source": [
    "top_10_atms"
   ]
  },
  {
   "cell_type": "code",
   "execution_count": 109,
   "id": "0f4a2a01",
   "metadata": {
    "scrolled": false
   },
   "outputs": [
    {
     "data": {
      "image/png": "[encoded data removed]",
      "text/plain": [
       "<Figure size 1080x432 with 1 Axes>"
      ]
     },
     "metadata": {
      "needs_background": "light"
     },
     "output_type": "display_data"
    }
   ],
   "source": [
    "plt.figure(figsize=(15, 6))\n",
    "plt.bar(x=top_10_atms['city'], height=top_10_atms['atm'])\n",
    "plt.title('Распределение банкоматов Росбанка по городам России ', fontsize=20)\n",
    "sns.color_palette('pastel')\n",
    "plt.xticks(rotation=60)\n",
    "plt.xlabel('Город')\n",
    "plt.ylabel('Количество банкоматов')\n",
    "\n",
    "plt.show()"
   ]
  },
  {
   "cell_type": "markdown",
   "id": "6fec3af0",
   "metadata": {},
   "source": [
    "Посмотрим на распределение таргета:"
   ]
  },
  {
   "cell_type": "code",
   "execution_count": 112,
   "id": "cadc10a4",
   "metadata": {},
   "outputs": [
    {
     "data": {
      "image/png": "[encoded data removed]",
      "text/plain": [
       "<Figure size 1080x432 with 1 Axes>"
      ]
     },
     "metadata": {
      "needs_background": "light"
     },
     "output_type": "display_data"
    }
   ],
   "source": [
    "plt.figure(figsize=(15, 6))\n",
    "plt.title('Распределение таргета ', fontsize=20)\n",
    "sns.histplot(df_train, x='target')\n",
    "sns.color_palette('pastel')\n",
    "plt.xlabel('target')\n",
    "plt.ylabel('frequency')\n",
    "\n",
    "plt.show()"
   ]
  },
  {
   "cell_type": "code",
   "execution_count": 134,
   "id": "e1d23b11",
   "metadata": {},
   "outputs": [
    {
     "name": "stdout",
     "output_type": "stream",
     "text": [
      "Имеем распределение со средним 0.001 и стандартным отклонением 0.09\n"
     ]
    }
   ],
   "source": [
    "print(f'Имеем распределение со средним {df_train.target.mean():.3f} и стандартным отклонением {df_train.target.std():.2f}')"
   ]
  },
  {
   "cell_type": "code",
   "execution_count": 75,
   "id": "d262514d",
   "metadata": {},
   "outputs": [
    {
     "data": {
      "text/plain": [
       "'Магаданская улица, 31, посёлок Хандыга, Томпонский муниципальный район, Республика Саха (Якутия), Россия, 678720'"
      ]
     },
     "execution_count": 75,
     "metadata": {},
     "output_type": "execute_result"
    }
   ],
   "source": [
    "df_train['address_rus'][1343]"
   ]
  },
  {
   "cell_type": "markdown",
   "id": "941944a1",
   "metadata": {},
   "source": [
    "Сделаем промежуточный вывод о структуре данных и потенциальных проблемах. По записи 1343 (см. ячейку выше) можно видеть муниципальный формат записи адреса. В муниципальном делении указывают структуры местного самоуправления, например, регион, районы, сельские и городские поселения, муниципальные округа. Данный факт усложняет формат записи адреса для его парсинга на составлящие. Также имеются записи о банкоматах в нашем датасете, адресов на русском с географическими координатами которых нет вовсе."
   ]
  }
 ],
 "metadata": {
  "kernelspec": {
   "display_name": "Python 3 (ipykernel)",
   "language": "python",
   "name": "python3"
  },
  "language_info": {
   "codemirror_mode": {
    "name": "ipython",
    "version": 3
   },
   "file_extension": ".py",
   "mimetype": "text/x-python",
   "name": "python",
   "nbconvert_exporter": "python",
   "pygments_lexer": "ipython3",
   "version": "3.9.7"
  }
 },
 "nbformat": 4,
 "nbformat_minor": 5
}
